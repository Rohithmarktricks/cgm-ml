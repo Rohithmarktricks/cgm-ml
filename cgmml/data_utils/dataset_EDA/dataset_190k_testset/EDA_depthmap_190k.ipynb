{
  "cells": [
    {
      "cell_type": "code",
      "execution_count": 1,
      "metadata": {
        "gather": {
          "logged": 1687414488917
        }
      },
      "outputs": [],
      "source": [
        "%reload_ext autoreload\n",
        "%autoreload 2\n",
        "%matplotlib inline\n",
        "\n",
        "import os\n",
        "import shutil\n",
        "import pandas as pd\n",
        "from pathlib import Path\n",
        "import numpy as np\n",
        "import sys\n",
        "import matplotlib.pyplot as plt\n",
        "import pickle\n",
        "from tqdm import tqdm\n",
        "\n",
        "sys.path.append(str(Path(os.getcwd()).parent))\n",
        "from data_utilities import (\n",
        "    find_outliers, convert_age_from_days_to_years, draw_age_distribution, calculate_code_age_distribution)"
      ]
    },
    {
      "cell_type": "code",
      "execution_count": 2,
      "metadata": {
        "gather": {
          "logged": 1687414497650
        },
        "jupyter": {
          "outputs_hidden": false,
          "source_hidden": false
        },
        "nteract": {
          "transient": {
            "deleting": false
          }
        }
      },
      "outputs": [],
      "source": [
        "# pd.set_option('display.max_rows', None)\n",
        "pd.set_option('display.max_columns', None)\n"
      ]
    },
    {
      "cell_type": "code",
      "execution_count": 3,
      "metadata": {
        "gather": {
          "logged": 1687414518839
        },
        "jupyter": {
          "outputs_hidden": false,
          "source_hidden": false
        },
        "nteract": {
          "transient": {
            "deleting": false
          }
        }
      },
      "outputs": [],
      "source": [
        "DATASET_NAME = 'depthmap-190K-test'\n"
      ]
    },
    {
      "cell_type": "code",
      "execution_count": 4,
      "metadata": {
        "gather": {
          "logged": 1687414537377
        },
        "jupyter": {
          "outputs_hidden": false,
          "source_hidden": false
        },
        "nteract": {
          "transient": {
            "deleting": false
          }
        }
      },
      "outputs": [],
      "source": [
        "from azureml.core import Workspace, Dataset\n",
        "\n",
        "subscription_id = ''\n",
        "resource_group = ''\n",
        "workspace_name = ''\n",
        "\n",
        "workspace = Workspace(subscription_id, resource_group, workspace_name)\n",
        "\n",
        "dataset = Dataset.get_by_name(workspace, name='depthmap-190K-test')"
      ]
    },
    {
      "cell_type": "code",
      "execution_count": 5,
      "metadata": {
        "gather": {
          "logged": 1687414545880
        },
        "jupyter": {
          "outputs_hidden": false,
          "source_hidden": false
        },
        "nteract": {
          "transient": {
            "deleting": false
          }
        }
      },
      "outputs": [
        {
          "name": "stderr",
          "output_type": "stream",
          "text": [
            "Failed to extract subscription information, Exception=AttributeError; 'Logger' object has no attribute 'activity_info'\n",
            "Failed to extract subscription information, Exception=AttributeError; 'Logger' object has no attribute 'activity_info'\n",
            "Failed to extract subscription information, Exception=AttributeError; 'Logger' object has no attribute 'activity_info'\n",
            "Failed to extract subscription information, Exception=AttributeError; 'Logger' object has no attribute 'activity_info'\n",
            "Failed to extract subscription information, Exception=AttributeError; 'Logger' object has no attribute 'activity_info'\n",
            "Failed to extract subscription information, Exception=AttributeError; 'Logger' object has no attribute 'activity_info'\n",
            "Failed to extract subscription information, Exception=AttributeError; 'Logger' object has no attribute 'activity_info'\n"
          ]
        },
        {
          "data": {
            "text/plain": [
              "{\n",
              "  \"source\": [\n",
              "    \"('cgmmlciproddsetds', 'dataset-depthmap-Test-2023-06-20-21-17-58/**')\"\n",
              "  ],\n",
              "  \"definition\": [\n",
              "    \"GetDatastoreFiles\"\n",
              "  ],\n",
              "  \"registration\": {\n",
              "    \"id\": \"bcb10fe6-0e96-48eb-9aff-4e3897349270\",\n",
              "    \"name\": \"depthmap-190K-test\",\n",
              "    \"version\": 1,\n",
              "    \"workspace\": \"Workspace.create(name='cgm-ml-prod-ci-azml', subscription_id='9b5bbfae-d5d1-4aae-a2ca-75159c0c887d', resource_group='cgm-ml-prod-ci-rg')\"\n",
              "  }\n",
              "}"
            ]
          },
          "execution_count": 5,
          "metadata": {},
          "output_type": "execute_result"
        }
      ],
      "source": [
        "dataset"
      ]
    },
    {
      "cell_type": "code",
      "execution_count": 6,
      "metadata": {
        "gather": {
          "logged": 1687414559509
        },
        "jupyter": {
          "outputs_hidden": false,
          "source_hidden": false
        },
        "nteract": {
          "transient": {
            "deleting": false
          }
        }
      },
      "outputs": [
        {
          "name": "stderr",
          "output_type": "stream",
          "text": [
            "Message: Running rslex direct volume mount: RSLEX_DIRECT_VOLUME_MOUNT=None, RSLEX_DIRECT_VOLUME_WRITABLE_MOUNT=None, enable_rslex_mount=None\n",
            "Payload: {\"pid\": 950422, \"version\": \"4.9.5\"}\n",
            "Failed to extract subscription information, Exception=AttributeError; 'Logger' object has no attribute 'activity_info'\n"
          ]
        }
      ],
      "source": [
        "from azureml.core import Workspace, Dataset\n",
        "\n",
        "# Connect to Workspace and reference Dataset\n",
        "ws = Workspace.from_config()\n",
        "dataset = ws.datasets[DATASET_NAME]\n",
        "\n",
        "# Create mountcontext and mount the dataset\n",
        "mount_ctx = dataset.mount()  \n",
        "mount_ctx.start()  "
      ]
    },
    {
      "cell_type": "code",
      "execution_count": 7,
      "metadata": {
        "gather": {
          "logged": 1687414567744
        },
        "jupyter": {
          "outputs_hidden": false,
          "source_hidden": false
        },
        "nteract": {
          "transient": {
            "deleting": false
          }
        }
      },
      "outputs": [
        {
          "name": "stdout",
          "output_type": "stream",
          "text": [
            "/tmp/tmpb8rzdo3p\n",
            "['labels.csv', 'scans']\n"
          ]
        }
      ],
      "source": [
        "# Get the mount point\n",
        "dataset_mount_folder = mount_ctx.mount_point\n",
        "print(dataset_mount_folder)\n",
        "\n",
        "# List the files in the mount point\n",
        "files = os.listdir(dataset_mount_folder)\n",
        "print(files)"
      ]
    },
    {
      "cell_type": "code",
      "execution_count": 8,
      "metadata": {
        "gather": {
          "logged": 1687414586826
        },
        "jupyter": {
          "outputs_hidden": false,
          "source_hidden": false
        },
        "nteract": {
          "transient": {
            "deleting": false
          }
        }
      },
      "outputs": [],
      "source": [
        "df = pd.read_csv(os.path.join(dataset_mount_folder, 'labels.csv'))"
      ]
    },
    {
      "cell_type": "code",
      "execution_count": 9,
      "metadata": {
        "gather": {
          "logged": 1687414587966
        },
        "jupyter": {
          "outputs_hidden": false,
          "source_hidden": false
        },
        "nteract": {
          "transient": {
            "deleting": false
          }
        }
      },
      "outputs": [
        {
          "data": {
            "text/plain": [
              "(191789, 26)"
            ]
          },
          "execution_count": 9,
          "metadata": {},
          "output_type": "execute_result"
        }
      ],
      "source": [
        "df.shape"
      ]
    },
    {
      "cell_type": "code",
      "execution_count": 10,
      "metadata": {
        "gather": {
          "logged": 1687414611578
        },
        "jupyter": {
          "outputs_hidden": false,
          "source_hidden": false
        },
        "nteract": {
          "transient": {
            "deleting": false
          }
        }
      },
      "outputs": [
        {
          "name": "stdout",
          "output_type": "stream",
          "text": [
            "/tmp/tmpb8rzdo3p/scans\n"
          ]
        },
        {
          "data": {
            "text/plain": [
              "4103"
            ]
          },
          "execution_count": 10,
          "metadata": {},
          "output_type": "execute_result"
        }
      ],
      "source": [
        "# total number of folders/children\n",
        "scans_path = os.path.join(dataset_mount_folder, 'scans')\n",
        "print(scans_path)\n",
        "scans_f = os.listdir(scans_path)\n",
        "len(scans_f)"
      ]
    },
    {
      "cell_type": "code",
      "execution_count": null,
      "metadata": {
        "gather": {
          "logged": 1687414626715
        },
        "jupyter": {
          "outputs_hidden": false,
          "source_hidden": false
        },
        "nteract": {
          "transient": {
            "deleting": false
          }
        }
      },
      "outputs": [],
      "source": []
    },
    {
      "cell_type": "code",
      "execution_count": 12,
      "metadata": {
        "gather": {
          "logged": 1687414640783
        },
        "jupyter": {
          "outputs_hidden": false,
          "source_hidden": false
        },
        "nteract": {
          "transient": {
            "deleting": false
          }
        }
      },
      "outputs": [
        {
          "data": {
            "text/html": [
              "<div>\n",
              "<style scoped>\n",
              "    .dataframe tbody tr th:only-of-type {\n",
              "        vertical-align: middle;\n",
              "    }\n",
              "\n",
              "    .dataframe tbody tr th {\n",
              "        vertical-align: top;\n",
              "    }\n",
              "\n",
              "    .dataframe thead th {\n",
              "        text-align: right;\n",
              "    }\n",
              "</style>\n",
              "<table border=\"1\" class=\"dataframe\">\n",
              "  <thead>\n",
              "    <tr style=\"text-align: right;\">\n",
              "      <th></th>\n",
              "      <th>file_path</th>\n",
              "      <th>timestamp</th>\n",
              "      <th>scan_id</th>\n",
              "      <th>scan_step</th>\n",
              "      <th>scan_version</th>\n",
              "      <th>height</th>\n",
              "      <th>weight</th>\n",
              "      <th>muac</th>\n",
              "      <th>order_number</th>\n",
              "      <th>format</th>\n",
              "      <th>artifact</th>\n",
              "      <th>artifact_id</th>\n",
              "      <th>device_model</th>\n",
              "      <th>person_id</th>\n",
              "      <th>age</th>\n",
              "      <th>sex</th>\n",
              "      <th>zscore_wfh</th>\n",
              "      <th>diagnosis_wfh</th>\n",
              "      <th>zscore_lhfa</th>\n",
              "      <th>diagnosis_lhfa</th>\n",
              "      <th>no_of_person</th>\n",
              "      <th>pose_score</th>\n",
              "      <th>pose_result</th>\n",
              "      <th>ord</th>\n",
              "      <th>format_temp</th>\n",
              "      <th>new_file_path</th>\n",
              "    </tr>\n",
              "  </thead>\n",
              "  <tbody>\n",
              "    <tr>\n",
              "      <th>0</th>\n",
              "      <td>1678302450534/97c0ec99-9215-41f2-9505-4d588a8b...</td>\n",
              "      <td>2023-03-08-19-07-30-587402</td>\n",
              "      <td>986c9740-bde4-11ed-8a41-a7f3907ad526</td>\n",
              "      <td>101</td>\n",
              "      <td>v1.2.0</td>\n",
              "      <td>86.0</td>\n",
              "      <td>11.1</td>\n",
              "      <td>14.4</td>\n",
              "      <td>1</td>\n",
              "      <td>depth</td>\n",
              "      <td>796e0540-bde4-11ed-8a41-872d073e7c28</td>\n",
              "      <td>986c9741-bde4-11ed-8a41-3f9a25eba39c</td>\n",
              "      <td>HUAWEI VOG-L29</td>\n",
              "      <td>986b10a0-bde4-11ed-8a41-bf9971bab2fb</td>\n",
              "      <td>837</td>\n",
              "      <td>female</td>\n",
              "      <td>-0.54</td>\n",
              "      <td>Healthy</td>\n",
              "      <td>-0.79</td>\n",
              "      <td>Not Stunted</td>\n",
              "      <td>1</td>\n",
              "      <td>0.785075</td>\n",
              "      <td>{'bbox_coordinates': [(392.55573, 265.76773), ...</td>\n",
              "      <td>1</td>\n",
              "      <td>depth</td>\n",
              "      <td>/scans/986b10a0-bde4-11ed-8a41-bf9971bab2fb/10...</td>\n",
              "    </tr>\n",
              "    <tr>\n",
              "      <th>1</th>\n",
              "      <td>1678302450741/ae371d42-a801-4e66-b1a4-6518dec4...</td>\n",
              "      <td>2023-03-08-19-07-30-743654</td>\n",
              "      <td>986c9740-bde4-11ed-8a41-a7f3907ad526</td>\n",
              "      <td>101</td>\n",
              "      <td>v1.2.0</td>\n",
              "      <td>86.0</td>\n",
              "      <td>11.1</td>\n",
              "      <td>14.4</td>\n",
              "      <td>2</td>\n",
              "      <td>depth</td>\n",
              "      <td>7987f5e0-bde4-11ed-8a41-7ff6b558dac2</td>\n",
              "      <td>986c9742-bde4-11ed-8a41-1766f3b65f09</td>\n",
              "      <td>HUAWEI VOG-L29</td>\n",
              "      <td>986b10a0-bde4-11ed-8a41-bf9971bab2fb</td>\n",
              "      <td>837</td>\n",
              "      <td>female</td>\n",
              "      <td>-0.54</td>\n",
              "      <td>Healthy</td>\n",
              "      <td>-0.79</td>\n",
              "      <td>Not Stunted</td>\n",
              "      <td>1</td>\n",
              "      <td>0.802452</td>\n",
              "      <td>{'bbox_coordinates': [(407.20746, 197.38132), ...</td>\n",
              "      <td>2</td>\n",
              "      <td>depth</td>\n",
              "      <td>/scans/986b10a0-bde4-11ed-8a41-bf9971bab2fb/10...</td>\n",
              "    </tr>\n",
              "    <tr>\n",
              "      <th>2</th>\n",
              "      <td>1678302450869/aa3f94a6-ddf2-4156-8cb1-8b885da1...</td>\n",
              "      <td>2023-03-08-19-07-30-884277</td>\n",
              "      <td>986c9740-bde4-11ed-8a41-a7f3907ad526</td>\n",
              "      <td>101</td>\n",
              "      <td>v1.2.0</td>\n",
              "      <td>86.0</td>\n",
              "      <td>11.1</td>\n",
              "      <td>14.4</td>\n",
              "      <td>3</td>\n",
              "      <td>depth</td>\n",
              "      <td>799bcc00-bde4-11ed-8a41-c7f539be7c7e</td>\n",
              "      <td>986fa480-bde4-11ed-8a41-0380d639a4ac</td>\n",
              "      <td>HUAWEI VOG-L29</td>\n",
              "      <td>986b10a0-bde4-11ed-8a41-bf9971bab2fb</td>\n",
              "      <td>837</td>\n",
              "      <td>female</td>\n",
              "      <td>-0.54</td>\n",
              "      <td>Healthy</td>\n",
              "      <td>-0.79</td>\n",
              "      <td>Not Stunted</td>\n",
              "      <td>1</td>\n",
              "      <td>0.862610</td>\n",
              "      <td>{'bbox_coordinates': [(422.52188, 211.5413), (...</td>\n",
              "      <td>3</td>\n",
              "      <td>depth</td>\n",
              "      <td>/scans/986b10a0-bde4-11ed-8a41-bf9971bab2fb/10...</td>\n",
              "    </tr>\n",
              "    <tr>\n",
              "      <th>3</th>\n",
              "      <td>1678302450975/77d10546-01f4-4a44-aa4c-8326d446...</td>\n",
              "      <td>2023-03-08-19-07-30-978051</td>\n",
              "      <td>986c9740-bde4-11ed-8a41-a7f3907ad526</td>\n",
              "      <td>101</td>\n",
              "      <td>v1.2.0</td>\n",
              "      <td>86.0</td>\n",
              "      <td>11.1</td>\n",
              "      <td>14.4</td>\n",
              "      <td>4</td>\n",
              "      <td>depth</td>\n",
              "      <td>79a987a0-bde4-11ed-8a41-672f32b3e4b1</td>\n",
              "      <td>986fa481-bde4-11ed-8a41-33520e5ae941</td>\n",
              "      <td>HUAWEI VOG-L29</td>\n",
              "      <td>986b10a0-bde4-11ed-8a41-bf9971bab2fb</td>\n",
              "      <td>837</td>\n",
              "      <td>female</td>\n",
              "      <td>-0.54</td>\n",
              "      <td>Healthy</td>\n",
              "      <td>-0.79</td>\n",
              "      <td>Not Stunted</td>\n",
              "      <td>1</td>\n",
              "      <td>0.836100</td>\n",
              "      <td>{'bbox_coordinates': [(380.5455, 162.7933), (7...</td>\n",
              "      <td>4</td>\n",
              "      <td>depth</td>\n",
              "      <td>/scans/986b10a0-bde4-11ed-8a41-bf9971bab2fb/10...</td>\n",
              "    </tr>\n",
              "    <tr>\n",
              "      <th>4</th>\n",
              "      <td>1678302451066/fc86378e-80c8-49eb-8333-36082289...</td>\n",
              "      <td>2023-03-08-19-07-31-071820</td>\n",
              "      <td>986c9740-bde4-11ed-8a41-a7f3907ad526</td>\n",
              "      <td>101</td>\n",
              "      <td>v1.2.0</td>\n",
              "      <td>86.0</td>\n",
              "      <td>11.1</td>\n",
              "      <td>14.4</td>\n",
              "      <td>5</td>\n",
              "      <td>depth</td>\n",
              "      <td>79b8c9e0-bde4-11ed-8a41-67c2a5f68b3b</td>\n",
              "      <td>986fa482-bde4-11ed-8a41-6fd010a33653</td>\n",
              "      <td>HUAWEI VOG-L29</td>\n",
              "      <td>986b10a0-bde4-11ed-8a41-bf9971bab2fb</td>\n",
              "      <td>837</td>\n",
              "      <td>female</td>\n",
              "      <td>-0.54</td>\n",
              "      <td>Healthy</td>\n",
              "      <td>-0.79</td>\n",
              "      <td>Not Stunted</td>\n",
              "      <td>1</td>\n",
              "      <td>0.792965</td>\n",
              "      <td>{'bbox_coordinates': [(394.79855, 239.26244), ...</td>\n",
              "      <td>5</td>\n",
              "      <td>depth</td>\n",
              "      <td>/scans/986b10a0-bde4-11ed-8a41-bf9971bab2fb/10...</td>\n",
              "    </tr>\n",
              "  </tbody>\n",
              "</table>\n",
              "</div>"
            ],
            "text/plain": [
              "                                           file_path   \n",
              "0  1678302450534/97c0ec99-9215-41f2-9505-4d588a8b...  \\\n",
              "1  1678302450741/ae371d42-a801-4e66-b1a4-6518dec4...   \n",
              "2  1678302450869/aa3f94a6-ddf2-4156-8cb1-8b885da1...   \n",
              "3  1678302450975/77d10546-01f4-4a44-aa4c-8326d446...   \n",
              "4  1678302451066/fc86378e-80c8-49eb-8333-36082289...   \n",
              "\n",
              "                    timestamp                               scan_id   \n",
              "0  2023-03-08-19-07-30-587402  986c9740-bde4-11ed-8a41-a7f3907ad526  \\\n",
              "1  2023-03-08-19-07-30-743654  986c9740-bde4-11ed-8a41-a7f3907ad526   \n",
              "2  2023-03-08-19-07-30-884277  986c9740-bde4-11ed-8a41-a7f3907ad526   \n",
              "3  2023-03-08-19-07-30-978051  986c9740-bde4-11ed-8a41-a7f3907ad526   \n",
              "4  2023-03-08-19-07-31-071820  986c9740-bde4-11ed-8a41-a7f3907ad526   \n",
              "\n",
              "   scan_step scan_version  height  weight  muac  order_number format   \n",
              "0        101       v1.2.0    86.0    11.1  14.4             1  depth  \\\n",
              "1        101       v1.2.0    86.0    11.1  14.4             2  depth   \n",
              "2        101       v1.2.0    86.0    11.1  14.4             3  depth   \n",
              "3        101       v1.2.0    86.0    11.1  14.4             4  depth   \n",
              "4        101       v1.2.0    86.0    11.1  14.4             5  depth   \n",
              "\n",
              "                               artifact                           artifact_id   \n",
              "0  796e0540-bde4-11ed-8a41-872d073e7c28  986c9741-bde4-11ed-8a41-3f9a25eba39c  \\\n",
              "1  7987f5e0-bde4-11ed-8a41-7ff6b558dac2  986c9742-bde4-11ed-8a41-1766f3b65f09   \n",
              "2  799bcc00-bde4-11ed-8a41-c7f539be7c7e  986fa480-bde4-11ed-8a41-0380d639a4ac   \n",
              "3  79a987a0-bde4-11ed-8a41-672f32b3e4b1  986fa481-bde4-11ed-8a41-33520e5ae941   \n",
              "4  79b8c9e0-bde4-11ed-8a41-67c2a5f68b3b  986fa482-bde4-11ed-8a41-6fd010a33653   \n",
              "\n",
              "     device_model                             person_id  age     sex   \n",
              "0  HUAWEI VOG-L29  986b10a0-bde4-11ed-8a41-bf9971bab2fb  837  female  \\\n",
              "1  HUAWEI VOG-L29  986b10a0-bde4-11ed-8a41-bf9971bab2fb  837  female   \n",
              "2  HUAWEI VOG-L29  986b10a0-bde4-11ed-8a41-bf9971bab2fb  837  female   \n",
              "3  HUAWEI VOG-L29  986b10a0-bde4-11ed-8a41-bf9971bab2fb  837  female   \n",
              "4  HUAWEI VOG-L29  986b10a0-bde4-11ed-8a41-bf9971bab2fb  837  female   \n",
              "\n",
              "   zscore_wfh diagnosis_wfh  zscore_lhfa diagnosis_lhfa  no_of_person   \n",
              "0       -0.54       Healthy        -0.79    Not Stunted             1  \\\n",
              "1       -0.54       Healthy        -0.79    Not Stunted             1   \n",
              "2       -0.54       Healthy        -0.79    Not Stunted             1   \n",
              "3       -0.54       Healthy        -0.79    Not Stunted             1   \n",
              "4       -0.54       Healthy        -0.79    Not Stunted             1   \n",
              "\n",
              "   pose_score                                        pose_result  ord   \n",
              "0    0.785075  {'bbox_coordinates': [(392.55573, 265.76773), ...    1  \\\n",
              "1    0.802452  {'bbox_coordinates': [(407.20746, 197.38132), ...    2   \n",
              "2    0.862610  {'bbox_coordinates': [(422.52188, 211.5413), (...    3   \n",
              "3    0.836100  {'bbox_coordinates': [(380.5455, 162.7933), (7...    4   \n",
              "4    0.792965  {'bbox_coordinates': [(394.79855, 239.26244), ...    5   \n",
              "\n",
              "  format_temp                                      new_file_path  \n",
              "0       depth  /scans/986b10a0-bde4-11ed-8a41-bf9971bab2fb/10...  \n",
              "1       depth  /scans/986b10a0-bde4-11ed-8a41-bf9971bab2fb/10...  \n",
              "2       depth  /scans/986b10a0-bde4-11ed-8a41-bf9971bab2fb/10...  \n",
              "3       depth  /scans/986b10a0-bde4-11ed-8a41-bf9971bab2fb/10...  \n",
              "4       depth  /scans/986b10a0-bde4-11ed-8a41-bf9971bab2fb/10...  "
            ]
          },
          "execution_count": 12,
          "metadata": {},
          "output_type": "execute_result"
        }
      ],
      "source": [
        "df.head()"
      ]
    },
    {
      "cell_type": "code",
      "execution_count": 13,
      "metadata": {
        "gather": {
          "logged": 1687414655729
        },
        "jupyter": {
          "outputs_hidden": false,
          "source_hidden": false
        },
        "nteract": {
          "transient": {
            "deleting": false
          }
        }
      },
      "outputs": [
        {
          "data": {
            "text/html": [
              "<div>\n",
              "<style scoped>\n",
              "    .dataframe tbody tr th:only-of-type {\n",
              "        vertical-align: middle;\n",
              "    }\n",
              "\n",
              "    .dataframe tbody tr th {\n",
              "        vertical-align: top;\n",
              "    }\n",
              "\n",
              "    .dataframe thead th {\n",
              "        text-align: right;\n",
              "    }\n",
              "</style>\n",
              "<table border=\"1\" class=\"dataframe\">\n",
              "  <thead>\n",
              "    <tr style=\"text-align: right;\">\n",
              "      <th></th>\n",
              "      <th>file_path</th>\n",
              "      <th>timestamp</th>\n",
              "      <th>scan_id</th>\n",
              "      <th>scan_step</th>\n",
              "      <th>scan_version</th>\n",
              "      <th>height</th>\n",
              "      <th>weight</th>\n",
              "      <th>muac</th>\n",
              "      <th>order_number</th>\n",
              "      <th>format</th>\n",
              "      <th>artifact</th>\n",
              "      <th>artifact_id</th>\n",
              "      <th>device_model</th>\n",
              "      <th>person_id</th>\n",
              "      <th>age</th>\n",
              "      <th>sex</th>\n",
              "      <th>zscore_wfh</th>\n",
              "      <th>diagnosis_wfh</th>\n",
              "      <th>zscore_lhfa</th>\n",
              "      <th>diagnosis_lhfa</th>\n",
              "      <th>no_of_person</th>\n",
              "      <th>pose_score</th>\n",
              "      <th>pose_result</th>\n",
              "      <th>ord</th>\n",
              "      <th>format_temp</th>\n",
              "      <th>new_file_path</th>\n",
              "      <th>Years</th>\n",
              "    </tr>\n",
              "  </thead>\n",
              "  <tbody>\n",
              "    <tr>\n",
              "      <th>0</th>\n",
              "      <td>1678302450534/97c0ec99-9215-41f2-9505-4d588a8b...</td>\n",
              "      <td>2023-03-08-19-07-30-587402</td>\n",
              "      <td>986c9740-bde4-11ed-8a41-a7f3907ad526</td>\n",
              "      <td>101</td>\n",
              "      <td>v1.2.0</td>\n",
              "      <td>86.0</td>\n",
              "      <td>11.1</td>\n",
              "      <td>14.4</td>\n",
              "      <td>1</td>\n",
              "      <td>depth</td>\n",
              "      <td>796e0540-bde4-11ed-8a41-872d073e7c28</td>\n",
              "      <td>986c9741-bde4-11ed-8a41-3f9a25eba39c</td>\n",
              "      <td>HUAWEI VOG-L29</td>\n",
              "      <td>986b10a0-bde4-11ed-8a41-bf9971bab2fb</td>\n",
              "      <td>837</td>\n",
              "      <td>female</td>\n",
              "      <td>-0.54</td>\n",
              "      <td>Healthy</td>\n",
              "      <td>-0.79</td>\n",
              "      <td>Not Stunted</td>\n",
              "      <td>1</td>\n",
              "      <td>0.785075</td>\n",
              "      <td>{'bbox_coordinates': [(392.55573, 265.76773), ...</td>\n",
              "      <td>1</td>\n",
              "      <td>depth</td>\n",
              "      <td>/scans/986b10a0-bde4-11ed-8a41-bf9971bab2fb/10...</td>\n",
              "      <td>2</td>\n",
              "    </tr>\n",
              "    <tr>\n",
              "      <th>1</th>\n",
              "      <td>1678302450741/ae371d42-a801-4e66-b1a4-6518dec4...</td>\n",
              "      <td>2023-03-08-19-07-30-743654</td>\n",
              "      <td>986c9740-bde4-11ed-8a41-a7f3907ad526</td>\n",
              "      <td>101</td>\n",
              "      <td>v1.2.0</td>\n",
              "      <td>86.0</td>\n",
              "      <td>11.1</td>\n",
              "      <td>14.4</td>\n",
              "      <td>2</td>\n",
              "      <td>depth</td>\n",
              "      <td>7987f5e0-bde4-11ed-8a41-7ff6b558dac2</td>\n",
              "      <td>986c9742-bde4-11ed-8a41-1766f3b65f09</td>\n",
              "      <td>HUAWEI VOG-L29</td>\n",
              "      <td>986b10a0-bde4-11ed-8a41-bf9971bab2fb</td>\n",
              "      <td>837</td>\n",
              "      <td>female</td>\n",
              "      <td>-0.54</td>\n",
              "      <td>Healthy</td>\n",
              "      <td>-0.79</td>\n",
              "      <td>Not Stunted</td>\n",
              "      <td>1</td>\n",
              "      <td>0.802452</td>\n",
              "      <td>{'bbox_coordinates': [(407.20746, 197.38132), ...</td>\n",
              "      <td>2</td>\n",
              "      <td>depth</td>\n",
              "      <td>/scans/986b10a0-bde4-11ed-8a41-bf9971bab2fb/10...</td>\n",
              "      <td>2</td>\n",
              "    </tr>\n",
              "    <tr>\n",
              "      <th>2</th>\n",
              "      <td>1678302450869/aa3f94a6-ddf2-4156-8cb1-8b885da1...</td>\n",
              "      <td>2023-03-08-19-07-30-884277</td>\n",
              "      <td>986c9740-bde4-11ed-8a41-a7f3907ad526</td>\n",
              "      <td>101</td>\n",
              "      <td>v1.2.0</td>\n",
              "      <td>86.0</td>\n",
              "      <td>11.1</td>\n",
              "      <td>14.4</td>\n",
              "      <td>3</td>\n",
              "      <td>depth</td>\n",
              "      <td>799bcc00-bde4-11ed-8a41-c7f539be7c7e</td>\n",
              "      <td>986fa480-bde4-11ed-8a41-0380d639a4ac</td>\n",
              "      <td>HUAWEI VOG-L29</td>\n",
              "      <td>986b10a0-bde4-11ed-8a41-bf9971bab2fb</td>\n",
              "      <td>837</td>\n",
              "      <td>female</td>\n",
              "      <td>-0.54</td>\n",
              "      <td>Healthy</td>\n",
              "      <td>-0.79</td>\n",
              "      <td>Not Stunted</td>\n",
              "      <td>1</td>\n",
              "      <td>0.862610</td>\n",
              "      <td>{'bbox_coordinates': [(422.52188, 211.5413), (...</td>\n",
              "      <td>3</td>\n",
              "      <td>depth</td>\n",
              "      <td>/scans/986b10a0-bde4-11ed-8a41-bf9971bab2fb/10...</td>\n",
              "      <td>2</td>\n",
              "    </tr>\n",
              "    <tr>\n",
              "      <th>3</th>\n",
              "      <td>1678302450975/77d10546-01f4-4a44-aa4c-8326d446...</td>\n",
              "      <td>2023-03-08-19-07-30-978051</td>\n",
              "      <td>986c9740-bde4-11ed-8a41-a7f3907ad526</td>\n",
              "      <td>101</td>\n",
              "      <td>v1.2.0</td>\n",
              "      <td>86.0</td>\n",
              "      <td>11.1</td>\n",
              "      <td>14.4</td>\n",
              "      <td>4</td>\n",
              "      <td>depth</td>\n",
              "      <td>79a987a0-bde4-11ed-8a41-672f32b3e4b1</td>\n",
              "      <td>986fa481-bde4-11ed-8a41-33520e5ae941</td>\n",
              "      <td>HUAWEI VOG-L29</td>\n",
              "      <td>986b10a0-bde4-11ed-8a41-bf9971bab2fb</td>\n",
              "      <td>837</td>\n",
              "      <td>female</td>\n",
              "      <td>-0.54</td>\n",
              "      <td>Healthy</td>\n",
              "      <td>-0.79</td>\n",
              "      <td>Not Stunted</td>\n",
              "      <td>1</td>\n",
              "      <td>0.836100</td>\n",
              "      <td>{'bbox_coordinates': [(380.5455, 162.7933), (7...</td>\n",
              "      <td>4</td>\n",
              "      <td>depth</td>\n",
              "      <td>/scans/986b10a0-bde4-11ed-8a41-bf9971bab2fb/10...</td>\n",
              "      <td>2</td>\n",
              "    </tr>\n",
              "    <tr>\n",
              "      <th>4</th>\n",
              "      <td>1678302451066/fc86378e-80c8-49eb-8333-36082289...</td>\n",
              "      <td>2023-03-08-19-07-31-071820</td>\n",
              "      <td>986c9740-bde4-11ed-8a41-a7f3907ad526</td>\n",
              "      <td>101</td>\n",
              "      <td>v1.2.0</td>\n",
              "      <td>86.0</td>\n",
              "      <td>11.1</td>\n",
              "      <td>14.4</td>\n",
              "      <td>5</td>\n",
              "      <td>depth</td>\n",
              "      <td>79b8c9e0-bde4-11ed-8a41-67c2a5f68b3b</td>\n",
              "      <td>986fa482-bde4-11ed-8a41-6fd010a33653</td>\n",
              "      <td>HUAWEI VOG-L29</td>\n",
              "      <td>986b10a0-bde4-11ed-8a41-bf9971bab2fb</td>\n",
              "      <td>837</td>\n",
              "      <td>female</td>\n",
              "      <td>-0.54</td>\n",
              "      <td>Healthy</td>\n",
              "      <td>-0.79</td>\n",
              "      <td>Not Stunted</td>\n",
              "      <td>1</td>\n",
              "      <td>0.792965</td>\n",
              "      <td>{'bbox_coordinates': [(394.79855, 239.26244), ...</td>\n",
              "      <td>5</td>\n",
              "      <td>depth</td>\n",
              "      <td>/scans/986b10a0-bde4-11ed-8a41-bf9971bab2fb/10...</td>\n",
              "      <td>2</td>\n",
              "    </tr>\n",
              "  </tbody>\n",
              "</table>\n",
              "</div>"
            ],
            "text/plain": [
              "                                           file_path   \n",
              "0  1678302450534/97c0ec99-9215-41f2-9505-4d588a8b...  \\\n",
              "1  1678302450741/ae371d42-a801-4e66-b1a4-6518dec4...   \n",
              "2  1678302450869/aa3f94a6-ddf2-4156-8cb1-8b885da1...   \n",
              "3  1678302450975/77d10546-01f4-4a44-aa4c-8326d446...   \n",
              "4  1678302451066/fc86378e-80c8-49eb-8333-36082289...   \n",
              "\n",
              "                    timestamp                               scan_id   \n",
              "0  2023-03-08-19-07-30-587402  986c9740-bde4-11ed-8a41-a7f3907ad526  \\\n",
              "1  2023-03-08-19-07-30-743654  986c9740-bde4-11ed-8a41-a7f3907ad526   \n",
              "2  2023-03-08-19-07-30-884277  986c9740-bde4-11ed-8a41-a7f3907ad526   \n",
              "3  2023-03-08-19-07-30-978051  986c9740-bde4-11ed-8a41-a7f3907ad526   \n",
              "4  2023-03-08-19-07-31-071820  986c9740-bde4-11ed-8a41-a7f3907ad526   \n",
              "\n",
              "   scan_step scan_version  height  weight  muac  order_number format   \n",
              "0        101       v1.2.0    86.0    11.1  14.4             1  depth  \\\n",
              "1        101       v1.2.0    86.0    11.1  14.4             2  depth   \n",
              "2        101       v1.2.0    86.0    11.1  14.4             3  depth   \n",
              "3        101       v1.2.0    86.0    11.1  14.4             4  depth   \n",
              "4        101       v1.2.0    86.0    11.1  14.4             5  depth   \n",
              "\n",
              "                               artifact                           artifact_id   \n",
              "0  796e0540-bde4-11ed-8a41-872d073e7c28  986c9741-bde4-11ed-8a41-3f9a25eba39c  \\\n",
              "1  7987f5e0-bde4-11ed-8a41-7ff6b558dac2  986c9742-bde4-11ed-8a41-1766f3b65f09   \n",
              "2  799bcc00-bde4-11ed-8a41-c7f539be7c7e  986fa480-bde4-11ed-8a41-0380d639a4ac   \n",
              "3  79a987a0-bde4-11ed-8a41-672f32b3e4b1  986fa481-bde4-11ed-8a41-33520e5ae941   \n",
              "4  79b8c9e0-bde4-11ed-8a41-67c2a5f68b3b  986fa482-bde4-11ed-8a41-6fd010a33653   \n",
              "\n",
              "     device_model                             person_id  age     sex   \n",
              "0  HUAWEI VOG-L29  986b10a0-bde4-11ed-8a41-bf9971bab2fb  837  female  \\\n",
              "1  HUAWEI VOG-L29  986b10a0-bde4-11ed-8a41-bf9971bab2fb  837  female   \n",
              "2  HUAWEI VOG-L29  986b10a0-bde4-11ed-8a41-bf9971bab2fb  837  female   \n",
              "3  HUAWEI VOG-L29  986b10a0-bde4-11ed-8a41-bf9971bab2fb  837  female   \n",
              "4  HUAWEI VOG-L29  986b10a0-bde4-11ed-8a41-bf9971bab2fb  837  female   \n",
              "\n",
              "   zscore_wfh diagnosis_wfh  zscore_lhfa diagnosis_lhfa  no_of_person   \n",
              "0       -0.54       Healthy        -0.79    Not Stunted             1  \\\n",
              "1       -0.54       Healthy        -0.79    Not Stunted             1   \n",
              "2       -0.54       Healthy        -0.79    Not Stunted             1   \n",
              "3       -0.54       Healthy        -0.79    Not Stunted             1   \n",
              "4       -0.54       Healthy        -0.79    Not Stunted             1   \n",
              "\n",
              "   pose_score                                        pose_result  ord   \n",
              "0    0.785075  {'bbox_coordinates': [(392.55573, 265.76773), ...    1  \\\n",
              "1    0.802452  {'bbox_coordinates': [(407.20746, 197.38132), ...    2   \n",
              "2    0.862610  {'bbox_coordinates': [(422.52188, 211.5413), (...    3   \n",
              "3    0.836100  {'bbox_coordinates': [(380.5455, 162.7933), (7...    4   \n",
              "4    0.792965  {'bbox_coordinates': [(394.79855, 239.26244), ...    5   \n",
              "\n",
              "  format_temp                                      new_file_path  Years  \n",
              "0       depth  /scans/986b10a0-bde4-11ed-8a41-bf9971bab2fb/10...      2  \n",
              "1       depth  /scans/986b10a0-bde4-11ed-8a41-bf9971bab2fb/10...      2  \n",
              "2       depth  /scans/986b10a0-bde4-11ed-8a41-bf9971bab2fb/10...      2  \n",
              "3       depth  /scans/986b10a0-bde4-11ed-8a41-bf9971bab2fb/10...      2  \n",
              "4       depth  /scans/986b10a0-bde4-11ed-8a41-bf9971bab2fb/10...      2  "
            ]
          },
          "execution_count": 13,
          "metadata": {},
          "output_type": "execute_result"
        }
      ],
      "source": [
        "# df.rename(columns={'age_rgb': 'age'}, inplace=True)\n",
        "df['Years'] = df.apply(convert_age_from_days_to_years, axis=1)\n",
        "df.head()"
      ]
    },
    {
      "cell_type": "code",
      "execution_count": 14,
      "metadata": {
        "gather": {
          "logged": 1687414676025
        },
        "jupyter": {
          "outputs_hidden": false,
          "source_hidden": false
        },
        "nteract": {
          "transient": {
            "deleting": false
          }
        }
      },
      "outputs": [
        {
          "name": "stdout",
          "output_type": "stream",
          "text": [
            "Total Number of artifacts: 191789\n",
            "Total Number of scans: 13284\n"
          ]
        }
      ],
      "source": [
        "# Total number of artifacts\n",
        "print(f\"Total Number of artifacts: {len(df['artifact_id'])}\")\n",
        "print(f\"Total Number of scans: {len(df.groupby('scan_id'))}\")"
      ]
    },
    {
      "cell_type": "code",
      "execution_count": 15,
      "metadata": {
        "gather": {
          "logged": 1687414701528
        },
        "jupyter": {
          "outputs_hidden": false,
          "source_hidden": false
        },
        "nteract": {
          "transient": {
            "deleting": false
          }
        }
      },
      "outputs": [
        {
          "name": "stdout",
          "output_type": "stream",
          "text": [
            "/scans/986b10a0-bde4-11ed-8a41-bf9971bab2fb/101/pc_986c9740-bde4-11ed-8a41-a7f3907ad526_2023-03-08-19-07-30-587402_101_1.p\n"
          ]
        }
      ],
      "source": [
        "# sample rgbds_file_path\n",
        "sample_file = df['new_file_path'][0]\n",
        "print(sample_file)"
      ]
    },
    {
      "cell_type": "markdown",
      "metadata": {
        "nteract": {
          "transient": {
            "deleting": false
          }
        }
      },
      "source": [
        "## Sample file"
      ]
    },
    {
      "cell_type": "code",
      "execution_count": 18,
      "metadata": {
        "gather": {
          "logged": 1687414830644
        },
        "jupyter": {
          "outputs_hidden": false,
          "source_hidden": false
        },
        "nteract": {
          "transient": {
            "deleting": false
          }
        }
      },
      "outputs": [
        {
          "name": "stdout",
          "output_type": "stream",
          "text": [
            "sample_scan: 00259460-be74-11ed-8a41-273dd1f8751f\n",
            "['200', '201', '202']\n",
            "sample filepath: /tmp/tmpb8rzdo3p/scans/00259460-be74-11ed-8a41-273dd1f8751f/202\n",
            "['pc_01edd140-be74-11ed-8a41-e7d2bdde4094_2023-03-09-12-14-43-591560_202_3.p', 'pc_01edd140-be74-11ed-8a41-e7d2bdde4094_2023-03-09-12-14-43-700936_202_4.p', 'pc_01edd140-be74-11ed-8a41-e7d2bdde4094_2023-03-09-12-14-43-794689_202_5.p', 'pc_01edd140-be74-11ed-8a41-e7d2bdde4094_2023-03-09-12-14-43-904037_202_6.p', 'pc_01edd140-be74-11ed-8a41-e7d2bdde4094_2023-03-09-12-14-48-404182_202_7.p', 'pc_01edd140-be74-11ed-8a41-e7d2bdde4094_2023-03-09-12-14-48-576047_202_8.p', 'pc_01edd140-be74-11ed-8a41-e7d2bdde4094_2023-03-09-12-14-48-716616_202_9.p', 'pc_01edd140-be74-11ed-8a41-e7d2bdde4094_2023-03-09-12-14-48-904160_202_1.p', 'pc_01edd140-be74-11ed-8a41-e7d2bdde4094_2023-03-09-12-14-49-044754_202_2.p']\n",
            "/tmp/tmpb8rzdo3p/scans/00259460-be74-11ed-8a41-273dd1f8751f/202/pc_01edd140-be74-11ed-8a41-e7d2bdde4094_2023-03-09-12-14-43-591560_202_3.p\n"
          ]
        }
      ],
      "source": [
        "# sample scan\n",
        "sample_scan = scans_f[0]\n",
        "print(f'sample_scan: {sample_scan}')\n",
        "\n",
        "print(os.listdir(scans_path + '/' + sample_scan))\n",
        "f = scans_path + '/' + sample_scan + '/' + '202'\n",
        "print(f\"sample filepath: {f}\")\n",
        "print(os.listdir(f))\n",
        "\n",
        "f_path = f + '/' + os.listdir(f)[0]\n",
        "print(f_path)\n"
      ]
    },
    {
      "cell_type": "code",
      "execution_count": 19,
      "metadata": {
        "gather": {
          "logged": 1687414845088
        },
        "jupyter": {
          "outputs_hidden": false,
          "source_hidden": false
        },
        "nteract": {
          "transient": {
            "deleting": false
          }
        }
      },
      "outputs": [],
      "source": [
        "depthmaps, target = pickle.load(open(f_path, \"rb\"))"
      ]
    },
    {
      "cell_type": "code",
      "execution_count": 21,
      "metadata": {
        "gather": {
          "logged": 1687414853880
        },
        "jupyter": {
          "outputs_hidden": false,
          "source_hidden": false
        },
        "nteract": {
          "transient": {
            "deleting": false
          }
        }
      },
      "outputs": [
        {
          "data": {
            "text/plain": [
              "(240, 180, 1)"
            ]
          },
          "execution_count": 21,
          "metadata": {},
          "output_type": "execute_result"
        }
      ],
      "source": [
        "depthmaps.shape"
      ]
    },
    {
      "cell_type": "code",
      "execution_count": 22,
      "metadata": {
        "gather": {
          "logged": 1687414868730
        },
        "jupyter": {
          "outputs_hidden": false,
          "source_hidden": false
        },
        "nteract": {
          "transient": {
            "deleting": false
          }
        }
      },
      "outputs": [
        {
          "data": {
            "image/png": "[encoded data removed]",
            "text/plain": [
              "<Figure size 640x480 with 1 Axes>"
            ]
          },
          "metadata": {},
          "output_type": "display_data"
        }
      ],
      "source": [
        "_ = plt.imshow(np.squeeze(depthmaps), cmap='gray')\n",
        "plt.show()"
      ]
    },
    {
      "cell_type": "code",
      "execution_count": 23,
      "metadata": {
        "gather": {
          "logged": 1687414880650
        },
        "jupyter": {
          "outputs_hidden": false,
          "source_hidden": false
        },
        "nteract": {
          "transient": {
            "deleting": false
          }
        }
      },
      "outputs": [
        {
          "data": {
            "text/plain": [
              "{'file_path': '1678364083585/df864a79-30fe-4015-8571-eceae740e637',\n",
              " 'timestamp': '2023-03-09-12-14-43-591560',\n",
              " 'scan_id': '01edd140-be74-11ed-8a41-e7d2bdde4094',\n",
              " 'scan_step': 202,\n",
              " 'scan_version': 'v1.2.0',\n",
              " 'height': 66.0,\n",
              " 'weight': 5.25,\n",
              " 'muac': 10.9,\n",
              " 'order_number': 3,\n",
              " 'format': 'depth',\n",
              " 'artifact': 'f9910260-be73-11ed-8a41-5b17fbcc7508',\n",
              " 'artifact_id': '01edd141-be74-11ed-8a41-3fbf80d9071a',\n",
              " 'device_model': 'HUAWEI VOG-L29',\n",
              " 'person_id': '00259460-be74-11ed-8a41-273dd1f8751f',\n",
              " 'age': 630,\n",
              " 'sex': 'female',\n",
              " 'zscore_wfh': -3.78,\n",
              " 'diagnosis_wfh': 'SAM',\n",
              " 'zscore_lhfa': -5.7,\n",
              " 'diagnosis_lhfa': 'Severely Stunted',\n",
              " 'no_of_person': '1',\n",
              " 'pose_score': '0.9121783',\n",
              " 'pose_result': \"{'bbox_coordinates': [(401.02188, 184.5189), (990.96344, 1404.7535)], 'bbox_confidence_score': [0.99714285], 'key_points_coordinate': [{'nose': {'x': 1030.6592, 'y': 739.686}}, {'left_eye': {'x': 1062.4362, 'y': 739.686}}, {'right_eye': {'x': 1062.4362, 'y': 739.686}}, {'left_ear': {'x': 1046.5476, 'y': 588.7455}}, {'right_ear': {'x': 1038.6035, 'y': 644.35516}}, {'left_shoulder': {'x': 887.66296, 'y': 541.0801}}, {'right_shoulder': {'x': 871.7745, 'y': 731.74176}}, {'left_elbow': {'x': 935.32837, 'y': 684.0763}}, {'right_elbow': {'x': 728.77826, 'y': 795.29565}}, {'left_wrist': {'x': 911.49567, 'y': 842.96106}}, {'right_wrist': {'x': 768.49945, 'y': 882.6822}}, {'left_hip': {'x': 514.2839, 'y': 549.0243}}, {'right_hip': {'x': 498.3954, 'y': 676.1321}}, {'left_knee': {'x': 323.6222, 'y': 509.30313}}, {'right_knee': {'x': 323.6222, 'y': 715.8533}}, {'left_ankle': {'x': 109.12781, 'y': 477.52618}}, {'right_ankle': {'x': 156.79321, 'y': 644.35516}}], 'key_points_prob': [{'nose': {'score': 0.91134727}}, {'left_eye': {'score': 0.954356}}, {'right_eye': {'score': 1.0018331}}, {'left_ear': {'score': 0.6404489}}, {'right_ear': {'score': 0.9827752}}, {'left_shoulder': {'score': 0.88428557}}, {'right_shoulder': {'score': 0.9512799}}, {'left_elbow': {'score': 0.7260378}}, {'right_elbow': {'score': 1.0020547}}, {'left_wrist': {'score': 0.936951}}, {'right_wrist': {'score': 0.9407779}}, {'left_hip': {'score': 0.8648185}}, {'right_hip': {'score': 0.8503376}}, {'left_knee': {'score': 0.9569726}}, {'right_knee': {'score': 0.9850806}}, {'left_ankle': {'score': 0.9442884}}, {'right_ankle': {'score': 0.97338563}}], 'body_pose_score': 0.9121783, 'draw_kpt': array([[[1030.6592 ,  739.686  ],\\n        [1062.4362 ,  739.686  ],\\n        [1062.4362 ,  739.686  ],\\n        [1046.5476 ,  588.7455 ],\\n        [1038.6035 ,  644.35516],\\n        [ 887.66296,  541.0801 ],\\n        [ 871.7745 ,  731.74176],\\n        [ 935.32837,  684.0763 ],\\n        [ 728.77826,  795.29565],\\n        [ 911.49567,  842.96106],\\n        [ 768.49945,  882.6822 ],\\n        [ 514.2839 ,  549.0243 ],\\n        [ 498.3954 ,  676.1321 ],\\n        [ 323.6222 ,  509.30313],\\n        [ 323.6222 ,  715.8533 ],\\n        [ 109.12781,  477.52618],\\n        [ 156.79321,  644.35516]]], dtype=float32)}\",\n",
              " 'ord': 3,\n",
              " 'format_temp': 'depth',\n",
              " 'device_pose': [-0.9892789574004159,\n",
              "  -0.11477016536898285,\n",
              "  0.0903047816337665,\n",
              "  0.0,\n",
              "  0.10414339009454955,\n",
              "  -0.12093358255826818,\n",
              "  0.9871824668769382,\n",
              "  0.0,\n",
              "  -0.10237821420771313,\n",
              "  0.9860034876970765,\n",
              "  0.13158960257117863,\n",
              "  0.0,\n",
              "  -0.23803975,\n",
              "  0.3550616,\n",
              "  0.42468023,\n",
              "  1.0],\n",
              " 'raw_header': '240x180_0.001_7_-0.0040318295_0.6589302_0.7486325_-0.07310449_0.23803975_-0.3550616_-0.42468023',\n",
              " 'angle': -80.40256010709797}"
            ]
          },
          "execution_count": 23,
          "metadata": {},
          "output_type": "execute_result"
        }
      ],
      "source": [
        "target"
      ]
    },
    {
      "cell_type": "markdown",
      "metadata": {
        "nteract": {
          "transient": {
            "deleting": false
          }
        }
      },
      "source": [
        "## Analysis"
      ]
    },
    {
      "cell_type": "code",
      "execution_count": 25,
      "metadata": {
        "gather": {
          "logged": 1687414907768
        },
        "jupyter": {
          "outputs_hidden": false,
          "source_hidden": false
        },
        "nteract": {
          "transient": {
            "deleting": false
          }
        }
      },
      "outputs": [
        {
          "name": "stdout",
          "output_type": "stream",
          "text": [
            "Total no. of artifacts: 191789\n",
            "Total no. of unique scan ids: 13284\n",
            "Total no. of unique person ids: 4103\n"
          ]
        }
      ],
      "source": [
        "print(\"Total no. of artifacts:\", len(df))\n",
        "unique_scan_ids = df.drop_duplicates(subset='scan_id', keep='first')\n",
        "print(\"Total no. of unique scan ids:\", len(unique_scan_ids))\n",
        "unique_person_ids = df.drop_duplicates(subset='person_id', keep='first')\n",
        "print(\"Total no. of unique person ids:\", len(unique_person_ids))"
      ]
    },
    {
      "cell_type": "code",
      "execution_count": 26,
      "metadata": {
        "gather": {
          "logged": 1687414921957
        },
        "jupyter": {
          "outputs_hidden": false,
          "source_hidden": false
        },
        "nteract": {
          "transient": {
            "deleting": false
          }
        }
      },
      "outputs": [
        {
          "name": "stdout",
          "output_type": "stream",
          "text": [
            "device_model\n",
            "HUAWEI VOG-L29    191789\n",
            "Name: count, dtype: int64\n"
          ]
        },
        {
          "data": {
            "image/png": "[encoded data removed]",
            "text/plain": [
              "<Figure size 640x480 with 1 Axes>"
            ]
          },
          "metadata": {},
          "output_type": "display_data"
        }
      ],
      "source": [
        "print(df['device_model'].value_counts())\n",
        "_ = df['device_model'].value_counts().plot(kind='pie')"
      ]
    },
    {
      "cell_type": "code",
      "execution_count": 27,
      "metadata": {
        "gather": {
          "logged": 1687414936866
        },
        "jupyter": {
          "outputs_hidden": false,
          "source_hidden": false
        },
        "nteract": {
          "transient": {
            "deleting": false
          }
        }
      },
      "outputs": [
        {
          "name": "stdout",
          "output_type": "stream",
          "text": [
            "scan_version\n",
            "v1.2.0    83464\n",
            "v0.8      75470\n",
            "v1.2.1    26920\n",
            "v0.9       5935\n",
            "Name: count, dtype: int64\n"
          ]
        },
        {
          "data": {
            "image/png": "[encoded data removed]",
            "text/plain": [
              "<Figure size 640x480 with 1 Axes>"
            ]
          },
          "metadata": {},
          "output_type": "display_data"
        }
      ],
      "source": [
        "print(df['scan_version'].value_counts())\n",
        "_ = df['scan_version'].value_counts().plot(kind='pie')"
      ]
    },
    {
      "cell_type": "code",
      "execution_count": 28,
      "metadata": {
        "gather": {
          "logged": 1687414945933
        },
        "jupyter": {
          "outputs_hidden": false,
          "source_hidden": false
        },
        "nteract": {
          "transient": {
            "deleting": false
          }
        }
      },
      "outputs": [
        {
          "name": "stdout",
          "output_type": "stream",
          "text": [
            "Years\n",
            "0    444\n",
            "1    960\n",
            "2    882\n",
            "3    889\n",
            "4    921\n",
            "5      7\n",
            "Name: count, dtype: int64\n"
          ]
        },
        {
          "data": {
            "image/png": "[encoded data removed]",
            "text/plain": [
              "<Figure size 640x480 with 1 Axes>"
            ]
          },
          "metadata": {},
          "output_type": "display_data"
        }
      ],
      "source": [
        "draw_age_distribution(unique_person_ids)"
      ]
    },
    {
      "cell_type": "code",
      "execution_count": 29,
      "metadata": {
        "gather": {
          "logged": 1687414956902
        },
        "jupyter": {
          "outputs_hidden": false,
          "source_hidden": false
        },
        "nteract": {
          "transient": {
            "deleting": false
          }
        }
      },
      "outputs": [
        {
          "name": "stdout",
          "output_type": "stream",
          "text": [
            "Years\n",
            "0    1382\n",
            "1    3128\n",
            "2    2859\n",
            "3    2893\n",
            "4    3001\n",
            "5      21\n",
            "Name: count, dtype: int64\n"
          ]
        },
        {
          "data": {
            "image/png": "[encoded data removed]",
            "text/plain": [
              "<Figure size 640x480 with 1 Axes>"
            ]
          },
          "metadata": {},
          "output_type": "display_data"
        }
      ],
      "source": [
        "draw_age_distribution(unique_scan_ids)"
      ]
    },
    {
      "cell_type": "code",
      "execution_count": 31,
      "metadata": {
        "gather": {
          "logged": 1687414998860
        },
        "jupyter": {
          "outputs_hidden": false,
          "source_hidden": false
        },
        "nteract": {
          "transient": {
            "deleting": false
          }
        }
      },
      "outputs": [
        {
          "name": "stdout",
          "output_type": "stream",
          "text": [
            "scan_step\n",
            "101    87178\n",
            "100    31080\n",
            "102    30625\n",
            "201    24613\n",
            "200     9362\n",
            "202     8931\n",
            "Name: count, dtype: int64\n"
          ]
        },
        {
          "data": {
            "image/png": "[encoded data removed]",
            "text/plain": [
              "<Figure size 640x480 with 1 Axes>"
            ]
          },
          "metadata": {},
          "output_type": "display_data"
        }
      ],
      "source": [
        "## keys for different scan type and their distribution in dataset\n",
        "\"- 100 - standing front scan\",\n",
        "\"- 101 - standing 360 scan\",\n",
        "\"- 102 - standing back scan\",\n",
        "\"- 200 - lying front scan\",\n",
        "\"- 201 - lying side scan\",\n",
        "\"- 202 - lying back scan\"\n",
        "print(df['scan_step'].value_counts())\n",
        "_ = df['scan_step'].value_counts().plot(kind='pie')"
      ]
    },
    {
      "cell_type": "code",
      "execution_count": 32,
      "metadata": {
        "gather": {
          "logged": 1687415016885
        },
        "jupyter": {
          "outputs_hidden": false,
          "source_hidden": false
        },
        "nteract": {
          "transient": {
            "deleting": false
          }
        }
      },
      "outputs": [
        {
          "name": "stderr",
          "output_type": "stream",
          "text": [
            "2023-06-22 06:23:38,524 - INFO - scan_step - /mnt/batch/tasks/shared/LS_root/mounts/clusters/rbanka2/code/Users/rbanka/cgm-ml/cgmml/data_utils/dataset_EDA/data_utilities.py: line 52\n"
          ]
        },
        {
          "data": {
            "text/html": [
              "<div>\n",
              "<style scoped>\n",
              "    .dataframe tbody tr th:only-of-type {\n",
              "        vertical-align: middle;\n",
              "    }\n",
              "\n",
              "    .dataframe tbody tr th {\n",
              "        vertical-align: top;\n",
              "    }\n",
              "\n",
              "    .dataframe thead th {\n",
              "        text-align: right;\n",
              "    }\n",
              "</style>\n",
              "<table border=\"1\" class=\"dataframe\">\n",
              "  <thead>\n",
              "    <tr style=\"text-align: right;\">\n",
              "      <th></th>\n",
              "      <th>0</th>\n",
              "      <th>1</th>\n",
              "      <th>2</th>\n",
              "      <th>3</th>\n",
              "      <th>4</th>\n",
              "    </tr>\n",
              "    <tr>\n",
              "      <th>codes</th>\n",
              "      <th></th>\n",
              "      <th></th>\n",
              "      <th></th>\n",
              "      <th></th>\n",
              "      <th></th>\n",
              "    </tr>\n",
              "  </thead>\n",
              "  <tbody>\n",
              "    <tr>\n",
              "      <th>101</th>\n",
              "      <td>629</td>\n",
              "      <td>11961</td>\n",
              "      <td>23646</td>\n",
              "      <td>24571</td>\n",
              "      <td>26189</td>\n",
              "    </tr>\n",
              "    <tr>\n",
              "      <th>102</th>\n",
              "      <td>252</td>\n",
              "      <td>4245</td>\n",
              "      <td>8339</td>\n",
              "      <td>8679</td>\n",
              "      <td>9047</td>\n",
              "    </tr>\n",
              "    <tr>\n",
              "      <th>100</th>\n",
              "      <td>251</td>\n",
              "      <td>4511</td>\n",
              "      <td>8483</td>\n",
              "      <td>8692</td>\n",
              "      <td>9080</td>\n",
              "    </tr>\n",
              "    <tr>\n",
              "      <th>202</th>\n",
              "      <td>3807</td>\n",
              "      <td>4733</td>\n",
              "      <td>249</td>\n",
              "      <td>124</td>\n",
              "      <td>18</td>\n",
              "    </tr>\n",
              "    <tr>\n",
              "      <th>200</th>\n",
              "      <td>3917</td>\n",
              "      <td>5056</td>\n",
              "      <td>248</td>\n",
              "      <td>123</td>\n",
              "      <td>18</td>\n",
              "    </tr>\n",
              "    <tr>\n",
              "      <th>201</th>\n",
              "      <td>10378</td>\n",
              "      <td>13177</td>\n",
              "      <td>673</td>\n",
              "      <td>333</td>\n",
              "      <td>52</td>\n",
              "    </tr>\n",
              "  </tbody>\n",
              "</table>\n",
              "</div>"
            ],
            "text/plain": [
              "           0      1      2      3      4\n",
              "codes                                   \n",
              "101      629  11961  23646  24571  26189\n",
              "102      252   4245   8339   8679   9047\n",
              "100      251   4511   8483   8692   9080\n",
              "202     3807   4733    249    124     18\n",
              "200     3917   5056    248    123     18\n",
              "201    10378  13177    673    333     52"
            ]
          },
          "execution_count": 32,
          "metadata": {},
          "output_type": "execute_result"
        }
      ],
      "source": [
        "scan_type_colname = 'scan_step' # for other datasets this can be \"key\"\n",
        "calculate_code_age_distribution(df, scan_type_colname)"
      ]
    },
    {
      "cell_type": "markdown",
      "metadata": {
        "nteract": {
          "transient": {
            "deleting": false
          }
        }
      },
      "source": [
        "### Distribution of height, weight and age against each other"
      ]
    },
    {
      "cell_type": "code",
      "execution_count": 33,
      "metadata": {
        "gather": {
          "logged": 1687415040626
        },
        "jupyter": {
          "outputs_hidden": false,
          "source_hidden": false
        },
        "nteract": {
          "transient": {
            "deleting": false
          }
        }
      },
      "outputs": [
        {
          "data": {
            "text/html": [
              "<div>\n",
              "<style scoped>\n",
              "    .dataframe tbody tr th:only-of-type {\n",
              "        vertical-align: middle;\n",
              "    }\n",
              "\n",
              "    .dataframe tbody tr th {\n",
              "        vertical-align: top;\n",
              "    }\n",
              "\n",
              "    .dataframe thead th {\n",
              "        text-align: right;\n",
              "    }\n",
              "</style>\n",
              "<table border=\"1\" class=\"dataframe\">\n",
              "  <thead>\n",
              "    <tr style=\"text-align: right;\">\n",
              "      <th></th>\n",
              "      <th>file_path</th>\n",
              "      <th>timestamp</th>\n",
              "      <th>scan_id</th>\n",
              "      <th>scan_step</th>\n",
              "      <th>scan_version</th>\n",
              "      <th>height</th>\n",
              "      <th>weight</th>\n",
              "      <th>muac</th>\n",
              "      <th>order_number</th>\n",
              "      <th>format</th>\n",
              "      <th>artifact</th>\n",
              "      <th>artifact_id</th>\n",
              "      <th>device_model</th>\n",
              "      <th>person_id</th>\n",
              "      <th>age</th>\n",
              "      <th>sex</th>\n",
              "      <th>zscore_wfh</th>\n",
              "      <th>diagnosis_wfh</th>\n",
              "      <th>zscore_lhfa</th>\n",
              "      <th>diagnosis_lhfa</th>\n",
              "      <th>no_of_person</th>\n",
              "      <th>pose_score</th>\n",
              "      <th>pose_result</th>\n",
              "      <th>ord</th>\n",
              "      <th>format_temp</th>\n",
              "      <th>new_file_path</th>\n",
              "      <th>Years</th>\n",
              "    </tr>\n",
              "  </thead>\n",
              "  <tbody>\n",
              "    <tr>\n",
              "      <th>0</th>\n",
              "      <td>1678302450534/97c0ec99-9215-41f2-9505-4d588a8b...</td>\n",
              "      <td>2023-03-08-19-07-30-587402</td>\n",
              "      <td>986c9740-bde4-11ed-8a41-a7f3907ad526</td>\n",
              "      <td>101</td>\n",
              "      <td>v1.2.0</td>\n",
              "      <td>86.0</td>\n",
              "      <td>11.10</td>\n",
              "      <td>14.4</td>\n",
              "      <td>1</td>\n",
              "      <td>depth</td>\n",
              "      <td>796e0540-bde4-11ed-8a41-872d073e7c28</td>\n",
              "      <td>986c9741-bde4-11ed-8a41-3f9a25eba39c</td>\n",
              "      <td>HUAWEI VOG-L29</td>\n",
              "      <td>986b10a0-bde4-11ed-8a41-bf9971bab2fb</td>\n",
              "      <td>837</td>\n",
              "      <td>female</td>\n",
              "      <td>-0.54</td>\n",
              "      <td>Healthy</td>\n",
              "      <td>-0.79</td>\n",
              "      <td>Not Stunted</td>\n",
              "      <td>1</td>\n",
              "      <td>0.785075</td>\n",
              "      <td>{'bbox_coordinates': [(392.55573, 265.76773), ...</td>\n",
              "      <td>1</td>\n",
              "      <td>depth</td>\n",
              "      <td>/scans/986b10a0-bde4-11ed-8a41-bf9971bab2fb/10...</td>\n",
              "      <td>2</td>\n",
              "    </tr>\n",
              "    <tr>\n",
              "      <th>26</th>\n",
              "      <td>1678302477187/716155c6-1db2-4577-ad21-073d703d...</td>\n",
              "      <td>2023-03-08-19-07-57-197184</td>\n",
              "      <td>9929ccc0-bde4-11ed-8a41-831d357776db</td>\n",
              "      <td>102</td>\n",
              "      <td>v1.2.0</td>\n",
              "      <td>86.0</td>\n",
              "      <td>11.10</td>\n",
              "      <td>14.4</td>\n",
              "      <td>7</td>\n",
              "      <td>depth</td>\n",
              "      <td>894a6260-bde4-11ed-8a41-8b4b2db07fa3</td>\n",
              "      <td>9929ccc1-bde4-11ed-8a41-c72ffd5f6d10</td>\n",
              "      <td>HUAWEI VOG-L29</td>\n",
              "      <td>986b10a0-bde4-11ed-8a41-bf9971bab2fb</td>\n",
              "      <td>837</td>\n",
              "      <td>female</td>\n",
              "      <td>-0.54</td>\n",
              "      <td>Healthy</td>\n",
              "      <td>-0.79</td>\n",
              "      <td>Not Stunted</td>\n",
              "      <td>1</td>\n",
              "      <td>0.868541</td>\n",
              "      <td>{'bbox_coordinates': [(443.69577, 120.54117), ...</td>\n",
              "      <td>7</td>\n",
              "      <td>depth</td>\n",
              "      <td>/scans/986b10a0-bde4-11ed-8a41-bf9971bab2fb/10...</td>\n",
              "      <td>2</td>\n",
              "    </tr>\n",
              "    <tr>\n",
              "      <th>35</th>\n",
              "      <td>1678302500766/d57a7e86-3619-4434-96a3-9feeb128...</td>\n",
              "      <td>2023-03-08-19-08-20-775802</td>\n",
              "      <td>99c26340-bde4-11ed-8a41-27adee4942f4</td>\n",
              "      <td>100</td>\n",
              "      <td>v1.2.0</td>\n",
              "      <td>86.0</td>\n",
              "      <td>11.10</td>\n",
              "      <td>14.4</td>\n",
              "      <td>1</td>\n",
              "      <td>depth</td>\n",
              "      <td>97586820-bde4-11ed-8a41-ef3eabfee745</td>\n",
              "      <td>99c26341-bde4-11ed-8a41-275ebc611be8</td>\n",
              "      <td>HUAWEI VOG-L29</td>\n",
              "      <td>986b10a0-bde4-11ed-8a41-bf9971bab2fb</td>\n",
              "      <td>837</td>\n",
              "      <td>female</td>\n",
              "      <td>-0.54</td>\n",
              "      <td>Healthy</td>\n",
              "      <td>-0.79</td>\n",
              "      <td>Not Stunted</td>\n",
              "      <td>1</td>\n",
              "      <td>0.942719</td>\n",
              "      <td>{'bbox_coordinates': [(371.8005, 78.51518), (7...</td>\n",
              "      <td>1</td>\n",
              "      <td>depth</td>\n",
              "      <td>/scans/986b10a0-bde4-11ed-8a41-bf9971bab2fb/10...</td>\n",
              "      <td>2</td>\n",
              "    </tr>\n",
              "    <tr>\n",
              "      <th>44</th>\n",
              "      <td>1678302451222/e481e681-a9dc-4501-86aa-c1a06ed9...</td>\n",
              "      <td>2023-03-08-19-07-31-228055</td>\n",
              "      <td>aab78361-bde4-11ed-8a41-9382d32711a5</td>\n",
              "      <td>100</td>\n",
              "      <td>v1.2.0</td>\n",
              "      <td>86.9</td>\n",
              "      <td>11.35</td>\n",
              "      <td>15.5</td>\n",
              "      <td>1</td>\n",
              "      <td>depth</td>\n",
              "      <td>79cfad40-bde4-11ed-8a41-17fe789699ea</td>\n",
              "      <td>aaba90a0-bde4-11ed-8a41-c712d18e14f5</td>\n",
              "      <td>HUAWEI VOG-L29</td>\n",
              "      <td>aab5fcc0-bde4-11ed-8a41-2bb725dac827</td>\n",
              "      <td>1088</td>\n",
              "      <td>male</td>\n",
              "      <td>-0.84</td>\n",
              "      <td>Healthy</td>\n",
              "      <td>-2.44</td>\n",
              "      <td>Moderately Stunted</td>\n",
              "      <td>1</td>\n",
              "      <td>0.947321</td>\n",
              "      <td>{'bbox_coordinates': [(310.09265, 137.10991), ...</td>\n",
              "      <td>1</td>\n",
              "      <td>depth</td>\n",
              "      <td>/scans/aab5fcc0-bde4-11ed-8a41-2bb725dac827/10...</td>\n",
              "      <td>2</td>\n",
              "    </tr>\n",
              "    <tr>\n",
              "      <th>53</th>\n",
              "      <td>1678302477218/b84230b7-4c26-433c-91a7-c90b583c...</td>\n",
              "      <td>2023-03-08-19-07-57-228482</td>\n",
              "      <td>ab37afe0-bde4-11ed-8a41-6724d391b1be</td>\n",
              "      <td>102</td>\n",
              "      <td>v1.2.0</td>\n",
              "      <td>86.9</td>\n",
              "      <td>11.35</td>\n",
              "      <td>15.5</td>\n",
              "      <td>1</td>\n",
              "      <td>depth</td>\n",
              "      <td>894ef640-bde4-11ed-8a41-7f5910b68fe7</td>\n",
              "      <td>ab3abd20-bde4-11ed-8a41-13e52f784101</td>\n",
              "      <td>HUAWEI VOG-L29</td>\n",
              "      <td>aab5fcc0-bde4-11ed-8a41-2bb725dac827</td>\n",
              "      <td>1088</td>\n",
              "      <td>male</td>\n",
              "      <td>-0.84</td>\n",
              "      <td>Healthy</td>\n",
              "      <td>-2.44</td>\n",
              "      <td>Moderately Stunted</td>\n",
              "      <td>1</td>\n",
              "      <td>0.869604</td>\n",
              "      <td>{'bbox_coordinates': [(381.59152, 122.04487), ...</td>\n",
              "      <td>1</td>\n",
              "      <td>depth</td>\n",
              "      <td>/scans/aab5fcc0-bde4-11ed-8a41-2bb725dac827/10...</td>\n",
              "      <td>2</td>\n",
              "    </tr>\n",
              "  </tbody>\n",
              "</table>\n",
              "</div>"
            ],
            "text/plain": [
              "                                            file_path   \n",
              "0   1678302450534/97c0ec99-9215-41f2-9505-4d588a8b...  \\\n",
              "26  1678302477187/716155c6-1db2-4577-ad21-073d703d...   \n",
              "35  1678302500766/d57a7e86-3619-4434-96a3-9feeb128...   \n",
              "44  1678302451222/e481e681-a9dc-4501-86aa-c1a06ed9...   \n",
              "53  1678302477218/b84230b7-4c26-433c-91a7-c90b583c...   \n",
              "\n",
              "                     timestamp                               scan_id   \n",
              "0   2023-03-08-19-07-30-587402  986c9740-bde4-11ed-8a41-a7f3907ad526  \\\n",
              "26  2023-03-08-19-07-57-197184  9929ccc0-bde4-11ed-8a41-831d357776db   \n",
              "35  2023-03-08-19-08-20-775802  99c26340-bde4-11ed-8a41-27adee4942f4   \n",
              "44  2023-03-08-19-07-31-228055  aab78361-bde4-11ed-8a41-9382d32711a5   \n",
              "53  2023-03-08-19-07-57-228482  ab37afe0-bde4-11ed-8a41-6724d391b1be   \n",
              "\n",
              "    scan_step scan_version  height  weight  muac  order_number format   \n",
              "0         101       v1.2.0    86.0   11.10  14.4             1  depth  \\\n",
              "26        102       v1.2.0    86.0   11.10  14.4             7  depth   \n",
              "35        100       v1.2.0    86.0   11.10  14.4             1  depth   \n",
              "44        100       v1.2.0    86.9   11.35  15.5             1  depth   \n",
              "53        102       v1.2.0    86.9   11.35  15.5             1  depth   \n",
              "\n",
              "                                artifact   \n",
              "0   796e0540-bde4-11ed-8a41-872d073e7c28  \\\n",
              "26  894a6260-bde4-11ed-8a41-8b4b2db07fa3   \n",
              "35  97586820-bde4-11ed-8a41-ef3eabfee745   \n",
              "44  79cfad40-bde4-11ed-8a41-17fe789699ea   \n",
              "53  894ef640-bde4-11ed-8a41-7f5910b68fe7   \n",
              "\n",
              "                             artifact_id    device_model   \n",
              "0   986c9741-bde4-11ed-8a41-3f9a25eba39c  HUAWEI VOG-L29  \\\n",
              "26  9929ccc1-bde4-11ed-8a41-c72ffd5f6d10  HUAWEI VOG-L29   \n",
              "35  99c26341-bde4-11ed-8a41-275ebc611be8  HUAWEI VOG-L29   \n",
              "44  aaba90a0-bde4-11ed-8a41-c712d18e14f5  HUAWEI VOG-L29   \n",
              "53  ab3abd20-bde4-11ed-8a41-13e52f784101  HUAWEI VOG-L29   \n",
              "\n",
              "                               person_id   age     sex  zscore_wfh   \n",
              "0   986b10a0-bde4-11ed-8a41-bf9971bab2fb   837  female       -0.54  \\\n",
              "26  986b10a0-bde4-11ed-8a41-bf9971bab2fb   837  female       -0.54   \n",
              "35  986b10a0-bde4-11ed-8a41-bf9971bab2fb   837  female       -0.54   \n",
              "44  aab5fcc0-bde4-11ed-8a41-2bb725dac827  1088    male       -0.84   \n",
              "53  aab5fcc0-bde4-11ed-8a41-2bb725dac827  1088    male       -0.84   \n",
              "\n",
              "   diagnosis_wfh  zscore_lhfa      diagnosis_lhfa  no_of_person  pose_score   \n",
              "0        Healthy        -0.79         Not Stunted             1    0.785075  \\\n",
              "26       Healthy        -0.79         Not Stunted             1    0.868541   \n",
              "35       Healthy        -0.79         Not Stunted             1    0.942719   \n",
              "44       Healthy        -2.44  Moderately Stunted             1    0.947321   \n",
              "53       Healthy        -2.44  Moderately Stunted             1    0.869604   \n",
              "\n",
              "                                          pose_result  ord format_temp   \n",
              "0   {'bbox_coordinates': [(392.55573, 265.76773), ...    1       depth  \\\n",
              "26  {'bbox_coordinates': [(443.69577, 120.54117), ...    7       depth   \n",
              "35  {'bbox_coordinates': [(371.8005, 78.51518), (7...    1       depth   \n",
              "44  {'bbox_coordinates': [(310.09265, 137.10991), ...    1       depth   \n",
              "53  {'bbox_coordinates': [(381.59152, 122.04487), ...    1       depth   \n",
              "\n",
              "                                        new_file_path  Years  \n",
              "0   /scans/986b10a0-bde4-11ed-8a41-bf9971bab2fb/10...      2  \n",
              "26  /scans/986b10a0-bde4-11ed-8a41-bf9971bab2fb/10...      2  \n",
              "35  /scans/986b10a0-bde4-11ed-8a41-bf9971bab2fb/10...      2  \n",
              "44  /scans/aab5fcc0-bde4-11ed-8a41-2bb725dac827/10...      2  \n",
              "53  /scans/aab5fcc0-bde4-11ed-8a41-2bb725dac827/10...      2  "
            ]
          },
          "execution_count": 33,
          "metadata": {},
          "output_type": "execute_result"
        }
      ],
      "source": [
        "unique_scan_ids.head()"
      ]
    },
    {
      "cell_type": "code",
      "execution_count": 35,
      "metadata": {
        "gather": {
          "logged": 1687415076622
        },
        "jupyter": {
          "outputs_hidden": false,
          "source_hidden": false
        },
        "nteract": {
          "transient": {
            "deleting": false
          }
        }
      },
      "outputs": [
        {
          "data": {
            "image/png": "[encoded data removed]",
            "text/plain": [
              "<Figure size 640x480 with 1 Axes>"
            ]
          },
          "metadata": {},
          "output_type": "display_data"
        }
      ],
      "source": [
        "#distribution of height against age\n",
        "height_vs_age = unique_scan_ids.plot.scatter(x='height', y='age', c='red')"
      ]
    },
    {
      "cell_type": "code",
      "execution_count": 36,
      "metadata": {
        "gather": {
          "logged": 1687415080884
        },
        "jupyter": {
          "outputs_hidden": false,
          "source_hidden": false
        },
        "nteract": {
          "transient": {
            "deleting": false
          }
        }
      },
      "outputs": [
        {
          "data": {
            "image/png": "[encoded data removed]",
            "text/plain": [
              "<Figure size 640x480 with 1 Axes>"
            ]
          },
          "metadata": {},
          "output_type": "display_data"
        }
      ],
      "source": [
        "#distribution of weight against age\n",
        "weight_vs_age = unique_scan_ids.plot.scatter(x='weight', y='age', c='red')"
      ]
    },
    {
      "cell_type": "code",
      "execution_count": 38,
      "metadata": {
        "gather": {
          "logged": 1687415098941
        },
        "jupyter": {
          "outputs_hidden": false,
          "source_hidden": false
        },
        "nteract": {
          "transient": {
            "deleting": false
          }
        }
      },
      "outputs": [
        {
          "data": {
            "image/png": "[encoded data removed]",
            "text/plain": [
              "<Figure size 640x480 with 1 Axes>"
            ]
          },
          "metadata": {},
          "output_type": "display_data"
        }
      ],
      "source": [
        "weight_vs_height = unique_scan_ids.plot.scatter(x='height', y='weight', c='red')"
      ]
    },
    {
      "cell_type": "markdown",
      "metadata": {
        "nteract": {
          "transient": {
            "deleting": false
          }
        }
      },
      "source": [
        "## Analyze outliers: 1) age, 2) weight, 3) height, 4) pixel values"
      ]
    },
    {
      "cell_type": "code",
      "execution_count": 39,
      "metadata": {
        "gather": {
          "logged": 1687415120946
        },
        "jupyter": {
          "outputs_hidden": false,
          "source_hidden": false
        },
        "nteract": {
          "transient": {
            "deleting": false
          }
        }
      },
      "outputs": [
        {
          "data": {
            "text/html": [
              "<div>\n",
              "<style scoped>\n",
              "    .dataframe tbody tr th:only-of-type {\n",
              "        vertical-align: middle;\n",
              "    }\n",
              "\n",
              "    .dataframe tbody tr th {\n",
              "        vertical-align: top;\n",
              "    }\n",
              "\n",
              "    .dataframe thead th {\n",
              "        text-align: right;\n",
              "    }\n",
              "</style>\n",
              "<table border=\"1\" class=\"dataframe\">\n",
              "  <thead>\n",
              "    <tr style=\"text-align: right;\">\n",
              "      <th></th>\n",
              "      <th>scan_step</th>\n",
              "      <th>height</th>\n",
              "      <th>weight</th>\n",
              "      <th>muac</th>\n",
              "      <th>order_number</th>\n",
              "      <th>age</th>\n",
              "      <th>zscore_wfh</th>\n",
              "      <th>zscore_lhfa</th>\n",
              "      <th>no_of_person</th>\n",
              "      <th>pose_score</th>\n",
              "      <th>ord</th>\n",
              "      <th>Years</th>\n",
              "    </tr>\n",
              "  </thead>\n",
              "  <tbody>\n",
              "    <tr>\n",
              "      <th>count</th>\n",
              "      <td>191789.000000</td>\n",
              "      <td>191789.000000</td>\n",
              "      <td>191789.000000</td>\n",
              "      <td>191789.000000</td>\n",
              "      <td>191789.000000</td>\n",
              "      <td>191789.000000</td>\n",
              "      <td>191789.000000</td>\n",
              "      <td>191789.000000</td>\n",
              "      <td>191789.000000</td>\n",
              "      <td>191789.000000</td>\n",
              "      <td>191789.000000</td>\n",
              "      <td>191789.00000</td>\n",
              "    </tr>\n",
              "    <tr>\n",
              "      <th>mean</th>\n",
              "      <td>123.366841</td>\n",
              "      <td>84.704051</td>\n",
              "      <td>10.475809</td>\n",
              "      <td>13.703673</td>\n",
              "      <td>10.185115</td>\n",
              "      <td>1020.051353</td>\n",
              "      <td>-1.258060</td>\n",
              "      <td>-2.138254</td>\n",
              "      <td>1.077700</td>\n",
              "      <td>0.841033</td>\n",
              "      <td>10.185115</td>\n",
              "      <td>2.26124</td>\n",
              "    </tr>\n",
              "    <tr>\n",
              "      <th>std</th>\n",
              "      <td>41.675499</td>\n",
              "      <td>11.190905</td>\n",
              "      <td>2.521819</td>\n",
              "      <td>1.025163</td>\n",
              "      <td>7.936369</td>\n",
              "      <td>474.240762</td>\n",
              "      <td>1.080166</td>\n",
              "      <td>1.413143</td>\n",
              "      <td>0.329576</td>\n",
              "      <td>0.150591</td>\n",
              "      <td>7.936369</td>\n",
              "      <td>1.31261</td>\n",
              "    </tr>\n",
              "    <tr>\n",
              "      <th>min</th>\n",
              "      <td>100.000000</td>\n",
              "      <td>57.000000</td>\n",
              "      <td>3.600000</td>\n",
              "      <td>9.600000</td>\n",
              "      <td>1.000000</td>\n",
              "      <td>183.000000</td>\n",
              "      <td>-11.820000</td>\n",
              "      <td>-10.090000</td>\n",
              "      <td>1.000000</td>\n",
              "      <td>0.042543</td>\n",
              "      <td>1.000000</td>\n",
              "      <td>0.00000</td>\n",
              "    </tr>\n",
              "    <tr>\n",
              "      <th>25%</th>\n",
              "      <td>101.000000</td>\n",
              "      <td>75.800000</td>\n",
              "      <td>8.500000</td>\n",
              "      <td>13.000000</td>\n",
              "      <td>4.000000</td>\n",
              "      <td>607.000000</td>\n",
              "      <td>-1.930000</td>\n",
              "      <td>-2.900000</td>\n",
              "      <td>1.000000</td>\n",
              "      <td>0.816859</td>\n",
              "      <td>4.000000</td>\n",
              "      <td>1.00000</td>\n",
              "    </tr>\n",
              "    <tr>\n",
              "      <th>50%</th>\n",
              "      <td>101.000000</td>\n",
              "      <td>85.100000</td>\n",
              "      <td>10.450000</td>\n",
              "      <td>13.600000</td>\n",
              "      <td>8.000000</td>\n",
              "      <td>1023.000000</td>\n",
              "      <td>-1.250000</td>\n",
              "      <td>-2.160000</td>\n",
              "      <td>1.000000</td>\n",
              "      <td>0.884375</td>\n",
              "      <td>8.000000</td>\n",
              "      <td>2.00000</td>\n",
              "    </tr>\n",
              "    <tr>\n",
              "      <th>75%</th>\n",
              "      <td>102.000000</td>\n",
              "      <td>93.700000</td>\n",
              "      <td>12.250000</td>\n",
              "      <td>14.300000</td>\n",
              "      <td>16.000000</td>\n",
              "      <td>1433.000000</td>\n",
              "      <td>-0.610000</td>\n",
              "      <td>-1.380000</td>\n",
              "      <td>1.000000</td>\n",
              "      <td>0.934873</td>\n",
              "      <td>16.000000</td>\n",
              "      <td>3.00000</td>\n",
              "    </tr>\n",
              "    <tr>\n",
              "      <th>max</th>\n",
              "      <td>202.000000</td>\n",
              "      <td>116.700000</td>\n",
              "      <td>20.650000</td>\n",
              "      <td>18.200000</td>\n",
              "      <td>130.000000</td>\n",
              "      <td>1825.000000</td>\n",
              "      <td>8.290000</td>\n",
              "      <td>13.330000</td>\n",
              "      <td>9.000000</td>\n",
              "      <td>0.975601</td>\n",
              "      <td>130.000000</td>\n",
              "      <td>5.00000</td>\n",
              "    </tr>\n",
              "  </tbody>\n",
              "</table>\n",
              "</div>"
            ],
            "text/plain": [
              "           scan_step         height         weight           muac   \n",
              "count  191789.000000  191789.000000  191789.000000  191789.000000  \\\n",
              "mean      123.366841      84.704051      10.475809      13.703673   \n",
              "std        41.675499      11.190905       2.521819       1.025163   \n",
              "min       100.000000      57.000000       3.600000       9.600000   \n",
              "25%       101.000000      75.800000       8.500000      13.000000   \n",
              "50%       101.000000      85.100000      10.450000      13.600000   \n",
              "75%       102.000000      93.700000      12.250000      14.300000   \n",
              "max       202.000000     116.700000      20.650000      18.200000   \n",
              "\n",
              "        order_number            age     zscore_wfh    zscore_lhfa   \n",
              "count  191789.000000  191789.000000  191789.000000  191789.000000  \\\n",
              "mean       10.185115    1020.051353      -1.258060      -2.138254   \n",
              "std         7.936369     474.240762       1.080166       1.413143   \n",
              "min         1.000000     183.000000     -11.820000     -10.090000   \n",
              "25%         4.000000     607.000000      -1.930000      -2.900000   \n",
              "50%         8.000000    1023.000000      -1.250000      -2.160000   \n",
              "75%        16.000000    1433.000000      -0.610000      -1.380000   \n",
              "max       130.000000    1825.000000       8.290000      13.330000   \n",
              "\n",
              "        no_of_person     pose_score            ord         Years  \n",
              "count  191789.000000  191789.000000  191789.000000  191789.00000  \n",
              "mean        1.077700       0.841033      10.185115       2.26124  \n",
              "std         0.329576       0.150591       7.936369       1.31261  \n",
              "min         1.000000       0.042543       1.000000       0.00000  \n",
              "25%         1.000000       0.816859       4.000000       1.00000  \n",
              "50%         1.000000       0.884375       8.000000       2.00000  \n",
              "75%         1.000000       0.934873      16.000000       3.00000  \n",
              "max         9.000000       0.975601     130.000000       5.00000  "
            ]
          },
          "execution_count": 39,
          "metadata": {},
          "output_type": "execute_result"
        }
      ],
      "source": [
        "df.describe()"
      ]
    },
    {
      "cell_type": "code",
      "execution_count": 40,
      "metadata": {
        "gather": {
          "logged": 1687415132812
        },
        "jupyter": {
          "outputs_hidden": false,
          "source_hidden": false
        },
        "nteract": {
          "transient": {
            "deleting": false
          }
        }
      },
      "outputs": [
        {
          "data": {
            "text/html": [
              "<div>\n",
              "<style scoped>\n",
              "    .dataframe tbody tr th:only-of-type {\n",
              "        vertical-align: middle;\n",
              "    }\n",
              "\n",
              "    .dataframe tbody tr th {\n",
              "        vertical-align: top;\n",
              "    }\n",
              "\n",
              "    .dataframe thead th {\n",
              "        text-align: right;\n",
              "    }\n",
              "</style>\n",
              "<table border=\"1\" class=\"dataframe\">\n",
              "  <thead>\n",
              "    <tr style=\"text-align: right;\">\n",
              "      <th></th>\n",
              "      <th>scan_step</th>\n",
              "      <th>height</th>\n",
              "      <th>weight</th>\n",
              "      <th>muac</th>\n",
              "      <th>order_number</th>\n",
              "      <th>age</th>\n",
              "      <th>zscore_wfh</th>\n",
              "      <th>zscore_lhfa</th>\n",
              "      <th>no_of_person</th>\n",
              "      <th>pose_score</th>\n",
              "      <th>ord</th>\n",
              "      <th>Years</th>\n",
              "    </tr>\n",
              "  </thead>\n",
              "  <tbody>\n",
              "    <tr>\n",
              "      <th>count</th>\n",
              "      <td>13284.000000</td>\n",
              "      <td>13284.000000</td>\n",
              "      <td>13284.000000</td>\n",
              "      <td>13284.000000</td>\n",
              "      <td>13284.000000</td>\n",
              "      <td>13284.000000</td>\n",
              "      <td>13284.000000</td>\n",
              "      <td>13284.000000</td>\n",
              "      <td>13284.000000</td>\n",
              "      <td>13284.000000</td>\n",
              "      <td>13284.000000</td>\n",
              "      <td>13284.000000</td>\n",
              "    </tr>\n",
              "    <tr>\n",
              "      <th>mean</th>\n",
              "      <td>124.302243</td>\n",
              "      <td>84.449782</td>\n",
              "      <td>10.424769</td>\n",
              "      <td>13.693360</td>\n",
              "      <td>2.620747</td>\n",
              "      <td>1009.184207</td>\n",
              "      <td>-1.255377</td>\n",
              "      <td>-2.142736</td>\n",
              "      <td>1.083634</td>\n",
              "      <td>0.843206</td>\n",
              "      <td>2.620747</td>\n",
              "      <td>2.230804</td>\n",
              "    </tr>\n",
              "    <tr>\n",
              "      <th>std</th>\n",
              "      <td>42.286169</td>\n",
              "      <td>11.227189</td>\n",
              "      <td>2.526140</td>\n",
              "      <td>1.026007</td>\n",
              "      <td>4.354080</td>\n",
              "      <td>475.647060</td>\n",
              "      <td>1.078117</td>\n",
              "      <td>1.414191</td>\n",
              "      <td>0.348590</td>\n",
              "      <td>0.155673</td>\n",
              "      <td>4.354080</td>\n",
              "      <td>1.316861</td>\n",
              "    </tr>\n",
              "    <tr>\n",
              "      <th>min</th>\n",
              "      <td>100.000000</td>\n",
              "      <td>57.000000</td>\n",
              "      <td>3.600000</td>\n",
              "      <td>9.600000</td>\n",
              "      <td>1.000000</td>\n",
              "      <td>183.000000</td>\n",
              "      <td>-11.820000</td>\n",
              "      <td>-10.090000</td>\n",
              "      <td>1.000000</td>\n",
              "      <td>0.069146</td>\n",
              "      <td>1.000000</td>\n",
              "      <td>0.000000</td>\n",
              "    </tr>\n",
              "    <tr>\n",
              "      <th>25%</th>\n",
              "      <td>100.000000</td>\n",
              "      <td>75.300000</td>\n",
              "      <td>8.400000</td>\n",
              "      <td>13.000000</td>\n",
              "      <td>1.000000</td>\n",
              "      <td>592.000000</td>\n",
              "      <td>-1.922500</td>\n",
              "      <td>-2.910000</td>\n",
              "      <td>1.000000</td>\n",
              "      <td>0.818495</td>\n",
              "      <td>1.000000</td>\n",
              "      <td>1.000000</td>\n",
              "    </tr>\n",
              "    <tr>\n",
              "      <th>50%</th>\n",
              "      <td>101.000000</td>\n",
              "      <td>84.700000</td>\n",
              "      <td>10.350000</td>\n",
              "      <td>13.600000</td>\n",
              "      <td>1.000000</td>\n",
              "      <td>1002.000000</td>\n",
              "      <td>-1.250000</td>\n",
              "      <td>-2.160000</td>\n",
              "      <td>1.000000</td>\n",
              "      <td>0.892081</td>\n",
              "      <td>1.000000</td>\n",
              "      <td>2.000000</td>\n",
              "    </tr>\n",
              "    <tr>\n",
              "      <th>75%</th>\n",
              "      <td>102.000000</td>\n",
              "      <td>93.500000</td>\n",
              "      <td>12.200000</td>\n",
              "      <td>14.300000</td>\n",
              "      <td>1.000000</td>\n",
              "      <td>1422.000000</td>\n",
              "      <td>-0.610000</td>\n",
              "      <td>-1.380000</td>\n",
              "      <td>1.000000</td>\n",
              "      <td>0.940638</td>\n",
              "      <td>1.000000</td>\n",
              "      <td>3.000000</td>\n",
              "    </tr>\n",
              "    <tr>\n",
              "      <th>max</th>\n",
              "      <td>202.000000</td>\n",
              "      <td>116.700000</td>\n",
              "      <td>20.650000</td>\n",
              "      <td>18.200000</td>\n",
              "      <td>40.000000</td>\n",
              "      <td>1825.000000</td>\n",
              "      <td>8.290000</td>\n",
              "      <td>13.330000</td>\n",
              "      <td>6.000000</td>\n",
              "      <td>0.973184</td>\n",
              "      <td>40.000000</td>\n",
              "      <td>5.000000</td>\n",
              "    </tr>\n",
              "  </tbody>\n",
              "</table>\n",
              "</div>"
            ],
            "text/plain": [
              "          scan_step        height        weight          muac  order_number   \n",
              "count  13284.000000  13284.000000  13284.000000  13284.000000  13284.000000  \\\n",
              "mean     124.302243     84.449782     10.424769     13.693360      2.620747   \n",
              "std       42.286169     11.227189      2.526140      1.026007      4.354080   \n",
              "min      100.000000     57.000000      3.600000      9.600000      1.000000   \n",
              "25%      100.000000     75.300000      8.400000     13.000000      1.000000   \n",
              "50%      101.000000     84.700000     10.350000     13.600000      1.000000   \n",
              "75%      102.000000     93.500000     12.200000     14.300000      1.000000   \n",
              "max      202.000000    116.700000     20.650000     18.200000     40.000000   \n",
              "\n",
              "                age    zscore_wfh   zscore_lhfa  no_of_person    pose_score   \n",
              "count  13284.000000  13284.000000  13284.000000  13284.000000  13284.000000  \\\n",
              "mean    1009.184207     -1.255377     -2.142736      1.083634      0.843206   \n",
              "std      475.647060      1.078117      1.414191      0.348590      0.155673   \n",
              "min      183.000000    -11.820000    -10.090000      1.000000      0.069146   \n",
              "25%      592.000000     -1.922500     -2.910000      1.000000      0.818495   \n",
              "50%     1002.000000     -1.250000     -2.160000      1.000000      0.892081   \n",
              "75%     1422.000000     -0.610000     -1.380000      1.000000      0.940638   \n",
              "max     1825.000000      8.290000     13.330000      6.000000      0.973184   \n",
              "\n",
              "                ord         Years  \n",
              "count  13284.000000  13284.000000  \n",
              "mean       2.620747      2.230804  \n",
              "std        4.354080      1.316861  \n",
              "min        1.000000      0.000000  \n",
              "25%        1.000000      1.000000  \n",
              "50%        1.000000      2.000000  \n",
              "75%        1.000000      3.000000  \n",
              "max       40.000000      5.000000  "
            ]
          },
          "execution_count": 40,
          "metadata": {},
          "output_type": "execute_result"
        }
      ],
      "source": [
        "unique_scan_ids.describe()"
      ]
    },
    {
      "cell_type": "markdown",
      "metadata": {
        "nteract": {
          "transient": {
            "deleting": false
          }
        }
      },
      "source": [
        "### 1) check age"
      ]
    },
    {
      "cell_type": "code",
      "execution_count": 41,
      "metadata": {
        "gather": {
          "logged": 1687415224201
        },
        "jupyter": {
          "outputs_hidden": false,
          "source_hidden": false
        },
        "nteract": {
          "transient": {
            "deleting": false
          }
        }
      },
      "outputs": [
        {
          "name": "stdout",
          "output_type": "stream",
          "text": [
            "Running the following query: @df.age<365/2\n",
            "No. of outliers: 0\n"
          ]
        },
        {
          "data": {
            "text/plain": [
              "[]"
            ]
          },
          "execution_count": 41,
          "metadata": {},
          "output_type": "execute_result"
        }
      ],
      "source": [
        "find_outliers(df, 'age', '<365/2', data_id_name='person_id')"
      ]
    },
    {
      "cell_type": "code",
      "execution_count": 42,
      "metadata": {
        "gather": {
          "logged": 1687415233066
        },
        "jupyter": {
          "outputs_hidden": false,
          "source_hidden": false
        },
        "nteract": {
          "transient": {
            "deleting": false
          }
        }
      },
      "outputs": [
        {
          "name": "stdout",
          "output_type": "stream",
          "text": [
            "Running the following query: @df.age<365/2\n",
            "No. of outliers: 0\n"
          ]
        },
        {
          "data": {
            "text/plain": [
              "[]"
            ]
          },
          "execution_count": 42,
          "metadata": {},
          "output_type": "execute_result"
        }
      ],
      "source": [
        "find_outliers(df, 'age', '<365/2', data_id_name='scan_id')"
      ]
    },
    {
      "cell_type": "code",
      "execution_count": 43,
      "metadata": {
        "gather": {
          "logged": 1687415243673
        },
        "jupyter": {
          "outputs_hidden": false,
          "source_hidden": false
        },
        "nteract": {
          "transient": {
            "deleting": false
          }
        }
      },
      "outputs": [
        {
          "name": "stdout",
          "output_type": "stream",
          "text": [
            "Running the following query: @df.age>365*6\n",
            "No. of outliers: 0\n"
          ]
        },
        {
          "data": {
            "text/plain": [
              "[]"
            ]
          },
          "execution_count": 43,
          "metadata": {},
          "output_type": "execute_result"
        }
      ],
      "source": [
        "find_outliers(df, 'age', '>365*6', data_id_name='scan_id')"
      ]
    },
    {
      "cell_type": "markdown",
      "metadata": {
        "nteract": {
          "transient": {
            "deleting": false
          }
        }
      },
      "source": [
        "### 2) Check weight"
      ]
    },
    {
      "cell_type": "code",
      "execution_count": 44,
      "metadata": {
        "gather": {
          "logged": 1687415281749
        },
        "jupyter": {
          "outputs_hidden": false,
          "source_hidden": false
        },
        "nteract": {
          "transient": {
            "deleting": false
          }
        }
      },
      "outputs": [
        {
          "name": "stdout",
          "output_type": "stream",
          "text": [
            "Running the following query: @df.weight<5.0\n",
            "No. of outliers: 19\n"
          ]
        },
        {
          "data": {
            "text/plain": [
              "['b28888c0-beaf-11ed-8a41-d791b4da2641',\n",
              " 'b34ee600-beaf-11ed-8a41-b7af8d0d0f19',\n",
              " 'b4926280-beaf-11ed-8a41-23bd582bcf6c',\n",
              " '159167c1-bef1-11ed-8a41-57719449f600',\n",
              " '1657c500-bef1-11ed-8a41-1f14a7baf231',\n",
              " '17a77680-bef1-11ed-8a41-1f378819c0d0',\n",
              " '6c44c801-bf96-11ed-8a41-b75dbedb3f3d',\n",
              " '6d2fc440-bf96-11ed-8a41-d7b630b75b2a',\n",
              " '6e965920-bf96-11ed-8a41-9b62eac680fb',\n",
              " '7cbb1601-bfa8-11ed-8a41-6f0653822311',\n",
              " '7e294c00-bfa8-11ed-8a41-0bf3fedc5ba7',\n",
              " '7ed124c0-bfa8-11ed-8a41-3324246620b3',\n",
              " 'b2a9fa20-bfc5-11ed-8a41-6375ff9e2bae',\n",
              " 'b3441740-bfc5-11ed-8a41-433d9212256e',\n",
              " 'b453b280-bfc5-11ed-8a41-afb3632b81b8',\n",
              " 'f048c462-e3c7-11ed-b964-cfb324b9d1b4',\n",
              " 'f0f47316-e3c7-11ed-baa4-6b7168eb8fab',\n",
              " 'f1787c92-e3c7-11ed-bb8f-db9f8e09f342',\n",
              " 'f1c3f8c0-e3c7-11ed-bc0a-538561852b58']"
            ]
          },
          "execution_count": 44,
          "metadata": {},
          "output_type": "execute_result"
        }
      ],
      "source": [
        "find_outliers(df, 'weight', '<5.0', data_id_name='scan_id')"
      ]
    },
    {
      "cell_type": "code",
      "execution_count": 45,
      "metadata": {
        "gather": {
          "logged": 1687415295585
        },
        "jupyter": {
          "outputs_hidden": false,
          "source_hidden": false
        },
        "nteract": {
          "transient": {
            "deleting": false
          }
        }
      },
      "outputs": [
        {
          "name": "stdout",
          "output_type": "stream",
          "text": [
            "Running the following query: @df.weight>30.0\n",
            "No. of outliers: 0\n"
          ]
        },
        {
          "data": {
            "text/plain": [
              "[]"
            ]
          },
          "execution_count": 45,
          "metadata": {},
          "output_type": "execute_result"
        }
      ],
      "source": [
        "find_outliers(df, 'weight', '>30.0', data_id_name='scan_id')"
      ]
    },
    {
      "cell_type": "markdown",
      "metadata": {
        "nteract": {
          "transient": {
            "deleting": false
          }
        }
      },
      "source": [
        "### 3) check height"
      ]
    },
    {
      "cell_type": "code",
      "execution_count": 46,
      "metadata": {
        "gather": {
          "logged": 1687415322629
        },
        "jupyter": {
          "outputs_hidden": false,
          "source_hidden": false
        },
        "nteract": {
          "transient": {
            "deleting": false
          }
        }
      },
      "outputs": [
        {
          "name": "stdout",
          "output_type": "stream",
          "text": [
            "Running the following query: @df.height<40.0\n",
            "No. of outliers: 0\n"
          ]
        },
        {
          "data": {
            "text/plain": [
              "[]"
            ]
          },
          "execution_count": 46,
          "metadata": {},
          "output_type": "execute_result"
        }
      ],
      "source": [
        "find_outliers(df, 'height', '<40.0', data_id_name='scan_id')"
      ]
    },
    {
      "cell_type": "code",
      "execution_count": 47,
      "metadata": {
        "gather": {
          "logged": 1687415336705
        },
        "jupyter": {
          "outputs_hidden": false,
          "source_hidden": false
        },
        "nteract": {
          "transient": {
            "deleting": false
          }
        }
      },
      "outputs": [
        {
          "name": "stdout",
          "output_type": "stream",
          "text": [
            "Running the following query: @df.height>150.0\n",
            "No. of outliers: 0\n"
          ]
        },
        {
          "data": {
            "text/plain": [
              "[]"
            ]
          },
          "execution_count": 47,
          "metadata": {},
          "output_type": "execute_result"
        }
      ],
      "source": [
        "find_outliers(df, 'height', '>150.0', data_id_name='scan_id')"
      ]
    },
    {
      "cell_type": "code",
      "execution_count": 48,
      "metadata": {
        "gather": {
          "logged": 1687415346784
        },
        "jupyter": {
          "outputs_hidden": false,
          "source_hidden": false
        },
        "nteract": {
          "transient": {
            "deleting": false
          }
        }
      },
      "outputs": [],
      "source": [
        "# now close the mount context\n",
        "mount_ctx.stop()"
      ]
    },
    {
      "cell_type": "code",
      "execution_count": null,
      "metadata": {
        "jupyter": {
          "outputs_hidden": false,
          "source_hidden": false
        },
        "nteract": {
          "transient": {
            "deleting": false
          }
        }
      },
      "outputs": [],
      "source": []
    }
  ],
  "metadata": {
    "kernel_info": {
      "name": "python310-sdkv2"
    },
    "kernelspec": {
      "display_name": "tf",
      "language": "python",
      "name": "python3"
    },
    "language_info": {
      "codemirror_mode": {
        "name": "ipython",
        "version": 3
      },
      "file_extension": ".py",
      "mimetype": "text/x-python",
      "name": "python",
      "nbconvert_exporter": "python",
      "pygments_lexer": "ipython3",
      "version": "3.9.13"
    },
    "microsoft": {
      "host": {
        "AzureML": {
          "notebookHasBeenCompleted": true
        }
      },
      "ms_spell_check": {
        "ms_spell_check_language": "en"
      }
    },
    "nteract": {
      "version": "nteract-front-end@1.0.0"
    }
  },
  "nbformat": 4,
  "nbformat_minor": 2
}
