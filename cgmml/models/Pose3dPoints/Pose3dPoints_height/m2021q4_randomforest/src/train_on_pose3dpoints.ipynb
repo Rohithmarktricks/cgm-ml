{
 "cells": [
  {
   "cell_type": "markdown",
   "metadata": {},
   "source": [
    "# Train mini-ML model on 3d pose points\n",
    "\n",
    "Train a random forest. \n",
    "\n",
    "Ideas:\n",
    "* add age as feature to CSV -> this could be used as a feature in training(but introduces bias)\n",
    "\n",
    "Learnings: \n",
    "* it helps to have 3D-components of bone vectors\n",
    "* it helps to only keep the important bones\n",
    "* confidence and validity do not help training a RF\n",
    "\n",
    "Future work:\n",
    "* Improve by median prediction of multiple artifacts\n",
    "* make more robust: small model = few params\n",
    "* XGboost\n",
    "* try simple linear regression, select best features\n",
    "* data augmentation"
   ]
  },
  {
   "cell_type": "markdown",
   "metadata": {},
   "source": [
    "## Setup"
   ]
  },
  {
   "cell_type": "code",
   "execution_count": 1,
   "metadata": {},
   "outputs": [],
   "source": [
    "# !pip install openmesh==1.1.6 threevis==0.1.0.post25"
   ]
  },
  {
   "cell_type": "code",
   "execution_count": 13,
   "metadata": {},
   "outputs": [],
   "source": [
    "%reload_ext autoreload\n",
    "%autoreload 2\n",
    "\n",
    "from joblib import dump, load\n",
    "import os\n",
    "import sys\n",
    "from pathlib import Path\n",
    "\n",
    "import numpy as np\n",
    "import pandas as pd\n",
    "from sklearn.ensemble import RandomForestRegressor\n",
    "from sklearn.model_selection import train_test_split\n",
    "from sklearn.metrics import mean_absolute_error\n",
    "import tensorflow as tf\n",
    "from tensorflow.keras import layers, models\n",
    "import matplotlib.pyplot as plt\n",
    "plt.style.use('ggplot')\n",
    "%matplotlib inline\n",
    "\n",
    "REPO_DIR = Path(os.getcwd()).parents[5]\n",
    "sys.path.append(str(REPO_DIR))\n",
    "\n",
    "from constants import SKELETON_CGM\n",
    "from train_util import get_artifact_id_from_path, get_features_from_fpath, plot_history, get_path_from_artifact_id, prepare_df, get_joints_from_fpath\n",
    "from qa_config_pose3dpoints import RESULT_CONFIG, DATA_CONFIG\n",
    "from config_train import CONFIG_TRAIN\n",
    "\n",
    "from cgmml.common.evaluation.eval_utils import calculate_performance, calculate_performance_mae_artifact\n",
    "from cgmml.common.evaluation.eval_utilities import calculate_and_save_results\n",
    "from cgmml.common.evaluation.CV.evaluation import MINIMUM_CHILD_HEIGHT_IN_CM, MAXIMUM_CHILD_HEIGHT_IN_CM"
   ]
  },
  {
   "cell_type": "code",
   "execution_count": 14,
   "metadata": {},
   "outputs": [],
   "source": [
    "DATA_DIR = REPO_DIR / 'data'\n",
    "DATASET_DIR = REPO_DIR / 'data/datasets/anon-pose3dpoints-23k-v3'; DATASET_DIR  # anon-pose3dpoints-27k-v2\n",
    "NUM_ARTIFACTS_TO_SHOW = 3\n",
    "\n",
    "INTERESTING_COLUMNS = ['height', 'weight', 'muac', 'scantype', 'abs_error']\n",
    "\n",
    "# Eval\n",
    "USE_FILTER_LOW_QUALITY_ARTIFACT = True"
   ]
  },
  {
   "cell_type": "code",
   "execution_count": 15,
   "metadata": {},
   "outputs": [],
   "source": [
    "# import warnings\n",
    "# warnings.filterwarnings('ignore')"
   ]
  },
  {
   "cell_type": "markdown",
   "metadata": {},
   "source": [
    "## Create dataset split"
   ]
  },
  {
   "cell_type": "code",
   "execution_count": 16,
   "metadata": {},
   "outputs": [],
   "source": [
    "SHOULD_CREATE_DATASET_SPLIT = False\n",
    "if SHOULD_CREATE_DATASET_SPLIT:\n",
    "    df = pd.read_csv(DATASET_DIR / 'metadata.csv')\n",
    "\n",
    "    # Split\n",
    "    scan_id_series = df.scan_id.unique()\n",
    "    train_set_tmp, test_set = train_test_split(scan_id_series, test_size=0.1, random_state=1)\n",
    "    train_set, val_set = train_test_split(train_set_tmp, test_size=0.1, random_state=1)\n",
    "\n",
    "    print('Unique scan_ids:', scan_id_series.shape)\n",
    "    print('Unique Train/val/test scans:', train_set.shape, val_set.shape, test_set.shape)\n",
    "\n",
    "    # Create new dataframe column and fill according to the split\n",
    "    df.loc[:, 'dset_split'] = np.NaN\n",
    "    df.loc[df.scan_id.isin(train_set), 'dset_split'] = 'train'\n",
    "    df.loc[df.scan_id.isin(val_set), 'dset_split'] = 'val'\n",
    "    df.loc[df.scan_id.isin(test_set), 'dset_split'] = 'test'\n",
    "\n",
    "    print('Train/val/test artifacts:', df[df['dset_split'] == 'train'].shape, df[df['dset_split'] == 'val'].shape, df[df['dset_split'] == 'test'].shape)\n",
    "    assert np.all(df['dset_split'].isin(['train', 'val', 'test']))\n",
    "\n",
    "    df.to_csv(DATASET_DIR / 'metadata_with_dset_split.csv')\n",
    "    del df"
   ]
  },
  {
   "cell_type": "code",
   "execution_count": 17,
   "metadata": {},
   "outputs": [],
   "source": [
    "df_ = pd.read_csv(DATASET_DIR / 'metadata_with_dset_split.csv')\n",
    "assert np.all(df_.dset_split.isin(['train', 'val', 'test']))\n",
    "df_.rename(columns={\"scan_type\": \"scantype\"}, inplace=True)\n",
    "df_ = df_.astype({'scantype': 'str'})\n",
    "artifact_ids_all = list(df_['artifact_id'])"
   ]
  },
  {
   "cell_type": "code",
   "execution_count": 18,
   "metadata": {},
   "outputs": [],
   "source": [
    "# Get artifacts obj file names from data dir\n",
    "obj_files_paths_ = list(sorted(DATASET_DIR.glob('*.obj')))\n",
    "obj_files_names_all = [get_artifact_id_from_path(path) for path in obj_files_paths_]"
   ]
  },
  {
   "cell_type": "code",
   "execution_count": 19,
   "metadata": {},
   "outputs": [
    {
     "data": {
      "text/plain": [
       "(27919, 23031, 23031)"
      ]
     },
     "execution_count": 19,
     "metadata": {},
     "output_type": "execute_result"
    }
   ],
   "source": [
    "# Show that the CSV has more files than we have artifacts\n",
    "x = set(artifact_ids_all)\n",
    "y = set(obj_files_names_all)\n",
    "z = x.intersection(y)\n",
    "len(x), len(y), len(z)"
   ]
  },
  {
   "cell_type": "code",
   "execution_count": 20,
   "metadata": {},
   "outputs": [
    {
     "data": {
      "text/plain": [
       "((23031, 13), 23031)"
      ]
     },
     "execution_count": 20,
     "metadata": {},
     "output_type": "execute_result"
    }
   ],
   "source": [
    "# Only keep the rows for which we have artifacts\n",
    "df_all = df_[df_.artifact_id.isin(obj_files_names_all)]\n",
    "\n",
    "# Sort dataframe by artifact_id\n",
    "df_all = df_all.set_index('artifact_id')\n",
    "df_all = df_all.sort_index()\n",
    "\n",
    "# Make sure that file names are in the same order as the dataframe\n",
    "assert np.all(obj_files_names_all == df_all.index)\n",
    "\n",
    "df_all.shape, len(obj_files_names_all)"
   ]
  },
  {
   "cell_type": "code",
   "execution_count": 21,
   "metadata": {},
   "outputs": [
    {
     "name": "stdout",
     "output_type": "stream",
     "text": [
      "(3069, 13) 3069\n"
     ]
    },
    {
     "data": {
      "text/html": [
       "<div>\n",
       "<style scoped>\n",
       "    .dataframe tbody tr th:only-of-type {\n",
       "        vertical-align: middle;\n",
       "    }\n",
       "\n",
       "    .dataframe tbody tr th {\n",
       "        vertical-align: top;\n",
       "    }\n",
       "\n",
       "    .dataframe thead th {\n",
       "        text-align: right;\n",
       "    }\n",
       "</style>\n",
       "<table border=\"1\" class=\"dataframe\">\n",
       "  <thead>\n",
       "    <tr style=\"text-align: right;\">\n",
       "      <th></th>\n",
       "      <th>Unnamed: 0</th>\n",
       "      <th>scan_id</th>\n",
       "      <th>order</th>\n",
       "      <th>depthmap_path</th>\n",
       "      <th>rgb_path</th>\n",
       "      <th>height</th>\n",
       "      <th>weight</th>\n",
       "      <th>muac</th>\n",
       "      <th>scan_version</th>\n",
       "      <th>scantype</th>\n",
       "      <th>measurement_date</th>\n",
       "      <th>scan_date</th>\n",
       "      <th>dset_split</th>\n",
       "    </tr>\n",
       "    <tr>\n",
       "      <th>artifact_id</th>\n",
       "      <th></th>\n",
       "      <th></th>\n",
       "      <th></th>\n",
       "      <th></th>\n",
       "      <th></th>\n",
       "      <th></th>\n",
       "      <th></th>\n",
       "      <th></th>\n",
       "      <th></th>\n",
       "      <th></th>\n",
       "      <th></th>\n",
       "      <th></th>\n",
       "      <th></th>\n",
       "    </tr>\n",
       "  </thead>\n",
       "  <tbody>\n",
       "    <tr>\n",
       "      <th>0816b862-8e1b-11eb-941c-dbaed44346b6</th>\n",
       "      <td>262</td>\n",
       "      <td>0816b860-8e1b-11eb-941c-ab8a1eff68ab</td>\n",
       "      <td>1.0</td>\n",
       "      <td>1616726354112/3428cc7a-002f-45ee-82f8-c4618ce8...</td>\n",
       "      <td>1616726346829/27fd9dca-694c-4593-b464-bb767f30...</td>\n",
       "      <td>66.6</td>\n",
       "      <td>6.75</td>\n",
       "      <td>12.8</td>\n",
       "      <td>v0.9</td>\n",
       "      <td>200</td>\n",
       "      <td>2021-03-25 11:22:08</td>\n",
       "      <td>2021-03-25 09:13:59</td>\n",
       "      <td>train</td>\n",
       "    </tr>\n",
       "    <tr>\n",
       "      <th>08183f00-8e1b-11eb-941c-cf2a8c1b927f</th>\n",
       "      <td>263</td>\n",
       "      <td>0816b860-8e1b-11eb-941c-ab8a1eff68ab</td>\n",
       "      <td>2.0</td>\n",
       "      <td>1616726354229/a1a926f5-a9eb-40d2-ab11-60e2fb7a...</td>\n",
       "      <td>1616726354149/39af2c90-d6d6-4bab-bcf8-33320a2c...</td>\n",
       "      <td>66.6</td>\n",
       "      <td>6.75</td>\n",
       "      <td>12.8</td>\n",
       "      <td>v0.9</td>\n",
       "      <td>200</td>\n",
       "      <td>2021-03-25 11:22:08</td>\n",
       "      <td>2021-03-25 09:13:59</td>\n",
       "      <td>train</td>\n",
       "    </tr>\n",
       "    <tr>\n",
       "      <th>08183f02-8e1b-11eb-941c-9b7184a99229</th>\n",
       "      <td>255</td>\n",
       "      <td>0816b860-8e1b-11eb-941c-ab8a1eff68ab</td>\n",
       "      <td>3.0</td>\n",
       "      <td>1616726354264/8a3d2cec-b395-4c44-a29e-323164e2...</td>\n",
       "      <td>1616726354194/ee2cf646-503a-4137-bc45-d9db5e4c...</td>\n",
       "      <td>66.6</td>\n",
       "      <td>6.75</td>\n",
       "      <td>12.8</td>\n",
       "      <td>v0.9</td>\n",
       "      <td>200</td>\n",
       "      <td>2021-03-25 11:22:08</td>\n",
       "      <td>2021-03-25 09:13:59</td>\n",
       "      <td>train</td>\n",
       "    </tr>\n",
       "    <tr>\n",
       "      <th>08183f04-8e1b-11eb-941c-a3304ecd1294</th>\n",
       "      <td>256</td>\n",
       "      <td>0816b860-8e1b-11eb-941c-ab8a1eff68ab</td>\n",
       "      <td>4.0</td>\n",
       "      <td>1616726360883/c1dd0daa-f682-4129-a11a-50735d20...</td>\n",
       "      <td>1616726361201/126b2218-34cb-4c80-97bc-c68ece9b...</td>\n",
       "      <td>66.6</td>\n",
       "      <td>6.75</td>\n",
       "      <td>12.8</td>\n",
       "      <td>v0.9</td>\n",
       "      <td>200</td>\n",
       "      <td>2021-03-25 11:22:08</td>\n",
       "      <td>2021-03-25 09:13:59</td>\n",
       "      <td>train</td>\n",
       "    </tr>\n",
       "    <tr>\n",
       "      <th>08183f06-8e1b-11eb-941c-6b69cb6bd4f4</th>\n",
       "      <td>257</td>\n",
       "      <td>0816b860-8e1b-11eb-941c-ab8a1eff68ab</td>\n",
       "      <td>5.0</td>\n",
       "      <td>1616726364111/587634dc-69d5-425b-9b1f-91c2ac1e...</td>\n",
       "      <td>1616726364587/5ccdb1e7-2c09-4c5e-80f4-aa5779dd...</td>\n",
       "      <td>66.6</td>\n",
       "      <td>6.75</td>\n",
       "      <td>12.8</td>\n",
       "      <td>v0.9</td>\n",
       "      <td>200</td>\n",
       "      <td>2021-03-25 11:22:08</td>\n",
       "      <td>2021-03-25 09:13:59</td>\n",
       "      <td>train</td>\n",
       "    </tr>\n",
       "  </tbody>\n",
       "</table>\n",
       "</div>"
      ],
      "text/plain": [
       "                                      Unnamed: 0  \\\n",
       "artifact_id                                        \n",
       "0816b862-8e1b-11eb-941c-dbaed44346b6         262   \n",
       "08183f00-8e1b-11eb-941c-cf2a8c1b927f         263   \n",
       "08183f02-8e1b-11eb-941c-9b7184a99229         255   \n",
       "08183f04-8e1b-11eb-941c-a3304ecd1294         256   \n",
       "08183f06-8e1b-11eb-941c-6b69cb6bd4f4         257   \n",
       "\n",
       "                                                                   scan_id  \\\n",
       "artifact_id                                                                  \n",
       "0816b862-8e1b-11eb-941c-dbaed44346b6  0816b860-8e1b-11eb-941c-ab8a1eff68ab   \n",
       "08183f00-8e1b-11eb-941c-cf2a8c1b927f  0816b860-8e1b-11eb-941c-ab8a1eff68ab   \n",
       "08183f02-8e1b-11eb-941c-9b7184a99229  0816b860-8e1b-11eb-941c-ab8a1eff68ab   \n",
       "08183f04-8e1b-11eb-941c-a3304ecd1294  0816b860-8e1b-11eb-941c-ab8a1eff68ab   \n",
       "08183f06-8e1b-11eb-941c-6b69cb6bd4f4  0816b860-8e1b-11eb-941c-ab8a1eff68ab   \n",
       "\n",
       "                                      order  \\\n",
       "artifact_id                                   \n",
       "0816b862-8e1b-11eb-941c-dbaed44346b6    1.0   \n",
       "08183f00-8e1b-11eb-941c-cf2a8c1b927f    2.0   \n",
       "08183f02-8e1b-11eb-941c-9b7184a99229    3.0   \n",
       "08183f04-8e1b-11eb-941c-a3304ecd1294    4.0   \n",
       "08183f06-8e1b-11eb-941c-6b69cb6bd4f4    5.0   \n",
       "\n",
       "                                                                          depthmap_path  \\\n",
       "artifact_id                                                                               \n",
       "0816b862-8e1b-11eb-941c-dbaed44346b6  1616726354112/3428cc7a-002f-45ee-82f8-c4618ce8...   \n",
       "08183f00-8e1b-11eb-941c-cf2a8c1b927f  1616726354229/a1a926f5-a9eb-40d2-ab11-60e2fb7a...   \n",
       "08183f02-8e1b-11eb-941c-9b7184a99229  1616726354264/8a3d2cec-b395-4c44-a29e-323164e2...   \n",
       "08183f04-8e1b-11eb-941c-a3304ecd1294  1616726360883/c1dd0daa-f682-4129-a11a-50735d20...   \n",
       "08183f06-8e1b-11eb-941c-6b69cb6bd4f4  1616726364111/587634dc-69d5-425b-9b1f-91c2ac1e...   \n",
       "\n",
       "                                                                               rgb_path  \\\n",
       "artifact_id                                                                               \n",
       "0816b862-8e1b-11eb-941c-dbaed44346b6  1616726346829/27fd9dca-694c-4593-b464-bb767f30...   \n",
       "08183f00-8e1b-11eb-941c-cf2a8c1b927f  1616726354149/39af2c90-d6d6-4bab-bcf8-33320a2c...   \n",
       "08183f02-8e1b-11eb-941c-9b7184a99229  1616726354194/ee2cf646-503a-4137-bc45-d9db5e4c...   \n",
       "08183f04-8e1b-11eb-941c-a3304ecd1294  1616726361201/126b2218-34cb-4c80-97bc-c68ece9b...   \n",
       "08183f06-8e1b-11eb-941c-6b69cb6bd4f4  1616726364587/5ccdb1e7-2c09-4c5e-80f4-aa5779dd...   \n",
       "\n",
       "                                      height  weight  muac scan_version  \\\n",
       "artifact_id                                                               \n",
       "0816b862-8e1b-11eb-941c-dbaed44346b6    66.6    6.75  12.8         v0.9   \n",
       "08183f00-8e1b-11eb-941c-cf2a8c1b927f    66.6    6.75  12.8         v0.9   \n",
       "08183f02-8e1b-11eb-941c-9b7184a99229    66.6    6.75  12.8         v0.9   \n",
       "08183f04-8e1b-11eb-941c-a3304ecd1294    66.6    6.75  12.8         v0.9   \n",
       "08183f06-8e1b-11eb-941c-6b69cb6bd4f4    66.6    6.75  12.8         v0.9   \n",
       "\n",
       "                                     scantype     measurement_date  \\\n",
       "artifact_id                                                          \n",
       "0816b862-8e1b-11eb-941c-dbaed44346b6      200  2021-03-25 11:22:08   \n",
       "08183f00-8e1b-11eb-941c-cf2a8c1b927f      200  2021-03-25 11:22:08   \n",
       "08183f02-8e1b-11eb-941c-9b7184a99229      200  2021-03-25 11:22:08   \n",
       "08183f04-8e1b-11eb-941c-a3304ecd1294      200  2021-03-25 11:22:08   \n",
       "08183f06-8e1b-11eb-941c-6b69cb6bd4f4      200  2021-03-25 11:22:08   \n",
       "\n",
       "                                                scan_date dset_split  \n",
       "artifact_id                                                           \n",
       "0816b862-8e1b-11eb-941c-dbaed44346b6  2021-03-25 09:13:59      train  \n",
       "08183f00-8e1b-11eb-941c-cf2a8c1b927f  2021-03-25 09:13:59      train  \n",
       "08183f02-8e1b-11eb-941c-9b7184a99229  2021-03-25 09:13:59      train  \n",
       "08183f04-8e1b-11eb-941c-a3304ecd1294  2021-03-25 09:13:59      train  \n",
       "08183f06-8e1b-11eb-941c-6b69cb6bd4f4  2021-03-25 09:13:59      train  "
      ]
     },
     "execution_count": 21,
     "metadata": {},
     "output_type": "execute_result"
    }
   ],
   "source": [
    "# Filter by scan type\n",
    "df = df_all[df_all.scantype.isin(CONFIG_TRAIN.SCAN_TYPES_TO_USE)]\n",
    "artifact_ids = list(df.index)\n",
    "\n",
    "obj_files_names = [name for name in obj_files_names_all if name in artifact_ids]\n",
    "obj_files_paths = [get_path_from_artifact_id(name, DATASET_DIR) for name in obj_files_names]\n",
    "\n",
    "print(df.shape, len(obj_files_paths))\n",
    "df.head()"
   ]
  },
  {
   "cell_type": "code",
   "execution_count": 22,
   "metadata": {},
   "outputs": [],
   "source": [
    "# Make sure that file names are in the same order as the dataframe\n",
    "assert np.all(obj_files_names == df.index)\n",
    "\n",
    "# df and obj_files_names are now prepared!"
   ]
  },
  {
   "cell_type": "markdown",
   "metadata": {},
   "source": [
    "## Feature engineering"
   ]
  },
  {
   "cell_type": "code",
   "execution_count": 23,
   "metadata": {},
   "outputs": [
    {
     "name": "stdout",
     "output_type": "stream",
     "text": [
      "3069\n",
      "46\n"
     ]
    }
   ],
   "source": [
    "# Create columns by looking at first child's features\n",
    "obj_file_path = obj_files_paths[0]\n",
    "child_features = get_features_from_fpath(obj_file_path, config_train=CONFIG_TRAIN)\n",
    "\n",
    "num_samples = len(obj_files_paths); print(num_samples)\n",
    "num_features = len(child_features); print(num_features)"
   ]
  },
  {
   "cell_type": "code",
   "execution_count": 24,
   "metadata": {},
   "outputs": [],
   "source": [
    "# Check features of 1 child\n",
    "# child_features"
   ]
  },
  {
   "cell_type": "code",
   "execution_count": 25,
   "metadata": {},
   "outputs": [
    {
     "data": {
      "text/plain": [
       "(3069, 46)"
      ]
     },
     "execution_count": 25,
     "metadata": {},
     "output_type": "execute_result"
    }
   ],
   "source": [
    "features_array = np.empty([num_samples, num_features])\n",
    "features_array[:] = np.NaN\n",
    "\n",
    "for artifact_index, obj_file_path in enumerate(obj_files_paths):\n",
    "    child_features = get_features_from_fpath(obj_file_path, config_train=CONFIG_TRAIN)\n",
    "    assert len(child_features) == 46\n",
    "    values = np.array(list(child_features.values()))\n",
    "    assert np.all(~np.isnan(values)), child_features\n",
    "    features_array[artifact_index] = np.array(list(child_features.values()))\n",
    "assert np.all(~np.isnan(features_array)), \"Not all features were calculated\"\n",
    "features_array.shape"
   ]
  },
  {
   "cell_type": "code",
   "execution_count": 26,
   "metadata": {},
   "outputs": [
    {
     "name": "stdout",
     "output_type": "stream",
     "text": [
      "(2597, 46) (2597,)\n",
      "(211, 46) (211,)\n",
      "(261, 46) (261,)\n"
     ]
    }
   ],
   "source": [
    "# Split train, eval, test set according to df\n",
    "\n",
    "X = features_array\n",
    "\n",
    "# We can assume that X and df are in the same order\n",
    "\n",
    "df_train = df[df['dset_split'] == 'train']\n",
    "df_val = df[df['dset_split'] == 'val']\n",
    "df_test = df[df['dset_split'] == 'test']\n",
    "\n",
    "y_train = df_train.height\n",
    "y_val = df_val.height\n",
    "y_test = df_test.height\n",
    "\n",
    "X_train = X[np.where(df['dset_split'] == 'train')]\n",
    "X_val = X[np.where(df['dset_split'] == 'val')]\n",
    "X_test = X[np.where(df['dset_split'] == 'test')]\n",
    "# df_train.shape, X_train.shape\n",
    "\n",
    "print(X_train.shape, y_train.shape)\n",
    "print(X_val.shape, y_val.shape)\n",
    "print(X_test.shape, y_test.shape)"
   ]
  },
  {
   "cell_type": "code",
   "execution_count": 27,
   "metadata": {},
   "outputs": [
    {
     "data": {
      "text/plain": [
       "(16,)"
      ]
     },
     "execution_count": 27,
     "metadata": {},
     "output_type": "execute_result"
    }
   ],
   "source": [
    "df_val.scan_id.unique().shape"
   ]
  },
  {
   "cell_type": "markdown",
   "metadata": {},
   "source": [
    "## Mean Baseline"
   ]
  },
  {
   "cell_type": "code",
   "execution_count": 28,
   "metadata": {},
   "outputs": [
    {
     "data": {
      "text/plain": [
       "7.344897248345525"
      ]
     },
     "execution_count": 28,
     "metadata": {},
     "output_type": "execute_result"
    }
   ],
   "source": [
    "# Mean baseline\n",
    "y_true = y_test\n",
    "height_mean = df.height.mean()\n",
    "y_pred = [height_mean for _ in range(X_test.shape[0])]\n",
    "mean_absolute_error(y_true, y_pred)"
   ]
  },
  {
   "cell_type": "markdown",
   "metadata": {},
   "source": [
    "## Random Forest"
   ]
  },
  {
   "cell_type": "code",
   "execution_count": 29,
   "metadata": {},
   "outputs": [],
   "source": [
    "regr = RandomForestRegressor(n_estimators=100, max_depth=20, random_state=0)\n",
    "regr.fit(X_train, y_train);"
   ]
  },
  {
   "cell_type": "code",
   "execution_count": 30,
   "metadata": {},
   "outputs": [
    {
     "data": {
      "text/plain": [
       "1.2416195323702288"
      ]
     },
     "execution_count": 30,
     "metadata": {},
     "output_type": "execute_result"
    }
   ],
   "source": [
    "# Evaluate\n",
    "y_true = df_val.height\n",
    "y_pred = regr.predict(X_val)\n",
    "mean_absolute_error(y_true, y_pred)"
   ]
  },
  {
   "cell_type": "code",
   "execution_count": 31,
   "metadata": {},
   "outputs": [],
   "source": [
    "# Save model\n",
    "model_name = f'2021q4-points3d-rf-height-27k-{\"and\".join(CONFIG_TRAIN.SCAN_TYPES_TO_USE)}'\n",
    "MODEL_PATH = DATA_DIR / f'models/pose3dpointsModel/{model_name}.joblib'\n",
    "MODEL_PATH.parent.mkdir(parents=True, exist_ok=True)\n",
    "dump(regr, MODEL_PATH)\n",
    "regr = load(MODEL_PATH)"
   ]
  },
  {
   "cell_type": "code",
   "execution_count": 32,
   "metadata": {},
   "outputs": [
    {
     "name": "stdout",
     "output_type": "stream",
     "text": [
      "amount of all samples: 211\n",
      "amount of sane samples: 211\n",
      "mae (filtered): 1.24\n"
     ]
    }
   ],
   "source": [
    "# Check the predicted height is realistic\n",
    "\n",
    "if USE_FILTER_LOW_QUALITY_ARTIFACT:\n",
    "    y_pred = regr.predict(X_val)\n",
    "    print('amount of all samples:', y_pred.shape[0])\n",
    "    indexes = np.where((MINIMUM_CHILD_HEIGHT_IN_CM < y_pred) & (y_pred < MAXIMUM_CHILD_HEIGHT_IN_CM))[0]\n",
    "    print('amount of sane samples:', indexes.shape[0])\n",
    "    \n",
    "    y_pred_ = y_pred[indexes]\n",
    "    y_true_ = df_val.height.iloc[indexes]\n",
    "    \n",
    "    mae = mean_absolute_error(y_true_, y_pred_)\n",
    "    print(f'mae (filtered): {mae:.2f}')"
   ]
  },
  {
   "cell_type": "code",
   "execution_count": 33,
   "metadata": {},
   "outputs": [
    {
     "name": "stdout",
     "output_type": "stream",
     "text": [
      "200: 1.00\n",
      "201: 1.49\n"
     ]
    }
   ],
   "source": [
    "# Evaluate per scan step\n",
    "for scantype in DATA_CONFIG.CODES:\n",
    "    indexes = np.where(df_val.scantype == scantype)[0]\n",
    "    y_true_ = df_val.iloc[indexes].height\n",
    "    if not X_val[indexes].any():\n",
    "        continue\n",
    "    y_pred_ = regr.predict(X_val[indexes])\n",
    "    mae = mean_absolute_error(y_true_, y_pred_)\n",
    "    print(f'{scantype}: {mae:.2f}')\n",
    "    "
   ]
  },
  {
   "cell_type": "code",
   "execution_count": 34,
   "metadata": {},
   "outputs": [
    {
     "name": "stderr",
     "output_type": "stream",
     "text": [
      "/Users/markus/Development/cgm/cgm-ml/.venv/lib/python3.7/site-packages/pandas/core/indexing.py:376: SettingWithCopyWarning: \n",
      "A value is trying to be set on a copy of a slice from a DataFrame.\n",
      "Try using .loc[row_indexer,col_indexer] = value instead\n",
      "\n",
      "See the caveats in the documentation: http://pandas.pydata.org/pandas-docs/stable/user_guide/indexing.html#returning-a-view-versus-a-copy\n",
      "  self.obj[key] = _infer_fill_value(value)\n",
      "/Users/markus/Development/cgm/cgm-ml/.venv/lib/python3.7/site-packages/pandas/core/indexing.py:494: SettingWithCopyWarning: \n",
      "A value is trying to be set on a copy of a slice from a DataFrame.\n",
      "Try using .loc[row_indexer,col_indexer] = value instead\n",
      "\n",
      "See the caveats in the documentation: http://pandas.pydata.org/pandas-docs/stable/user_guide/indexing.html#returning-a-view-versus-a-copy\n",
      "  self.obj[item] = s\n"
     ]
    }
   ],
   "source": [
    "df_val.loc[:, 'GT'] = df_val['height']\n",
    "df_val.loc[:, 'predicted'] = y_pred\n",
    "df_val.loc[:, 'error'] = df_val['GT'] - df_val['predicted']\n",
    "\n",
    "csv_fpath = REPO_DIR / 'data/outputs/pose3dpointmodel/test_mae_artifact_level_pose3dpointmodel.csv'\n",
    "calculate_and_save_results(df_val.copy(), 'pose3dpointmodel', csv_fpath,\n",
    "                           DATA_CONFIG, RESULT_CONFIG, fct=calculate_performance_mae_artifact)"
   ]
  },
  {
   "cell_type": "code",
   "execution_count": 35,
   "metadata": {},
   "outputs": [],
   "source": [
    "df_val_grouped = prepare_df(df_val.copy())\n",
    "csv_out_fpath = REPO_DIR / 'data/outputs/pose3dpointmodel/pose3dpointmodel.csv'\n",
    "calculate_and_save_results(df_val_grouped, 'pose3dpointmodel', csv_out_fpath, DATA_CONFIG, RESULT_CONFIG, fct=calculate_performance)"
   ]
  },
  {
   "cell_type": "code",
   "execution_count": 36,
   "metadata": {},
   "outputs": [],
   "source": [
    "df_val.loc[:, 'abs_error'] = np.abs(df_val['error'])"
   ]
  },
  {
   "cell_type": "code",
   "execution_count": 37,
   "metadata": {},
   "outputs": [
    {
     "data": {
      "text/plain": [
       "(-3.0, 3.0)"
      ]
     },
     "execution_count": 37,
     "metadata": {},
     "output_type": "execute_result"
    },
    {
     "data": {
      "image/png": "[encoded data removed]",
      "text/plain": [
       "<Figure size 432x288 with 1 Axes>"
      ]
     },
     "metadata": {
      "needs_background": "light"
     },
     "output_type": "display_data"
    }
   ],
   "source": [
    "df_val['error'].hist(bins=20);\n",
    "plt.ylabel('Frequency'); plt.xlabel('Error'); plt.title('Histogram of errors');\n",
    "plt.xlim(-3, 3)"
   ]
  },
  {
   "cell_type": "code",
   "execution_count": 38,
   "metadata": {},
   "outputs": [
    {
     "data": {
      "image/png": "[encoded data removed]",
      "text/plain": [
       "<Figure size 432x288 with 1 Axes>"
      ]
     },
     "metadata": {
      "needs_background": "light"
     },
     "output_type": "display_data"
    }
   ],
   "source": [
    "df_val['abs_error'].hist();\n",
    "plt.ylabel('Frequency'); plt.xlabel('Error'); plt.title('Histogram of abs_errors');"
   ]
  },
  {
   "cell_type": "code",
   "execution_count": 39,
   "metadata": {},
   "outputs": [],
   "source": [
    "# Sort by error\n",
    "df_errors = df_val.sort_values('abs_error', ascending=False)"
   ]
  },
  {
   "cell_type": "code",
   "execution_count": 39,
   "metadata": {},
   "outputs": [],
   "source": [
    "# Show some results\n",
    "# for i in range(20):\n",
    "#     pred = regr.predict([X_test[i]])\n",
    "#     print(pred[0], 'actual:', y_test[i])"
   ]
  },
  {
   "cell_type": "markdown",
   "metadata": {
    "jp-MarkdownHeadingCollapsed": true,
    "tags": []
   },
   "source": [
    "## Neural Network"
   ]
  },
  {
   "cell_type": "code",
   "execution_count": 112,
   "metadata": {},
   "outputs": [
    {
     "name": "stderr",
     "output_type": "stream",
     "text": [
      "2021-10-25 10:20:53.788130: I tensorflow/compiler/jit/xla_cpu_device.cc:41] Not creating XLA devices, tf_xla_enable_xla_devices not set\n",
      "2021-10-25 10:20:53.794177: I tensorflow/core/platform/cpu_feature_guard.cc:142] This TensorFlow binary is optimized with oneAPI Deep Neural Network Library (oneDNN) to use the following CPU instructions in performance-critical operations:  AVX2 FMA\n",
      "To enable them in other operations, rebuild TensorFlow with the appropriate compiler flags.\n"
     ]
    }
   ],
   "source": [
    "dataset_train = tf.data.Dataset.from_tensor_slices((X_train, y_train))\n",
    "dataset_validation = tf.data.Dataset.from_tensor_slices((X_val, y_val))"
   ]
  },
  {
   "cell_type": "code",
   "execution_count": 113,
   "metadata": {},
   "outputs": [
    {
     "name": "stdout",
     "output_type": "stream",
     "text": [
      "Epoch 1/60\n"
     ]
    },
    {
     "name": "stderr",
     "output_type": "stream",
     "text": [
      "2021-10-25 10:20:55.548390: I tensorflow/compiler/mlir/mlir_graph_optimization_pass.cc:116] None of the MLIR optimization passes are enabled (registered 2)\n"
     ]
    },
    {
     "name": "stdout",
     "output_type": "stream",
     "text": [
      "801/801 - 2s - loss: 9710.9111 - mae: 15.6771 - val_loss: 303.6802 - val_mae: 16.6023\n"
     ]
    },
    {
     "name": "stderr",
     "output_type": "stream",
     "text": [
      "2021-10-25 10:20:57.007817: W tensorflow/python/util/util.cc:348] Sets are not currently considered sequences, but this may change in the future, so consider avoiding using them.\n"
     ]
    },
    {
     "name": "stdout",
     "output_type": "stream",
     "text": [
      "INFO:tensorflow:Assets written to: /Users/markus/Development/cgm/cgm-ml/data/models/pose3dpointsModel/outputs/best_model.ckpt/assets\n",
      "Epoch 2/60\n",
      "801/801 - 1s - loss: 138.6321 - mae: 5.5728 - val_loss: 189.7032 - val_mae: 12.8536\n",
      "INFO:tensorflow:Assets written to: /Users/markus/Development/cgm/cgm-ml/data/models/pose3dpointsModel/outputs/best_model.ckpt/assets\n",
      "Epoch 3/60\n",
      "801/801 - 1s - loss: 229.7914 - mae: 5.1681 - val_loss: 105.3646 - val_mae: 9.0168\n",
      "INFO:tensorflow:Assets written to: /Users/markus/Development/cgm/cgm-ml/data/models/pose3dpointsModel/outputs/best_model.ckpt/assets\n",
      "Epoch 4/60\n",
      "801/801 - 1s - loss: 359.1142 - mae: 4.9562 - val_loss: 73.8101 - val_mae: 7.2304\n",
      "INFO:tensorflow:Assets written to: /Users/markus/Development/cgm/cgm-ml/data/models/pose3dpointsModel/outputs/best_model.ckpt/assets\n",
      "Epoch 5/60\n",
      "801/801 - 2s - loss: 81.6698 - mae: 4.3352 - val_loss: 83.1051 - val_mae: 7.7708\n",
      "Epoch 6/60\n",
      "801/801 - 2s - loss: 46.9886 - mae: 4.0133 - val_loss: 68.3543 - val_mae: 6.8525\n",
      "INFO:tensorflow:Assets written to: /Users/markus/Development/cgm/cgm-ml/data/models/pose3dpointsModel/outputs/best_model.ckpt/assets\n",
      "Epoch 7/60\n",
      "801/801 - 1s - loss: 36.8791 - mae: 3.7497 - val_loss: 35.9579 - val_mae: 4.1236\n",
      "INFO:tensorflow:Assets written to: /Users/markus/Development/cgm/cgm-ml/data/models/pose3dpointsModel/outputs/best_model.ckpt/assets\n",
      "Epoch 8/60\n",
      "801/801 - 1s - loss: 38.8143 - mae: 3.5800 - val_loss: 66.4350 - val_mae: 6.8166\n",
      "Epoch 9/60\n",
      "801/801 - 1s - loss: 54.3531 - mae: 3.7111 - val_loss: 52.4813 - val_mae: 5.7520\n",
      "Epoch 10/60\n",
      "801/801 - 1s - loss: 34.5447 - mae: 3.4368 - val_loss: 46.3454 - val_mae: 5.4467\n",
      "Epoch 11/60\n",
      "801/801 - 1s - loss: 29.3410 - mae: 3.3095 - val_loss: 63.9425 - val_mae: 6.7395\n",
      "Epoch 12/60\n",
      "801/801 - 1s - loss: 82.9084 - mae: 3.6649 - val_loss: 46.0685 - val_mae: 5.3356\n",
      "Epoch 13/60\n",
      "801/801 - 1s - loss: 41.1639 - mae: 3.2971 - val_loss: 53.1038 - val_mae: 5.8749\n",
      "Epoch 14/60\n",
      "801/801 - 1s - loss: 26.6328 - mae: 3.1603 - val_loss: 55.2650 - val_mae: 6.1278\n",
      "Epoch 15/60\n",
      "801/801 - 1s - loss: 23.5854 - mae: 3.0829 - val_loss: 49.0661 - val_mae: 5.6209\n",
      "Epoch 16/60\n",
      "801/801 - 1s - loss: 23.2731 - mae: 2.9766 - val_loss: 73.2695 - val_mae: 7.4467\n",
      "Epoch 17/60\n",
      "801/801 - 1s - loss: 56.1377 - mae: 3.0668 - val_loss: 59.2054 - val_mae: 6.5391\n",
      "Epoch 18/60\n",
      "801/801 - 1s - loss: 24.5001 - mae: 2.9379 - val_loss: 78.0816 - val_mae: 7.7945\n",
      "Epoch 19/60\n",
      "801/801 - 1s - loss: 19.2529 - mae: 2.8165 - val_loss: 68.0985 - val_mae: 7.1502\n",
      "Epoch 20/60\n",
      "801/801 - 1s - loss: 22.8475 - mae: 2.7645 - val_loss: 94.1963 - val_mae: 8.8704\n",
      "Epoch 21/60\n",
      "801/801 - 1s - loss: 19.2782 - mae: 2.7230 - val_loss: 75.0820 - val_mae: 7.6777\n",
      "Epoch 22/60\n",
      "801/801 - 1s - loss: 18.5840 - mae: 2.6578 - val_loss: 67.9547 - val_mae: 7.0497\n",
      "Epoch 23/60\n",
      "801/801 - 1s - loss: 18.1792 - mae: 2.6655 - val_loss: 67.3824 - val_mae: 7.1899\n",
      "Epoch 24/60\n",
      "801/801 - 1s - loss: 31.9347 - mae: 2.6457 - val_loss: 61.2193 - val_mae: 6.7780\n",
      "Epoch 25/60\n",
      "801/801 - 1s - loss: 21.1365 - mae: 2.5541 - val_loss: 62.8230 - val_mae: 6.8987\n",
      "Epoch 26/60\n",
      "801/801 - 1s - loss: 17.1632 - mae: 2.5156 - val_loss: 53.5197 - val_mae: 6.3016\n",
      "Epoch 27/60\n",
      "801/801 - 1s - loss: 24.5855 - mae: 2.5137 - val_loss: 67.0784 - val_mae: 7.2697\n",
      "Epoch 28/60\n",
      "801/801 - 1s - loss: 17.9670 - mae: 2.4598 - val_loss: 67.5411 - val_mae: 7.3613\n",
      "Epoch 29/60\n",
      "801/801 - 1s - loss: 25.5020 - mae: 2.4538 - val_loss: 43.1388 - val_mae: 5.4826\n",
      "Epoch 30/60\n",
      "801/801 - 1s - loss: 18.2041 - mae: 2.3988 - val_loss: 46.2357 - val_mae: 5.7799\n",
      "Epoch 31/60\n",
      "801/801 - 1s - loss: 14.9722 - mae: 2.4015 - val_loss: 58.1676 - val_mae: 6.6109\n",
      "Epoch 32/60\n",
      "801/801 - 1s - loss: 13.8691 - mae: 2.3232 - val_loss: 39.2948 - val_mae: 5.2758\n",
      "Epoch 33/60\n",
      "801/801 - 1s - loss: 13.3228 - mae: 2.3277 - val_loss: 43.0056 - val_mae: 5.6070\n",
      "Epoch 34/60\n",
      "801/801 - 2s - loss: 16.3190 - mae: 2.3062 - val_loss: 47.2607 - val_mae: 5.9908\n",
      "Epoch 35/60\n",
      "801/801 - 2s - loss: 14.4271 - mae: 2.2867 - val_loss: 53.5753 - val_mae: 6.4606\n",
      "Epoch 36/60\n",
      "801/801 - 1s - loss: 15.9078 - mae: 2.3099 - val_loss: 47.1756 - val_mae: 5.9834\n",
      "Epoch 37/60\n",
      "801/801 - 1s - loss: 17.0104 - mae: 2.3027 - val_loss: 47.2650 - val_mae: 6.0028\n",
      "Epoch 38/60\n",
      "801/801 - 1s - loss: 15.1188 - mae: 2.2929 - val_loss: 50.2251 - val_mae: 6.2787\n",
      "Epoch 39/60\n",
      "801/801 - 1s - loss: 15.3236 - mae: 2.2593 - val_loss: 42.0140 - val_mae: 5.4667\n",
      "Epoch 40/60\n",
      "801/801 - 1s - loss: 21.1271 - mae: 2.2792 - val_loss: 61.7680 - val_mae: 7.1055\n",
      "Epoch 41/60\n",
      "801/801 - 1s - loss: 16.0998 - mae: 2.2419 - val_loss: 50.1856 - val_mae: 6.2285\n",
      "Epoch 42/60\n",
      "801/801 - 2s - loss: 15.5442 - mae: 2.2240 - val_loss: 49.5412 - val_mae: 6.3357\n",
      "Epoch 43/60\n",
      "801/801 - 1s - loss: 14.8094 - mae: 2.1900 - val_loss: 43.4038 - val_mae: 5.7146\n",
      "Epoch 44/60\n",
      "801/801 - 1s - loss: 17.4665 - mae: 2.2096 - val_loss: 37.1774 - val_mae: 5.2244\n",
      "Epoch 45/60\n",
      "801/801 - 1s - loss: 16.3527 - mae: 2.2313 - val_loss: 42.0484 - val_mae: 5.5454\n",
      "Epoch 46/60\n",
      "801/801 - 1s - loss: 12.6657 - mae: 2.1952 - val_loss: 42.9707 - val_mae: 5.5381\n",
      "Epoch 47/60\n",
      "801/801 - 1s - loss: 13.3190 - mae: 2.1853 - val_loss: 32.4435 - val_mae: 4.7255\n",
      "INFO:tensorflow:Assets written to: /Users/markus/Development/cgm/cgm-ml/data/models/pose3dpointsModel/outputs/best_model.ckpt/assets\n",
      "Epoch 48/60\n",
      "801/801 - 1s - loss: 11.1580 - mae: 2.1836 - val_loss: 36.9180 - val_mae: 5.1386\n",
      "Epoch 49/60\n",
      "801/801 - 1s - loss: 25.0862 - mae: 2.2499 - val_loss: 36.5384 - val_mae: 5.1829\n",
      "Epoch 50/60\n",
      "801/801 - 1s - loss: 10.3129 - mae: 2.1284 - val_loss: 35.8582 - val_mae: 5.1529\n",
      "Epoch 51/60\n",
      "801/801 - 1s - loss: 12.2205 - mae: 2.1327 - val_loss: 26.9624 - val_mae: 4.2266\n",
      "INFO:tensorflow:Assets written to: /Users/markus/Development/cgm/cgm-ml/data/models/pose3dpointsModel/outputs/best_model.ckpt/assets\n",
      "Epoch 52/60\n",
      "801/801 - 1s - loss: 10.8028 - mae: 2.1118 - val_loss: 34.1306 - val_mae: 5.0425\n",
      "Epoch 53/60\n",
      "801/801 - 1s - loss: 11.8112 - mae: 2.1377 - val_loss: 27.1987 - val_mae: 4.2255\n",
      "Epoch 54/60\n",
      "801/801 - 1s - loss: 11.7586 - mae: 2.0995 - val_loss: 24.0064 - val_mae: 3.8247\n",
      "INFO:tensorflow:Assets written to: /Users/markus/Development/cgm/cgm-ml/data/models/pose3dpointsModel/outputs/best_model.ckpt/assets\n",
      "Epoch 55/60\n",
      "801/801 - 1s - loss: 10.8246 - mae: 2.0663 - val_loss: 27.4527 - val_mae: 4.3452\n",
      "Epoch 56/60\n",
      "801/801 - 1s - loss: 10.8975 - mae: 2.0606 - val_loss: 37.1500 - val_mae: 5.3265\n",
      "Epoch 57/60\n",
      "801/801 - 1s - loss: 12.2624 - mae: 2.0530 - val_loss: 24.5133 - val_mae: 4.0616\n",
      "Epoch 58/60\n",
      "801/801 - 1s - loss: 10.6515 - mae: 2.0220 - val_loss: 27.0698 - val_mae: 4.4113\n",
      "Epoch 59/60\n",
      "801/801 - 1s - loss: 11.8571 - mae: 2.0361 - val_loss: 22.6682 - val_mae: 3.8192\n",
      "INFO:tensorflow:Assets written to: /Users/markus/Development/cgm/cgm-ml/data/models/pose3dpointsModel/outputs/best_model.ckpt/assets\n",
      "Epoch 60/60\n",
      "801/801 - 1s - loss: 10.0073 - mae: 2.0159 - val_loss: 30.5055 - val_mae: 4.5738\n",
      "161/161 [==============================] - 1s 3ms/step - loss: 21.5307 - mae: 3.8376\n",
      "14/14 [==============================] - 0s 2ms/step - loss: 22.6682 - mae: 3.8192\n",
      "mae: 3.8375678062438965, val_mae: 3.8191628456115723\n"
     ]
    }
   ],
   "source": [
    "# hyperparameters\n",
    "model = models.Sequential([\n",
    "    layers.Dense(256, activation=\"relu\"),\n",
    "    layers.Dense(256, activation=\"relu\"),\n",
    "    layers.Dense(128, activation=\"relu\"),\n",
    "    layers.Dense(32, activation=\"relu\"),\n",
    "    layers.Dense(1, activation=\"linear\")\n",
    "])\n",
    "LR = 0.003\n",
    "BATCH_SIZE = 16\n",
    "\n",
    "# Training code\n",
    "optimizer = tf.keras.optimizers.RMSprop(learning_rate=LR)\n",
    "model.compile(optimizer=optimizer, loss=\"mse\", metrics=[\"mae\"])\n",
    "\n",
    "# checkpoint\n",
    "MODEL_CKPT_FILENAME = \"best_model.ckpt\"\n",
    "best_model_path = str(DATA_DIR / f'models/pose3dpointsModel/outputs/{MODEL_CKPT_FILENAME}')\n",
    "checkpoint_callback = tf.keras.callbacks.ModelCheckpoint(\n",
    "    filepath=best_model_path,\n",
    "    monitor=\"val_loss\",\n",
    "    save_best_only=True,\n",
    "    verbose=-1\n",
    ")\n",
    "\n",
    "history = model.fit(\n",
    "    dataset_train.repeat(5).batch(BATCH_SIZE),\n",
    "    validation_data=dataset_validation.batch(BATCH_SIZE),\n",
    "    epochs=60,\n",
    "    verbose=2,\n",
    "    callbacks=[checkpoint_callback]\n",
    ")\n",
    "\n",
    "model = tf.keras.models.load_model(best_model_path)\n",
    "loss, mae = model.evaluate(dataset_train.batch(BATCH_SIZE))\n",
    "val_loss, val_mae = model.evaluate(dataset_validation.batch(BATCH_SIZE))\n",
    "print(f'mae: {mae}, val_mae: {val_mae}')"
   ]
  },
  {
   "cell_type": "code",
   "execution_count": 114,
   "metadata": {},
   "outputs": [
    {
     "data": {
      "text/plain": [
       "<tensorflow.python.keras.callbacks.History at 0x16e713ad0>"
      ]
     },
     "execution_count": 114,
     "metadata": {},
     "output_type": "execute_result"
    }
   ],
   "source": [
    "history"
   ]
  },
  {
   "cell_type": "code",
   "execution_count": 115,
   "metadata": {},
   "outputs": [
    {
     "data": {
      "image/png": "[encoded data removed]",
      "text/plain": [
       "<Figure size 432x288 with 1 Axes>"
      ]
     },
     "metadata": {
      "needs_background": "light"
     },
     "output_type": "display_data"
    },
    {
     "data": {
      "image/png": "[encoded data removed]",
      "text/plain": [
       "<Figure size 432x288 with 1 Axes>"
      ]
     },
     "metadata": {
      "needs_background": "light"
     },
     "output_type": "display_data"
    }
   ],
   "source": [
    "plot_history(history)"
   ]
  },
  {
   "cell_type": "markdown",
   "metadata": {},
   "source": [
    "## Visualize good and bad predictions \n",
    "\n",
    "Visualization in 3D using [threevis](https://gitlab.vci.rwth-aachen.de:9000/threevis/threevis)"
   ]
  },
  {
   "cell_type": "code",
   "execution_count": 40,
   "metadata": {},
   "outputs": [],
   "source": [
    "import threevis as tv\n",
    "import openmesh as om\n",
    "\n",
    "def draw_3d(mesh):\n",
    "    ctx = tv.Context(width=320, height=240)  # width=640, height=480)  # Create Context\n",
    "    vertices = mesh.points()  # Get vertices and faces from the mesh\n",
    "    ctx.draw_edges(vertices, SKELETON_CGM)\n",
    "    ctx.draw_vertices(vertices, point_size=4, colors='red')  # Draw a point for each vertex\n",
    "    ctx.display()"
   ]
  },
  {
   "cell_type": "code",
   "execution_count": 41,
   "metadata": {},
   "outputs": [
    {
     "name": "stderr",
     "output_type": "stream",
     "text": [
      "/Users/markus/Development/cgm/cgm-ml/.venv/lib/python3.7/site-packages/jupyter_client/session.py:716: UserWarning: Message serialization failed with:\n",
      "Out of range float values are not JSON compliant\n",
      "Supporting this message is deprecated in jupyter-client 7, please make sure your message is JSON-compliant\n",
      "  content = self.pack(content)\n"
     ]
    },
    {
     "data": {
      "application/vnd.jupyter.widget-view+json": {
       "model_id": "43529aa849bc40298af8faffc32fb50f",
       "version_major": 2,
       "version_minor": 0
      },
      "text/plain": [
       "Renderer(background='#dddddd', camera=PerspectiveCamera(aspect=1.3333333333333333, children=(DirectionalLight(…"
      ]
     },
     "metadata": {},
     "output_type": "display_data"
    }
   ],
   "source": [
    "# Show a sample visualization\n",
    "\n",
    "m = om.read_trimesh(str(obj_files_paths[13]))\n",
    "draw_3d(m)"
   ]
  },
  {
   "cell_type": "code",
   "execution_count": 42,
   "metadata": {},
   "outputs": [],
   "source": [
    "def draw_artifact(artifact_id):\n",
    "    obj_file_path = get_path_from_artifact_id(artifact_id, DATASET_DIR)\n",
    "    m = om.read_trimesh(str(obj_file_path))\n",
    "    draw_3d(m)\n",
    "\n",
    "    # print confidence values\n",
    "    joints = get_joints_from_fpath(obj_file_path)\n",
    "    confidences = [joint.confidence for joint in joints]\n",
    "    print('mean confidence:', np.mean(confidences), 'confidences:', confidences)"
   ]
  },
  {
   "cell_type": "code",
   "execution_count": 43,
   "metadata": {},
   "outputs": [
    {
     "name": "stdout",
     "output_type": "stream",
     "text": [
      "height        65.6\n",
      "weight         6.2\n",
      "muac          13.2\n",
      "scantype       201\n",
      "abs_error    6.389\n",
      "Name: 5cd39d24-8d7e-11eb-8070-eb9804262805, dtype: object\n"
     ]
    },
    {
     "data": {
      "application/vnd.jupyter.widget-view+json": {
       "model_id": "3de11b7aefb8422eb53e39e2d1226809",
       "version_major": 2,
       "version_minor": 0
      },
      "text/plain": [
       "Renderer(background='#dddddd', camera=PerspectiveCamera(aspect=1.3333333333333333, children=(DirectionalLight(…"
      ]
     },
     "metadata": {},
     "output_type": "display_data"
    },
    {
     "name": "stdout",
     "output_type": "stream",
     "text": [
      "mean confidence: 0.8707971134606529 confidences: [0.9496195912361145, 0.9883992075920105, 0.9486600756645203, 0.846113383769989, 0.9814605116844177, 0.9514914751052856, 0.9351633191108704, 0.9560878276824951, 0.9427306056022644, 0.8027063012123108, 0.8516762852668762, 0.7915952205657959, 0.799345850944519, 0.7765870690345764, 0.9196963310241699, 0.9747452735900879, 0.38747259974479675]\n",
      "height          65.6\n",
      "weight           6.2\n",
      "muac            13.2\n",
      "scantype         201\n",
      "abs_error    6.22767\n",
      "Name: 5cd21681-8d7e-11eb-8070-97ffd77677d9, dtype: object\n"
     ]
    },
    {
     "data": {
      "application/vnd.jupyter.widget-view+json": {
       "model_id": "c4633d98e30d4248bb76aa52adcf8725",
       "version_major": 2,
       "version_minor": 0
      },
      "text/plain": [
       "Renderer(background='#dddddd', camera=PerspectiveCamera(aspect=1.3333333333333333, children=(DirectionalLight(…"
      ]
     },
     "metadata": {},
     "output_type": "display_data"
    },
    {
     "name": "stdout",
     "output_type": "stream",
     "text": [
      "mean confidence: 0.9025913512005526 confidences: [0.9487193822860718, 0.9853890538215637, 0.9802499413490295, 0.9217121601104736, 0.9327092170715332, 0.9314011931419373, 0.9005709886550903, 0.9904966950416565, 0.9232797026634216, 0.9507977962493896, 0.9292566776275635, 0.9319279789924622, 0.9074966311454773, 0.8937076926231384, 0.8774420619010925, 0.6461656093597412, 0.692730188369751]\n",
      "height        65.6\n",
      "weight         6.2\n",
      "muac          13.2\n",
      "scantype       201\n",
      "abs_error    5.247\n",
      "Name: 5cd39d22-8d7e-11eb-8070-c7ca0b7cbe0c, dtype: object\n"
     ]
    },
    {
     "data": {
      "application/vnd.jupyter.widget-view+json": {
       "model_id": "0dbaf0394b714ae49f98607023b8bb7d",
       "version_major": 2,
       "version_minor": 0
      },
      "text/plain": [
       "Renderer(background='#dddddd', camera=PerspectiveCamera(aspect=1.3333333333333333, children=(DirectionalLight(…"
      ]
     },
     "metadata": {},
     "output_type": "display_data"
    },
    {
     "name": "stdout",
     "output_type": "stream",
     "text": [
      "mean confidence: 0.9022189063184402 confidences: [0.9672528505325317, 0.9841410517692566, 0.9768686890602112, 0.907110333442688, 0.9457719326019287, 0.9346726536750793, 0.9244446754455566, 0.9193437695503235, 0.9600549936294556, 0.9172250628471375, 0.8419860005378723, 0.8713352680206299, 0.8259167075157166, 0.8959978222846985, 0.9252196550369263, 0.914449155330658, 0.6259307861328125]\n"
     ]
    }
   ],
   "source": [
    "# Worst predictions\n",
    "for artifact_id, row in df_errors[INTERESTING_COLUMNS].head(NUM_ARTIFACTS_TO_SHOW).iterrows():\n",
    "    print(row)\n",
    "    draw_artifact(artifact_id)"
   ]
  },
  {
   "cell_type": "code",
   "execution_count": 44,
   "metadata": {},
   "outputs": [
    {
     "name": "stdout",
     "output_type": "stream",
     "text": [
      "height             77.2\n",
      "weight              8.1\n",
      "muac                 13\n",
      "scantype            201\n",
      "abs_error    0.00270387\n",
      "Name: c6945782-8e15-11eb-b846-df16fcd892e7, dtype: object\n"
     ]
    },
    {
     "data": {
      "application/vnd.jupyter.widget-view+json": {
       "model_id": "f7cff64da2504703b8f16b5015a0e227",
       "version_major": 2,
       "version_minor": 0
      },
      "text/plain": [
       "Renderer(background='#dddddd', camera=PerspectiveCamera(aspect=1.3333333333333333, children=(DirectionalLight(…"
      ]
     },
     "metadata": {},
     "output_type": "display_data"
    },
    {
     "name": "stdout",
     "output_type": "stream",
     "text": [
      "mean confidence: 0.9521945960381452 confidences: [0.9486386179924011, 0.9660835266113281, 0.9503285884857178, 0.961123526096344, 0.9505278468132019, 0.9332586526870728, 0.9326596856117249, 0.9753425717353821, 0.9503716826438904, 0.9748344421386719, 0.9435330033302307, 0.8953573703765869, 0.9223560094833374, 1.0061542987823486, 0.9828365445137024, 0.9248010516166687, 0.9691007137298584]\n",
      "height             77.2\n",
      "weight              8.1\n",
      "muac                 13\n",
      "scantype            200\n",
      "abs_error    0.00270387\n",
      "Name: ee7da083-8e15-11eb-b846-e7f3bf68c2c3, dtype: object\n"
     ]
    },
    {
     "data": {
      "application/vnd.jupyter.widget-view+json": {
       "model_id": "efd5258e2f08403f88c86cd0eac96442",
       "version_major": 2,
       "version_minor": 0
      },
      "text/plain": [
       "Renderer(background='#dddddd', camera=PerspectiveCamera(aspect=1.3333333333333333, children=(DirectionalLight(…"
      ]
     },
     "metadata": {},
     "output_type": "display_data"
    },
    {
     "name": "stdout",
     "output_type": "stream",
     "text": [
      "mean confidence: 0.9554788926068474 confidences: [0.9387661218643188, 0.9653109908103943, 1.0008316040039062, 0.9595987200737, 0.9536786675453186, 0.9415545463562012, 0.9592225551605225, 0.9482951760292053, 0.9443694353103638, 0.9756999611854553, 0.9545162916183472, 0.8955169320106506, 0.8814199566841125, 1.0270453691482544, 0.9836527705192566, 0.9208871722221375, 0.9927749037742615]\n",
      "height            77.2\n",
      "weight             8.1\n",
      "muac                13\n",
      "scantype           201\n",
      "abs_error    0.0021007\n",
      "Name: c6945780-8e15-11eb-b846-6f0fac607c8f, dtype: object\n"
     ]
    },
    {
     "data": {
      "application/vnd.jupyter.widget-view+json": {
       "model_id": "4c245564ccad4a1aabe0f82535c60b88",
       "version_major": 2,
       "version_minor": 0
      },
      "text/plain": [
       "Renderer(background='#dddddd', camera=PerspectiveCamera(aspect=1.3333333333333333, children=(DirectionalLight(…"
      ]
     },
     "metadata": {},
     "output_type": "display_data"
    },
    {
     "name": "stdout",
     "output_type": "stream",
     "text": [
      "mean confidence: 0.9514719002387103 confidences: [0.9761954545974731, 0.9723303914070129, 0.9665803909301758, 0.9545192122459412, 0.9854325652122498, 0.9345369935035706, 0.9405630826950073, 0.9701181054115295, 0.9520596265792847, 0.9434309005737305, 0.9633864760398865, 0.8769930601119995, 0.9328523874282837, 0.944925844669342, 0.9589463472366333, 0.9479107856750488, 0.9542406797409058]\n"
     ]
    }
   ],
   "source": [
    "# Best predictions\n",
    "for artifact_id, row in df_errors[INTERESTING_COLUMNS].tail(NUM_ARTIFACTS_TO_SHOW).iterrows():\n",
    "    print(row)\n",
    "    draw_artifact(artifact_id)\n"
   ]
  },
  {
   "cell_type": "code",
   "execution_count": null,
   "metadata": {},
   "outputs": [],
   "source": []
  }
 ],
 "metadata": {
  "file_extension": ".py",
  "interpreter": {
   "hash": "8f69594cb69284318aee50561bbde377af68d14e3ea850a843e5c8a7eaedf75f"
  },
  "kernel_info": {
   "name": "python3"
  },
  "kernelspec": {
   "display_name": "Python 3.7.12 64-bit ('.venv': venv)",
   "name": "python3"
  },
  "language_info": {
   "codemirror_mode": {
    "name": "ipython",
    "version": 3
   },
   "file_extension": ".py",
   "mimetype": "text/x-python",
   "name": "python",
   "nbconvert_exporter": "python",
   "pygments_lexer": "ipython3",
   "version": "3.7.12"
  },
  "mimetype": "text/x-python",
  "name": "python",
  "npconvert_exporter": "python",
  "nteract": {
   "version": "nteract-front-end@1.0.0"
  },
  "pygments_lexer": "ipython3",
  "version": 3
 },
 "nbformat": 4,
 "nbformat_minor": 4
}
