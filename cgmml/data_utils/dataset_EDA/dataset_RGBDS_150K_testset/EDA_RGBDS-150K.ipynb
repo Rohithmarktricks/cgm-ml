{
  "cells": [
    {
      "cell_type": "code",
      "execution_count": 1,
      "metadata": {
        "gather": {
          "logged": 1689257477876
        }
      },
      "outputs": [],
      "source": [
        "%reload_ext autoreload\n",
        "%autoreload 2\n",
        "%matplotlib inline\n",
        "\n",
        "import os\n",
        "import shutil\n",
        "import pandas as pd\n",
        "from pathlib import Path\n",
        "import numpy as np\n",
        "import sys\n",
        "import matplotlib.pyplot as plt\n",
        "import pickle\n",
        "from tqdm import tqdm\n",
        "\n",
        "sys.path.append(str(Path(os.getcwd()).parent))\n",
        "from data_utilities import (\n",
        "    find_outliers, convert_age_from_days_to_years, draw_age_distribution, calculate_code_age_distribution)"
      ]
    },
    {
      "cell_type": "code",
      "execution_count": 2,
      "metadata": {
        "gather": {
          "logged": 1689257496009
        },
        "jupyter": {
          "outputs_hidden": false,
          "source_hidden": false
        },
        "nteract": {
          "transient": {
            "deleting": false
          }
        }
      },
      "outputs": [],
      "source": [
        "# pd.set_option('display.max_rows', None)\n",
        "pd.set_option('display.max_columns', None)"
      ]
    },
    {
      "cell_type": "code",
      "execution_count": 3,
      "metadata": {
        "gather": {
          "logged": 1689257534062
        },
        "jupyter": {
          "outputs_hidden": false,
          "source_hidden": false
        },
        "nteract": {
          "transient": {
            "deleting": false
          }
        }
      },
      "outputs": [],
      "source": [
        "DATASET_NAME = 'RGBDS-150K-test'"
      ]
    },
    {
      "cell_type": "code",
      "execution_count": 4,
      "metadata": {
        "gather": {
          "logged": 1689257536916
        },
        "jupyter": {
          "outputs_hidden": false,
          "source_hidden": false
        },
        "nteract": {
          "transient": {
            "deleting": false
          }
        }
      },
      "outputs": [],
      "source": [
        "# azureml-core of version 1.0.72 or higher is required\n",
        "from azureml.core import Workspace, Dataset\n",
        "\n",
        "subscription_id = ''\n",
        "resource_group = ''\n",
        "workspace_name = ''\n",
        "\n",
        "workspace = Workspace(subscription_id, resource_group, workspace_name)\n",
        "\n",
        "dataset = Dataset.get_by_name(workspace, name='RGBDS-150K-test')\n",
        "# dataset.download(target_path='.', overwrite=False)"
      ]
    },
    {
      "cell_type": "code",
      "execution_count": 5,
      "metadata": {
        "gather": {
          "logged": 1689257541092
        },
        "jupyter": {
          "outputs_hidden": false,
          "source_hidden": false
        },
        "nteract": {
          "transient": {
            "deleting": false
          }
        }
      },
      "outputs": [
        {
          "data": {
            "text/plain": [
              "{\n",
              "  \"source\": [\n",
              "    \"('cgmmlciproddsetds', 'dataset-rgbds-Test-2023-07-12-03-42-41/**')\"\n",
              "  ],\n",
              "  \"definition\": [\n",
              "    \"GetDatastoreFiles\"\n",
              "  ],\n",
              "  \"registration\": {\n",
              "    \"id\": \"548126f0-a159-4be8-a206-0e476e067b33\",\n",
              "    \"name\": \"RGBDS-150K-test\",\n",
              "    \"version\": 1,\n",
              "    \"workspace\": \"Workspace.create(name='cgm-ml-prod-ci-azml', subscription_id='9b5bbfae-d5d1-4aae-a2ca-75159c0c887d', resource_group='cgm-ml-prod-ci-rg')\"\n",
              "  }\n",
              "}"
            ]
          },
          "execution_count": 5,
          "metadata": {},
          "output_type": "execute_result"
        }
      ],
      "source": [
        "dataset"
      ]
    },
    {
      "cell_type": "code",
      "execution_count": 6,
      "metadata": {
        "gather": {
          "logged": 1689257556303
        },
        "jupyter": {
          "outputs_hidden": false,
          "source_hidden": false
        },
        "nteract": {
          "transient": {
            "deleting": false
          }
        }
      },
      "outputs": [],
      "source": [
        "from azureml.core import Workspace, Dataset\n",
        "\n",
        "# Connect to Workspace and reference Dataset\n",
        "ws = Workspace.from_config()\n",
        "dataset = ws.datasets[DATASET_NAME]\n",
        "\n",
        "# Create mountcontext and mount the dataset\n",
        "mount_ctx = dataset.mount()  \n",
        "mount_ctx.start()  "
      ]
    },
    {
      "cell_type": "code",
      "execution_count": 7,
      "metadata": {
        "gather": {
          "logged": 1689257564136
        },
        "jupyter": {
          "outputs_hidden": false,
          "source_hidden": false
        },
        "nteract": {
          "transient": {
            "deleting": false
          }
        }
      },
      "outputs": [
        {
          "name": "stdout",
          "output_type": "stream",
          "text": [
            "/tmp/tmptrjqxdx9\n",
            "['labels.csv', 'scans']\n"
          ]
        }
      ],
      "source": [
        "# Get the mount point\n",
        "dataset_mount_folder = mount_ctx.mount_point\n",
        "print(dataset_mount_folder)\n",
        "\n",
        "# List the files in the mount point\n",
        "files = os.listdir(dataset_mount_folder)\n",
        "print(files)"
      ]
    },
    {
      "cell_type": "code",
      "execution_count": 8,
      "metadata": {
        "gather": {
          "logged": 1689257594982
        },
        "jupyter": {
          "outputs_hidden": false,
          "source_hidden": false
        },
        "nteract": {
          "transient": {
            "deleting": false
          }
        }
      },
      "outputs": [
        {
          "data": {
            "text/plain": [
              "(150685, 24)"
            ]
          },
          "execution_count": 8,
          "metadata": {},
          "output_type": "execute_result"
        }
      ],
      "source": [
        "df = pd.read_csv(os.path.join(dataset_mount_folder, 'labels.csv'))\n",
        "df.shape"
      ]
    },
    {
      "cell_type": "code",
      "execution_count": 9,
      "metadata": {
        "gather": {
          "logged": 1689257628998
        },
        "jupyter": {
          "outputs_hidden": false,
          "source_hidden": false
        },
        "nteract": {
          "transient": {
            "deleting": false
          }
        }
      },
      "outputs": [
        {
          "name": "stdout",
          "output_type": "stream",
          "text": [
            "/tmp/tmptrjqxdx9/scans\n",
            "Total number of scan folders/ children: 4576\n"
          ]
        }
      ],
      "source": [
        "# total number of scan folders/children\n",
        "scans_path = os.path.join(dataset_mount_folder, 'scans')\n",
        "print(scans_path)\n",
        "scans_f = os.listdir(scans_path)\n",
        "print(f\"Total number of scan folders/ children: {len(scans_f)}\")"
      ]
    },
    {
      "cell_type": "code",
      "execution_count": null,
      "metadata": {
        "gather": {
          "logged": 1689257661073
        },
        "jupyter": {
          "outputs_hidden": false,
          "source_hidden": false
        },
        "nteract": {
          "transient": {
            "deleting": false
          }
        }
      },
      "outputs": [],
      "source": []
    },
    {
      "cell_type": "code",
      "execution_count": 11,
      "metadata": {
        "gather": {
          "logged": 1689257689360
        },
        "jupyter": {
          "outputs_hidden": false,
          "source_hidden": false
        },
        "nteract": {
          "transient": {
            "deleting": false
          }
        }
      },
      "outputs": [
        {
          "data": {
            "text/html": [
              "<div>\n",
              "<style scoped>\n",
              "    .dataframe tbody tr th:only-of-type {\n",
              "        vertical-align: middle;\n",
              "    }\n",
              "\n",
              "    .dataframe tbody tr th {\n",
              "        vertical-align: top;\n",
              "    }\n",
              "\n",
              "    .dataframe thead th {\n",
              "        text-align: right;\n",
              "    }\n",
              "</style>\n",
              "<table border=\"1\" class=\"dataframe\">\n",
              "  <thead>\n",
              "    <tr style=\"text-align: right;\">\n",
              "      <th></th>\n",
              "      <th>scan_id</th>\n",
              "      <th>scan_step</th>\n",
              "      <th>scan_version</th>\n",
              "      <th>height</th>\n",
              "      <th>weight</th>\n",
              "      <th>muac</th>\n",
              "      <th>device_model</th>\n",
              "      <th>person_id</th>\n",
              "      <th>age</th>\n",
              "      <th>sex</th>\n",
              "      <th>depth_artifact_id</th>\n",
              "      <th>rgb_artifact_id</th>\n",
              "      <th>depth_file_path</th>\n",
              "      <th>rgb_file_path</th>\n",
              "      <th>seg_file_path</th>\n",
              "      <th>order_number</th>\n",
              "      <th>pose_data</th>\n",
              "      <th>no_of_person</th>\n",
              "      <th>device_pose</th>\n",
              "      <th>raw_header</th>\n",
              "      <th>angle</th>\n",
              "      <th>distance_to_child</th>\n",
              "      <th>depthmap_validity</th>\n",
              "      <th>pickle_file_path</th>\n",
              "    </tr>\n",
              "  </thead>\n",
              "  <tbody>\n",
              "    <tr>\n",
              "      <th>0</th>\n",
              "      <td>0015cae6-178c-11ee-b1cd-6fc5ed6a033f</td>\n",
              "      <td>100</td>\n",
              "      <td>v1.2.0</td>\n",
              "      <td>67.2</td>\n",
              "      <td>7.25</td>\n",
              "      <td>13.2</td>\n",
              "      <td>HUAWEI VOG-L29</td>\n",
              "      <td>ff9f05b4-178b-11ee-b16b-2b6bcb7c4a05</td>\n",
              "      <td>424</td>\n",
              "      <td>male</td>\n",
              "      <td>0016d0a8-178c-11ee-b1ce-9f4fb659476d</td>\n",
              "      <td>001995cc-178c-11ee-b1d7-5bebc04a202e</td>\n",
              "      <td>1688160019793/5d6613d9-a980-4a74-a415-21f958a4...</td>\n",
              "      <td>1688160021803/c772d898-4f5e-4493-b55c-83d291ef...</td>\n",
              "      <td>1688554674654/c1f4bb7e-cb06-4f89-83b0-1f01d3b0...</td>\n",
              "      <td>1</td>\n",
              "      <td>{'Pose Scores': '0.1351201832294464', 'Pose Re...</td>\n",
              "      <td>2.0</td>\n",
              "      <td>[-0.6657566243886109, -0.7442855129318473, -0....</td>\n",
              "      <td>240x180_0.001_7_-0.32789356_0.69144475_0.59563...</td>\n",
              "      <td>-41.574315</td>\n",
              "      <td>0.362</td>\n",
              "      <td>0.891329</td>\n",
              "      <td>scans/ff9f05b4-178b-11ee-b16b-2b6bcb7c4a05/100...</td>\n",
              "    </tr>\n",
              "    <tr>\n",
              "      <th>1</th>\n",
              "      <td>0019bda8-163e-11ee-9f3f-1ff29029e51a</td>\n",
              "      <td>100</td>\n",
              "      <td>v0.8</td>\n",
              "      <td>101.8</td>\n",
              "      <td>14.85</td>\n",
              "      <td>14.3</td>\n",
              "      <td>HUAWEI VOG-L29</td>\n",
              "      <td>fde725ca-163d-11ee-9d7c-cfee004ba43d</td>\n",
              "      <td>1407</td>\n",
              "      <td>female</td>\n",
              "      <td>001a62a8-163e-11ee-9f41-6b3f2e931c4e</td>\n",
              "      <td>001beb46-163e-11ee-9f4b-9f1490c8ef63</td>\n",
              "      <td>1688016582307/573d7b71-d500-4405-b280-1669820b...</td>\n",
              "      <td>1688016584333/272385aa-966a-41d2-bbb3-0c59fc21...</td>\n",
              "      <td>1688502968618/472e1059-4bf3-4b6c-bdd9-571d7f42...</td>\n",
              "      <td>2</td>\n",
              "      <td>{'Pose Scores': '0.9608679413795471', 'Pose Re...</td>\n",
              "      <td>1.0</td>\n",
              "      <td>[-0.20186411074441837, -0.9794118894204097, -0...</td>\n",
              "      <td>240x180_0.001_7_-0.46710086_0.5808739_0.519281...</td>\n",
              "      <td>-12.283541</td>\n",
              "      <td>0.701</td>\n",
              "      <td>0.835544</td>\n",
              "      <td>scans/fde725ca-163d-11ee-9d7c-cfee004ba43d/100...</td>\n",
              "    </tr>\n",
              "    <tr>\n",
              "      <th>2</th>\n",
              "      <td>0019bda8-163e-11ee-9f3f-1ff29029e51a</td>\n",
              "      <td>100</td>\n",
              "      <td>v0.8</td>\n",
              "      <td>101.8</td>\n",
              "      <td>14.85</td>\n",
              "      <td>14.3</td>\n",
              "      <td>HUAWEI VOG-L29</td>\n",
              "      <td>fde725ca-163d-11ee-9d7c-cfee004ba43d</td>\n",
              "      <td>1407</td>\n",
              "      <td>female</td>\n",
              "      <td>001a8d78-163e-11ee-9f42-d3e4ccdc9398</td>\n",
              "      <td>001c1738-163e-11ee-9f4c-8bd600991d2e</td>\n",
              "      <td>1688016582489/820a53b3-71fc-4359-b121-33003613...</td>\n",
              "      <td>1688016584538/1492b15d-b29b-4d2c-b38f-95f1e4ae...</td>\n",
              "      <td>1688522726266/911dba6b-955e-48c0-80bc-3f08a575...</td>\n",
              "      <td>3</td>\n",
              "      <td>{'Pose Scores': '0.9600263237953186', 'Pose Re...</td>\n",
              "      <td>1.0</td>\n",
              "      <td>[-0.20186411074441837, -0.9794118894204097, -0...</td>\n",
              "      <td>240x180_0.001_7_-0.47196433_0.5782131_0.516334...</td>\n",
              "      <td>-11.580568</td>\n",
              "      <td>0.703</td>\n",
              "      <td>0.834557</td>\n",
              "      <td>scans/fde725ca-163d-11ee-9d7c-cfee004ba43d/100...</td>\n",
              "    </tr>\n",
              "    <tr>\n",
              "      <th>3</th>\n",
              "      <td>0019bda8-163e-11ee-9f3f-1ff29029e51a</td>\n",
              "      <td>100</td>\n",
              "      <td>v0.8</td>\n",
              "      <td>101.8</td>\n",
              "      <td>14.85</td>\n",
              "      <td>14.3</td>\n",
              "      <td>HUAWEI VOG-L29</td>\n",
              "      <td>fde725ca-163d-11ee-9d7c-cfee004ba43d</td>\n",
              "      <td>1407</td>\n",
              "      <td>female</td>\n",
              "      <td>001b29b8-163e-11ee-9f46-b30273146352</td>\n",
              "      <td>001ba082-163e-11ee-9f49-4f319388fb50</td>\n",
              "      <td>1688016583584/e24a0ef7-da95-4ed7-b701-2c59a6cc...</td>\n",
              "      <td>1688016583987/cca4edb6-7d82-41c4-a603-0fdc0119...</td>\n",
              "      <td>1688543185063/096d5dfc-d49d-4059-b6b9-2aa5abd7...</td>\n",
              "      <td>7</td>\n",
              "      <td>{'Pose Scores': '0.9557691216468811', 'Pose Re...</td>\n",
              "      <td>1.0</td>\n",
              "      <td>[-0.1738572636096072, -0.9847456179549005, 0.0...</td>\n",
              "      <td>240x180_0.001_7_-0.47883582_0.5685698_0.516323...</td>\n",
              "      <td>-10.361830</td>\n",
              "      <td>0.712</td>\n",
              "      <td>0.828863</td>\n",
              "      <td>scans/fde725ca-163d-11ee-9d7c-cfee004ba43d/100...</td>\n",
              "    </tr>\n",
              "    <tr>\n",
              "      <th>4</th>\n",
              "      <td>0019bda8-163e-11ee-9f3f-1ff29029e51a</td>\n",
              "      <td>100</td>\n",
              "      <td>v0.8</td>\n",
              "      <td>101.8</td>\n",
              "      <td>14.85</td>\n",
              "      <td>14.3</td>\n",
              "      <td>HUAWEI VOG-L29</td>\n",
              "      <td>fde725ca-163d-11ee-9d7c-cfee004ba43d</td>\n",
              "      <td>1407</td>\n",
              "      <td>female</td>\n",
              "      <td>001a2ca2-163e-11ee-9f40-238d53a95dd2</td>\n",
              "      <td>001bc62a-163e-11ee-9f4a-9751d203b93c</td>\n",
              "      <td>1688016582148/bca8d433-9ceb-4380-9d8b-8c7f0881...</td>\n",
              "      <td>1688016584164/a444dd43-b8bf-46b4-b7e6-6e35cd7f...</td>\n",
              "      <td>1688651875228/f0b2bc57-adfc-4ecd-9760-900bfbf6...</td>\n",
              "      <td>1</td>\n",
              "      <td>{'Pose Scores': '0.9559937715530396', 'Pose Re...</td>\n",
              "      <td>1.0</td>\n",
              "      <td>[-0.1738572636096072, -0.9847456179549005, 0.0...</td>\n",
              "      <td>240x180_0.001_7_-0.46728367_0.58330387_0.51934...</td>\n",
              "      <td>-12.628361</td>\n",
              "      <td>0.691</td>\n",
              "      <td>0.840193</td>\n",
              "      <td>scans/fde725ca-163d-11ee-9d7c-cfee004ba43d/100...</td>\n",
              "    </tr>\n",
              "  </tbody>\n",
              "</table>\n",
              "</div>"
            ],
            "text/plain": [
              "                                scan_id  scan_step scan_version  height  \\\n",
              "0  0015cae6-178c-11ee-b1cd-6fc5ed6a033f        100       v1.2.0    67.2   \n",
              "1  0019bda8-163e-11ee-9f3f-1ff29029e51a        100         v0.8   101.8   \n",
              "2  0019bda8-163e-11ee-9f3f-1ff29029e51a        100         v0.8   101.8   \n",
              "3  0019bda8-163e-11ee-9f3f-1ff29029e51a        100         v0.8   101.8   \n",
              "4  0019bda8-163e-11ee-9f3f-1ff29029e51a        100         v0.8   101.8   \n",
              "\n",
              "   weight  muac    device_model                             person_id   age  \\\n",
              "0    7.25  13.2  HUAWEI VOG-L29  ff9f05b4-178b-11ee-b16b-2b6bcb7c4a05   424   \n",
              "1   14.85  14.3  HUAWEI VOG-L29  fde725ca-163d-11ee-9d7c-cfee004ba43d  1407   \n",
              "2   14.85  14.3  HUAWEI VOG-L29  fde725ca-163d-11ee-9d7c-cfee004ba43d  1407   \n",
              "3   14.85  14.3  HUAWEI VOG-L29  fde725ca-163d-11ee-9d7c-cfee004ba43d  1407   \n",
              "4   14.85  14.3  HUAWEI VOG-L29  fde725ca-163d-11ee-9d7c-cfee004ba43d  1407   \n",
              "\n",
              "      sex                     depth_artifact_id  \\\n",
              "0    male  0016d0a8-178c-11ee-b1ce-9f4fb659476d   \n",
              "1  female  001a62a8-163e-11ee-9f41-6b3f2e931c4e   \n",
              "2  female  001a8d78-163e-11ee-9f42-d3e4ccdc9398   \n",
              "3  female  001b29b8-163e-11ee-9f46-b30273146352   \n",
              "4  female  001a2ca2-163e-11ee-9f40-238d53a95dd2   \n",
              "\n",
              "                        rgb_artifact_id  \\\n",
              "0  001995cc-178c-11ee-b1d7-5bebc04a202e   \n",
              "1  001beb46-163e-11ee-9f4b-9f1490c8ef63   \n",
              "2  001c1738-163e-11ee-9f4c-8bd600991d2e   \n",
              "3  001ba082-163e-11ee-9f49-4f319388fb50   \n",
              "4  001bc62a-163e-11ee-9f4a-9751d203b93c   \n",
              "\n",
              "                                     depth_file_path  \\\n",
              "0  1688160019793/5d6613d9-a980-4a74-a415-21f958a4...   \n",
              "1  1688016582307/573d7b71-d500-4405-b280-1669820b...   \n",
              "2  1688016582489/820a53b3-71fc-4359-b121-33003613...   \n",
              "3  1688016583584/e24a0ef7-da95-4ed7-b701-2c59a6cc...   \n",
              "4  1688016582148/bca8d433-9ceb-4380-9d8b-8c7f0881...   \n",
              "\n",
              "                                       rgb_file_path  \\\n",
              "0  1688160021803/c772d898-4f5e-4493-b55c-83d291ef...   \n",
              "1  1688016584333/272385aa-966a-41d2-bbb3-0c59fc21...   \n",
              "2  1688016584538/1492b15d-b29b-4d2c-b38f-95f1e4ae...   \n",
              "3  1688016583987/cca4edb6-7d82-41c4-a603-0fdc0119...   \n",
              "4  1688016584164/a444dd43-b8bf-46b4-b7e6-6e35cd7f...   \n",
              "\n",
              "                                       seg_file_path  order_number  \\\n",
              "0  1688554674654/c1f4bb7e-cb06-4f89-83b0-1f01d3b0...             1   \n",
              "1  1688502968618/472e1059-4bf3-4b6c-bdd9-571d7f42...             2   \n",
              "2  1688522726266/911dba6b-955e-48c0-80bc-3f08a575...             3   \n",
              "3  1688543185063/096d5dfc-d49d-4059-b6b9-2aa5abd7...             7   \n",
              "4  1688651875228/f0b2bc57-adfc-4ecd-9760-900bfbf6...             1   \n",
              "\n",
              "                                           pose_data  no_of_person  \\\n",
              "0  {'Pose Scores': '0.1351201832294464', 'Pose Re...           2.0   \n",
              "1  {'Pose Scores': '0.9608679413795471', 'Pose Re...           1.0   \n",
              "2  {'Pose Scores': '0.9600263237953186', 'Pose Re...           1.0   \n",
              "3  {'Pose Scores': '0.9557691216468811', 'Pose Re...           1.0   \n",
              "4  {'Pose Scores': '0.9559937715530396', 'Pose Re...           1.0   \n",
              "\n",
              "                                         device_pose  \\\n",
              "0  [-0.6657566243886109, -0.7442855129318473, -0....   \n",
              "1  [-0.20186411074441837, -0.9794118894204097, -0...   \n",
              "2  [-0.20186411074441837, -0.9794118894204097, -0...   \n",
              "3  [-0.1738572636096072, -0.9847456179549005, 0.0...   \n",
              "4  [-0.1738572636096072, -0.9847456179549005, 0.0...   \n",
              "\n",
              "                                          raw_header      angle  \\\n",
              "0  240x180_0.001_7_-0.32789356_0.69144475_0.59563... -41.574315   \n",
              "1  240x180_0.001_7_-0.46710086_0.5808739_0.519281... -12.283541   \n",
              "2  240x180_0.001_7_-0.47196433_0.5782131_0.516334... -11.580568   \n",
              "3  240x180_0.001_7_-0.47883582_0.5685698_0.516323... -10.361830   \n",
              "4  240x180_0.001_7_-0.46728367_0.58330387_0.51934... -12.628361   \n",
              "\n",
              "   distance_to_child  depthmap_validity  \\\n",
              "0              0.362           0.891329   \n",
              "1              0.701           0.835544   \n",
              "2              0.703           0.834557   \n",
              "3              0.712           0.828863   \n",
              "4              0.691           0.840193   \n",
              "\n",
              "                                    pickle_file_path  \n",
              "0  scans/ff9f05b4-178b-11ee-b16b-2b6bcb7c4a05/100...  \n",
              "1  scans/fde725ca-163d-11ee-9d7c-cfee004ba43d/100...  \n",
              "2  scans/fde725ca-163d-11ee-9d7c-cfee004ba43d/100...  \n",
              "3  scans/fde725ca-163d-11ee-9d7c-cfee004ba43d/100...  \n",
              "4  scans/fde725ca-163d-11ee-9d7c-cfee004ba43d/100...  "
            ]
          },
          "execution_count": 11,
          "metadata": {},
          "output_type": "execute_result"
        }
      ],
      "source": [
        "df.head()"
      ]
    },
    {
      "cell_type": "code",
      "execution_count": 12,
      "metadata": {
        "gather": {
          "logged": 1689257701011
        },
        "jupyter": {
          "outputs_hidden": false,
          "source_hidden": false
        },
        "nteract": {
          "transient": {
            "deleting": false
          }
        }
      },
      "outputs": [
        {
          "data": {
            "text/html": [
              "<div>\n",
              "<style scoped>\n",
              "    .dataframe tbody tr th:only-of-type {\n",
              "        vertical-align: middle;\n",
              "    }\n",
              "\n",
              "    .dataframe tbody tr th {\n",
              "        vertical-align: top;\n",
              "    }\n",
              "\n",
              "    .dataframe thead th {\n",
              "        text-align: right;\n",
              "    }\n",
              "</style>\n",
              "<table border=\"1\" class=\"dataframe\">\n",
              "  <thead>\n",
              "    <tr style=\"text-align: right;\">\n",
              "      <th></th>\n",
              "      <th>scan_id</th>\n",
              "      <th>scan_step</th>\n",
              "      <th>scan_version</th>\n",
              "      <th>height</th>\n",
              "      <th>weight</th>\n",
              "      <th>muac</th>\n",
              "      <th>device_model</th>\n",
              "      <th>person_id</th>\n",
              "      <th>age</th>\n",
              "      <th>sex</th>\n",
              "      <th>depth_artifact_id</th>\n",
              "      <th>rgb_artifact_id</th>\n",
              "      <th>depth_file_path</th>\n",
              "      <th>rgb_file_path</th>\n",
              "      <th>seg_file_path</th>\n",
              "      <th>order_number</th>\n",
              "      <th>pose_data</th>\n",
              "      <th>no_of_person</th>\n",
              "      <th>device_pose</th>\n",
              "      <th>raw_header</th>\n",
              "      <th>angle</th>\n",
              "      <th>distance_to_child</th>\n",
              "      <th>depthmap_validity</th>\n",
              "      <th>pickle_file_path</th>\n",
              "      <th>Years</th>\n",
              "    </tr>\n",
              "  </thead>\n",
              "  <tbody>\n",
              "    <tr>\n",
              "      <th>0</th>\n",
              "      <td>0015cae6-178c-11ee-b1cd-6fc5ed6a033f</td>\n",
              "      <td>100</td>\n",
              "      <td>v1.2.0</td>\n",
              "      <td>67.2</td>\n",
              "      <td>7.25</td>\n",
              "      <td>13.2</td>\n",
              "      <td>HUAWEI VOG-L29</td>\n",
              "      <td>ff9f05b4-178b-11ee-b16b-2b6bcb7c4a05</td>\n",
              "      <td>424</td>\n",
              "      <td>male</td>\n",
              "      <td>0016d0a8-178c-11ee-b1ce-9f4fb659476d</td>\n",
              "      <td>001995cc-178c-11ee-b1d7-5bebc04a202e</td>\n",
              "      <td>1688160019793/5d6613d9-a980-4a74-a415-21f958a4...</td>\n",
              "      <td>1688160021803/c772d898-4f5e-4493-b55c-83d291ef...</td>\n",
              "      <td>1688554674654/c1f4bb7e-cb06-4f89-83b0-1f01d3b0...</td>\n",
              "      <td>1</td>\n",
              "      <td>{'Pose Scores': '0.1351201832294464', 'Pose Re...</td>\n",
              "      <td>2.0</td>\n",
              "      <td>[-0.6657566243886109, -0.7442855129318473, -0....</td>\n",
              "      <td>240x180_0.001_7_-0.32789356_0.69144475_0.59563...</td>\n",
              "      <td>-41.574315</td>\n",
              "      <td>0.362</td>\n",
              "      <td>0.891329</td>\n",
              "      <td>scans/ff9f05b4-178b-11ee-b16b-2b6bcb7c4a05/100...</td>\n",
              "      <td>1</td>\n",
              "    </tr>\n",
              "    <tr>\n",
              "      <th>1</th>\n",
              "      <td>0019bda8-163e-11ee-9f3f-1ff29029e51a</td>\n",
              "      <td>100</td>\n",
              "      <td>v0.8</td>\n",
              "      <td>101.8</td>\n",
              "      <td>14.85</td>\n",
              "      <td>14.3</td>\n",
              "      <td>HUAWEI VOG-L29</td>\n",
              "      <td>fde725ca-163d-11ee-9d7c-cfee004ba43d</td>\n",
              "      <td>1407</td>\n",
              "      <td>female</td>\n",
              "      <td>001a62a8-163e-11ee-9f41-6b3f2e931c4e</td>\n",
              "      <td>001beb46-163e-11ee-9f4b-9f1490c8ef63</td>\n",
              "      <td>1688016582307/573d7b71-d500-4405-b280-1669820b...</td>\n",
              "      <td>1688016584333/272385aa-966a-41d2-bbb3-0c59fc21...</td>\n",
              "      <td>1688502968618/472e1059-4bf3-4b6c-bdd9-571d7f42...</td>\n",
              "      <td>2</td>\n",
              "      <td>{'Pose Scores': '0.9608679413795471', 'Pose Re...</td>\n",
              "      <td>1.0</td>\n",
              "      <td>[-0.20186411074441837, -0.9794118894204097, -0...</td>\n",
              "      <td>240x180_0.001_7_-0.46710086_0.5808739_0.519281...</td>\n",
              "      <td>-12.283541</td>\n",
              "      <td>0.701</td>\n",
              "      <td>0.835544</td>\n",
              "      <td>scans/fde725ca-163d-11ee-9d7c-cfee004ba43d/100...</td>\n",
              "      <td>3</td>\n",
              "    </tr>\n",
              "    <tr>\n",
              "      <th>2</th>\n",
              "      <td>0019bda8-163e-11ee-9f3f-1ff29029e51a</td>\n",
              "      <td>100</td>\n",
              "      <td>v0.8</td>\n",
              "      <td>101.8</td>\n",
              "      <td>14.85</td>\n",
              "      <td>14.3</td>\n",
              "      <td>HUAWEI VOG-L29</td>\n",
              "      <td>fde725ca-163d-11ee-9d7c-cfee004ba43d</td>\n",
              "      <td>1407</td>\n",
              "      <td>female</td>\n",
              "      <td>001a8d78-163e-11ee-9f42-d3e4ccdc9398</td>\n",
              "      <td>001c1738-163e-11ee-9f4c-8bd600991d2e</td>\n",
              "      <td>1688016582489/820a53b3-71fc-4359-b121-33003613...</td>\n",
              "      <td>1688016584538/1492b15d-b29b-4d2c-b38f-95f1e4ae...</td>\n",
              "      <td>1688522726266/911dba6b-955e-48c0-80bc-3f08a575...</td>\n",
              "      <td>3</td>\n",
              "      <td>{'Pose Scores': '0.9600263237953186', 'Pose Re...</td>\n",
              "      <td>1.0</td>\n",
              "      <td>[-0.20186411074441837, -0.9794118894204097, -0...</td>\n",
              "      <td>240x180_0.001_7_-0.47196433_0.5782131_0.516334...</td>\n",
              "      <td>-11.580568</td>\n",
              "      <td>0.703</td>\n",
              "      <td>0.834557</td>\n",
              "      <td>scans/fde725ca-163d-11ee-9d7c-cfee004ba43d/100...</td>\n",
              "      <td>3</td>\n",
              "    </tr>\n",
              "    <tr>\n",
              "      <th>3</th>\n",
              "      <td>0019bda8-163e-11ee-9f3f-1ff29029e51a</td>\n",
              "      <td>100</td>\n",
              "      <td>v0.8</td>\n",
              "      <td>101.8</td>\n",
              "      <td>14.85</td>\n",
              "      <td>14.3</td>\n",
              "      <td>HUAWEI VOG-L29</td>\n",
              "      <td>fde725ca-163d-11ee-9d7c-cfee004ba43d</td>\n",
              "      <td>1407</td>\n",
              "      <td>female</td>\n",
              "      <td>001b29b8-163e-11ee-9f46-b30273146352</td>\n",
              "      <td>001ba082-163e-11ee-9f49-4f319388fb50</td>\n",
              "      <td>1688016583584/e24a0ef7-da95-4ed7-b701-2c59a6cc...</td>\n",
              "      <td>1688016583987/cca4edb6-7d82-41c4-a603-0fdc0119...</td>\n",
              "      <td>1688543185063/096d5dfc-d49d-4059-b6b9-2aa5abd7...</td>\n",
              "      <td>7</td>\n",
              "      <td>{'Pose Scores': '0.9557691216468811', 'Pose Re...</td>\n",
              "      <td>1.0</td>\n",
              "      <td>[-0.1738572636096072, -0.9847456179549005, 0.0...</td>\n",
              "      <td>240x180_0.001_7_-0.47883582_0.5685698_0.516323...</td>\n",
              "      <td>-10.361830</td>\n",
              "      <td>0.712</td>\n",
              "      <td>0.828863</td>\n",
              "      <td>scans/fde725ca-163d-11ee-9d7c-cfee004ba43d/100...</td>\n",
              "      <td>3</td>\n",
              "    </tr>\n",
              "    <tr>\n",
              "      <th>4</th>\n",
              "      <td>0019bda8-163e-11ee-9f3f-1ff29029e51a</td>\n",
              "      <td>100</td>\n",
              "      <td>v0.8</td>\n",
              "      <td>101.8</td>\n",
              "      <td>14.85</td>\n",
              "      <td>14.3</td>\n",
              "      <td>HUAWEI VOG-L29</td>\n",
              "      <td>fde725ca-163d-11ee-9d7c-cfee004ba43d</td>\n",
              "      <td>1407</td>\n",
              "      <td>female</td>\n",
              "      <td>001a2ca2-163e-11ee-9f40-238d53a95dd2</td>\n",
              "      <td>001bc62a-163e-11ee-9f4a-9751d203b93c</td>\n",
              "      <td>1688016582148/bca8d433-9ceb-4380-9d8b-8c7f0881...</td>\n",
              "      <td>1688016584164/a444dd43-b8bf-46b4-b7e6-6e35cd7f...</td>\n",
              "      <td>1688651875228/f0b2bc57-adfc-4ecd-9760-900bfbf6...</td>\n",
              "      <td>1</td>\n",
              "      <td>{'Pose Scores': '0.9559937715530396', 'Pose Re...</td>\n",
              "      <td>1.0</td>\n",
              "      <td>[-0.1738572636096072, -0.9847456179549005, 0.0...</td>\n",
              "      <td>240x180_0.001_7_-0.46728367_0.58330387_0.51934...</td>\n",
              "      <td>-12.628361</td>\n",
              "      <td>0.691</td>\n",
              "      <td>0.840193</td>\n",
              "      <td>scans/fde725ca-163d-11ee-9d7c-cfee004ba43d/100...</td>\n",
              "      <td>3</td>\n",
              "    </tr>\n",
              "  </tbody>\n",
              "</table>\n",
              "</div>"
            ],
            "text/plain": [
              "                                scan_id  scan_step scan_version  height  \\\n",
              "0  0015cae6-178c-11ee-b1cd-6fc5ed6a033f        100       v1.2.0    67.2   \n",
              "1  0019bda8-163e-11ee-9f3f-1ff29029e51a        100         v0.8   101.8   \n",
              "2  0019bda8-163e-11ee-9f3f-1ff29029e51a        100         v0.8   101.8   \n",
              "3  0019bda8-163e-11ee-9f3f-1ff29029e51a        100         v0.8   101.8   \n",
              "4  0019bda8-163e-11ee-9f3f-1ff29029e51a        100         v0.8   101.8   \n",
              "\n",
              "   weight  muac    device_model                             person_id   age  \\\n",
              "0    7.25  13.2  HUAWEI VOG-L29  ff9f05b4-178b-11ee-b16b-2b6bcb7c4a05   424   \n",
              "1   14.85  14.3  HUAWEI VOG-L29  fde725ca-163d-11ee-9d7c-cfee004ba43d  1407   \n",
              "2   14.85  14.3  HUAWEI VOG-L29  fde725ca-163d-11ee-9d7c-cfee004ba43d  1407   \n",
              "3   14.85  14.3  HUAWEI VOG-L29  fde725ca-163d-11ee-9d7c-cfee004ba43d  1407   \n",
              "4   14.85  14.3  HUAWEI VOG-L29  fde725ca-163d-11ee-9d7c-cfee004ba43d  1407   \n",
              "\n",
              "      sex                     depth_artifact_id  \\\n",
              "0    male  0016d0a8-178c-11ee-b1ce-9f4fb659476d   \n",
              "1  female  001a62a8-163e-11ee-9f41-6b3f2e931c4e   \n",
              "2  female  001a8d78-163e-11ee-9f42-d3e4ccdc9398   \n",
              "3  female  001b29b8-163e-11ee-9f46-b30273146352   \n",
              "4  female  001a2ca2-163e-11ee-9f40-238d53a95dd2   \n",
              "\n",
              "                        rgb_artifact_id  \\\n",
              "0  001995cc-178c-11ee-b1d7-5bebc04a202e   \n",
              "1  001beb46-163e-11ee-9f4b-9f1490c8ef63   \n",
              "2  001c1738-163e-11ee-9f4c-8bd600991d2e   \n",
              "3  001ba082-163e-11ee-9f49-4f319388fb50   \n",
              "4  001bc62a-163e-11ee-9f4a-9751d203b93c   \n",
              "\n",
              "                                     depth_file_path  \\\n",
              "0  1688160019793/5d6613d9-a980-4a74-a415-21f958a4...   \n",
              "1  1688016582307/573d7b71-d500-4405-b280-1669820b...   \n",
              "2  1688016582489/820a53b3-71fc-4359-b121-33003613...   \n",
              "3  1688016583584/e24a0ef7-da95-4ed7-b701-2c59a6cc...   \n",
              "4  1688016582148/bca8d433-9ceb-4380-9d8b-8c7f0881...   \n",
              "\n",
              "                                       rgb_file_path  \\\n",
              "0  1688160021803/c772d898-4f5e-4493-b55c-83d291ef...   \n",
              "1  1688016584333/272385aa-966a-41d2-bbb3-0c59fc21...   \n",
              "2  1688016584538/1492b15d-b29b-4d2c-b38f-95f1e4ae...   \n",
              "3  1688016583987/cca4edb6-7d82-41c4-a603-0fdc0119...   \n",
              "4  1688016584164/a444dd43-b8bf-46b4-b7e6-6e35cd7f...   \n",
              "\n",
              "                                       seg_file_path  order_number  \\\n",
              "0  1688554674654/c1f4bb7e-cb06-4f89-83b0-1f01d3b0...             1   \n",
              "1  1688502968618/472e1059-4bf3-4b6c-bdd9-571d7f42...             2   \n",
              "2  1688522726266/911dba6b-955e-48c0-80bc-3f08a575...             3   \n",
              "3  1688543185063/096d5dfc-d49d-4059-b6b9-2aa5abd7...             7   \n",
              "4  1688651875228/f0b2bc57-adfc-4ecd-9760-900bfbf6...             1   \n",
              "\n",
              "                                           pose_data  no_of_person  \\\n",
              "0  {'Pose Scores': '0.1351201832294464', 'Pose Re...           2.0   \n",
              "1  {'Pose Scores': '0.9608679413795471', 'Pose Re...           1.0   \n",
              "2  {'Pose Scores': '0.9600263237953186', 'Pose Re...           1.0   \n",
              "3  {'Pose Scores': '0.9557691216468811', 'Pose Re...           1.0   \n",
              "4  {'Pose Scores': '0.9559937715530396', 'Pose Re...           1.0   \n",
              "\n",
              "                                         device_pose  \\\n",
              "0  [-0.6657566243886109, -0.7442855129318473, -0....   \n",
              "1  [-0.20186411074441837, -0.9794118894204097, -0...   \n",
              "2  [-0.20186411074441837, -0.9794118894204097, -0...   \n",
              "3  [-0.1738572636096072, -0.9847456179549005, 0.0...   \n",
              "4  [-0.1738572636096072, -0.9847456179549005, 0.0...   \n",
              "\n",
              "                                          raw_header      angle  \\\n",
              "0  240x180_0.001_7_-0.32789356_0.69144475_0.59563... -41.574315   \n",
              "1  240x180_0.001_7_-0.46710086_0.5808739_0.519281... -12.283541   \n",
              "2  240x180_0.001_7_-0.47196433_0.5782131_0.516334... -11.580568   \n",
              "3  240x180_0.001_7_-0.47883582_0.5685698_0.516323... -10.361830   \n",
              "4  240x180_0.001_7_-0.46728367_0.58330387_0.51934... -12.628361   \n",
              "\n",
              "   distance_to_child  depthmap_validity  \\\n",
              "0              0.362           0.891329   \n",
              "1              0.701           0.835544   \n",
              "2              0.703           0.834557   \n",
              "3              0.712           0.828863   \n",
              "4              0.691           0.840193   \n",
              "\n",
              "                                    pickle_file_path  Years  \n",
              "0  scans/ff9f05b4-178b-11ee-b16b-2b6bcb7c4a05/100...      1  \n",
              "1  scans/fde725ca-163d-11ee-9d7c-cfee004ba43d/100...      3  \n",
              "2  scans/fde725ca-163d-11ee-9d7c-cfee004ba43d/100...      3  \n",
              "3  scans/fde725ca-163d-11ee-9d7c-cfee004ba43d/100...      3  \n",
              "4  scans/fde725ca-163d-11ee-9d7c-cfee004ba43d/100...      3  "
            ]
          },
          "execution_count": 12,
          "metadata": {},
          "output_type": "execute_result"
        }
      ],
      "source": [
        "df['Years'] = df.apply(convert_age_from_days_to_years, axis=1)\n",
        "df.head()"
      ]
    },
    {
      "cell_type": "code",
      "execution_count": 14,
      "metadata": {
        "gather": {
          "logged": 1689257730150
        },
        "jupyter": {
          "outputs_hidden": false,
          "source_hidden": false
        },
        "nteract": {
          "transient": {
            "deleting": false
          }
        }
      },
      "outputs": [
        {
          "name": "stdout",
          "output_type": "stream",
          "text": [
            "Total Number of artifacts: 150685\n",
            "Total Number of scans: 11443\n"
          ]
        }
      ],
      "source": [
        "# Total number of artifacts\n",
        "print(f\"Total Number of artifacts: {len(df['depth_artifact_id'])}\")\n",
        "print(f\"Total Number of scans: {len(df.groupby('scan_id'))}\")"
      ]
    },
    {
      "cell_type": "code",
      "execution_count": 16,
      "metadata": {
        "gather": {
          "logged": 1689257756220
        },
        "jupyter": {
          "outputs_hidden": false,
          "source_hidden": false
        },
        "nteract": {
          "transient": {
            "deleting": false
          }
        }
      },
      "outputs": [
        {
          "name": "stdout",
          "output_type": "stream",
          "text": [
            "1688160021803/c772d898-4f5e-4493-b55c-83d291ef9d6b\n"
          ]
        }
      ],
      "source": [
        "# sample rgbds_file_path\n",
        "sample_file = df['rgb_file_path'][0]\n",
        "print(sample_file)"
      ]
    },
    {
      "cell_type": "markdown",
      "metadata": {
        "nteract": {
          "transient": {
            "deleting": false
          }
        }
      },
      "source": [
        "### Sample file"
      ]
    },
    {
      "cell_type": "code",
      "execution_count": 32,
      "metadata": {
        "gather": {
          "logged": 1689257867096
        },
        "jupyter": {
          "outputs_hidden": false,
          "source_hidden": false
        },
        "nteract": {
          "transient": {
            "deleting": false
          }
        }
      },
      "outputs": [
        {
          "name": "stdout",
          "output_type": "stream",
          "text": [
            "sample_scan: 00211c4e-1727-11ee-9a1b-37b62eea6d04\n",
            "['200', '202']\n",
            "sample filepath: /tmp/tmptrjqxdx9/scans/00211c4e-1727-11ee-9a1b-37b62eea6d04/200\n",
            "['pc_00cce36c-1727-11ee-9aa3-a7d91250a55f_200_1.p', 'pc_00cce36c-1727-11ee-9aa3-a7d91250a55f_200_3.p', 'pc_00cce36c-1727-11ee-9aa3-a7d91250a55f_200_4.p', 'pc_00cce36c-1727-11ee-9aa3-a7d91250a55f_200_5.p', 'pc_00cce36c-1727-11ee-9aa3-a7d91250a55f_200_6.p', 'pc_00cce36c-1727-11ee-9aa3-a7d91250a55f_200_7.p', 'pc_00cce36c-1727-11ee-9aa3-a7d91250a55f_200_8.p', 'pc_00cce36c-1727-11ee-9aa3-a7d91250a55f_200_9.p']\n",
            "/tmp/tmptrjqxdx9/scans/00211c4e-1727-11ee-9a1b-37b62eea6d04/200/pc_00cce36c-1727-11ee-9aa3-a7d91250a55f_200_1.p\n"
          ]
        }
      ],
      "source": [
        "# sample scan\n",
        "sample_scan = scans_f[0]\n",
        "print(f'sample_scan: {sample_scan}')\n",
        "print(os.listdir(scans_path + '/' + sample_scan))\n",
        "f = scans_path + '/' + sample_scan + '/' + '200'\n",
        "print(f\"sample filepath: {f}\")\n",
        "print(os.listdir(f))\n",
        "\n",
        "f_path = f + '/' + os.listdir(f)[0]\n",
        "print(f_path)"
      ]
    },
    {
      "cell_type": "code",
      "execution_count": 33,
      "metadata": {
        "gather": {
          "logged": 1689257867312
        },
        "jupyter": {
          "outputs_hidden": false,
          "source_hidden": false
        },
        "nteract": {
          "transient": {
            "deleting": false
          }
        }
      },
      "outputs": [],
      "source": [
        "depthmaps, target = pickle.load(open(f_path, \"rb\"))"
      ]
    },
    {
      "cell_type": "code",
      "execution_count": 34,
      "metadata": {
        "gather": {
          "logged": 1689257868011
        },
        "jupyter": {
          "outputs_hidden": false,
          "source_hidden": false
        },
        "nteract": {
          "transient": {
            "deleting": false
          }
        }
      },
      "outputs": [
        {
          "name": "stdout",
          "output_type": "stream",
          "text": [
            "Shape of Depthmap: (240, 180, 1), RGB: (240, 180, 3), segment map: (240, 180, 1)\n"
          ]
        }
      ],
      "source": [
        "# depthmaps is a list of 3 npz arrays (Depthmap, RGB, segment)\n",
        "depth, rgb, segment = depthmaps\n",
        "# depthmaps[0].shape, depthmaps[1].shape, depthmaps[2].shape\n",
        "print(f\"Shape of Depthmap: {depth.shape}, RGB: {rgb.shape}, segment map: {segment.shape}\")"
      ]
    },
    {
      "cell_type": "code",
      "execution_count": 35,
      "metadata": {
        "gather": {
          "logged": 1689257868231
        },
        "jupyter": {
          "outputs_hidden": false,
          "source_hidden": false
        },
        "nteract": {
          "transient": {
            "deleting": false
          }
        }
      },
      "outputs": [
        {
          "data": {
            "image/png": "[encoded data removed]",
            "text/plain": [
              "<Figure size 640x480 with 1 Axes>"
            ]
          },
          "metadata": {},
          "output_type": "display_data"
        }
      ],
      "source": [
        "_ = plt.imshow(np.squeeze(depth), cmap='gray')\n",
        "plt.show()"
      ]
    },
    {
      "cell_type": "code",
      "execution_count": 31,
      "metadata": {
        "gather": {
          "logged": 1689257859694
        },
        "jupyter": {
          "outputs_hidden": false,
          "source_hidden": false
        },
        "nteract": {
          "transient": {
            "deleting": false
          }
        }
      },
      "outputs": [
        {
          "data": {
            "image/png": "[encoded data removed]",
            "text/plain": [
              "<Figure size 640x480 with 1 Axes>"
            ]
          },
          "metadata": {},
          "output_type": "display_data"
        }
      ],
      "source": [
        "_ = plt.imshow(np.squeeze(rgb), cmap='gray')\n",
        "plt.show()"
      ]
    },
    {
      "cell_type": "code",
      "execution_count": 36,
      "metadata": {
        "gather": {
          "logged": 1689257883829
        },
        "jupyter": {
          "outputs_hidden": false,
          "source_hidden": false
        },
        "nteract": {
          "transient": {
            "deleting": false
          }
        }
      },
      "outputs": [
        {
          "data": {
            "image/png": "[encoded data removed]",
            "text/plain": [
              "<Figure size 640x480 with 1 Axes>"
            ]
          },
          "metadata": {},
          "output_type": "display_data"
        }
      ],
      "source": [
        "_ = plt.imshow(np.squeeze(segment), cmap='gray')\n",
        "plt.show()"
      ]
    },
    {
      "cell_type": "code",
      "execution_count": 37,
      "metadata": {
        "gather": {
          "logged": 1689261267943
        },
        "jupyter": {
          "outputs_hidden": false,
          "source_hidden": false
        },
        "nteract": {
          "transient": {
            "deleting": false
          }
        }
      },
      "outputs": [
        {
          "name": "stdout",
          "output_type": "stream",
          "text": [
            "{'scan_id': '00cce36c-1727-11ee-9aa3-a7d91250a55f', 'scan_step': 200, 'scan_version': 'v1.2.0', 'height': 65.3, 'weight': 5.6, 'muac': 11.8, 'device_model': 'HUAWEI VOG-L29', 'person_id': '00211c4e-1727-11ee-9a1b-37b62eea6d04', 'age': 260, 'sex': 'female', 'depth_artifact_id': '00cd61b6-1727-11ee-9aa4-f3888525e065', 'rgb_artifact_id': '00cff520-1727-11ee-9aad-fb2190534cba', 'depth_file_path': '1688116651809/5f9d368a-5b7f-4a63-8ed1-4773c2a4e2e8', 'rgb_file_path': '1688116653761/1af28819-1e16-43c1-ba72-4a9ed42a3e17', 'seg_file_path': '1688466001970/e9323163-105e-4970-a85f-08f76267f30b', 'order_number': 1, 'pose_data': {'Pose Scores': '0.8201421', 'Pose Results': \"{'bbox_coordinates': [(262.08386, 257.50458), (828.15753, 1225.7235)], 'bbox_confidence_score': [0.9920779], 'key_points_coordinate': [{'nose': {'x': 354.84473, 'y': 598.70056}}, {'left_eye': {'x': 342.2378, 'y': 560.8795}}, {'right_eye': {'x': 335.9342, 'y': 623.9146}}, {'left_ear': {'x': 361.14832, 'y': 497.84442}}, {'right_ear': {'x': 335.9342, 'y': 661.73566}}, {'left_shoulder': {'x': 462.0044, 'y': 478.9339}}, {'right_shoulder': {'x': 462.0044, 'y': 680.6462}}, {'left_elbow': {'x': 468.30792, 'y': 346.5602}}, {'right_elbow': {'x': 436.7904, 'y': 819.32336}}, {'left_wrist': {'x': 361.14832, 'y': 308.73917}}, {'right_wrist': {'x': 310.7202, 'y': 787.8058}}, {'left_hip': {'x': 764.5728, 'y': 504.14792}}, {'right_hip': {'x': 745.6623, 'y': 630.2181}}, {'left_knee': {'x': 909.5535, 'y': 352.8637}}, {'right_knee': {'x': 941.07104, 'y': 529.36194}}, {'left_ankle': {'x': 1048.2307, 'y': 523.0585}}, {'right_ankle': {'x': 1023.01666, 'y': 655.4321}}], 'key_points_prob': [{'nose': {'score': 0.9323682}}, {'left_eye': {'score': 0.923405}}, {'right_eye': {'score': 0.8525443}}, {'left_ear': {'score': 1.0198972}}, {'right_ear': {'score': 0.7798768}}, {'left_shoulder': {'score': 0.8975024}}, {'right_shoulder': {'score': 0.8044004}}, {'left_elbow': {'score': 0.972828}}, {'right_elbow': {'score': 0.8652976}}, {'left_wrist': {'score': 0.9943194}}, {'right_wrist': {'score': 0.931669}}, {'left_hip': {'score': 0.67084306}}, {'right_hip': {'score': 0.62030023}}, {'left_knee': {'score': 0.7410903}}, {'right_knee': {'score': 0.7042111}}, {'left_ankle': {'score': 0.65835166}}, {'right_ankle': {'score': 0.57351077}}], 'body_pose_score': 0.8201421, 'draw_kpt': array([[[ 354.84473,  598.70056],\\n        [ 342.2378 ,  560.8795 ],\\n        [ 335.9342 ,  623.9146 ],\\n        [ 361.14832,  497.84442],\\n        [ 335.9342 ,  661.73566],\\n        [ 462.0044 ,  478.9339 ],\\n        [ 462.0044 ,  680.6462 ],\\n        [ 468.30792,  346.5602 ],\\n        [ 436.7904 ,  819.32336],\\n        [ 361.14832,  308.73917],\\n        [ 310.7202 ,  787.8058 ],\\n        [ 764.5728 ,  504.14792],\\n        [ 745.6623 ,  630.2181 ],\\n        [ 909.5535 ,  352.8637 ],\\n        [ 941.07104,  529.36194],\\n        [1048.2307 ,  523.0585 ],\\n        [1023.01666,  655.4321 ]]], dtype=float32)}\"}, 'no_of_person': 1.0, 'device_pose': [-0.848951888347526, -0.23247644240069404, 0.47458971227775903, 0.0, 0.466094647184779, 0.09387539366099011, 0.8797404107637038, 0.0, -0.24907121699800186, 0.9680610074751026, 0.028660332681659118, 0.0, -0.20267616, 0.26979163, 0.43030965, 1.0], 'raw_header': '240x180_0.001_7_0.08442806_0.69176716_0.6677831_-0.26152623_0.20267616_-0.26979163_-0.43030965', 'angle': -75.48018857862408, 'distance_to_child': 0.543, 'depthmap_validity': 0.9974287275415421}\n"
          ]
        }
      ],
      "source": [
        "print(target)"
      ]
    },
    {
      "cell_type": "code",
      "execution_count": null,
      "metadata": {
        "jupyter": {
          "outputs_hidden": false,
          "source_hidden": false
        },
        "nteract": {
          "transient": {
            "deleting": false
          }
        }
      },
      "outputs": [],
      "source": []
    },
    {
      "cell_type": "markdown",
      "metadata": {
        "nteract": {
          "transient": {
            "deleting": false
          }
        }
      },
      "source": [
        "## Analysis"
      ]
    },
    {
      "cell_type": "code",
      "execution_count": 39,
      "metadata": {
        "gather": {
          "logged": 1689261307264
        },
        "jupyter": {
          "outputs_hidden": false,
          "source_hidden": false
        },
        "nteract": {
          "transient": {
            "deleting": false
          }
        }
      },
      "outputs": [
        {
          "name": "stdout",
          "output_type": "stream",
          "text": [
            "Total no. of artifacts: 150685\n",
            "Total no. of unique scan ids: 11443\n",
            "Total no. of unique person ids: 4576\n"
          ]
        }
      ],
      "source": [
        "print(\"Total no. of artifacts:\", len(df))\n",
        "unique_scan_ids = df.drop_duplicates(subset='scan_id', keep='first')\n",
        "print(\"Total no. of unique scan ids:\", len(unique_scan_ids))\n",
        "unique_person_ids = df.drop_duplicates(subset='person_id', keep='first')\n",
        "print(\"Total no. of unique person ids:\", len(unique_person_ids))"
      ]
    },
    {
      "cell_type": "code",
      "execution_count": 40,
      "metadata": {
        "gather": {
          "logged": 1689261326223
        },
        "jupyter": {
          "outputs_hidden": false,
          "source_hidden": false
        },
        "nteract": {
          "transient": {
            "deleting": false
          }
        }
      },
      "outputs": [
        {
          "name": "stdout",
          "output_type": "stream",
          "text": [
            "HUAWEI VOG-L29    150685\n",
            "Name: device_model, dtype: int64\n"
          ]
        },
        {
          "data": {
            "image/png": "[encoded data removed]",
            "text/plain": [
              "<Figure size 640x480 with 1 Axes>"
            ]
          },
          "metadata": {},
          "output_type": "display_data"
        }
      ],
      "source": [
        "print(df['device_model'].value_counts())\n",
        "_ = df['device_model'].value_counts().plot(kind='pie')"
      ]
    },
    {
      "cell_type": "code",
      "execution_count": 41,
      "metadata": {
        "gather": {
          "logged": 1689261341195
        },
        "jupyter": {
          "outputs_hidden": false,
          "source_hidden": false
        },
        "nteract": {
          "transient": {
            "deleting": false
          }
        }
      },
      "outputs": [
        {
          "name": "stdout",
          "output_type": "stream",
          "text": [
            "v1.2.0    58175\n",
            "v0.8      56856\n",
            "v1.2.1    35211\n",
            "v0.9        443\n",
            "Name: scan_version, dtype: int64\n"
          ]
        },
        {
          "data": {
            "image/png": "[encoded data removed]",
            "text/plain": [
              "<Figure size 640x480 with 1 Axes>"
            ]
          },
          "metadata": {},
          "output_type": "display_data"
        }
      ],
      "source": [
        "print(df['scan_version'].value_counts())\n",
        "_ = df['scan_version'].value_counts().plot(kind='pie')"
      ]
    },
    {
      "cell_type": "code",
      "execution_count": 42,
      "metadata": {
        "gather": {
          "logged": 1689261353219
        },
        "jupyter": {
          "outputs_hidden": false,
          "source_hidden": false
        },
        "nteract": {
          "transient": {
            "deleting": false
          }
        }
      },
      "outputs": [
        {
          "name": "stdout",
          "output_type": "stream",
          "text": [
            "0     473\n",
            "1    1025\n",
            "2    1001\n",
            "3     995\n",
            "4    1071\n",
            "5      11\n",
            "Name: Years, dtype: int64\n"
          ]
        },
        {
          "data": {
            "image/png": "[encoded data removed]",
            "text/plain": [
              "<Figure size 640x480 with 1 Axes>"
            ]
          },
          "metadata": {},
          "output_type": "display_data"
        }
      ],
      "source": [
        "draw_age_distribution(unique_person_ids)"
      ]
    },
    {
      "cell_type": "code",
      "execution_count": 43,
      "metadata": {
        "gather": {
          "logged": 1689261374223
        },
        "jupyter": {
          "outputs_hidden": false,
          "source_hidden": false
        },
        "nteract": {
          "transient": {
            "deleting": false
          }
        }
      },
      "outputs": [
        {
          "name": "stdout",
          "output_type": "stream",
          "text": [
            "0     833\n",
            "1    2196\n",
            "2    2712\n",
            "3    2700\n",
            "4    2971\n",
            "5      31\n",
            "Name: Years, dtype: int64\n"
          ]
        },
        {
          "data": {
            "image/png": "[encoded data removed]",
            "text/plain": [
              "<Figure size 640x480 with 1 Axes>"
            ]
          },
          "metadata": {},
          "output_type": "display_data"
        }
      ],
      "source": [
        "draw_age_distribution(unique_scan_ids)"
      ]
    },
    {
      "cell_type": "code",
      "execution_count": 45,
      "metadata": {
        "gather": {
          "logged": 1689261393940
        },
        "jupyter": {
          "outputs_hidden": false,
          "source_hidden": false
        },
        "nteract": {
          "transient": {
            "deleting": false
          }
        }
      },
      "outputs": [
        {
          "name": "stdout",
          "output_type": "stream",
          "text": [
            "101    91288\n",
            "102    31371\n",
            "100    15302\n",
            "202     8573\n",
            "200     4151\n",
            "Name: scan_step, dtype: int64\n"
          ]
        },
        {
          "data": {
            "image/png": "[encoded data removed]",
            "text/plain": [
              "<Figure size 640x480 with 1 Axes>"
            ]
          },
          "metadata": {},
          "output_type": "display_data"
        }
      ],
      "source": [
        "## keys for different scan type and their distribution in dataset\n",
        "\"- 100 - standing front scan\",\n",
        "\"- 101 - standing 360 scan\",\n",
        "\"- 102 - standing back scan\",\n",
        "\"- 200 - lying front scan\",\n",
        "\"- 201 - lying side scan\",\n",
        "\"- 202 - lying back scan\"\n",
        "print(df['scan_step'].value_counts())\n",
        "_ = df['scan_step'].value_counts().plot(kind='pie')"
      ]
    },
    {
      "cell_type": "code",
      "execution_count": 47,
      "metadata": {
        "gather": {
          "logged": 1689261419914
        },
        "jupyter": {
          "outputs_hidden": false,
          "source_hidden": false
        },
        "nteract": {
          "transient": {
            "deleting": false
          }
        }
      },
      "outputs": [
        {
          "name": "stderr",
          "output_type": "stream",
          "text": [
            "2023-07-13 15:16:56,040 - INFO - scan_step - /mnt/batch/tasks/shared/LS_root/mounts/clusters/rbanka2/code/Users/rbanka/cgm-ml/cgmml/data_utils/dataset_EDA/data_utilities.py: line 52\n"
          ]
        },
        {
          "data": {
            "text/html": [
              "<div>\n",
              "<style scoped>\n",
              "    .dataframe tbody tr th:only-of-type {\n",
              "        vertical-align: middle;\n",
              "    }\n",
              "\n",
              "    .dataframe tbody tr th {\n",
              "        vertical-align: top;\n",
              "    }\n",
              "\n",
              "    .dataframe thead th {\n",
              "        text-align: right;\n",
              "    }\n",
              "</style>\n",
              "<table border=\"1\" class=\"dataframe\">\n",
              "  <thead>\n",
              "    <tr style=\"text-align: right;\">\n",
              "      <th></th>\n",
              "      <th>0</th>\n",
              "      <th>1</th>\n",
              "      <th>2</th>\n",
              "      <th>3</th>\n",
              "      <th>4</th>\n",
              "    </tr>\n",
              "    <tr>\n",
              "      <th>codes</th>\n",
              "      <th></th>\n",
              "      <th></th>\n",
              "      <th></th>\n",
              "      <th></th>\n",
              "      <th></th>\n",
              "    </tr>\n",
              "  </thead>\n",
              "  <tbody>\n",
              "    <tr>\n",
              "      <th>100</th>\n",
              "      <td>118</td>\n",
              "      <td>1717</td>\n",
              "      <td>3778</td>\n",
              "      <td>4313</td>\n",
              "      <td>5315</td>\n",
              "    </tr>\n",
              "    <tr>\n",
              "      <th>102</th>\n",
              "      <td>284</td>\n",
              "      <td>4002</td>\n",
              "      <td>8587</td>\n",
              "      <td>8720</td>\n",
              "      <td>9679</td>\n",
              "    </tr>\n",
              "    <tr>\n",
              "      <th>101</th>\n",
              "      <td>757</td>\n",
              "      <td>11593</td>\n",
              "      <td>24898</td>\n",
              "      <td>25513</td>\n",
              "      <td>28241</td>\n",
              "    </tr>\n",
              "    <tr>\n",
              "      <th>202</th>\n",
              "      <td>3749</td>\n",
              "      <td>4427</td>\n",
              "      <td>247</td>\n",
              "      <td>124</td>\n",
              "      <td>26</td>\n",
              "    </tr>\n",
              "    <tr>\n",
              "      <th>200</th>\n",
              "      <td>1859</td>\n",
              "      <td>2139</td>\n",
              "      <td>112</td>\n",
              "      <td>41</td>\n",
              "      <td>0</td>\n",
              "    </tr>\n",
              "  </tbody>\n",
              "</table>\n",
              "</div>"
            ],
            "text/plain": [
              "          0      1      2      3      4\n",
              "codes                                  \n",
              "100     118   1717   3778   4313   5315\n",
              "102     284   4002   8587   8720   9679\n",
              "101     757  11593  24898  25513  28241\n",
              "202    3749   4427    247    124     26\n",
              "200    1859   2139    112     41      0"
            ]
          },
          "execution_count": 47,
          "metadata": {},
          "output_type": "execute_result"
        }
      ],
      "source": [
        "scan_type_colname = 'scan_step' # for other datasets this can be \"key\"\n",
        "calculate_code_age_distribution(df, scan_type_colname)"
      ]
    },
    {
      "cell_type": "code",
      "execution_count": null,
      "metadata": {
        "jupyter": {
          "outputs_hidden": false,
          "source_hidden": false
        },
        "nteract": {
          "transient": {
            "deleting": false
          }
        }
      },
      "outputs": [],
      "source": []
    },
    {
      "cell_type": "markdown",
      "metadata": {
        "nteract": {
          "transient": {
            "deleting": false
          }
        }
      },
      "source": [
        "## Distribution of height, weight and age against each other"
      ]
    },
    {
      "cell_type": "code",
      "execution_count": 48,
      "metadata": {
        "gather": {
          "logged": 1689261446933
        },
        "jupyter": {
          "outputs_hidden": false,
          "source_hidden": false
        },
        "nteract": {
          "transient": {
            "deleting": false
          }
        }
      },
      "outputs": [
        {
          "data": {
            "text/html": [
              "<div>\n",
              "<style scoped>\n",
              "    .dataframe tbody tr th:only-of-type {\n",
              "        vertical-align: middle;\n",
              "    }\n",
              "\n",
              "    .dataframe tbody tr th {\n",
              "        vertical-align: top;\n",
              "    }\n",
              "\n",
              "    .dataframe thead th {\n",
              "        text-align: right;\n",
              "    }\n",
              "</style>\n",
              "<table border=\"1\" class=\"dataframe\">\n",
              "  <thead>\n",
              "    <tr style=\"text-align: right;\">\n",
              "      <th></th>\n",
              "      <th>scan_id</th>\n",
              "      <th>scan_step</th>\n",
              "      <th>scan_version</th>\n",
              "      <th>height</th>\n",
              "      <th>weight</th>\n",
              "      <th>muac</th>\n",
              "      <th>device_model</th>\n",
              "      <th>person_id</th>\n",
              "      <th>age</th>\n",
              "      <th>sex</th>\n",
              "      <th>depth_artifact_id</th>\n",
              "      <th>rgb_artifact_id</th>\n",
              "      <th>depth_file_path</th>\n",
              "      <th>rgb_file_path</th>\n",
              "      <th>seg_file_path</th>\n",
              "      <th>order_number</th>\n",
              "      <th>pose_data</th>\n",
              "      <th>no_of_person</th>\n",
              "      <th>device_pose</th>\n",
              "      <th>raw_header</th>\n",
              "      <th>angle</th>\n",
              "      <th>distance_to_child</th>\n",
              "      <th>depthmap_validity</th>\n",
              "      <th>pickle_file_path</th>\n",
              "      <th>Years</th>\n",
              "    </tr>\n",
              "  </thead>\n",
              "  <tbody>\n",
              "    <tr>\n",
              "      <th>0</th>\n",
              "      <td>0015cae6-178c-11ee-b1cd-6fc5ed6a033f</td>\n",
              "      <td>100</td>\n",
              "      <td>v1.2.0</td>\n",
              "      <td>67.2</td>\n",
              "      <td>7.25</td>\n",
              "      <td>13.2</td>\n",
              "      <td>HUAWEI VOG-L29</td>\n",
              "      <td>ff9f05b4-178b-11ee-b16b-2b6bcb7c4a05</td>\n",
              "      <td>424</td>\n",
              "      <td>male</td>\n",
              "      <td>0016d0a8-178c-11ee-b1ce-9f4fb659476d</td>\n",
              "      <td>001995cc-178c-11ee-b1d7-5bebc04a202e</td>\n",
              "      <td>1688160019793/5d6613d9-a980-4a74-a415-21f958a4...</td>\n",
              "      <td>1688160021803/c772d898-4f5e-4493-b55c-83d291ef...</td>\n",
              "      <td>1688554674654/c1f4bb7e-cb06-4f89-83b0-1f01d3b0...</td>\n",
              "      <td>1</td>\n",
              "      <td>{'Pose Scores': '0.1351201832294464', 'Pose Re...</td>\n",
              "      <td>2.0</td>\n",
              "      <td>[-0.6657566243886109, -0.7442855129318473, -0....</td>\n",
              "      <td>240x180_0.001_7_-0.32789356_0.69144475_0.59563...</td>\n",
              "      <td>-41.574315</td>\n",
              "      <td>0.362</td>\n",
              "      <td>0.891329</td>\n",
              "      <td>scans/ff9f05b4-178b-11ee-b16b-2b6bcb7c4a05/100...</td>\n",
              "      <td>1</td>\n",
              "    </tr>\n",
              "    <tr>\n",
              "      <th>1</th>\n",
              "      <td>0019bda8-163e-11ee-9f3f-1ff29029e51a</td>\n",
              "      <td>100</td>\n",
              "      <td>v0.8</td>\n",
              "      <td>101.8</td>\n",
              "      <td>14.85</td>\n",
              "      <td>14.3</td>\n",
              "      <td>HUAWEI VOG-L29</td>\n",
              "      <td>fde725ca-163d-11ee-9d7c-cfee004ba43d</td>\n",
              "      <td>1407</td>\n",
              "      <td>female</td>\n",
              "      <td>001a62a8-163e-11ee-9f41-6b3f2e931c4e</td>\n",
              "      <td>001beb46-163e-11ee-9f4b-9f1490c8ef63</td>\n",
              "      <td>1688016582307/573d7b71-d500-4405-b280-1669820b...</td>\n",
              "      <td>1688016584333/272385aa-966a-41d2-bbb3-0c59fc21...</td>\n",
              "      <td>1688502968618/472e1059-4bf3-4b6c-bdd9-571d7f42...</td>\n",
              "      <td>2</td>\n",
              "      <td>{'Pose Scores': '0.9608679413795471', 'Pose Re...</td>\n",
              "      <td>1.0</td>\n",
              "      <td>[-0.20186411074441837, -0.9794118894204097, -0...</td>\n",
              "      <td>240x180_0.001_7_-0.46710086_0.5808739_0.519281...</td>\n",
              "      <td>-12.283541</td>\n",
              "      <td>0.701</td>\n",
              "      <td>0.835544</td>\n",
              "      <td>scans/fde725ca-163d-11ee-9d7c-cfee004ba43d/100...</td>\n",
              "      <td>3</td>\n",
              "    </tr>\n",
              "    <tr>\n",
              "      <th>7</th>\n",
              "      <td>0023158e-1818-11ee-bb01-c3b956fbd10b</td>\n",
              "      <td>102</td>\n",
              "      <td>v1.2.1</td>\n",
              "      <td>101.5</td>\n",
              "      <td>13.90</td>\n",
              "      <td>14.1</td>\n",
              "      <td>HUAWEI VOG-L29</td>\n",
              "      <td>ffaabbc0-1817-11ee-ba99-1b48bcd93175</td>\n",
              "      <td>1740</td>\n",
              "      <td>female</td>\n",
              "      <td>00246d80-1818-11ee-bb05-bb8d44325112</td>\n",
              "      <td>0026780a-1818-11ee-bb0e-f3934a21c7a9</td>\n",
              "      <td>1688220136979/ef5128a3-a584-45b6-a5c0-891369fa...</td>\n",
              "      <td>1688220138626/859ab704-f47d-48a5-bfef-ad40ebd9...</td>\n",
              "      <td>1688504375746/8ed2b3a3-9aa7-4a0c-95b3-b2a93cde...</td>\n",
              "      <td>4</td>\n",
              "      <td>{'Pose Scores': '0.8424365520477295', 'Pose Re...</td>\n",
              "      <td>1.0</td>\n",
              "      <td>[-0.5715028998635308, -0.8092605768604179, -0....</td>\n",
              "      <td>240x180_0.001_7_-0.3574718_0.6629384_0.6108135...</td>\n",
              "      <td>-39.440316</td>\n",
              "      <td>0.574</td>\n",
              "      <td>0.871739</td>\n",
              "      <td>scans/ffaabbc0-1817-11ee-ba99-1b48bcd93175/102...</td>\n",
              "      <td>4</td>\n",
              "    </tr>\n",
              "    <tr>\n",
              "      <th>16</th>\n",
              "      <td>00258374-177c-11ee-b3aa-077414d42183</td>\n",
              "      <td>102</td>\n",
              "      <td>v1.2.0</td>\n",
              "      <td>87.7</td>\n",
              "      <td>10.40</td>\n",
              "      <td>13.8</td>\n",
              "      <td>HUAWEI VOG-L29</td>\n",
              "      <td>ff985d5a-177b-11ee-b338-8f946759bfd3</td>\n",
              "      <td>1055</td>\n",
              "      <td>female</td>\n",
              "      <td>00263332-177c-11ee-b3ac-139e727936ea</td>\n",
              "      <td>00283056-177c-11ee-b3b5-93d5c5059d1a</td>\n",
              "      <td>1688153129614/c1bf645b-921c-4703-bf11-6c2958b5...</td>\n",
              "      <td>1688153131144/79cdbe34-930d-4d55-91a6-ab1d807d...</td>\n",
              "      <td>1688567583080/0ea3b086-a166-4ffa-9cb1-a4e1baf5...</td>\n",
              "      <td>2</td>\n",
              "      <td>{'Pose Scores': '0.799994', 'Pose Results': \"{...</td>\n",
              "      <td>1.0</td>\n",
              "      <td>[-0.6320017291171132, -0.7711729326670225, 0.0...</td>\n",
              "      <td>240x180_0.001_7_-0.32451552_0.62281615_0.64223...</td>\n",
              "      <td>-36.917027</td>\n",
              "      <td>0.682</td>\n",
              "      <td>0.871391</td>\n",
              "      <td>scans/ff985d5a-177b-11ee-b338-8f946759bfd3/102...</td>\n",
              "      <td>2</td>\n",
              "    </tr>\n",
              "    <tr>\n",
              "      <th>25</th>\n",
              "      <td>00286db4-17ef-11ee-b251-d7bd14a2f1cf</td>\n",
              "      <td>102</td>\n",
              "      <td>v1.2.1</td>\n",
              "      <td>100.0</td>\n",
              "      <td>13.95</td>\n",
              "      <td>15.4</td>\n",
              "      <td>HUAWEI VOG-L29</td>\n",
              "      <td>fe445a44-17ee-11ee-b0c2-a3084a66cd93</td>\n",
              "      <td>1395</td>\n",
              "      <td>male</td>\n",
              "      <td>00294432-17ef-11ee-b253-c3b7fab02d8b</td>\n",
              "      <td>002b16cc-17ef-11ee-b25b-1399e0e976ca</td>\n",
              "      <td>1688202550477/18df201d-5f70-4ded-a570-fb9ba7dd...</td>\n",
              "      <td>1688202552317/bdaa3859-0466-4423-9581-cd0807b6...</td>\n",
              "      <td>1688503906744/769928a6-f510-4800-8649-078dd5af...</td>\n",
              "      <td>7</td>\n",
              "      <td>{'Pose Scores': '0.88713384', 'Pose Results': ...</td>\n",
              "      <td>1.0</td>\n",
              "      <td>[-0.6320017291171132, -0.7711729326670225, 0.0...</td>\n",
              "      <td>240x180_0.001_7_-0.3401329_0.59390426_0.640069...</td>\n",
              "      <td>-31.518399</td>\n",
              "      <td>0.634</td>\n",
              "      <td>0.854276</td>\n",
              "      <td>scans/fe445a44-17ee-11ee-b0c2-a3084a66cd93/102...</td>\n",
              "      <td>3</td>\n",
              "    </tr>\n",
              "  </tbody>\n",
              "</table>\n",
              "</div>"
            ],
            "text/plain": [
              "                                 scan_id  scan_step scan_version  height  \\\n",
              "0   0015cae6-178c-11ee-b1cd-6fc5ed6a033f        100       v1.2.0    67.2   \n",
              "1   0019bda8-163e-11ee-9f3f-1ff29029e51a        100         v0.8   101.8   \n",
              "7   0023158e-1818-11ee-bb01-c3b956fbd10b        102       v1.2.1   101.5   \n",
              "16  00258374-177c-11ee-b3aa-077414d42183        102       v1.2.0    87.7   \n",
              "25  00286db4-17ef-11ee-b251-d7bd14a2f1cf        102       v1.2.1   100.0   \n",
              "\n",
              "    weight  muac    device_model                             person_id   age  \\\n",
              "0     7.25  13.2  HUAWEI VOG-L29  ff9f05b4-178b-11ee-b16b-2b6bcb7c4a05   424   \n",
              "1    14.85  14.3  HUAWEI VOG-L29  fde725ca-163d-11ee-9d7c-cfee004ba43d  1407   \n",
              "7    13.90  14.1  HUAWEI VOG-L29  ffaabbc0-1817-11ee-ba99-1b48bcd93175  1740   \n",
              "16   10.40  13.8  HUAWEI VOG-L29  ff985d5a-177b-11ee-b338-8f946759bfd3  1055   \n",
              "25   13.95  15.4  HUAWEI VOG-L29  fe445a44-17ee-11ee-b0c2-a3084a66cd93  1395   \n",
              "\n",
              "       sex                     depth_artifact_id  \\\n",
              "0     male  0016d0a8-178c-11ee-b1ce-9f4fb659476d   \n",
              "1   female  001a62a8-163e-11ee-9f41-6b3f2e931c4e   \n",
              "7   female  00246d80-1818-11ee-bb05-bb8d44325112   \n",
              "16  female  00263332-177c-11ee-b3ac-139e727936ea   \n",
              "25    male  00294432-17ef-11ee-b253-c3b7fab02d8b   \n",
              "\n",
              "                         rgb_artifact_id  \\\n",
              "0   001995cc-178c-11ee-b1d7-5bebc04a202e   \n",
              "1   001beb46-163e-11ee-9f4b-9f1490c8ef63   \n",
              "7   0026780a-1818-11ee-bb0e-f3934a21c7a9   \n",
              "16  00283056-177c-11ee-b3b5-93d5c5059d1a   \n",
              "25  002b16cc-17ef-11ee-b25b-1399e0e976ca   \n",
              "\n",
              "                                      depth_file_path  \\\n",
              "0   1688160019793/5d6613d9-a980-4a74-a415-21f958a4...   \n",
              "1   1688016582307/573d7b71-d500-4405-b280-1669820b...   \n",
              "7   1688220136979/ef5128a3-a584-45b6-a5c0-891369fa...   \n",
              "16  1688153129614/c1bf645b-921c-4703-bf11-6c2958b5...   \n",
              "25  1688202550477/18df201d-5f70-4ded-a570-fb9ba7dd...   \n",
              "\n",
              "                                        rgb_file_path  \\\n",
              "0   1688160021803/c772d898-4f5e-4493-b55c-83d291ef...   \n",
              "1   1688016584333/272385aa-966a-41d2-bbb3-0c59fc21...   \n",
              "7   1688220138626/859ab704-f47d-48a5-bfef-ad40ebd9...   \n",
              "16  1688153131144/79cdbe34-930d-4d55-91a6-ab1d807d...   \n",
              "25  1688202552317/bdaa3859-0466-4423-9581-cd0807b6...   \n",
              "\n",
              "                                        seg_file_path  order_number  \\\n",
              "0   1688554674654/c1f4bb7e-cb06-4f89-83b0-1f01d3b0...             1   \n",
              "1   1688502968618/472e1059-4bf3-4b6c-bdd9-571d7f42...             2   \n",
              "7   1688504375746/8ed2b3a3-9aa7-4a0c-95b3-b2a93cde...             4   \n",
              "16  1688567583080/0ea3b086-a166-4ffa-9cb1-a4e1baf5...             2   \n",
              "25  1688503906744/769928a6-f510-4800-8649-078dd5af...             7   \n",
              "\n",
              "                                            pose_data  no_of_person  \\\n",
              "0   {'Pose Scores': '0.1351201832294464', 'Pose Re...           2.0   \n",
              "1   {'Pose Scores': '0.9608679413795471', 'Pose Re...           1.0   \n",
              "7   {'Pose Scores': '0.8424365520477295', 'Pose Re...           1.0   \n",
              "16  {'Pose Scores': '0.799994', 'Pose Results': \"{...           1.0   \n",
              "25  {'Pose Scores': '0.88713384', 'Pose Results': ...           1.0   \n",
              "\n",
              "                                          device_pose  \\\n",
              "0   [-0.6657566243886109, -0.7442855129318473, -0....   \n",
              "1   [-0.20186411074441837, -0.9794118894204097, -0...   \n",
              "7   [-0.5715028998635308, -0.8092605768604179, -0....   \n",
              "16  [-0.6320017291171132, -0.7711729326670225, 0.0...   \n",
              "25  [-0.6320017291171132, -0.7711729326670225, 0.0...   \n",
              "\n",
              "                                           raw_header      angle  \\\n",
              "0   240x180_0.001_7_-0.32789356_0.69144475_0.59563... -41.574315   \n",
              "1   240x180_0.001_7_-0.46710086_0.5808739_0.519281... -12.283541   \n",
              "7   240x180_0.001_7_-0.3574718_0.6629384_0.6108135... -39.440316   \n",
              "16  240x180_0.001_7_-0.32451552_0.62281615_0.64223... -36.917027   \n",
              "25  240x180_0.001_7_-0.3401329_0.59390426_0.640069... -31.518399   \n",
              "\n",
              "    distance_to_child  depthmap_validity  \\\n",
              "0               0.362           0.891329   \n",
              "1               0.701           0.835544   \n",
              "7               0.574           0.871739   \n",
              "16              0.682           0.871391   \n",
              "25              0.634           0.854276   \n",
              "\n",
              "                                     pickle_file_path  Years  \n",
              "0   scans/ff9f05b4-178b-11ee-b16b-2b6bcb7c4a05/100...      1  \n",
              "1   scans/fde725ca-163d-11ee-9d7c-cfee004ba43d/100...      3  \n",
              "7   scans/ffaabbc0-1817-11ee-ba99-1b48bcd93175/102...      4  \n",
              "16  scans/ff985d5a-177b-11ee-b338-8f946759bfd3/102...      2  \n",
              "25  scans/fe445a44-17ee-11ee-b0c2-a3084a66cd93/102...      3  "
            ]
          },
          "execution_count": 48,
          "metadata": {},
          "output_type": "execute_result"
        }
      ],
      "source": [
        "unique_scan_ids.head()"
      ]
    },
    {
      "cell_type": "code",
      "execution_count": 50,
      "metadata": {
        "gather": {
          "logged": 1689261463361
        },
        "jupyter": {
          "outputs_hidden": false,
          "source_hidden": false
        },
        "nteract": {
          "transient": {
            "deleting": false
          }
        }
      },
      "outputs": [
        {
          "data": {
            "image/png": "[encoded data removed]",
            "text/plain": [
              "<Figure size 640x480 with 1 Axes>"
            ]
          },
          "metadata": {},
          "output_type": "display_data"
        }
      ],
      "source": [
        "#distribution of height against age\n",
        "height_vs_age = unique_scan_ids.plot.scatter(x='height', y='age', c='red')"
      ]
    },
    {
      "cell_type": "code",
      "execution_count": 51,
      "metadata": {
        "gather": {
          "logged": 1689261479434
        },
        "jupyter": {
          "outputs_hidden": false,
          "source_hidden": false
        },
        "nteract": {
          "transient": {
            "deleting": false
          }
        }
      },
      "outputs": [
        {
          "data": {
            "image/png": "[encoded data removed]",
            "text/plain": [
              "<Figure size 640x480 with 1 Axes>"
            ]
          },
          "metadata": {},
          "output_type": "display_data"
        }
      ],
      "source": [
        "#distribution of weight against age\n",
        "weight_vs_age = unique_scan_ids.plot.scatter(x='weight', y='age', c='red')"
      ]
    },
    {
      "cell_type": "code",
      "execution_count": 52,
      "metadata": {
        "gather": {
          "logged": 1689261499012
        },
        "jupyter": {
          "outputs_hidden": false,
          "source_hidden": false
        },
        "nteract": {
          "transient": {
            "deleting": false
          }
        }
      },
      "outputs": [
        {
          "data": {
            "image/png": "[encoded data removed]",
            "text/plain": [
              "<Figure size 640x480 with 1 Axes>"
            ]
          },
          "metadata": {},
          "output_type": "display_data"
        }
      ],
      "source": [
        "weight_vs_height = unique_scan_ids.plot.scatter(x='height', y='weight', c='red')"
      ]
    },
    {
      "cell_type": "code",
      "execution_count": null,
      "metadata": {
        "jupyter": {
          "outputs_hidden": false,
          "source_hidden": false
        },
        "nteract": {
          "transient": {
            "deleting": false
          }
        }
      },
      "outputs": [],
      "source": []
    },
    {
      "cell_type": "markdown",
      "metadata": {
        "nteract": {
          "transient": {
            "deleting": false
          }
        }
      },
      "source": [
        "## Analyze outliers: 1) age, 2) weight, 3) height, 4) pixel values"
      ]
    },
    {
      "cell_type": "code",
      "execution_count": 53,
      "metadata": {
        "gather": {
          "logged": 1689261531132
        },
        "jupyter": {
          "outputs_hidden": false,
          "source_hidden": false
        },
        "nteract": {
          "transient": {
            "deleting": false
          }
        }
      },
      "outputs": [
        {
          "data": {
            "text/html": [
              "<div>\n",
              "<style scoped>\n",
              "    .dataframe tbody tr th:only-of-type {\n",
              "        vertical-align: middle;\n",
              "    }\n",
              "\n",
              "    .dataframe tbody tr th {\n",
              "        vertical-align: top;\n",
              "    }\n",
              "\n",
              "    .dataframe thead th {\n",
              "        text-align: right;\n",
              "    }\n",
              "</style>\n",
              "<table border=\"1\" class=\"dataframe\">\n",
              "  <thead>\n",
              "    <tr style=\"text-align: right;\">\n",
              "      <th></th>\n",
              "      <th>scan_step</th>\n",
              "      <th>height</th>\n",
              "      <th>weight</th>\n",
              "      <th>muac</th>\n",
              "      <th>age</th>\n",
              "      <th>order_number</th>\n",
              "      <th>no_of_person</th>\n",
              "      <th>angle</th>\n",
              "      <th>distance_to_child</th>\n",
              "      <th>depthmap_validity</th>\n",
              "      <th>Years</th>\n",
              "    </tr>\n",
              "  </thead>\n",
              "  <tbody>\n",
              "    <tr>\n",
              "      <th>count</th>\n",
              "      <td>150685.000000</td>\n",
              "      <td>150685.000000</td>\n",
              "      <td>150685.000000</td>\n",
              "      <td>150685.000000</td>\n",
              "      <td>150685.000000</td>\n",
              "      <td>150685.000000</td>\n",
              "      <td>150685.000000</td>\n",
              "      <td>150669.000000</td>\n",
              "      <td>1.506850e+05</td>\n",
              "      <td>150685.000000</td>\n",
              "      <td>150685.000000</td>\n",
              "    </tr>\n",
              "    <tr>\n",
              "      <th>mean</th>\n",
              "      <td>109.580091</td>\n",
              "      <td>87.670092</td>\n",
              "      <td>11.095012</td>\n",
              "      <td>13.843073</td>\n",
              "      <td>1139.724418</td>\n",
              "      <td>10.244006</td>\n",
              "      <td>1.082722</td>\n",
              "      <td>-37.884001</td>\n",
              "      <td>1.101773e+15</td>\n",
              "      <td>0.875230</td>\n",
              "      <td>2.591691</td>\n",
              "    </tr>\n",
              "    <tr>\n",
              "      <th>std</th>\n",
              "      <td>27.875816</td>\n",
              "      <td>10.253883</td>\n",
              "      <td>2.393344</td>\n",
              "      <td>1.005657</td>\n",
              "      <td>437.332443</td>\n",
              "      <td>7.513434</td>\n",
              "      <td>0.375618</td>\n",
              "      <td>16.769335</td>\n",
              "      <td>1.008014e+17</td>\n",
              "      <td>0.057126</td>\n",
              "      <td>1.191607</td>\n",
              "    </tr>\n",
              "    <tr>\n",
              "      <th>min</th>\n",
              "      <td>100.000000</td>\n",
              "      <td>57.000000</td>\n",
              "      <td>3.600000</td>\n",
              "      <td>9.600000</td>\n",
              "      <td>183.000000</td>\n",
              "      <td>1.000000</td>\n",
              "      <td>1.000000</td>\n",
              "      <td>-89.990946</td>\n",
              "      <td>2.800000e-02</td>\n",
              "      <td>0.000000</td>\n",
              "      <td>0.000000</td>\n",
              "    </tr>\n",
              "    <tr>\n",
              "      <th>25%</th>\n",
              "      <td>101.000000</td>\n",
              "      <td>80.200000</td>\n",
              "      <td>9.350000</td>\n",
              "      <td>13.200000</td>\n",
              "      <td>804.000000</td>\n",
              "      <td>4.000000</td>\n",
              "      <td>1.000000</td>\n",
              "      <td>-43.311899</td>\n",
              "      <td>4.820000e-01</td>\n",
              "      <td>0.846431</td>\n",
              "      <td>2.000000</td>\n",
              "    </tr>\n",
              "    <tr>\n",
              "      <th>50%</th>\n",
              "      <td>101.000000</td>\n",
              "      <td>88.300000</td>\n",
              "      <td>11.100000</td>\n",
              "      <td>13.800000</td>\n",
              "      <td>1167.000000</td>\n",
              "      <td>8.000000</td>\n",
              "      <td>1.000000</td>\n",
              "      <td>-36.015206</td>\n",
              "      <td>5.920000e-01</td>\n",
              "      <td>0.876995</td>\n",
              "      <td>3.000000</td>\n",
              "    </tr>\n",
              "    <tr>\n",
              "      <th>75%</th>\n",
              "      <td>102.000000</td>\n",
              "      <td>95.700000</td>\n",
              "      <td>12.700000</td>\n",
              "      <td>14.500000</td>\n",
              "      <td>1517.000000</td>\n",
              "      <td>16.000000</td>\n",
              "      <td>1.000000</td>\n",
              "      <td>-27.798797</td>\n",
              "      <td>7.020000e-01</td>\n",
              "      <td>0.907535</td>\n",
              "      <td>4.000000</td>\n",
              "    </tr>\n",
              "    <tr>\n",
              "      <th>max</th>\n",
              "      <td>202.000000</td>\n",
              "      <td>116.700000</td>\n",
              "      <td>20.650000</td>\n",
              "      <td>18.200000</td>\n",
              "      <td>1825.000000</td>\n",
              "      <td>52.000000</td>\n",
              "      <td>13.000000</td>\n",
              "      <td>9.893391</td>\n",
              "      <td>9.223372e+18</td>\n",
              "      <td>1.000000</td>\n",
              "      <td>5.000000</td>\n",
              "    </tr>\n",
              "  </tbody>\n",
              "</table>\n",
              "</div>"
            ],
            "text/plain": [
              "           scan_step         height         weight           muac  \\\n",
              "count  150685.000000  150685.000000  150685.000000  150685.000000   \n",
              "mean      109.580091      87.670092      11.095012      13.843073   \n",
              "std        27.875816      10.253883       2.393344       1.005657   \n",
              "min       100.000000      57.000000       3.600000       9.600000   \n",
              "25%       101.000000      80.200000       9.350000      13.200000   \n",
              "50%       101.000000      88.300000      11.100000      13.800000   \n",
              "75%       102.000000      95.700000      12.700000      14.500000   \n",
              "max       202.000000     116.700000      20.650000      18.200000   \n",
              "\n",
              "                 age   order_number   no_of_person          angle  \\\n",
              "count  150685.000000  150685.000000  150685.000000  150669.000000   \n",
              "mean     1139.724418      10.244006       1.082722     -37.884001   \n",
              "std       437.332443       7.513434       0.375618      16.769335   \n",
              "min       183.000000       1.000000       1.000000     -89.990946   \n",
              "25%       804.000000       4.000000       1.000000     -43.311899   \n",
              "50%      1167.000000       8.000000       1.000000     -36.015206   \n",
              "75%      1517.000000      16.000000       1.000000     -27.798797   \n",
              "max      1825.000000      52.000000      13.000000       9.893391   \n",
              "\n",
              "       distance_to_child  depthmap_validity          Years  \n",
              "count       1.506850e+05      150685.000000  150685.000000  \n",
              "mean        1.101773e+15           0.875230       2.591691  \n",
              "std         1.008014e+17           0.057126       1.191607  \n",
              "min         2.800000e-02           0.000000       0.000000  \n",
              "25%         4.820000e-01           0.846431       2.000000  \n",
              "50%         5.920000e-01           0.876995       3.000000  \n",
              "75%         7.020000e-01           0.907535       4.000000  \n",
              "max         9.223372e+18           1.000000       5.000000  "
            ]
          },
          "execution_count": 53,
          "metadata": {},
          "output_type": "execute_result"
        }
      ],
      "source": [
        "df.describe()"
      ]
    },
    {
      "cell_type": "code",
      "execution_count": 54,
      "metadata": {
        "gather": {
          "logged": 1689261541151
        },
        "jupyter": {
          "outputs_hidden": false,
          "source_hidden": false
        },
        "nteract": {
          "transient": {
            "deleting": false
          }
        }
      },
      "outputs": [
        {
          "data": {
            "text/html": [
              "<div>\n",
              "<style scoped>\n",
              "    .dataframe tbody tr th:only-of-type {\n",
              "        vertical-align: middle;\n",
              "    }\n",
              "\n",
              "    .dataframe tbody tr th {\n",
              "        vertical-align: top;\n",
              "    }\n",
              "\n",
              "    .dataframe thead th {\n",
              "        text-align: right;\n",
              "    }\n",
              "</style>\n",
              "<table border=\"1\" class=\"dataframe\">\n",
              "  <thead>\n",
              "    <tr style=\"text-align: right;\">\n",
              "      <th></th>\n",
              "      <th>scan_step</th>\n",
              "      <th>height</th>\n",
              "      <th>weight</th>\n",
              "      <th>muac</th>\n",
              "      <th>age</th>\n",
              "      <th>order_number</th>\n",
              "      <th>no_of_person</th>\n",
              "      <th>angle</th>\n",
              "      <th>distance_to_child</th>\n",
              "      <th>depthmap_validity</th>\n",
              "      <th>Years</th>\n",
              "    </tr>\n",
              "  </thead>\n",
              "  <tbody>\n",
              "    <tr>\n",
              "      <th>count</th>\n",
              "      <td>11443.000000</td>\n",
              "      <td>11443.000000</td>\n",
              "      <td>11443.000000</td>\n",
              "      <td>11443.000000</td>\n",
              "      <td>11443.000000</td>\n",
              "      <td>11443.000000</td>\n",
              "      <td>11443.000000</td>\n",
              "      <td>11442.000000</td>\n",
              "      <td>1.144300e+04</td>\n",
              "      <td>11443.000000</td>\n",
              "      <td>11443.000000</td>\n",
              "    </tr>\n",
              "    <tr>\n",
              "      <th>mean</th>\n",
              "      <td>116.332343</td>\n",
              "      <td>86.273818</td>\n",
              "      <td>10.809511</td>\n",
              "      <td>13.789505</td>\n",
              "      <td>1080.310583</td>\n",
              "      <td>7.326226</td>\n",
              "      <td>1.091410</td>\n",
              "      <td>-40.191706</td>\n",
              "      <td>1.612055e+15</td>\n",
              "      <td>0.883135</td>\n",
              "      <td>2.425850</td>\n",
              "    </tr>\n",
              "    <tr>\n",
              "      <th>std</th>\n",
              "      <td>35.961438</td>\n",
              "      <td>10.878023</td>\n",
              "      <td>2.489815</td>\n",
              "      <td>1.014788</td>\n",
              "      <td>461.559089</td>\n",
              "      <td>6.119728</td>\n",
              "      <td>0.385725</td>\n",
              "      <td>19.341646</td>\n",
              "      <td>1.219315e+17</td>\n",
              "      <td>0.058857</td>\n",
              "      <td>1.265209</td>\n",
              "    </tr>\n",
              "    <tr>\n",
              "      <th>min</th>\n",
              "      <td>100.000000</td>\n",
              "      <td>57.000000</td>\n",
              "      <td>3.600000</td>\n",
              "      <td>9.600000</td>\n",
              "      <td>183.000000</td>\n",
              "      <td>1.000000</td>\n",
              "      <td>1.000000</td>\n",
              "      <td>-89.753799</td>\n",
              "      <td>3.000000e-02</td>\n",
              "      <td>0.000000</td>\n",
              "      <td>0.000000</td>\n",
              "    </tr>\n",
              "    <tr>\n",
              "      <th>25%</th>\n",
              "      <td>101.000000</td>\n",
              "      <td>78.400000</td>\n",
              "      <td>8.950000</td>\n",
              "      <td>13.100000</td>\n",
              "      <td>707.000000</td>\n",
              "      <td>3.000000</td>\n",
              "      <td>1.000000</td>\n",
              "      <td>-44.814450</td>\n",
              "      <td>4.790000e-01</td>\n",
              "      <td>0.852103</td>\n",
              "      <td>1.000000</td>\n",
              "    </tr>\n",
              "    <tr>\n",
              "      <th>50%</th>\n",
              "      <td>101.000000</td>\n",
              "      <td>87.000000</td>\n",
              "      <td>10.800000</td>\n",
              "      <td>13.700000</td>\n",
              "      <td>1092.000000</td>\n",
              "      <td>6.000000</td>\n",
              "      <td>1.000000</td>\n",
              "      <td>-36.426794</td>\n",
              "      <td>5.850000e-01</td>\n",
              "      <td>0.881794</td>\n",
              "      <td>2.000000</td>\n",
              "    </tr>\n",
              "    <tr>\n",
              "      <th>75%</th>\n",
              "      <td>102.000000</td>\n",
              "      <td>95.000000</td>\n",
              "      <td>12.550000</td>\n",
              "      <td>14.400000</td>\n",
              "      <td>1477.000000</td>\n",
              "      <td>9.000000</td>\n",
              "      <td>1.000000</td>\n",
              "      <td>-28.072702</td>\n",
              "      <td>6.900000e-01</td>\n",
              "      <td>0.916020</td>\n",
              "      <td>4.000000</td>\n",
              "    </tr>\n",
              "    <tr>\n",
              "      <th>max</th>\n",
              "      <td>202.000000</td>\n",
              "      <td>116.700000</td>\n",
              "      <td>20.650000</td>\n",
              "      <td>18.200000</td>\n",
              "      <td>1825.000000</td>\n",
              "      <td>42.000000</td>\n",
              "      <td>8.000000</td>\n",
              "      <td>9.893391</td>\n",
              "      <td>9.223372e+18</td>\n",
              "      <td>1.000000</td>\n",
              "      <td>5.000000</td>\n",
              "    </tr>\n",
              "  </tbody>\n",
              "</table>\n",
              "</div>"
            ],
            "text/plain": [
              "          scan_step        height        weight          muac           age  \\\n",
              "count  11443.000000  11443.000000  11443.000000  11443.000000  11443.000000   \n",
              "mean     116.332343     86.273818     10.809511     13.789505   1080.310583   \n",
              "std       35.961438     10.878023      2.489815      1.014788    461.559089   \n",
              "min      100.000000     57.000000      3.600000      9.600000    183.000000   \n",
              "25%      101.000000     78.400000      8.950000     13.100000    707.000000   \n",
              "50%      101.000000     87.000000     10.800000     13.700000   1092.000000   \n",
              "75%      102.000000     95.000000     12.550000     14.400000   1477.000000   \n",
              "max      202.000000    116.700000     20.650000     18.200000   1825.000000   \n",
              "\n",
              "       order_number  no_of_person         angle  distance_to_child  \\\n",
              "count  11443.000000  11443.000000  11442.000000       1.144300e+04   \n",
              "mean       7.326226      1.091410    -40.191706       1.612055e+15   \n",
              "std        6.119728      0.385725     19.341646       1.219315e+17   \n",
              "min        1.000000      1.000000    -89.753799       3.000000e-02   \n",
              "25%        3.000000      1.000000    -44.814450       4.790000e-01   \n",
              "50%        6.000000      1.000000    -36.426794       5.850000e-01   \n",
              "75%        9.000000      1.000000    -28.072702       6.900000e-01   \n",
              "max       42.000000      8.000000      9.893391       9.223372e+18   \n",
              "\n",
              "       depthmap_validity         Years  \n",
              "count       11443.000000  11443.000000  \n",
              "mean            0.883135      2.425850  \n",
              "std             0.058857      1.265209  \n",
              "min             0.000000      0.000000  \n",
              "25%             0.852103      1.000000  \n",
              "50%             0.881794      2.000000  \n",
              "75%             0.916020      4.000000  \n",
              "max             1.000000      5.000000  "
            ]
          },
          "execution_count": 54,
          "metadata": {},
          "output_type": "execute_result"
        }
      ],
      "source": [
        "unique_scan_ids.describe()"
      ]
    },
    {
      "cell_type": "markdown",
      "metadata": {
        "nteract": {
          "transient": {
            "deleting": false
          }
        }
      },
      "source": [
        "### 1) Check age"
      ]
    },
    {
      "cell_type": "code",
      "execution_count": 55,
      "metadata": {
        "gather": {
          "logged": 1689261575203
        },
        "jupyter": {
          "outputs_hidden": false,
          "source_hidden": false
        },
        "nteract": {
          "transient": {
            "deleting": false
          }
        }
      },
      "outputs": [
        {
          "name": "stdout",
          "output_type": "stream",
          "text": [
            "Running the following query: @df.age<365/2\n",
            "No. of outliers: 0\n"
          ]
        },
        {
          "data": {
            "text/plain": [
              "[]"
            ]
          },
          "execution_count": 55,
          "metadata": {},
          "output_type": "execute_result"
        }
      ],
      "source": [
        "find_outliers(df, 'age', '<365/2', data_id_name='person_id')"
      ]
    },
    {
      "cell_type": "code",
      "execution_count": 56,
      "metadata": {
        "gather": {
          "logged": 1689261586101
        },
        "jupyter": {
          "outputs_hidden": false,
          "source_hidden": false
        },
        "nteract": {
          "transient": {
            "deleting": false
          }
        }
      },
      "outputs": [
        {
          "name": "stdout",
          "output_type": "stream",
          "text": [
            "Running the following query: @df.age<365/2\n",
            "No. of outliers: 0\n"
          ]
        },
        {
          "data": {
            "text/plain": [
              "[]"
            ]
          },
          "execution_count": 56,
          "metadata": {},
          "output_type": "execute_result"
        }
      ],
      "source": [
        "find_outliers(df, 'age', '<365/2', data_id_name='scan_id')"
      ]
    },
    {
      "cell_type": "code",
      "execution_count": 57,
      "metadata": {
        "gather": {
          "logged": 1689261602133
        },
        "jupyter": {
          "outputs_hidden": false,
          "source_hidden": false
        },
        "nteract": {
          "transient": {
            "deleting": false
          }
        }
      },
      "outputs": [
        {
          "name": "stdout",
          "output_type": "stream",
          "text": [
            "Running the following query: @df.age>365*6\n",
            "No. of outliers: 0\n"
          ]
        },
        {
          "data": {
            "text/plain": [
              "[]"
            ]
          },
          "execution_count": 57,
          "metadata": {},
          "output_type": "execute_result"
        }
      ],
      "source": [
        "find_outliers(df, 'age', '>365*6', data_id_name='scan_id')"
      ]
    },
    {
      "cell_type": "markdown",
      "metadata": {
        "nteract": {
          "transient": {
            "deleting": false
          }
        }
      },
      "source": [
        "### 2) Check weight"
      ]
    },
    {
      "cell_type": "code",
      "execution_count": 59,
      "metadata": {
        "gather": {
          "logged": 1689261642114
        },
        "jupyter": {
          "outputs_hidden": false,
          "source_hidden": false
        },
        "nteract": {
          "transient": {
            "deleting": false
          }
        }
      },
      "outputs": [
        {
          "name": "stdout",
          "output_type": "stream",
          "text": [
            "Running the following query: @df.weight<5.0\n",
            "No. of outliers: 12\n"
          ]
        },
        {
          "data": {
            "text/plain": [
              "['110b6796-1810-11ee-b8b6-efa90b83c21b',\n",
              " '1163dda4-1810-11ee-b8f8-dbb3ba45bedf',\n",
              " '12170406-1810-11ee-b984-078c79266d8b',\n",
              " '19be322c-163c-11ee-b09c-4f282cd74d6d',\n",
              " '19c34156-177f-11ee-adf1-c709c8253187',\n",
              " '1b00b286-163c-11ee-b1a7-633cd923b7c9',\n",
              " '1b247d9e-177f-11ee-af03-13a75bb39ba6',\n",
              " '34bf5136-17be-11ee-a4e3-cb3b3fec44c6',\n",
              " '3609b6b2-17be-11ee-a5fe-07ba1a05a155',\n",
              " '8465ad46-1658-11ee-af0e-f7f60e24a5ec',\n",
              " 'e7679bcc-1629-11ee-aa71-4b9afca66963',\n",
              " 'e91c8c34-1629-11ee-abbd-e7ebe8227cb7']"
            ]
          },
          "execution_count": 59,
          "metadata": {},
          "output_type": "execute_result"
        }
      ],
      "source": [
        "find_outliers(df, 'weight', '<5.0', data_id_name='scan_id')"
      ]
    },
    {
      "cell_type": "code",
      "execution_count": 60,
      "metadata": {
        "gather": {
          "logged": 1689261657112
        },
        "jupyter": {
          "outputs_hidden": false,
          "source_hidden": false
        },
        "nteract": {
          "transient": {
            "deleting": false
          }
        }
      },
      "outputs": [
        {
          "name": "stdout",
          "output_type": "stream",
          "text": [
            "Running the following query: @df.weight>30.0\n",
            "No. of outliers: 0\n"
          ]
        },
        {
          "data": {
            "text/plain": [
              "[]"
            ]
          },
          "execution_count": 60,
          "metadata": {},
          "output_type": "execute_result"
        }
      ],
      "source": [
        "find_outliers(df, 'weight', '>30.0', data_id_name='scan_id')"
      ]
    },
    {
      "cell_type": "markdown",
      "metadata": {
        "nteract": {
          "transient": {
            "deleting": false
          }
        }
      },
      "source": [
        "### 3) Check height"
      ]
    },
    {
      "cell_type": "code",
      "execution_count": 61,
      "metadata": {
        "gather": {
          "logged": 1689261687238
        },
        "jupyter": {
          "outputs_hidden": false,
          "source_hidden": false
        },
        "nteract": {
          "transient": {
            "deleting": false
          }
        }
      },
      "outputs": [
        {
          "name": "stdout",
          "output_type": "stream",
          "text": [
            "Running the following query: @df.height<40.0\n",
            "No. of outliers: 0\n"
          ]
        },
        {
          "data": {
            "text/plain": [
              "[]"
            ]
          },
          "execution_count": 61,
          "metadata": {},
          "output_type": "execute_result"
        }
      ],
      "source": [
        "find_outliers(df, 'height', '<40.0', data_id_name='scan_id')"
      ]
    },
    {
      "cell_type": "code",
      "execution_count": 62,
      "metadata": {
        "gather": {
          "logged": 1689261703088
        },
        "jupyter": {
          "outputs_hidden": false,
          "source_hidden": false
        },
        "nteract": {
          "transient": {
            "deleting": false
          }
        }
      },
      "outputs": [
        {
          "name": "stdout",
          "output_type": "stream",
          "text": [
            "Running the following query: @df.height>150.0\n",
            "No. of outliers: 0\n"
          ]
        },
        {
          "data": {
            "text/plain": [
              "[]"
            ]
          },
          "execution_count": 62,
          "metadata": {},
          "output_type": "execute_result"
        }
      ],
      "source": [
        "find_outliers(df, 'height', '>150.0', data_id_name='scan_id')"
      ]
    },
    {
      "cell_type": "code",
      "execution_count": null,
      "metadata": {
        "jupyter": {
          "outputs_hidden": false,
          "source_hidden": false
        },
        "nteract": {
          "transient": {
            "deleting": false
          }
        }
      },
      "outputs": [],
      "source": []
    },
    {
      "cell_type": "code",
      "execution_count": 63,
      "metadata": {
        "gather": {
          "logged": 1689261713907
        },
        "jupyter": {
          "outputs_hidden": false,
          "source_hidden": false
        },
        "nteract": {
          "transient": {
            "deleting": false
          }
        }
      },
      "outputs": [],
      "source": [
        "# now close the mount context\n",
        "mount_ctx.stop()"
      ]
    }
  ],
  "metadata": {
    "kernel_info": {
      "name": "python38-azureml"
    },
    "kernelspec": {
      "display_name": "tf",
      "language": "python",
      "name": "python3"
    },
    "language_info": {
      "codemirror_mode": {
        "name": "ipython",
        "version": 3
      },
      "file_extension": ".py",
      "mimetype": "text/x-python",
      "name": "python",
      "nbconvert_exporter": "python",
      "pygments_lexer": "ipython3",
      "version": "3.9.13"
    },
    "microsoft": {
      "host": {
        "AzureML": {
          "notebookHasBeenCompleted": true
        }
      },
      "ms_spell_check": {
        "ms_spell_check_language": "en"
      }
    },
    "nteract": {
      "version": "nteract-front-end@1.0.0"
    }
  },
  "nbformat": 4,
  "nbformat_minor": 2
}
