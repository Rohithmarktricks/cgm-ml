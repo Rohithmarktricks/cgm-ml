{
 "cells": [
  {
   "cell_type": "code",
   "execution_count": 1,
   "metadata": {
    "gather": {
     "logged": 1688494686250
    }
   },
   "outputs": [],
   "source": [
    "%reload_ext autoreload\n",
    "%autoreload 2\n",
    "%matplotlib inline\n",
    "\n",
    "import os\n",
    "import shutil\n",
    "import pandas as pd\n",
    "from pathlib import Path\n",
    "import numpy as np\n",
    "import sys\n",
    "import matplotlib.pyplot as plt\n",
    "import pickle\n",
    "from tqdm import tqdm\n",
    "\n",
    "sys.path.append(str(Path(os.getcwd()).parent))\n",
    "from data_utilities import (\n",
    "    find_outliers, convert_age_from_days_to_years, draw_age_distribution, calculate_code_age_distribution)"
   ]
  },
  {
   "cell_type": "code",
   "execution_count": 2,
   "metadata": {
    "gather": {
     "logged": 1688494692143
    },
    "jupyter": {
     "outputs_hidden": false,
     "source_hidden": false
    },
    "nteract": {
     "transient": {
      "deleting": false
     }
    }
   },
   "outputs": [],
   "source": [
    "# pd.set_option('display.max_rows', None)\n",
    "pd.set_option('display.max_columns', None)"
   ]
  },
  {
   "cell_type": "markdown",
   "metadata": {},
   "source": [
    "### Refer to README.md file to load the dataset."
   ]
  },
  {
   "cell_type": "code",
   "execution_count": 3,
   "metadata": {
    "gather": {
     "logged": 1688494714212
    },
    "jupyter": {
     "outputs_hidden": false,
     "source_hidden": false
    },
    "nteract": {
     "transient": {
      "deleting": false
     }
    }
   },
   "outputs": [],
   "source": [
    "DATASET_NAME = 'RGBDS-160K'"
   ]
  },
  {
   "cell_type": "code",
   "execution_count": 8,
   "metadata": {
    "gather": {
     "logged": 1688494763171
    },
    "jupyter": {
     "outputs_hidden": false,
     "source_hidden": false
    },
    "nteract": {
     "transient": {
      "deleting": false
     }
    }
   },
   "outputs": [],
   "source": [
    "df = pd.read_csv(os.path.join(dataset_mount_folder, 'labels.csv'))"
   ]
  },
  {
   "cell_type": "code",
   "execution_count": 9,
   "metadata": {
    "gather": {
     "logged": 1688494763324
    },
    "jupyter": {
     "outputs_hidden": false,
     "source_hidden": false
    },
    "nteract": {
     "transient": {
      "deleting": false
     }
    }
   },
   "outputs": [
    {
     "data": {
      "text/plain": [
       "(168223, 39)"
      ]
     },
     "execution_count": 9,
     "metadata": {},
     "output_type": "execute_result"
    }
   ],
   "source": [
    "df.shape"
   ]
  },
  {
   "cell_type": "code",
   "execution_count": 10,
   "metadata": {
    "gather": {
     "logged": 1688494773148
    },
    "jupyter": {
     "outputs_hidden": false,
     "source_hidden": false
    },
    "nteract": {
     "transient": {
      "deleting": false
     }
    }
   },
   "outputs": [
    {
     "name": "stdout",
     "output_type": "stream",
     "text": [
      "/tmp/tmpkj1sgfzq/scans\n"
     ]
    },
    {
     "data": {
      "text/plain": [
       "12253"
      ]
     },
     "execution_count": 10,
     "metadata": {},
     "output_type": "execute_result"
    }
   ],
   "source": [
    "# total number of scan folders/children\n",
    "scans_path = os.path.join(dataset_mount_folder, 'scans')\n",
    "print(scans_path)\n",
    "scans_f = os.listdir(scans_path)\n",
    "len(scans_f)"
   ]
  },
  {
   "cell_type": "code",
   "execution_count": null,
   "metadata": {
    "gather": {
     "logged": 1688494777314
    },
    "jupyter": {
     "outputs_hidden": false,
     "source_hidden": false
    },
    "nteract": {
     "transient": {
      "deleting": false
     }
    }
   },
   "outputs": [],
   "source": []
  },
  {
   "cell_type": "code",
   "execution_count": 12,
   "metadata": {
    "gather": {
     "logged": 1688494784327
    },
    "jupyter": {
     "outputs_hidden": false,
     "source_hidden": false
    },
    "nteract": {
     "transient": {
      "deleting": false
     }
    }
   },
   "outputs": [
    {
     "data": {
      "text/html": [
       "<div>\n",
       "<style scoped>\n",
       "    .dataframe tbody tr th:only-of-type {\n",
       "        vertical-align: middle;\n",
       "    }\n",
       "\n",
       "    .dataframe tbody tr th {\n",
       "        vertical-align: top;\n",
       "    }\n",
       "\n",
       "    .dataframe thead th {\n",
       "        text-align: right;\n",
       "    }\n",
       "</style>\n",
       "<table border=\"1\" class=\"dataframe\">\n",
       "  <thead>\n",
       "    <tr style=\"text-align: right;\">\n",
       "      <th></th>\n",
       "      <th>file_path_depth</th>\n",
       "      <th>timestamp_depth</th>\n",
       "      <th>scan_id</th>\n",
       "      <th>scan_step_depth</th>\n",
       "      <th>scan_version_depth</th>\n",
       "      <th>height_depth</th>\n",
       "      <th>weight_depth</th>\n",
       "      <th>muac_depth</th>\n",
       "      <th>order_number</th>\n",
       "      <th>format_depth</th>\n",
       "      <th>artifact_depth</th>\n",
       "      <th>artifact_id_depth</th>\n",
       "      <th>device_model_depth</th>\n",
       "      <th>person_id_depth</th>\n",
       "      <th>age_depth</th>\n",
       "      <th>sex_depth</th>\n",
       "      <th>no_of_person_depth</th>\n",
       "      <th>pose_score</th>\n",
       "      <th>pose_result</th>\n",
       "      <th>ord_depth</th>\n",
       "      <th>format_temp_depth</th>\n",
       "      <th>file_path_rgb</th>\n",
       "      <th>timestamp_rgb</th>\n",
       "      <th>scan_step_rgb</th>\n",
       "      <th>scan_version_rgb</th>\n",
       "      <th>height_rgb</th>\n",
       "      <th>weight_rgb</th>\n",
       "      <th>muac_rgb</th>\n",
       "      <th>format_rgb</th>\n",
       "      <th>artifact_rgb</th>\n",
       "      <th>artifact_id_rgb</th>\n",
       "      <th>device_model_rgb</th>\n",
       "      <th>person_id_rgb</th>\n",
       "      <th>age</th>\n",
       "      <th>sex_rgb</th>\n",
       "      <th>no_of_person_rgb</th>\n",
       "      <th>ord_rgb</th>\n",
       "      <th>format_temp_rgb</th>\n",
       "      <th>rgbds_file_path</th>\n",
       "      <th>Years</th>\n",
       "    </tr>\n",
       "  </thead>\n",
       "  <tbody>\n",
       "    <tr>\n",
       "      <th>0</th>\n",
       "      <td>1678302496361/9de66fb3-84f8-485b-8dff-614b0c98...</td>\n",
       "      <td>2023-03-08-19-08-16-369441</td>\n",
       "      <td>a3f096c0-bde4-11ed-8a41-cb112a2c7c43</td>\n",
       "      <td>100</td>\n",
       "      <td>v1.2.0</td>\n",
       "      <td>94.0</td>\n",
       "      <td>12.1</td>\n",
       "      <td>14.5</td>\n",
       "      <td>1</td>\n",
       "      <td>depth</td>\n",
       "      <td>94b77e80-bde4-11ed-8a41-97bb3b5af730</td>\n",
       "      <td>a3f096c1-bde4-11ed-8a41-8bf2692602c9</td>\n",
       "      <td>HUAWEI VOG-L29</td>\n",
       "      <td>a33b0260-bde4-11ed-8a41-eb5160648f52</td>\n",
       "      <td>1621</td>\n",
       "      <td>male</td>\n",
       "      <td>1</td>\n",
       "      <td>0.956885</td>\n",
       "      <td>{'bbox_coordinates': [(281.436, 131.32458), (6...</td>\n",
       "      <td>1</td>\n",
       "      <td>depth</td>\n",
       "      <td>1678302497402/6a5c0ed3-d695-4132-91e2-100c9b44...</td>\n",
       "      <td>2023-03-08-19-08-17-416341</td>\n",
       "      <td>100</td>\n",
       "      <td>v1.2.0</td>\n",
       "      <td>94.0</td>\n",
       "      <td>12.1</td>\n",
       "      <td>14.5</td>\n",
       "      <td>rgb</td>\n",
       "      <td>9557b620-bde4-11ed-8a41-f703c978b592</td>\n",
       "      <td>a3f52aa0-bde4-11ed-8a41-b761b9620398</td>\n",
       "      <td>HUAWEI VOG-L29</td>\n",
       "      <td>a33b0260-bde4-11ed-8a41-eb5160648f52</td>\n",
       "      <td>1621</td>\n",
       "      <td>male</td>\n",
       "      <td>1</td>\n",
       "      <td>1</td>\n",
       "      <td>rgb</td>\n",
       "      <td>/scans/a33b0260-bde4-11ed-8a41-eb5160648f52/10...</td>\n",
       "      <td>4</td>\n",
       "    </tr>\n",
       "    <tr>\n",
       "      <th>1</th>\n",
       "      <td>1678302496608/beebb80d-7e48-4b61-ba35-5acc67f5...</td>\n",
       "      <td>2023-03-08-19-08-16-619376</td>\n",
       "      <td>a3f096c0-bde4-11ed-8a41-cb112a2c7c43</td>\n",
       "      <td>100</td>\n",
       "      <td>v1.2.0</td>\n",
       "      <td>94.0</td>\n",
       "      <td>12.1</td>\n",
       "      <td>14.5</td>\n",
       "      <td>3</td>\n",
       "      <td>depth</td>\n",
       "      <td>94dda420-bde4-11ed-8a41-7b94095c98a4</td>\n",
       "      <td>a3f096c3-bde4-11ed-8a41-bb4f3700aa18</td>\n",
       "      <td>HUAWEI VOG-L29</td>\n",
       "      <td>a33b0260-bde4-11ed-8a41-eb5160648f52</td>\n",
       "      <td>1621</td>\n",
       "      <td>male</td>\n",
       "      <td>1</td>\n",
       "      <td>0.952167</td>\n",
       "      <td>{'bbox_coordinates': [(299.18857, 112.45647), ...</td>\n",
       "      <td>3</td>\n",
       "      <td>depth</td>\n",
       "      <td>1678302497538/40d889b6-5e85-49f0-b1ae-3ec9d7ed...</td>\n",
       "      <td>2023-03-08-19-08-17-557003</td>\n",
       "      <td>100</td>\n",
       "      <td>v1.2.0</td>\n",
       "      <td>94.0</td>\n",
       "      <td>12.1</td>\n",
       "      <td>14.5</td>\n",
       "      <td>rgb</td>\n",
       "      <td>956d12e0-bde4-11ed-8a41-5b706c7281f3</td>\n",
       "      <td>a3f52aa1-bde4-11ed-8a41-33337f68e139</td>\n",
       "      <td>HUAWEI VOG-L29</td>\n",
       "      <td>a33b0260-bde4-11ed-8a41-eb5160648f52</td>\n",
       "      <td>1621</td>\n",
       "      <td>male</td>\n",
       "      <td>1</td>\n",
       "      <td>3</td>\n",
       "      <td>rgb</td>\n",
       "      <td>/scans/a33b0260-bde4-11ed-8a41-eb5160648f52/10...</td>\n",
       "      <td>4</td>\n",
       "    </tr>\n",
       "    <tr>\n",
       "      <th>2</th>\n",
       "      <td>1678302496707/83705cf7-eed6-4958-900d-fcc6bf52...</td>\n",
       "      <td>2023-03-08-19-08-16-713158</td>\n",
       "      <td>a3f096c0-bde4-11ed-8a41-cb112a2c7c43</td>\n",
       "      <td>100</td>\n",
       "      <td>v1.2.0</td>\n",
       "      <td>94.0</td>\n",
       "      <td>12.1</td>\n",
       "      <td>14.5</td>\n",
       "      <td>4</td>\n",
       "      <td>depth</td>\n",
       "      <td>94ece660-bde4-11ed-8a41-cbc33a6adc19</td>\n",
       "      <td>a3f096c4-bde4-11ed-8a41-176fb453c369</td>\n",
       "      <td>HUAWEI VOG-L29</td>\n",
       "      <td>a33b0260-bde4-11ed-8a41-eb5160648f52</td>\n",
       "      <td>1621</td>\n",
       "      <td>male</td>\n",
       "      <td>1</td>\n",
       "      <td>0.951684</td>\n",
       "      <td>{'bbox_coordinates': [(296.33044, 130.69958), ...</td>\n",
       "      <td>4</td>\n",
       "      <td>depth</td>\n",
       "      <td>1678302497662/f8e08494-235b-4aa1-84bb-edc98f68...</td>\n",
       "      <td>2023-03-08-19-08-17-666280</td>\n",
       "      <td>100</td>\n",
       "      <td>v1.2.0</td>\n",
       "      <td>94.0</td>\n",
       "      <td>12.1</td>\n",
       "      <td>14.5</td>\n",
       "      <td>rgb</td>\n",
       "      <td>957ddbc0-bde4-11ed-8a41-bb8713e93427</td>\n",
       "      <td>a3f52aa2-bde4-11ed-8a41-9bda3f06379f</td>\n",
       "      <td>HUAWEI VOG-L29</td>\n",
       "      <td>a33b0260-bde4-11ed-8a41-eb5160648f52</td>\n",
       "      <td>1621</td>\n",
       "      <td>male</td>\n",
       "      <td>1</td>\n",
       "      <td>4</td>\n",
       "      <td>rgb</td>\n",
       "      <td>/scans/a33b0260-bde4-11ed-8a41-eb5160648f52/10...</td>\n",
       "      <td>4</td>\n",
       "    </tr>\n",
       "    <tr>\n",
       "      <th>3</th>\n",
       "      <td>1678302516152/3a8e1ca8-a600-454d-890b-4a72ba00...</td>\n",
       "      <td>2023-03-08-19-08-36-166583</td>\n",
       "      <td>a44609c0-bde4-11ed-8a41-bba95c956b72</td>\n",
       "      <td>102</td>\n",
       "      <td>v1.2.0</td>\n",
       "      <td>94.0</td>\n",
       "      <td>12.1</td>\n",
       "      <td>14.5</td>\n",
       "      <td>4</td>\n",
       "      <td>depth</td>\n",
       "      <td>a084bc00-bde4-11ed-8a41-d7b97ef25e78</td>\n",
       "      <td>a44609c1-bde4-11ed-8a41-0f4effbe3225</td>\n",
       "      <td>HUAWEI VOG-L29</td>\n",
       "      <td>a33b0260-bde4-11ed-8a41-eb5160648f52</td>\n",
       "      <td>1621</td>\n",
       "      <td>male</td>\n",
       "      <td>2</td>\n",
       "      <td>0.926973</td>\n",
       "      <td>{'bbox_coordinates': [(230.46027, 78.713684), ...</td>\n",
       "      <td>4</td>\n",
       "      <td>depth</td>\n",
       "      <td>1678302517105/e88e93a5-2ef2-4e61-b132-f8f5a83f...</td>\n",
       "      <td>2023-03-08-19-08-37-119834</td>\n",
       "      <td>102</td>\n",
       "      <td>v1.2.0</td>\n",
       "      <td>94.0</td>\n",
       "      <td>12.1</td>\n",
       "      <td>14.5</td>\n",
       "      <td>rgb</td>\n",
       "      <td>a115b160-bde4-11ed-8a41-879a84a95fdc</td>\n",
       "      <td>a44609ca-bde4-11ed-8a41-d3b55e4bf9a4</td>\n",
       "      <td>HUAWEI VOG-L29</td>\n",
       "      <td>a33b0260-bde4-11ed-8a41-eb5160648f52</td>\n",
       "      <td>1621</td>\n",
       "      <td>male</td>\n",
       "      <td>2</td>\n",
       "      <td>4</td>\n",
       "      <td>rgb</td>\n",
       "      <td>/scans/a33b0260-bde4-11ed-8a41-eb5160648f52/10...</td>\n",
       "      <td>4</td>\n",
       "    </tr>\n",
       "    <tr>\n",
       "      <th>4</th>\n",
       "      <td>1678302516335/5ad5edef-65a4-47b7-b4d7-af417484...</td>\n",
       "      <td>2023-03-08-19-08-36-338460</td>\n",
       "      <td>a44609c0-bde4-11ed-8a41-bba95c956b72</td>\n",
       "      <td>102</td>\n",
       "      <td>v1.2.0</td>\n",
       "      <td>94.0</td>\n",
       "      <td>12.1</td>\n",
       "      <td>14.5</td>\n",
       "      <td>6</td>\n",
       "      <td>depth</td>\n",
       "      <td>a09eaca0-bde4-11ed-8a41-9b6ad7e2fe07</td>\n",
       "      <td>a44609c3-bde4-11ed-8a41-4b6fd33c95d3</td>\n",
       "      <td>HUAWEI VOG-L29</td>\n",
       "      <td>a33b0260-bde4-11ed-8a41-eb5160648f52</td>\n",
       "      <td>1621</td>\n",
       "      <td>male</td>\n",
       "      <td>1</td>\n",
       "      <td>0.814440</td>\n",
       "      <td>{'bbox_coordinates': [(361.18195, 64.576485), ...</td>\n",
       "      <td>6</td>\n",
       "      <td>depth</td>\n",
       "      <td>1678302517429/b3839e69-1b13-4a16-98aa-efb3241d...</td>\n",
       "      <td>2023-03-08-19-08-37-447947</td>\n",
       "      <td>102</td>\n",
       "      <td>v1.2.0</td>\n",
       "      <td>94.0</td>\n",
       "      <td>12.1</td>\n",
       "      <td>14.5</td>\n",
       "      <td>rgb</td>\n",
       "      <td>a1480c00-bde4-11ed-8a41-3b80b957b659</td>\n",
       "      <td>a44609cc-bde4-11ed-8a41-175094ef64af</td>\n",
       "      <td>HUAWEI VOG-L29</td>\n",
       "      <td>a33b0260-bde4-11ed-8a41-eb5160648f52</td>\n",
       "      <td>1621</td>\n",
       "      <td>male</td>\n",
       "      <td>1</td>\n",
       "      <td>6</td>\n",
       "      <td>rgb</td>\n",
       "      <td>/scans/a33b0260-bde4-11ed-8a41-eb5160648f52/10...</td>\n",
       "      <td>4</td>\n",
       "    </tr>\n",
       "  </tbody>\n",
       "</table>\n",
       "</div>"
      ],
      "text/plain": [
       "                                     file_path_depth  \\\n",
       "0  1678302496361/9de66fb3-84f8-485b-8dff-614b0c98...   \n",
       "1  1678302496608/beebb80d-7e48-4b61-ba35-5acc67f5...   \n",
       "2  1678302496707/83705cf7-eed6-4958-900d-fcc6bf52...   \n",
       "3  1678302516152/3a8e1ca8-a600-454d-890b-4a72ba00...   \n",
       "4  1678302516335/5ad5edef-65a4-47b7-b4d7-af417484...   \n",
       "\n",
       "              timestamp_depth                               scan_id  \\\n",
       "0  2023-03-08-19-08-16-369441  a3f096c0-bde4-11ed-8a41-cb112a2c7c43   \n",
       "1  2023-03-08-19-08-16-619376  a3f096c0-bde4-11ed-8a41-cb112a2c7c43   \n",
       "2  2023-03-08-19-08-16-713158  a3f096c0-bde4-11ed-8a41-cb112a2c7c43   \n",
       "3  2023-03-08-19-08-36-166583  a44609c0-bde4-11ed-8a41-bba95c956b72   \n",
       "4  2023-03-08-19-08-36-338460  a44609c0-bde4-11ed-8a41-bba95c956b72   \n",
       "\n",
       "   scan_step_depth scan_version_depth  height_depth  weight_depth  muac_depth  \\\n",
       "0              100             v1.2.0          94.0          12.1        14.5   \n",
       "1              100             v1.2.0          94.0          12.1        14.5   \n",
       "2              100             v1.2.0          94.0          12.1        14.5   \n",
       "3              102             v1.2.0          94.0          12.1        14.5   \n",
       "4              102             v1.2.0          94.0          12.1        14.5   \n",
       "\n",
       "   order_number format_depth                        artifact_depth  \\\n",
       "0             1        depth  94b77e80-bde4-11ed-8a41-97bb3b5af730   \n",
       "1             3        depth  94dda420-bde4-11ed-8a41-7b94095c98a4   \n",
       "2             4        depth  94ece660-bde4-11ed-8a41-cbc33a6adc19   \n",
       "3             4        depth  a084bc00-bde4-11ed-8a41-d7b97ef25e78   \n",
       "4             6        depth  a09eaca0-bde4-11ed-8a41-9b6ad7e2fe07   \n",
       "\n",
       "                      artifact_id_depth device_model_depth  \\\n",
       "0  a3f096c1-bde4-11ed-8a41-8bf2692602c9     HUAWEI VOG-L29   \n",
       "1  a3f096c3-bde4-11ed-8a41-bb4f3700aa18     HUAWEI VOG-L29   \n",
       "2  a3f096c4-bde4-11ed-8a41-176fb453c369     HUAWEI VOG-L29   \n",
       "3  a44609c1-bde4-11ed-8a41-0f4effbe3225     HUAWEI VOG-L29   \n",
       "4  a44609c3-bde4-11ed-8a41-4b6fd33c95d3     HUAWEI VOG-L29   \n",
       "\n",
       "                        person_id_depth  age_depth sex_depth  \\\n",
       "0  a33b0260-bde4-11ed-8a41-eb5160648f52       1621      male   \n",
       "1  a33b0260-bde4-11ed-8a41-eb5160648f52       1621      male   \n",
       "2  a33b0260-bde4-11ed-8a41-eb5160648f52       1621      male   \n",
       "3  a33b0260-bde4-11ed-8a41-eb5160648f52       1621      male   \n",
       "4  a33b0260-bde4-11ed-8a41-eb5160648f52       1621      male   \n",
       "\n",
       "   no_of_person_depth  pose_score  \\\n",
       "0                   1    0.956885   \n",
       "1                   1    0.952167   \n",
       "2                   1    0.951684   \n",
       "3                   2    0.926973   \n",
       "4                   1    0.814440   \n",
       "\n",
       "                                         pose_result  ord_depth  \\\n",
       "0  {'bbox_coordinates': [(281.436, 131.32458), (6...          1   \n",
       "1  {'bbox_coordinates': [(299.18857, 112.45647), ...          3   \n",
       "2  {'bbox_coordinates': [(296.33044, 130.69958), ...          4   \n",
       "3  {'bbox_coordinates': [(230.46027, 78.713684), ...          4   \n",
       "4  {'bbox_coordinates': [(361.18195, 64.576485), ...          6   \n",
       "\n",
       "  format_temp_depth                                      file_path_rgb  \\\n",
       "0             depth  1678302497402/6a5c0ed3-d695-4132-91e2-100c9b44...   \n",
       "1             depth  1678302497538/40d889b6-5e85-49f0-b1ae-3ec9d7ed...   \n",
       "2             depth  1678302497662/f8e08494-235b-4aa1-84bb-edc98f68...   \n",
       "3             depth  1678302517105/e88e93a5-2ef2-4e61-b132-f8f5a83f...   \n",
       "4             depth  1678302517429/b3839e69-1b13-4a16-98aa-efb3241d...   \n",
       "\n",
       "                timestamp_rgb  scan_step_rgb scan_version_rgb  height_rgb  \\\n",
       "0  2023-03-08-19-08-17-416341            100           v1.2.0        94.0   \n",
       "1  2023-03-08-19-08-17-557003            100           v1.2.0        94.0   \n",
       "2  2023-03-08-19-08-17-666280            100           v1.2.0        94.0   \n",
       "3  2023-03-08-19-08-37-119834            102           v1.2.0        94.0   \n",
       "4  2023-03-08-19-08-37-447947            102           v1.2.0        94.0   \n",
       "\n",
       "   weight_rgb  muac_rgb format_rgb                          artifact_rgb  \\\n",
       "0        12.1      14.5        rgb  9557b620-bde4-11ed-8a41-f703c978b592   \n",
       "1        12.1      14.5        rgb  956d12e0-bde4-11ed-8a41-5b706c7281f3   \n",
       "2        12.1      14.5        rgb  957ddbc0-bde4-11ed-8a41-bb8713e93427   \n",
       "3        12.1      14.5        rgb  a115b160-bde4-11ed-8a41-879a84a95fdc   \n",
       "4        12.1      14.5        rgb  a1480c00-bde4-11ed-8a41-3b80b957b659   \n",
       "\n",
       "                        artifact_id_rgb device_model_rgb  \\\n",
       "0  a3f52aa0-bde4-11ed-8a41-b761b9620398   HUAWEI VOG-L29   \n",
       "1  a3f52aa1-bde4-11ed-8a41-33337f68e139   HUAWEI VOG-L29   \n",
       "2  a3f52aa2-bde4-11ed-8a41-9bda3f06379f   HUAWEI VOG-L29   \n",
       "3  a44609ca-bde4-11ed-8a41-d3b55e4bf9a4   HUAWEI VOG-L29   \n",
       "4  a44609cc-bde4-11ed-8a41-175094ef64af   HUAWEI VOG-L29   \n",
       "\n",
       "                          person_id_rgb   age sex_rgb  no_of_person_rgb  \\\n",
       "0  a33b0260-bde4-11ed-8a41-eb5160648f52  1621    male                 1   \n",
       "1  a33b0260-bde4-11ed-8a41-eb5160648f52  1621    male                 1   \n",
       "2  a33b0260-bde4-11ed-8a41-eb5160648f52  1621    male                 1   \n",
       "3  a33b0260-bde4-11ed-8a41-eb5160648f52  1621    male                 2   \n",
       "4  a33b0260-bde4-11ed-8a41-eb5160648f52  1621    male                 1   \n",
       "\n",
       "   ord_rgb format_temp_rgb                                    rgbds_file_path  \\\n",
       "0        1             rgb  /scans/a33b0260-bde4-11ed-8a41-eb5160648f52/10...   \n",
       "1        3             rgb  /scans/a33b0260-bde4-11ed-8a41-eb5160648f52/10...   \n",
       "2        4             rgb  /scans/a33b0260-bde4-11ed-8a41-eb5160648f52/10...   \n",
       "3        4             rgb  /scans/a33b0260-bde4-11ed-8a41-eb5160648f52/10...   \n",
       "4        6             rgb  /scans/a33b0260-bde4-11ed-8a41-eb5160648f52/10...   \n",
       "\n",
       "   Years  \n",
       "0      4  \n",
       "1      4  \n",
       "2      4  \n",
       "3      4  \n",
       "4      4  "
      ]
     },
     "execution_count": 12,
     "metadata": {},
     "output_type": "execute_result"
    }
   ],
   "source": [
    "df.rename(columns={'age_rgb': 'age'}, inplace=True)\n",
    "df['Years'] = df.apply(convert_age_from_days_to_years, axis=1)\n",
    "df.head()"
   ]
  },
  {
   "cell_type": "code",
   "execution_count": 13,
   "metadata": {
    "gather": {
     "logged": 1688494794344
    },
    "jupyter": {
     "outputs_hidden": false,
     "source_hidden": false
    },
    "nteract": {
     "transient": {
      "deleting": false
     }
    }
   },
   "outputs": [
    {
     "data": {
      "text/html": [
       "<div>\n",
       "<style scoped>\n",
       "    .dataframe tbody tr th:only-of-type {\n",
       "        vertical-align: middle;\n",
       "    }\n",
       "\n",
       "    .dataframe tbody tr th {\n",
       "        vertical-align: top;\n",
       "    }\n",
       "\n",
       "    .dataframe thead th {\n",
       "        text-align: right;\n",
       "    }\n",
       "</style>\n",
       "<table border=\"1\" class=\"dataframe\">\n",
       "  <thead>\n",
       "    <tr style=\"text-align: right;\">\n",
       "      <th></th>\n",
       "      <th>file_path_depth</th>\n",
       "      <th>timestamp_depth</th>\n",
       "      <th>scan_id</th>\n",
       "      <th>scan_step_depth</th>\n",
       "      <th>scan_version_depth</th>\n",
       "      <th>height_depth</th>\n",
       "      <th>weight_depth</th>\n",
       "      <th>muac_depth</th>\n",
       "      <th>order_number</th>\n",
       "      <th>format_depth</th>\n",
       "      <th>artifact_depth</th>\n",
       "      <th>artifact_id_depth</th>\n",
       "      <th>device_model_depth</th>\n",
       "      <th>person_id_depth</th>\n",
       "      <th>age_depth</th>\n",
       "      <th>sex_depth</th>\n",
       "      <th>no_of_person_depth</th>\n",
       "      <th>pose_score</th>\n",
       "      <th>pose_result</th>\n",
       "      <th>ord_depth</th>\n",
       "      <th>format_temp_depth</th>\n",
       "      <th>file_path_rgb</th>\n",
       "      <th>timestamp_rgb</th>\n",
       "      <th>scan_step_rgb</th>\n",
       "      <th>scan_version_rgb</th>\n",
       "      <th>height_rgb</th>\n",
       "      <th>weight_rgb</th>\n",
       "      <th>muac_rgb</th>\n",
       "      <th>format_rgb</th>\n",
       "      <th>artifact_rgb</th>\n",
       "      <th>artifact_id_rgb</th>\n",
       "      <th>device_model_rgb</th>\n",
       "      <th>person_id_rgb</th>\n",
       "      <th>age</th>\n",
       "      <th>sex_rgb</th>\n",
       "      <th>no_of_person_rgb</th>\n",
       "      <th>ord_rgb</th>\n",
       "      <th>format_temp_rgb</th>\n",
       "      <th>rgbds_file_path</th>\n",
       "      <th>Years</th>\n",
       "    </tr>\n",
       "  </thead>\n",
       "  <tbody>\n",
       "    <tr>\n",
       "      <th>0</th>\n",
       "      <td>1678302496361/9de66fb3-84f8-485b-8dff-614b0c98...</td>\n",
       "      <td>2023-03-08-19-08-16-369441</td>\n",
       "      <td>a3f096c0-bde4-11ed-8a41-cb112a2c7c43</td>\n",
       "      <td>100</td>\n",
       "      <td>v1.2.0</td>\n",
       "      <td>94.0</td>\n",
       "      <td>12.1</td>\n",
       "      <td>14.5</td>\n",
       "      <td>1</td>\n",
       "      <td>depth</td>\n",
       "      <td>94b77e80-bde4-11ed-8a41-97bb3b5af730</td>\n",
       "      <td>a3f096c1-bde4-11ed-8a41-8bf2692602c9</td>\n",
       "      <td>HUAWEI VOG-L29</td>\n",
       "      <td>a33b0260-bde4-11ed-8a41-eb5160648f52</td>\n",
       "      <td>1621</td>\n",
       "      <td>male</td>\n",
       "      <td>1</td>\n",
       "      <td>0.956885</td>\n",
       "      <td>{'bbox_coordinates': [(281.436, 131.32458), (6...</td>\n",
       "      <td>1</td>\n",
       "      <td>depth</td>\n",
       "      <td>1678302497402/6a5c0ed3-d695-4132-91e2-100c9b44...</td>\n",
       "      <td>2023-03-08-19-08-17-416341</td>\n",
       "      <td>100</td>\n",
       "      <td>v1.2.0</td>\n",
       "      <td>94.0</td>\n",
       "      <td>12.1</td>\n",
       "      <td>14.5</td>\n",
       "      <td>rgb</td>\n",
       "      <td>9557b620-bde4-11ed-8a41-f703c978b592</td>\n",
       "      <td>a3f52aa0-bde4-11ed-8a41-b761b9620398</td>\n",
       "      <td>HUAWEI VOG-L29</td>\n",
       "      <td>a33b0260-bde4-11ed-8a41-eb5160648f52</td>\n",
       "      <td>1621</td>\n",
       "      <td>male</td>\n",
       "      <td>1</td>\n",
       "      <td>1</td>\n",
       "      <td>rgb</td>\n",
       "      <td>/scans/a33b0260-bde4-11ed-8a41-eb5160648f52/10...</td>\n",
       "      <td>4</td>\n",
       "    </tr>\n",
       "    <tr>\n",
       "      <th>1</th>\n",
       "      <td>1678302496608/beebb80d-7e48-4b61-ba35-5acc67f5...</td>\n",
       "      <td>2023-03-08-19-08-16-619376</td>\n",
       "      <td>a3f096c0-bde4-11ed-8a41-cb112a2c7c43</td>\n",
       "      <td>100</td>\n",
       "      <td>v1.2.0</td>\n",
       "      <td>94.0</td>\n",
       "      <td>12.1</td>\n",
       "      <td>14.5</td>\n",
       "      <td>3</td>\n",
       "      <td>depth</td>\n",
       "      <td>94dda420-bde4-11ed-8a41-7b94095c98a4</td>\n",
       "      <td>a3f096c3-bde4-11ed-8a41-bb4f3700aa18</td>\n",
       "      <td>HUAWEI VOG-L29</td>\n",
       "      <td>a33b0260-bde4-11ed-8a41-eb5160648f52</td>\n",
       "      <td>1621</td>\n",
       "      <td>male</td>\n",
       "      <td>1</td>\n",
       "      <td>0.952168</td>\n",
       "      <td>{'bbox_coordinates': [(299.18857, 112.45647), ...</td>\n",
       "      <td>3</td>\n",
       "      <td>depth</td>\n",
       "      <td>1678302497538/40d889b6-5e85-49f0-b1ae-3ec9d7ed...</td>\n",
       "      <td>2023-03-08-19-08-17-557003</td>\n",
       "      <td>100</td>\n",
       "      <td>v1.2.0</td>\n",
       "      <td>94.0</td>\n",
       "      <td>12.1</td>\n",
       "      <td>14.5</td>\n",
       "      <td>rgb</td>\n",
       "      <td>956d12e0-bde4-11ed-8a41-5b706c7281f3</td>\n",
       "      <td>a3f52aa1-bde4-11ed-8a41-33337f68e139</td>\n",
       "      <td>HUAWEI VOG-L29</td>\n",
       "      <td>a33b0260-bde4-11ed-8a41-eb5160648f52</td>\n",
       "      <td>1621</td>\n",
       "      <td>male</td>\n",
       "      <td>1</td>\n",
       "      <td>3</td>\n",
       "      <td>rgb</td>\n",
       "      <td>/scans/a33b0260-bde4-11ed-8a41-eb5160648f52/10...</td>\n",
       "      <td>4</td>\n",
       "    </tr>\n",
       "    <tr>\n",
       "      <th>2</th>\n",
       "      <td>1678302496707/83705cf7-eed6-4958-900d-fcc6bf52...</td>\n",
       "      <td>2023-03-08-19-08-16-713158</td>\n",
       "      <td>a3f096c0-bde4-11ed-8a41-cb112a2c7c43</td>\n",
       "      <td>100</td>\n",
       "      <td>v1.2.0</td>\n",
       "      <td>94.0</td>\n",
       "      <td>12.1</td>\n",
       "      <td>14.5</td>\n",
       "      <td>4</td>\n",
       "      <td>depth</td>\n",
       "      <td>94ece660-bde4-11ed-8a41-cbc33a6adc19</td>\n",
       "      <td>a3f096c4-bde4-11ed-8a41-176fb453c369</td>\n",
       "      <td>HUAWEI VOG-L29</td>\n",
       "      <td>a33b0260-bde4-11ed-8a41-eb5160648f52</td>\n",
       "      <td>1621</td>\n",
       "      <td>male</td>\n",
       "      <td>1</td>\n",
       "      <td>0.951684</td>\n",
       "      <td>{'bbox_coordinates': [(296.33044, 130.69958), ...</td>\n",
       "      <td>4</td>\n",
       "      <td>depth</td>\n",
       "      <td>1678302497662/f8e08494-235b-4aa1-84bb-edc98f68...</td>\n",
       "      <td>2023-03-08-19-08-17-666280</td>\n",
       "      <td>100</td>\n",
       "      <td>v1.2.0</td>\n",
       "      <td>94.0</td>\n",
       "      <td>12.1</td>\n",
       "      <td>14.5</td>\n",
       "      <td>rgb</td>\n",
       "      <td>957ddbc0-bde4-11ed-8a41-bb8713e93427</td>\n",
       "      <td>a3f52aa2-bde4-11ed-8a41-9bda3f06379f</td>\n",
       "      <td>HUAWEI VOG-L29</td>\n",
       "      <td>a33b0260-bde4-11ed-8a41-eb5160648f52</td>\n",
       "      <td>1621</td>\n",
       "      <td>male</td>\n",
       "      <td>1</td>\n",
       "      <td>4</td>\n",
       "      <td>rgb</td>\n",
       "      <td>/scans/a33b0260-bde4-11ed-8a41-eb5160648f52/10...</td>\n",
       "      <td>4</td>\n",
       "    </tr>\n",
       "    <tr>\n",
       "      <th>3</th>\n",
       "      <td>1678302516152/3a8e1ca8-a600-454d-890b-4a72ba00...</td>\n",
       "      <td>2023-03-08-19-08-36-166583</td>\n",
       "      <td>a44609c0-bde4-11ed-8a41-bba95c956b72</td>\n",
       "      <td>102</td>\n",
       "      <td>v1.2.0</td>\n",
       "      <td>94.0</td>\n",
       "      <td>12.1</td>\n",
       "      <td>14.5</td>\n",
       "      <td>4</td>\n",
       "      <td>depth</td>\n",
       "      <td>a084bc00-bde4-11ed-8a41-d7b97ef25e78</td>\n",
       "      <td>a44609c1-bde4-11ed-8a41-0f4effbe3225</td>\n",
       "      <td>HUAWEI VOG-L29</td>\n",
       "      <td>a33b0260-bde4-11ed-8a41-eb5160648f52</td>\n",
       "      <td>1621</td>\n",
       "      <td>male</td>\n",
       "      <td>2</td>\n",
       "      <td>0.926973</td>\n",
       "      <td>{'bbox_coordinates': [(230.46027, 78.713684), ...</td>\n",
       "      <td>4</td>\n",
       "      <td>depth</td>\n",
       "      <td>1678302517105/e88e93a5-2ef2-4e61-b132-f8f5a83f...</td>\n",
       "      <td>2023-03-08-19-08-37-119834</td>\n",
       "      <td>102</td>\n",
       "      <td>v1.2.0</td>\n",
       "      <td>94.0</td>\n",
       "      <td>12.1</td>\n",
       "      <td>14.5</td>\n",
       "      <td>rgb</td>\n",
       "      <td>a115b160-bde4-11ed-8a41-879a84a95fdc</td>\n",
       "      <td>a44609ca-bde4-11ed-8a41-d3b55e4bf9a4</td>\n",
       "      <td>HUAWEI VOG-L29</td>\n",
       "      <td>a33b0260-bde4-11ed-8a41-eb5160648f52</td>\n",
       "      <td>1621</td>\n",
       "      <td>male</td>\n",
       "      <td>2</td>\n",
       "      <td>4</td>\n",
       "      <td>rgb</td>\n",
       "      <td>/scans/a33b0260-bde4-11ed-8a41-eb5160648f52/10...</td>\n",
       "      <td>4</td>\n",
       "    </tr>\n",
       "    <tr>\n",
       "      <th>4</th>\n",
       "      <td>1678302516335/5ad5edef-65a4-47b7-b4d7-af417484...</td>\n",
       "      <td>2023-03-08-19-08-36-338460</td>\n",
       "      <td>a44609c0-bde4-11ed-8a41-bba95c956b72</td>\n",
       "      <td>102</td>\n",
       "      <td>v1.2.0</td>\n",
       "      <td>94.0</td>\n",
       "      <td>12.1</td>\n",
       "      <td>14.5</td>\n",
       "      <td>6</td>\n",
       "      <td>depth</td>\n",
       "      <td>a09eaca0-bde4-11ed-8a41-9b6ad7e2fe07</td>\n",
       "      <td>a44609c3-bde4-11ed-8a41-4b6fd33c95d3</td>\n",
       "      <td>HUAWEI VOG-L29</td>\n",
       "      <td>a33b0260-bde4-11ed-8a41-eb5160648f52</td>\n",
       "      <td>1621</td>\n",
       "      <td>male</td>\n",
       "      <td>1</td>\n",
       "      <td>0.814440</td>\n",
       "      <td>{'bbox_coordinates': [(361.18195, 64.576485), ...</td>\n",
       "      <td>6</td>\n",
       "      <td>depth</td>\n",
       "      <td>1678302517429/b3839e69-1b13-4a16-98aa-efb3241d...</td>\n",
       "      <td>2023-03-08-19-08-37-447947</td>\n",
       "      <td>102</td>\n",
       "      <td>v1.2.0</td>\n",
       "      <td>94.0</td>\n",
       "      <td>12.1</td>\n",
       "      <td>14.5</td>\n",
       "      <td>rgb</td>\n",
       "      <td>a1480c00-bde4-11ed-8a41-3b80b957b659</td>\n",
       "      <td>a44609cc-bde4-11ed-8a41-175094ef64af</td>\n",
       "      <td>HUAWEI VOG-L29</td>\n",
       "      <td>a33b0260-bde4-11ed-8a41-eb5160648f52</td>\n",
       "      <td>1621</td>\n",
       "      <td>male</td>\n",
       "      <td>1</td>\n",
       "      <td>6</td>\n",
       "      <td>rgb</td>\n",
       "      <td>/scans/a33b0260-bde4-11ed-8a41-eb5160648f52/10...</td>\n",
       "      <td>4</td>\n",
       "    </tr>\n",
       "  </tbody>\n",
       "</table>\n",
       "</div>"
      ],
      "text/plain": [
       "                                     file_path_depth   \n",
       "0  1678302496361/9de66fb3-84f8-485b-8dff-614b0c98...  \\\n",
       "1  1678302496608/beebb80d-7e48-4b61-ba35-5acc67f5...   \n",
       "2  1678302496707/83705cf7-eed6-4958-900d-fcc6bf52...   \n",
       "3  1678302516152/3a8e1ca8-a600-454d-890b-4a72ba00...   \n",
       "4  1678302516335/5ad5edef-65a4-47b7-b4d7-af417484...   \n",
       "\n",
       "              timestamp_depth                               scan_id   \n",
       "0  2023-03-08-19-08-16-369441  a3f096c0-bde4-11ed-8a41-cb112a2c7c43  \\\n",
       "1  2023-03-08-19-08-16-619376  a3f096c0-bde4-11ed-8a41-cb112a2c7c43   \n",
       "2  2023-03-08-19-08-16-713158  a3f096c0-bde4-11ed-8a41-cb112a2c7c43   \n",
       "3  2023-03-08-19-08-36-166583  a44609c0-bde4-11ed-8a41-bba95c956b72   \n",
       "4  2023-03-08-19-08-36-338460  a44609c0-bde4-11ed-8a41-bba95c956b72   \n",
       "\n",
       "   scan_step_depth scan_version_depth  height_depth  weight_depth  muac_depth   \n",
       "0              100             v1.2.0          94.0          12.1        14.5  \\\n",
       "1              100             v1.2.0          94.0          12.1        14.5   \n",
       "2              100             v1.2.0          94.0          12.1        14.5   \n",
       "3              102             v1.2.0          94.0          12.1        14.5   \n",
       "4              102             v1.2.0          94.0          12.1        14.5   \n",
       "\n",
       "   order_number format_depth                        artifact_depth   \n",
       "0             1        depth  94b77e80-bde4-11ed-8a41-97bb3b5af730  \\\n",
       "1             3        depth  94dda420-bde4-11ed-8a41-7b94095c98a4   \n",
       "2             4        depth  94ece660-bde4-11ed-8a41-cbc33a6adc19   \n",
       "3             4        depth  a084bc00-bde4-11ed-8a41-d7b97ef25e78   \n",
       "4             6        depth  a09eaca0-bde4-11ed-8a41-9b6ad7e2fe07   \n",
       "\n",
       "                      artifact_id_depth device_model_depth   \n",
       "0  a3f096c1-bde4-11ed-8a41-8bf2692602c9     HUAWEI VOG-L29  \\\n",
       "1  a3f096c3-bde4-11ed-8a41-bb4f3700aa18     HUAWEI VOG-L29   \n",
       "2  a3f096c4-bde4-11ed-8a41-176fb453c369     HUAWEI VOG-L29   \n",
       "3  a44609c1-bde4-11ed-8a41-0f4effbe3225     HUAWEI VOG-L29   \n",
       "4  a44609c3-bde4-11ed-8a41-4b6fd33c95d3     HUAWEI VOG-L29   \n",
       "\n",
       "                        person_id_depth  age_depth sex_depth   \n",
       "0  a33b0260-bde4-11ed-8a41-eb5160648f52       1621      male  \\\n",
       "1  a33b0260-bde4-11ed-8a41-eb5160648f52       1621      male   \n",
       "2  a33b0260-bde4-11ed-8a41-eb5160648f52       1621      male   \n",
       "3  a33b0260-bde4-11ed-8a41-eb5160648f52       1621      male   \n",
       "4  a33b0260-bde4-11ed-8a41-eb5160648f52       1621      male   \n",
       "\n",
       "   no_of_person_depth  pose_score   \n",
       "0                   1    0.956885  \\\n",
       "1                   1    0.952168   \n",
       "2                   1    0.951684   \n",
       "3                   2    0.926973   \n",
       "4                   1    0.814440   \n",
       "\n",
       "                                         pose_result  ord_depth   \n",
       "0  {'bbox_coordinates': [(281.436, 131.32458), (6...          1  \\\n",
       "1  {'bbox_coordinates': [(299.18857, 112.45647), ...          3   \n",
       "2  {'bbox_coordinates': [(296.33044, 130.69958), ...          4   \n",
       "3  {'bbox_coordinates': [(230.46027, 78.713684), ...          4   \n",
       "4  {'bbox_coordinates': [(361.18195, 64.576485), ...          6   \n",
       "\n",
       "  format_temp_depth                                      file_path_rgb   \n",
       "0             depth  1678302497402/6a5c0ed3-d695-4132-91e2-100c9b44...  \\\n",
       "1             depth  1678302497538/40d889b6-5e85-49f0-b1ae-3ec9d7ed...   \n",
       "2             depth  1678302497662/f8e08494-235b-4aa1-84bb-edc98f68...   \n",
       "3             depth  1678302517105/e88e93a5-2ef2-4e61-b132-f8f5a83f...   \n",
       "4             depth  1678302517429/b3839e69-1b13-4a16-98aa-efb3241d...   \n",
       "\n",
       "                timestamp_rgb  scan_step_rgb scan_version_rgb  height_rgb   \n",
       "0  2023-03-08-19-08-17-416341            100           v1.2.0        94.0  \\\n",
       "1  2023-03-08-19-08-17-557003            100           v1.2.0        94.0   \n",
       "2  2023-03-08-19-08-17-666280            100           v1.2.0        94.0   \n",
       "3  2023-03-08-19-08-37-119834            102           v1.2.0        94.0   \n",
       "4  2023-03-08-19-08-37-447947            102           v1.2.0        94.0   \n",
       "\n",
       "   weight_rgb  muac_rgb format_rgb                          artifact_rgb   \n",
       "0        12.1      14.5        rgb  9557b620-bde4-11ed-8a41-f703c978b592  \\\n",
       "1        12.1      14.5        rgb  956d12e0-bde4-11ed-8a41-5b706c7281f3   \n",
       "2        12.1      14.5        rgb  957ddbc0-bde4-11ed-8a41-bb8713e93427   \n",
       "3        12.1      14.5        rgb  a115b160-bde4-11ed-8a41-879a84a95fdc   \n",
       "4        12.1      14.5        rgb  a1480c00-bde4-11ed-8a41-3b80b957b659   \n",
       "\n",
       "                        artifact_id_rgb device_model_rgb   \n",
       "0  a3f52aa0-bde4-11ed-8a41-b761b9620398   HUAWEI VOG-L29  \\\n",
       "1  a3f52aa1-bde4-11ed-8a41-33337f68e139   HUAWEI VOG-L29   \n",
       "2  a3f52aa2-bde4-11ed-8a41-9bda3f06379f   HUAWEI VOG-L29   \n",
       "3  a44609ca-bde4-11ed-8a41-d3b55e4bf9a4   HUAWEI VOG-L29   \n",
       "4  a44609cc-bde4-11ed-8a41-175094ef64af   HUAWEI VOG-L29   \n",
       "\n",
       "                          person_id_rgb   age sex_rgb  no_of_person_rgb   \n",
       "0  a33b0260-bde4-11ed-8a41-eb5160648f52  1621    male                 1  \\\n",
       "1  a33b0260-bde4-11ed-8a41-eb5160648f52  1621    male                 1   \n",
       "2  a33b0260-bde4-11ed-8a41-eb5160648f52  1621    male                 1   \n",
       "3  a33b0260-bde4-11ed-8a41-eb5160648f52  1621    male                 2   \n",
       "4  a33b0260-bde4-11ed-8a41-eb5160648f52  1621    male                 1   \n",
       "\n",
       "   ord_rgb format_temp_rgb                                    rgbds_file_path   \n",
       "0        1             rgb  /scans/a33b0260-bde4-11ed-8a41-eb5160648f52/10...  \\\n",
       "1        3             rgb  /scans/a33b0260-bde4-11ed-8a41-eb5160648f52/10...   \n",
       "2        4             rgb  /scans/a33b0260-bde4-11ed-8a41-eb5160648f52/10...   \n",
       "3        4             rgb  /scans/a33b0260-bde4-11ed-8a41-eb5160648f52/10...   \n",
       "4        6             rgb  /scans/a33b0260-bde4-11ed-8a41-eb5160648f52/10...   \n",
       "\n",
       "   Years  \n",
       "0      4  \n",
       "1      4  \n",
       "2      4  \n",
       "3      4  \n",
       "4      4  "
      ]
     },
     "execution_count": 13,
     "metadata": {},
     "output_type": "execute_result"
    }
   ],
   "source": [
    "df.head()"
   ]
  },
  {
   "cell_type": "code",
   "execution_count": 14,
   "metadata": {
    "gather": {
     "logged": 1688494800138
    },
    "jupyter": {
     "outputs_hidden": false,
     "source_hidden": false
    },
    "nteract": {
     "transient": {
      "deleting": false
     }
    }
   },
   "outputs": [
    {
     "name": "stdout",
     "output_type": "stream",
     "text": [
      "Total Number of artifacts: 168223\n",
      "Total Number of scans: 22870\n"
     ]
    }
   ],
   "source": [
    "# Total number of artifacts\n",
    "print(f\"Total Number of artifacts: {len(df['artifact_id_depth'])}\")\n",
    "print(f\"Total Number of scans: {len(df.groupby('scan_id'))}\")"
   ]
  },
  {
   "cell_type": "code",
   "execution_count": 15,
   "metadata": {
    "gather": {
     "logged": 1688494804202
    },
    "jupyter": {
     "outputs_hidden": false,
     "source_hidden": false
    },
    "nteract": {
     "transient": {
      "deleting": false
     }
    }
   },
   "outputs": [
    {
     "name": "stdout",
     "output_type": "stream",
     "text": [
      "/scans/a33b0260-bde4-11ed-8a41-eb5160648f52/100/pc_a3f096c0-bde4-11ed-8a41-cb112a2c7c43_2023-03-08-19-08-16-369441_100_1.p\n"
     ]
    }
   ],
   "source": [
    "# sample rgbds_file_path\n",
    "sample_file = df['rgbds_file_path'][0]\n",
    "print(sample_file)"
   ]
  },
  {
   "cell_type": "markdown",
   "metadata": {
    "nteract": {
     "transient": {
      "deleting": false
     }
    }
   },
   "source": [
    "## Sample file"
   ]
  },
  {
   "cell_type": "code",
   "execution_count": 18,
   "metadata": {
    "gather": {
     "logged": 1688494878202
    },
    "jupyter": {
     "outputs_hidden": false,
     "source_hidden": false
    },
    "nteract": {
     "transient": {
      "deleting": false
     }
    }
   },
   "outputs": [
    {
     "name": "stdout",
     "output_type": "stream",
     "text": [
      "sample_scan: 00035b60-beed-11ed-8a41-539a7b95f736\n",
      "['102']\n",
      "sample filepath: /tmp/tmp_50u34u9/scans/00035b60-beed-11ed-8a41-539a7b95f736/102\n",
      "['pc_0004e201-beed-11ed-8a41-a7a3dcec0268_2023-03-10-02-40-17-386939_102_1.p', 'pc_0004e201-beed-11ed-8a41-a7a3dcec0268_2023-03-10-02-40-17-558821_102_2.p', 'pc_0004e201-beed-11ed-8a41-a7a3dcec0268_2023-03-10-02-40-17-652620_102_3.p', 'pc_0004e201-beed-11ed-8a41-a7a3dcec0268_2023-03-10-02-40-17-808819_102_4.p', 'pc_0004e201-beed-11ed-8a41-a7a3dcec0268_2023-03-10-02-40-17-980799_102_5.p', 'pc_0004e201-beed-11ed-8a41-a7a3dcec0268_2023-03-10-02-40-18-183826_102_6.p', 'pc_0004e201-beed-11ed-8a41-a7a3dcec0268_2023-03-10-02-40-18-340168_102_7.p', 'pc_0004e201-beed-11ed-8a41-a7a3dcec0268_2023-03-10-02-40-18-496329_102_8.p', 'pc_0004e201-beed-11ed-8a41-a7a3dcec0268_2023-03-10-02-40-18-683917_102_9.p']\n",
      "/tmp/tmp_50u34u9/scans/00035b60-beed-11ed-8a41-539a7b95f736/102/pc_0004e201-beed-11ed-8a41-a7a3dcec0268_2023-03-10-02-40-17-386939_102_1.p\n"
     ]
    }
   ],
   "source": [
    "# sample scan\n",
    "sample_scan = scans_f[0]\n",
    "print(f'sample_scan: {sample_scan}')\n",
    "print(os.listdir(scans_path + '/' + sample_scan))\n",
    "f = scans_path + '/' + sample_scan + '/' + '102'\n",
    "print(f\"sample filepath: {f}\")\n",
    "print(os.listdir(f))\n",
    "\n",
    "f_path = f + '/' + os.listdir(f)[0]\n",
    "print(f_path)"
   ]
  },
  {
   "cell_type": "code",
   "execution_count": 19,
   "metadata": {
    "gather": {
     "logged": 1688494885262
    },
    "jupyter": {
     "outputs_hidden": false,
     "source_hidden": false
    },
    "nteract": {
     "transient": {
      "deleting": false
     }
    }
   },
   "outputs": [],
   "source": [
    "\n",
    "depthmaps, target = pickle.load(open(f_path, \"rb\"))"
   ]
  },
  {
   "cell_type": "code",
   "execution_count": 20,
   "metadata": {
    "gather": {
     "logged": 1688494892240
    },
    "jupyter": {
     "outputs_hidden": false,
     "source_hidden": false
    },
    "nteract": {
     "transient": {
      "deleting": false
     }
    }
   },
   "outputs": [
    {
     "name": "stdout",
     "output_type": "stream",
     "text": [
      "Shape of Depthmap: (240, 180, 1), RGB: (240, 180, 3), segment map: (240, 180, 1)\n"
     ]
    }
   ],
   "source": [
    "# depthmaps is a list of 3 npz arrays (Depthmap, RGB, segment)\n",
    "depth, rgb, segment = depthmaps\n",
    "# depthmaps[0].shape, depthmaps[1].shape, depthmaps[2].shape\n",
    "print(f\"Shape of Depthmap: {depth.shape}, RGB: {rgb.shape}, segment map: {segment.shape}\")"
   ]
  },
  {
   "cell_type": "code",
   "execution_count": 21,
   "metadata": {
    "gather": {
     "logged": 1688494900235
    },
    "jupyter": {
     "outputs_hidden": false,
     "source_hidden": false
    },
    "nteract": {
     "transient": {
      "deleting": false
     }
    }
   },
   "outputs": [
    {
     "data": {
      "image/png": "[encoded data removed]",
      "text/plain": [
       "<Figure size 640x480 with 1 Axes>"
      ]
     },
     "metadata": {},
     "output_type": "display_data"
    }
   ],
   "source": [
    "_ = plt.imshow(np.squeeze(depth), cmap='gray')\n",
    "plt.show()"
   ]
  },
  {
   "cell_type": "code",
   "execution_count": 22,
   "metadata": {
    "gather": {
     "logged": 1688494907698
    },
    "jupyter": {
     "outputs_hidden": false,
     "source_hidden": false
    },
    "nteract": {
     "transient": {
      "deleting": false
     }
    }
   },
   "outputs": [
    {
     "data": {
      "image/png": "[encoded data removed]",
      "text/plain": [
       "<Figure size 640x480 with 1 Axes>"
      ]
     },
     "metadata": {},
     "output_type": "display_data"
    }
   ],
   "source": [
    "_ = plt.imshow(np.squeeze(rgb), cmap='gray')\n",
    "plt.show()"
   ]
  },
  {
   "cell_type": "code",
   "execution_count": 23,
   "metadata": {
    "gather": {
     "logged": 1688494913394
    },
    "jupyter": {
     "outputs_hidden": false,
     "source_hidden": false
    },
    "nteract": {
     "transient": {
      "deleting": false
     }
    }
   },
   "outputs": [
    {
     "data": {
      "image/png": "[encoded data removed]",
      "text/plain": [
       "<Figure size 640x480 with 1 Axes>"
      ]
     },
     "metadata": {},
     "output_type": "display_data"
    }
   ],
   "source": [
    "_ = plt.imshow(np.squeeze(segment), cmap='gray')\n",
    "plt.show()"
   ]
  },
  {
   "cell_type": "code",
   "execution_count": 24,
   "metadata": {
    "gather": {
     "logged": 1688494919250
    },
    "jupyter": {
     "outputs_hidden": false,
     "source_hidden": false
    },
    "nteract": {
     "transient": {
      "deleting": false
     }
    }
   },
   "outputs": [
    {
     "data": {
      "text/plain": [
       "{'file_path_depth': '1678416017375/4316cc3c-abb1-4e66-ba4f-659ad5f89f24',\n",
       " 'timestamp_depth': '2023-03-10-02-40-17-386939',\n",
       " 'scan_id': '0004e201-beed-11ed-8a41-a7a3dcec0268',\n",
       " 'scan_step_depth': 102,\n",
       " 'scan_version_depth': 'v1.2.1',\n",
       " 'height_depth': 84.3,\n",
       " 'weight_depth': 11.1,\n",
       " 'muac_depth': 14.8,\n",
       " 'order_number': 1,\n",
       " 'format_depth': 'depth',\n",
       " 'artifact_depth': 'e4847a40-beec-11ed-8a41-bf1bddff5f16',\n",
       " 'artifact_id_depth': '0004e202-beed-11ed-8a41-b708ab4dd55f',\n",
       " 'device_model_depth': 'HUAWEI VOG-L29',\n",
       " 'person_id_depth': '00035b60-beed-11ed-8a41-539a7b95f736',\n",
       " 'age_depth': 1036,\n",
       " 'sex_depth': 'female',\n",
       " 'no_of_person_depth': '1',\n",
       " 'pose_score': '0.87541586',\n",
       " 'pose_result': \"{'bbox_coordinates': [(317.5191, 273.61072), (679.6566, 1125.1053)], 'bbox_confidence_score': [0.9990601], 'key_points_coordinate': [{'nose': {'x': 513.64795, 'y': 489.943}}, {'left_eye': {'x': 491.4736, 'y': 489.943}}, {'right_eye': {'x': 491.4736, 'y': 484.3994}}, {'left_ear': {'x': 458.2121, 'y': 645.1633}}, {'right_ear': {'x': 513.64795, 'y': 528.7481}}, {'left_shoulder': {'x': 574.6274, 'y': 689.5121}}, {'right_shoulder': {'x': 596.8017, 'y': 506.57373}}, {'left_elbow': {'x': 657.7811, 'y': 711.6864}}, {'right_elbow': {'x': 652.23755, 'y': 456.68146}}, {'left_wrist': {'x': 546.9095, 'y': 739.4043}}, {'right_wrist': {'x': 585.71454, 'y': 489.943}}, {'left_hip': {'x': 835.17584, 'y': 656.2505}}, {'right_hip': {'x': 846.263, 'y': 545.37885}}, {'left_knee': {'x': 946.04755, 'y': 622.989}}, {'right_knee': {'x': 968.22186, 'y': 550.9224}}, {'left_ankle': {'x': 1029.2013, 'y': 622.989}}, {'right_ankle': {'x': 1090.1808, 'y': 556.466}}], 'key_points_prob': [{'nose': {'score': 0.88969195}}, {'left_eye': {'score': 0.73452765}}, {'right_eye': {'score': 0.90916497}}, {'left_ear': {'score': 0.79768693}}, {'right_ear': {'score': 0.94092226}}, {'left_shoulder': {'score': 0.9132504}}, {'right_shoulder': {'score': 0.9243734}}, {'left_elbow': {'score': 0.9524827}}, {'right_elbow': {'score': 0.9638706}}, {'left_wrist': {'score': 0.9278737}}, {'right_wrist': {'score': 0.5414286}}, {'left_hip': {'score': 0.8870203}}, {'right_hip': {'score': 0.79557425}}, {'left_knee': {'score': 0.9951024}}, {'right_knee': {'score': 0.8792429}}, {'left_ankle': {'score': 0.9435787}}, {'right_ankle': {'score': 0.8862768}}], 'body_pose_score': 0.87541586, 'draw_kpt': array([[[ 513.64795,  489.943  ],\\n        [ 491.4736 ,  489.943  ],\\n        [ 491.4736 ,  484.3994 ],\\n        [ 458.2121 ,  645.1633 ],\\n        [ 513.64795,  528.7481 ],\\n        [ 574.6274 ,  689.5121 ],\\n        [ 596.8017 ,  506.57373],\\n        [ 657.7811 ,  711.6864 ],\\n        [ 652.23755,  456.68146],\\n        [ 546.9095 ,  739.4043 ],\\n        [ 585.71454,  489.943  ],\\n        [ 835.17584,  656.2505 ],\\n        [ 846.263  ,  545.37885],\\n        [ 946.04755,  622.989  ],\\n        [ 968.22186,  550.9224 ],\\n        [1029.2013 ,  622.989  ],\\n        [1090.1808 ,  556.466  ]]], dtype=float32)}\",\n",
       " 'ord_depth': 1,\n",
       " 'format_temp_depth': 'depth',\n",
       " 'file_path_rgb': '1678416018882/6d559a98-55bc-4173-91f8-f1f807f09026',\n",
       " 'timestamp_rgb': '2023-03-10-02-40-18-886961',\n",
       " 'scan_step_rgb': 102,\n",
       " 'scan_version_rgb': 'v1.2.1',\n",
       " 'height_rgb': 84.3,\n",
       " 'weight_rgb': 11.1,\n",
       " 'muac_rgb': 14.8,\n",
       " 'format_rgb': 'rgb',\n",
       " 'artifact_rgb': 'e56c6940-beec-11ed-8a41-2b5fffe12647',\n",
       " 'artifact_id_rgb': '0007ef45-beed-11ed-8a41-c784586a6f74',\n",
       " 'device_model_rgb': 'HUAWEI VOG-L29',\n",
       " 'person_id_rgb': '00035b60-beed-11ed-8a41-539a7b95f736',\n",
       " 'age_rgb': 1036,\n",
       " 'sex_rgb': 'female',\n",
       " 'no_of_person_rgb': '1',\n",
       " 'ord_rgb': 1,\n",
       " 'format_temp_rgb': 'rgb',\n",
       " 'device_pose': [-0.6388756294817494,\n",
       "  -0.7662442741072151,\n",
       "  0.06861226167534211,\n",
       "  0.0,\n",
       "  0.06867359998201365,\n",
       "  0.032027786850986964,\n",
       "  0.9971249457991401,\n",
       "  0.0,\n",
       "  -0.7662387791803603,\n",
       "  0.6417506784315345,\n",
       "  0.03215898028321572,\n",
       "  0.0,\n",
       "  0.0762137,\n",
       "  -0.0499806,\n",
       "  -0.11648086,\n",
       "  1.0],\n",
       " 'raw_header': '240x180_0.001_7_-0.27245992_0.6400673_0.64011854_-0.32607943_-0.0762137_0.0499806_0.11648086',\n",
       " 'angle': -39.92248739494393}"
      ]
     },
     "execution_count": 24,
     "metadata": {},
     "output_type": "execute_result"
    }
   ],
   "source": [
    "\n",
    "target"
   ]
  },
  {
   "cell_type": "markdown",
   "metadata": {
    "nteract": {
     "transient": {
      "deleting": false
     }
    }
   },
   "source": [
    "## Analysis"
   ]
  },
  {
   "cell_type": "code",
   "execution_count": 25,
   "metadata": {
    "gather": {
     "logged": 1688494938299
    },
    "jupyter": {
     "outputs_hidden": false,
     "source_hidden": false
    },
    "nteract": {
     "transient": {
      "deleting": false
     }
    }
   },
   "outputs": [
    {
     "name": "stdout",
     "output_type": "stream",
     "text": [
      "Total no. of artifacts: 168223\n",
      "Total no. of unique scan ids: 22870\n",
      "Total no. of unique person ids: 12253\n"
     ]
    }
   ],
   "source": [
    "print(\"Total no. of artifacts:\", len(df))\n",
    "unique_scan_ids = df.drop_duplicates(subset='scan_id', keep='first')\n",
    "print(\"Total no. of unique scan ids:\", len(unique_scan_ids))\n",
    "unique_person_ids = df.drop_duplicates(subset='person_id_depth', keep='first')\n",
    "print(\"Total no. of unique person ids:\", len(unique_person_ids))"
   ]
  },
  {
   "cell_type": "code",
   "execution_count": 26,
   "metadata": {
    "gather": {
     "logged": 1688494946530
    },
    "jupyter": {
     "outputs_hidden": false,
     "source_hidden": false
    },
    "nteract": {
     "transient": {
      "deleting": false
     }
    }
   },
   "outputs": [
    {
     "name": "stdout",
     "output_type": "stream",
     "text": [
      "device_model_depth\n",
      "HUAWEI VOG-L29    168223\n",
      "Name: count, dtype: int64\n"
     ]
    },
    {
     "data": {
      "image/png": "[encoded data removed]",
      "text/plain": [
       "<Figure size 640x480 with 1 Axes>"
      ]
     },
     "metadata": {},
     "output_type": "display_data"
    }
   ],
   "source": [
    "print(df['device_model_depth'].value_counts())\n",
    "_ = df['device_model_depth'].value_counts().plot(kind='pie')\n",
    "# device_model_depth"
   ]
  },
  {
   "cell_type": "code",
   "execution_count": 27,
   "metadata": {
    "gather": {
     "logged": 1688494953403
    },
    "jupyter": {
     "outputs_hidden": false,
     "source_hidden": false
    },
    "nteract": {
     "transient": {
      "deleting": false
     }
    }
   },
   "outputs": [
    {
     "name": "stdout",
     "output_type": "stream",
     "text": [
      "scan_version_depth\n",
      "v1.2.0    74729\n",
      "v0.8      71489\n",
      "v1.2.1    21168\n",
      "v0.9        837\n",
      "Name: count, dtype: int64\n"
     ]
    },
    {
     "data": {
      "image/png": "[encoded data removed]",
      "text/plain": [
       "<Figure size 640x480 with 1 Axes>"
      ]
     },
     "metadata": {},
     "output_type": "display_data"
    }
   ],
   "source": [
    "print(df['scan_version_depth'].value_counts())\n",
    "_ = df['scan_version_depth'].value_counts().plot(kind='pie')"
   ]
  },
  {
   "cell_type": "code",
   "execution_count": 29,
   "metadata": {
    "gather": {
     "logged": 1688494969426
    },
    "jupyter": {
     "outputs_hidden": false,
     "source_hidden": false
    },
    "nteract": {
     "transient": {
      "deleting": false
     }
    }
   },
   "outputs": [
    {
     "name": "stdout",
     "output_type": "stream",
     "text": [
      "Years\n",
      "0    1341\n",
      "1    2760\n",
      "2    2519\n",
      "3    2788\n",
      "4    2833\n",
      "5      12\n",
      "Name: count, dtype: int64\n"
     ]
    },
    {
     "data": {
      "image/png": "[encoded data removed]",
      "text/plain": [
       "<Figure size 640x480 with 1 Axes>"
      ]
     },
     "metadata": {},
     "output_type": "display_data"
    }
   ],
   "source": [
    "draw_age_distribution(unique_person_ids)"
   ]
  },
  {
   "cell_type": "code",
   "execution_count": 30,
   "metadata": {
    "gather": {
     "logged": 1688494977505
    },
    "jupyter": {
     "outputs_hidden": false,
     "source_hidden": false
    },
    "nteract": {
     "transient": {
      "deleting": false
     }
    }
   },
   "outputs": [
    {
     "name": "stdout",
     "output_type": "stream",
     "text": [
      "Years\n",
      "0    2432\n",
      "1    5060\n",
      "2    4744\n",
      "3    5181\n",
      "4    5431\n",
      "5      22\n",
      "Name: count, dtype: int64\n"
     ]
    },
    {
     "data": {
      "image/png": "[encoded data removed]",
      "text/plain": [
       "<Figure size 640x480 with 1 Axes>"
      ]
     },
     "metadata": {},
     "output_type": "display_data"
    }
   ],
   "source": [
    "draw_age_distribution(unique_scan_ids)"
   ]
  },
  {
   "cell_type": "code",
   "execution_count": 31,
   "metadata": {
    "gather": {
     "logged": 1688494984391
    },
    "jupyter": {
     "outputs_hidden": false,
     "source_hidden": false
    },
    "nteract": {
     "transient": {
      "deleting": false
     }
    }
   },
   "outputs": [
    {
     "name": "stdout",
     "output_type": "stream",
     "text": [
      "scan_step_rgb\n",
      "102    88089\n",
      "100    42233\n",
      "202    25682\n",
      "200    12219\n",
      "Name: count, dtype: int64\n"
     ]
    },
    {
     "data": {
      "image/png": "[encoded data removed]",
      "text/plain": [
       "<Figure size 640x480 with 1 Axes>"
      ]
     },
     "metadata": {},
     "output_type": "display_data"
    }
   ],
   "source": [
    "## keys for different scan type and their distribution in dataset\n",
    "\"- 100 - standing front scan\",\n",
    "\"- 101 - standing 360 scan\",\n",
    "\"- 102 - standing back scan\",\n",
    "\"- 200 - lying front scan\",\n",
    "\"- 201 - lying side scan\",\n",
    "\"- 202 - lying back scan\"\n",
    "print(df['scan_step_rgb'].value_counts())\n",
    "_ = df['scan_step_rgb'].value_counts().plot(kind='pie')"
   ]
  },
  {
   "cell_type": "code",
   "execution_count": 32,
   "metadata": {
    "gather": {
     "logged": 1688494991181
    },
    "jupyter": {
     "outputs_hidden": false,
     "source_hidden": false
    },
    "nteract": {
     "transient": {
      "deleting": false
     }
    }
   },
   "outputs": [
    {
     "name": "stderr",
     "output_type": "stream",
     "text": [
      "2023-07-04 18:23:11,263 - INFO - scan_step_depth - /mnt/batch/tasks/shared/LS_root/mounts/clusters/rbanka2/code/Users/rbanka/cgm-ml/cgmml/data_utils/dataset_EDA/data_utilities.py: line 52\n"
     ]
    },
    {
     "data": {
      "text/html": [
       "<div>\n",
       "<style scoped>\n",
       "    .dataframe tbody tr th:only-of-type {\n",
       "        vertical-align: middle;\n",
       "    }\n",
       "\n",
       "    .dataframe tbody tr th {\n",
       "        vertical-align: top;\n",
       "    }\n",
       "\n",
       "    .dataframe thead th {\n",
       "        text-align: right;\n",
       "    }\n",
       "</style>\n",
       "<table border=\"1\" class=\"dataframe\">\n",
       "  <thead>\n",
       "    <tr style=\"text-align: right;\">\n",
       "      <th></th>\n",
       "      <th>0</th>\n",
       "      <th>1</th>\n",
       "      <th>2</th>\n",
       "      <th>3</th>\n",
       "      <th>4</th>\n",
       "    </tr>\n",
       "    <tr>\n",
       "      <th>codes</th>\n",
       "      <th></th>\n",
       "      <th></th>\n",
       "      <th></th>\n",
       "      <th></th>\n",
       "      <th></th>\n",
       "    </tr>\n",
       "  </thead>\n",
       "  <tbody>\n",
       "    <tr>\n",
       "      <th>100</th>\n",
       "      <td>369</td>\n",
       "      <td>4054</td>\n",
       "      <td>9910</td>\n",
       "      <td>12916</td>\n",
       "      <td>14910</td>\n",
       "    </tr>\n",
       "    <tr>\n",
       "      <th>102</th>\n",
       "      <td>840</td>\n",
       "      <td>10050</td>\n",
       "      <td>23044</td>\n",
       "      <td>26277</td>\n",
       "      <td>27761</td>\n",
       "    </tr>\n",
       "    <tr>\n",
       "      <th>202</th>\n",
       "      <td>10848</td>\n",
       "      <td>13902</td>\n",
       "      <td>692</td>\n",
       "      <td>174</td>\n",
       "      <td>66</td>\n",
       "    </tr>\n",
       "    <tr>\n",
       "      <th>200</th>\n",
       "      <td>5274</td>\n",
       "      <td>6505</td>\n",
       "      <td>340</td>\n",
       "      <td>62</td>\n",
       "      <td>38</td>\n",
       "    </tr>\n",
       "  </tbody>\n",
       "</table>\n",
       "</div>"
      ],
      "text/plain": [
       "           0      1      2      3      4\n",
       "codes                                   \n",
       "100      369   4054   9910  12916  14910\n",
       "102      840  10050  23044  26277  27761\n",
       "202    10848  13902    692    174     66\n",
       "200     5274   6505    340     62     38"
      ]
     },
     "execution_count": 32,
     "metadata": {},
     "output_type": "execute_result"
    }
   ],
   "source": [
    "\n",
    "scan_type_colname = 'scan_step_depth' # for other datasets this can be \"key\"\n",
    "calculate_code_age_distribution(df, scan_type_colname)"
   ]
  },
  {
   "cell_type": "markdown",
   "metadata": {},
   "source": [
    "### Analysis based on Age (>2 and <2)"
   ]
  },
  {
   "cell_type": "code",
   "execution_count": 19,
   "metadata": {},
   "outputs": [
    {
     "data": {
      "text/plain": [
       "Index(['file_path_depth', 'timestamp_depth', 'scan_id', 'scan_step_depth',\n",
       "       'scan_version_depth', 'height_depth', 'weight_depth', 'muac_depth',\n",
       "       'order_number', 'format_depth', 'artifact_depth', 'artifact_id_depth',\n",
       "       'device_model_depth', 'person_id_depth', 'age_depth', 'sex_depth',\n",
       "       'no_of_person_depth', 'pose_score', 'pose_result', 'ord_depth',\n",
       "       'format_temp_depth', 'file_path_rgb', 'timestamp_rgb', 'scan_step_rgb',\n",
       "       'scan_version_rgb', 'height_rgb', 'weight_rgb', 'muac_rgb',\n",
       "       'format_rgb', 'artifact_rgb', 'artifact_id_rgb', 'device_model_rgb',\n",
       "       'person_id_rgb', 'age', 'sex_rgb', 'no_of_person_rgb', 'ord_rgb',\n",
       "       'format_temp_rgb', 'rgbds_file_path', 'Years'],\n",
       "      dtype='object')"
      ]
     },
     "execution_count": 19,
     "metadata": {},
     "output_type": "execute_result"
    }
   ],
   "source": [
    "df.columns"
   ]
  },
  {
   "cell_type": "code",
   "execution_count": 17,
   "metadata": {},
   "outputs": [
    {
     "name": "stdout",
     "output_type": "stream",
     "text": [
      "Total Number of artifacts for age > 2: 116201\n",
      "Total Number of scans for age > 2: 15351\n",
      "Total Number of artifacts for age < 2: 52022\n",
      "Total Number of scans for age < 2: 7519\n"
     ]
    }
   ],
   "source": [
    "# get dataframe with age > 2\n",
    "df_gt2 = df[df['age']>=731]\n",
    "print(f\"Total Number of artifacts for age > 2: {len(df_gt2['artifact_id_depth'])}\")\n",
    "print(f\"Total Number of scans for age > 2: {len(df_gt2.groupby('scan_id'))}\")\n",
    "\n",
    "# get dataframe with age < 2\n",
    "df_lt2 = df[~(df['age'] >= 731)]\n",
    "print(f\"Total Number of artifacts for age < 2: {len(df_lt2['artifact_id_depth'])}\")\n",
    "print(f\"Total Number of scans for age < 2: {len(df_lt2.groupby('scan_id'))}\")"
   ]
  },
  {
   "cell_type": "markdown",
   "metadata": {},
   "source": [
    "#### scan type for age > 2"
   ]
  },
  {
   "cell_type": "code",
   "execution_count": 22,
   "metadata": {},
   "outputs": [
    {
     "name": "stdout",
     "output_type": "stream",
     "text": [
      "102    77100\n",
      "100    37764\n",
      "202      906\n",
      "200      431\n",
      "Name: scan_step_depth, dtype: int64\n"
     ]
    },
    {
     "data": {
      "image/png": "[encoded data removed]",
      "text/plain": [
       "<Figure size 640x480 with 1 Axes>"
      ]
     },
     "metadata": {},
     "output_type": "display_data"
    }
   ],
   "source": [
    "## keys for different scan type and their distribution in dataframe with \"age\" > 2\n",
    "\"- 100 - standing front scan\",\n",
    "\"- 101 - standing 360 scan\",\n",
    "\"- 102 - standing back scan\",\n",
    "\"- 200 - lying front scan\",\n",
    "\"- 201 - lying side scan\",\n",
    "\"- 202 - lying back scan\"\n",
    "print(df_gt2['scan_step_depth'].value_counts())\n",
    "_ = df_gt2['scan_step_depth'].value_counts().plot(kind='pie')"
   ]
  },
  {
   "cell_type": "markdown",
   "metadata": {},
   "source": [
    "#### scan type for age < 2"
   ]
  },
  {
   "cell_type": "code",
   "execution_count": 20,
   "metadata": {},
   "outputs": [
    {
     "name": "stdout",
     "output_type": "stream",
     "text": [
      "202    24776\n",
      "200    11788\n",
      "102    10989\n",
      "100     4469\n",
      "Name: scan_step_depth, dtype: int64\n"
     ]
    },
    {
     "data": {
      "image/png": "[encoded data removed]",
      "text/plain": [
       "<Figure size 640x480 with 1 Axes>"
      ]
     },
     "metadata": {},
     "output_type": "display_data"
    }
   ],
   "source": [
    "## keys for different scan type and their distribution in dataframe with \"age\" < 2\n",
    "\"- 100 - standing front scan\",\n",
    "\"- 101 - standing 360 scan\",\n",
    "\"- 102 - standing back scan\",\n",
    "\"- 200 - lying front scan\",\n",
    "\"- 201 - lying side scan\",\n",
    "\"- 202 - lying back scan\"\n",
    "print(df_lt2['scan_step_depth'].value_counts())\n",
    "_ = df_lt2['scan_step_depth'].value_counts().plot(kind='pie')"
   ]
  },
  {
   "cell_type": "code",
   "execution_count": 26,
   "metadata": {},
   "outputs": [
    {
     "name": "stdout",
     "output_type": "stream",
     "text": [
      "Total Number of artifacts for age > 2, pose_score > 0.90, no_of_person == 1: 48422\n",
      "Total Number of scans for age > 2, pose_score > 0.90, no_of_person == 1: 9060\n"
     ]
    },
    {
     "name": "stderr",
     "output_type": "stream",
     "text": [
      "/tmp/ipykernel_2721595/3668851405.py:1: SettingWithCopyWarning: \n",
      "A value is trying to be set on a copy of a slice from a DataFrame.\n",
      "Try using .loc[row_indexer,col_indexer] = value instead\n",
      "\n",
      "See the caveats in the documentation: https://pandas.pydata.org/pandas-docs/stable/user_guide/indexing.html#returning-a-view-versus-a-copy\n",
      "  df_gt2['pose_score'] = df_gt2['pose_score'].apply(lambda x: float(x))\n"
     ]
    }
   ],
   "source": [
    "df_gt2['pose_score'] = df_gt2['pose_score'].apply(lambda x: float(x))\n",
    "df_gt2_new = df_gt2[(df_gt2['pose_score'] > 0.90) & (df_gt2['no_of_person_depth'] == 1)]\n",
    "print(f\"Total Number of artifacts for age > 2, pose_score > 0.90, no_of_person == 1: {len(df_gt2_new['artifact_id_depth'])}\")\n",
    "print(f\"Total Number of scans for age > 2, pose_score > 0.90, no_of_person == 1: {len(df_gt2_new.groupby('scan_id'))}\")"
   ]
  },
  {
   "cell_type": "code",
   "execution_count": null,
   "metadata": {},
   "outputs": [],
   "source": []
  },
  {
   "cell_type": "code",
   "execution_count": null,
   "metadata": {},
   "outputs": [],
   "source": []
  },
  {
   "cell_type": "code",
   "execution_count": null,
   "metadata": {},
   "outputs": [],
   "source": []
  },
  {
   "cell_type": "markdown",
   "metadata": {
    "nteract": {
     "transient": {
      "deleting": false
     }
    }
   },
   "source": [
    "### Distribution of height, weight and age against each other"
   ]
  },
  {
   "cell_type": "code",
   "execution_count": 33,
   "metadata": {
    "gather": {
     "logged": 1688495008183
    },
    "jupyter": {
     "outputs_hidden": false,
     "source_hidden": false
    },
    "nteract": {
     "transient": {
      "deleting": false
     }
    }
   },
   "outputs": [
    {
     "data": {
      "text/html": [
       "<div>\n",
       "<style scoped>\n",
       "    .dataframe tbody tr th:only-of-type {\n",
       "        vertical-align: middle;\n",
       "    }\n",
       "\n",
       "    .dataframe tbody tr th {\n",
       "        vertical-align: top;\n",
       "    }\n",
       "\n",
       "    .dataframe thead th {\n",
       "        text-align: right;\n",
       "    }\n",
       "</style>\n",
       "<table border=\"1\" class=\"dataframe\">\n",
       "  <thead>\n",
       "    <tr style=\"text-align: right;\">\n",
       "      <th></th>\n",
       "      <th>file_path_depth</th>\n",
       "      <th>timestamp_depth</th>\n",
       "      <th>scan_id</th>\n",
       "      <th>scan_step_depth</th>\n",
       "      <th>scan_version_depth</th>\n",
       "      <th>height_depth</th>\n",
       "      <th>weight_depth</th>\n",
       "      <th>muac_depth</th>\n",
       "      <th>order_number</th>\n",
       "      <th>format_depth</th>\n",
       "      <th>artifact_depth</th>\n",
       "      <th>artifact_id_depth</th>\n",
       "      <th>device_model_depth</th>\n",
       "      <th>person_id_depth</th>\n",
       "      <th>age_depth</th>\n",
       "      <th>sex_depth</th>\n",
       "      <th>no_of_person_depth</th>\n",
       "      <th>pose_score</th>\n",
       "      <th>pose_result</th>\n",
       "      <th>ord_depth</th>\n",
       "      <th>format_temp_depth</th>\n",
       "      <th>file_path_rgb</th>\n",
       "      <th>timestamp_rgb</th>\n",
       "      <th>scan_step_rgb</th>\n",
       "      <th>scan_version_rgb</th>\n",
       "      <th>height_rgb</th>\n",
       "      <th>weight_rgb</th>\n",
       "      <th>muac_rgb</th>\n",
       "      <th>format_rgb</th>\n",
       "      <th>artifact_rgb</th>\n",
       "      <th>artifact_id_rgb</th>\n",
       "      <th>device_model_rgb</th>\n",
       "      <th>person_id_rgb</th>\n",
       "      <th>age</th>\n",
       "      <th>sex_rgb</th>\n",
       "      <th>no_of_person_rgb</th>\n",
       "      <th>ord_rgb</th>\n",
       "      <th>format_temp_rgb</th>\n",
       "      <th>rgbds_file_path</th>\n",
       "      <th>Years</th>\n",
       "    </tr>\n",
       "  </thead>\n",
       "  <tbody>\n",
       "    <tr>\n",
       "      <th>0</th>\n",
       "      <td>1678302496361/9de66fb3-84f8-485b-8dff-614b0c98...</td>\n",
       "      <td>2023-03-08-19-08-16-369441</td>\n",
       "      <td>a3f096c0-bde4-11ed-8a41-cb112a2c7c43</td>\n",
       "      <td>100</td>\n",
       "      <td>v1.2.0</td>\n",
       "      <td>94.0</td>\n",
       "      <td>12.10</td>\n",
       "      <td>14.5</td>\n",
       "      <td>1</td>\n",
       "      <td>depth</td>\n",
       "      <td>94b77e80-bde4-11ed-8a41-97bb3b5af730</td>\n",
       "      <td>a3f096c1-bde4-11ed-8a41-8bf2692602c9</td>\n",
       "      <td>HUAWEI VOG-L29</td>\n",
       "      <td>a33b0260-bde4-11ed-8a41-eb5160648f52</td>\n",
       "      <td>1621</td>\n",
       "      <td>male</td>\n",
       "      <td>1</td>\n",
       "      <td>0.956885</td>\n",
       "      <td>{'bbox_coordinates': [(281.436, 131.32458), (6...</td>\n",
       "      <td>1</td>\n",
       "      <td>depth</td>\n",
       "      <td>1678302497402/6a5c0ed3-d695-4132-91e2-100c9b44...</td>\n",
       "      <td>2023-03-08-19-08-17-416341</td>\n",
       "      <td>100</td>\n",
       "      <td>v1.2.0</td>\n",
       "      <td>94.0</td>\n",
       "      <td>12.10</td>\n",
       "      <td>14.5</td>\n",
       "      <td>rgb</td>\n",
       "      <td>9557b620-bde4-11ed-8a41-f703c978b592</td>\n",
       "      <td>a3f52aa0-bde4-11ed-8a41-b761b9620398</td>\n",
       "      <td>HUAWEI VOG-L29</td>\n",
       "      <td>a33b0260-bde4-11ed-8a41-eb5160648f52</td>\n",
       "      <td>1621</td>\n",
       "      <td>male</td>\n",
       "      <td>1</td>\n",
       "      <td>1</td>\n",
       "      <td>rgb</td>\n",
       "      <td>/scans/a33b0260-bde4-11ed-8a41-eb5160648f52/10...</td>\n",
       "      <td>4</td>\n",
       "    </tr>\n",
       "    <tr>\n",
       "      <th>3</th>\n",
       "      <td>1678302516152/3a8e1ca8-a600-454d-890b-4a72ba00...</td>\n",
       "      <td>2023-03-08-19-08-36-166583</td>\n",
       "      <td>a44609c0-bde4-11ed-8a41-bba95c956b72</td>\n",
       "      <td>102</td>\n",
       "      <td>v1.2.0</td>\n",
       "      <td>94.0</td>\n",
       "      <td>12.10</td>\n",
       "      <td>14.5</td>\n",
       "      <td>4</td>\n",
       "      <td>depth</td>\n",
       "      <td>a084bc00-bde4-11ed-8a41-d7b97ef25e78</td>\n",
       "      <td>a44609c1-bde4-11ed-8a41-0f4effbe3225</td>\n",
       "      <td>HUAWEI VOG-L29</td>\n",
       "      <td>a33b0260-bde4-11ed-8a41-eb5160648f52</td>\n",
       "      <td>1621</td>\n",
       "      <td>male</td>\n",
       "      <td>2</td>\n",
       "      <td>0.926973</td>\n",
       "      <td>{'bbox_coordinates': [(230.46027, 78.713684), ...</td>\n",
       "      <td>4</td>\n",
       "      <td>depth</td>\n",
       "      <td>1678302517105/e88e93a5-2ef2-4e61-b132-f8f5a83f...</td>\n",
       "      <td>2023-03-08-19-08-37-119834</td>\n",
       "      <td>102</td>\n",
       "      <td>v1.2.0</td>\n",
       "      <td>94.0</td>\n",
       "      <td>12.10</td>\n",
       "      <td>14.5</td>\n",
       "      <td>rgb</td>\n",
       "      <td>a115b160-bde4-11ed-8a41-879a84a95fdc</td>\n",
       "      <td>a44609ca-bde4-11ed-8a41-d3b55e4bf9a4</td>\n",
       "      <td>HUAWEI VOG-L29</td>\n",
       "      <td>a33b0260-bde4-11ed-8a41-eb5160648f52</td>\n",
       "      <td>1621</td>\n",
       "      <td>male</td>\n",
       "      <td>2</td>\n",
       "      <td>4</td>\n",
       "      <td>rgb</td>\n",
       "      <td>/scans/a33b0260-bde4-11ed-8a41-eb5160648f52/10...</td>\n",
       "      <td>4</td>\n",
       "    </tr>\n",
       "    <tr>\n",
       "      <th>10</th>\n",
       "      <td>1678302482035/04fd29d7-9f65-419d-bec4-ec6c4db5...</td>\n",
       "      <td>2023-03-08-19-08-02-041051</td>\n",
       "      <td>b2340461-bde4-11ed-8a41-37d93c79fcf1</td>\n",
       "      <td>102</td>\n",
       "      <td>v1.2.0</td>\n",
       "      <td>87.2</td>\n",
       "      <td>10.65</td>\n",
       "      <td>13.5</td>\n",
       "      <td>1</td>\n",
       "      <td>depth</td>\n",
       "      <td>8c2e6f80-bde4-11ed-8a41-7b1c58c92363</td>\n",
       "      <td>b2340462-bde4-11ed-8a41-2b46946f850e</td>\n",
       "      <td>HUAWEI VOG-L29</td>\n",
       "      <td>b2327dc0-bde4-11ed-8a41-637e8d01fddf</td>\n",
       "      <td>1436</td>\n",
       "      <td>female</td>\n",
       "      <td>1</td>\n",
       "      <td>0.829091</td>\n",
       "      <td>{'bbox_coordinates': [(225.95929, 172.3179), (...</td>\n",
       "      <td>1</td>\n",
       "      <td>depth</td>\n",
       "      <td>1678302483415/32254416-9a1c-416b-8fef-88b6e97e...</td>\n",
       "      <td>2023-03-08-19-08-03-431717</td>\n",
       "      <td>102</td>\n",
       "      <td>v1.2.0</td>\n",
       "      <td>87.2</td>\n",
       "      <td>10.65</td>\n",
       "      <td>13.5</td>\n",
       "      <td>rgb</td>\n",
       "      <td>8d028860-bde4-11ed-8a41-4fc8c7ecc881</td>\n",
       "      <td>b23711a7-bde4-11ed-8a41-83767ab57ff4</td>\n",
       "      <td>HUAWEI VOG-L29</td>\n",
       "      <td>b2327dc0-bde4-11ed-8a41-637e8d01fddf</td>\n",
       "      <td>1436</td>\n",
       "      <td>female</td>\n",
       "      <td>1</td>\n",
       "      <td>1</td>\n",
       "      <td>rgb</td>\n",
       "      <td>/scans/b2327dc0-bde4-11ed-8a41-637e8d01fddf/10...</td>\n",
       "      <td>3</td>\n",
       "    </tr>\n",
       "    <tr>\n",
       "      <th>19</th>\n",
       "      <td>1678302548367/6c2356a4-9464-41de-aa7c-63a6ff00...</td>\n",
       "      <td>2023-03-08-19-09-08-370242</td>\n",
       "      <td>d21d92a0-bde4-11ed-8a41-f728dd25706b</td>\n",
       "      <td>100</td>\n",
       "      <td>v1.2.0</td>\n",
       "      <td>108.0</td>\n",
       "      <td>15.50</td>\n",
       "      <td>15.3</td>\n",
       "      <td>1</td>\n",
       "      <td>depth</td>\n",
       "      <td>b3b79720-bde4-11ed-8a41-fbc71ebb69a0</td>\n",
       "      <td>d21d92a1-bde4-11ed-8a41-73031eceeb88</td>\n",
       "      <td>HUAWEI VOG-L29</td>\n",
       "      <td>d158bc00-bde4-11ed-8a41-d3cae0d8d46a</td>\n",
       "      <td>1687</td>\n",
       "      <td>male</td>\n",
       "      <td>1</td>\n",
       "      <td>0.964283</td>\n",
       "      <td>{'bbox_coordinates': [(366.73215, 48.13661), (...</td>\n",
       "      <td>1</td>\n",
       "      <td>depth</td>\n",
       "      <td>1678302549396/3a20b98e-311c-41b4-ae4a-8743989d...</td>\n",
       "      <td>2023-03-08-19-09-09-417129</td>\n",
       "      <td>100</td>\n",
       "      <td>v1.2.0</td>\n",
       "      <td>108.0</td>\n",
       "      <td>15.50</td>\n",
       "      <td>15.3</td>\n",
       "      <td>rgb</td>\n",
       "      <td>b4564820-bde4-11ed-8a41-43f3ca222b04</td>\n",
       "      <td>d21f1947-bde4-11ed-8a41-0780132a4a51</td>\n",
       "      <td>HUAWEI VOG-L29</td>\n",
       "      <td>d158bc00-bde4-11ed-8a41-d3cae0d8d46a</td>\n",
       "      <td>1687</td>\n",
       "      <td>male</td>\n",
       "      <td>1</td>\n",
       "      <td>1</td>\n",
       "      <td>rgb</td>\n",
       "      <td>/scans/d158bc00-bde4-11ed-8a41-d3cae0d8d46a/10...</td>\n",
       "      <td>4</td>\n",
       "    </tr>\n",
       "    <tr>\n",
       "      <th>28</th>\n",
       "      <td>1678302593463/6071e492-b029-463e-a3f6-346db388...</td>\n",
       "      <td>2023-03-08-19-09-53-464761</td>\n",
       "      <td>d2a9f420-bde4-11ed-8a41-c77bc6ef2f78</td>\n",
       "      <td>102</td>\n",
       "      <td>v1.2.0</td>\n",
       "      <td>108.0</td>\n",
       "      <td>15.50</td>\n",
       "      <td>15.3</td>\n",
       "      <td>1</td>\n",
       "      <td>depth</td>\n",
       "      <td>ce9ad480-bde4-11ed-8a41-437687b25383</td>\n",
       "      <td>d2a9f421-bde4-11ed-8a41-23e40b3a9d47</td>\n",
       "      <td>HUAWEI VOG-L29</td>\n",
       "      <td>d158bc00-bde4-11ed-8a41-d3cae0d8d46a</td>\n",
       "      <td>1687</td>\n",
       "      <td>male</td>\n",
       "      <td>1</td>\n",
       "      <td>0.907072</td>\n",
       "      <td>{'bbox_coordinates': [(321.20856, 142.6661), (...</td>\n",
       "      <td>1</td>\n",
       "      <td>depth</td>\n",
       "      <td>1678302594652/7e9fe334-3519-4c77-ba41-a2644480...</td>\n",
       "      <td>2023-03-08-19-09-54-667923</td>\n",
       "      <td>102</td>\n",
       "      <td>v1.2.0</td>\n",
       "      <td>108.0</td>\n",
       "      <td>15.50</td>\n",
       "      <td>15.3</td>\n",
       "      <td>rgb</td>\n",
       "      <td>cf4ee240-bde4-11ed-8a41-ebedaad878c5</td>\n",
       "      <td>d2ab7ac0-bde4-11ed-8a41-b34ecdc24f85</td>\n",
       "      <td>HUAWEI VOG-L29</td>\n",
       "      <td>d158bc00-bde4-11ed-8a41-d3cae0d8d46a</td>\n",
       "      <td>1687</td>\n",
       "      <td>male</td>\n",
       "      <td>1</td>\n",
       "      <td>1</td>\n",
       "      <td>rgb</td>\n",
       "      <td>/scans/d158bc00-bde4-11ed-8a41-d3cae0d8d46a/10...</td>\n",
       "      <td>4</td>\n",
       "    </tr>\n",
       "  </tbody>\n",
       "</table>\n",
       "</div>"
      ],
      "text/plain": [
       "                                      file_path_depth   \n",
       "0   1678302496361/9de66fb3-84f8-485b-8dff-614b0c98...  \\\n",
       "3   1678302516152/3a8e1ca8-a600-454d-890b-4a72ba00...   \n",
       "10  1678302482035/04fd29d7-9f65-419d-bec4-ec6c4db5...   \n",
       "19  1678302548367/6c2356a4-9464-41de-aa7c-63a6ff00...   \n",
       "28  1678302593463/6071e492-b029-463e-a3f6-346db388...   \n",
       "\n",
       "               timestamp_depth                               scan_id   \n",
       "0   2023-03-08-19-08-16-369441  a3f096c0-bde4-11ed-8a41-cb112a2c7c43  \\\n",
       "3   2023-03-08-19-08-36-166583  a44609c0-bde4-11ed-8a41-bba95c956b72   \n",
       "10  2023-03-08-19-08-02-041051  b2340461-bde4-11ed-8a41-37d93c79fcf1   \n",
       "19  2023-03-08-19-09-08-370242  d21d92a0-bde4-11ed-8a41-f728dd25706b   \n",
       "28  2023-03-08-19-09-53-464761  d2a9f420-bde4-11ed-8a41-c77bc6ef2f78   \n",
       "\n",
       "    scan_step_depth scan_version_depth  height_depth  weight_depth   \n",
       "0               100             v1.2.0          94.0         12.10  \\\n",
       "3               102             v1.2.0          94.0         12.10   \n",
       "10              102             v1.2.0          87.2         10.65   \n",
       "19              100             v1.2.0         108.0         15.50   \n",
       "28              102             v1.2.0         108.0         15.50   \n",
       "\n",
       "    muac_depth  order_number format_depth   \n",
       "0         14.5             1        depth  \\\n",
       "3         14.5             4        depth   \n",
       "10        13.5             1        depth   \n",
       "19        15.3             1        depth   \n",
       "28        15.3             1        depth   \n",
       "\n",
       "                          artifact_depth   \n",
       "0   94b77e80-bde4-11ed-8a41-97bb3b5af730  \\\n",
       "3   a084bc00-bde4-11ed-8a41-d7b97ef25e78   \n",
       "10  8c2e6f80-bde4-11ed-8a41-7b1c58c92363   \n",
       "19  b3b79720-bde4-11ed-8a41-fbc71ebb69a0   \n",
       "28  ce9ad480-bde4-11ed-8a41-437687b25383   \n",
       "\n",
       "                       artifact_id_depth device_model_depth   \n",
       "0   a3f096c1-bde4-11ed-8a41-8bf2692602c9     HUAWEI VOG-L29  \\\n",
       "3   a44609c1-bde4-11ed-8a41-0f4effbe3225     HUAWEI VOG-L29   \n",
       "10  b2340462-bde4-11ed-8a41-2b46946f850e     HUAWEI VOG-L29   \n",
       "19  d21d92a1-bde4-11ed-8a41-73031eceeb88     HUAWEI VOG-L29   \n",
       "28  d2a9f421-bde4-11ed-8a41-23e40b3a9d47     HUAWEI VOG-L29   \n",
       "\n",
       "                         person_id_depth  age_depth sex_depth   \n",
       "0   a33b0260-bde4-11ed-8a41-eb5160648f52       1621      male  \\\n",
       "3   a33b0260-bde4-11ed-8a41-eb5160648f52       1621      male   \n",
       "10  b2327dc0-bde4-11ed-8a41-637e8d01fddf       1436    female   \n",
       "19  d158bc00-bde4-11ed-8a41-d3cae0d8d46a       1687      male   \n",
       "28  d158bc00-bde4-11ed-8a41-d3cae0d8d46a       1687      male   \n",
       "\n",
       "    no_of_person_depth  pose_score   \n",
       "0                    1    0.956885  \\\n",
       "3                    2    0.926973   \n",
       "10                   1    0.829091   \n",
       "19                   1    0.964283   \n",
       "28                   1    0.907072   \n",
       "\n",
       "                                          pose_result  ord_depth   \n",
       "0   {'bbox_coordinates': [(281.436, 131.32458), (6...          1  \\\n",
       "3   {'bbox_coordinates': [(230.46027, 78.713684), ...          4   \n",
       "10  {'bbox_coordinates': [(225.95929, 172.3179), (...          1   \n",
       "19  {'bbox_coordinates': [(366.73215, 48.13661), (...          1   \n",
       "28  {'bbox_coordinates': [(321.20856, 142.6661), (...          1   \n",
       "\n",
       "   format_temp_depth                                      file_path_rgb   \n",
       "0              depth  1678302497402/6a5c0ed3-d695-4132-91e2-100c9b44...  \\\n",
       "3              depth  1678302517105/e88e93a5-2ef2-4e61-b132-f8f5a83f...   \n",
       "10             depth  1678302483415/32254416-9a1c-416b-8fef-88b6e97e...   \n",
       "19             depth  1678302549396/3a20b98e-311c-41b4-ae4a-8743989d...   \n",
       "28             depth  1678302594652/7e9fe334-3519-4c77-ba41-a2644480...   \n",
       "\n",
       "                 timestamp_rgb  scan_step_rgb scan_version_rgb  height_rgb   \n",
       "0   2023-03-08-19-08-17-416341            100           v1.2.0        94.0  \\\n",
       "3   2023-03-08-19-08-37-119834            102           v1.2.0        94.0   \n",
       "10  2023-03-08-19-08-03-431717            102           v1.2.0        87.2   \n",
       "19  2023-03-08-19-09-09-417129            100           v1.2.0       108.0   \n",
       "28  2023-03-08-19-09-54-667923            102           v1.2.0       108.0   \n",
       "\n",
       "    weight_rgb  muac_rgb format_rgb                          artifact_rgb   \n",
       "0        12.10      14.5        rgb  9557b620-bde4-11ed-8a41-f703c978b592  \\\n",
       "3        12.10      14.5        rgb  a115b160-bde4-11ed-8a41-879a84a95fdc   \n",
       "10       10.65      13.5        rgb  8d028860-bde4-11ed-8a41-4fc8c7ecc881   \n",
       "19       15.50      15.3        rgb  b4564820-bde4-11ed-8a41-43f3ca222b04   \n",
       "28       15.50      15.3        rgb  cf4ee240-bde4-11ed-8a41-ebedaad878c5   \n",
       "\n",
       "                         artifact_id_rgb device_model_rgb   \n",
       "0   a3f52aa0-bde4-11ed-8a41-b761b9620398   HUAWEI VOG-L29  \\\n",
       "3   a44609ca-bde4-11ed-8a41-d3b55e4bf9a4   HUAWEI VOG-L29   \n",
       "10  b23711a7-bde4-11ed-8a41-83767ab57ff4   HUAWEI VOG-L29   \n",
       "19  d21f1947-bde4-11ed-8a41-0780132a4a51   HUAWEI VOG-L29   \n",
       "28  d2ab7ac0-bde4-11ed-8a41-b34ecdc24f85   HUAWEI VOG-L29   \n",
       "\n",
       "                           person_id_rgb   age sex_rgb  no_of_person_rgb   \n",
       "0   a33b0260-bde4-11ed-8a41-eb5160648f52  1621    male                 1  \\\n",
       "3   a33b0260-bde4-11ed-8a41-eb5160648f52  1621    male                 2   \n",
       "10  b2327dc0-bde4-11ed-8a41-637e8d01fddf  1436  female                 1   \n",
       "19  d158bc00-bde4-11ed-8a41-d3cae0d8d46a  1687    male                 1   \n",
       "28  d158bc00-bde4-11ed-8a41-d3cae0d8d46a  1687    male                 1   \n",
       "\n",
       "    ord_rgb format_temp_rgb   \n",
       "0         1             rgb  \\\n",
       "3         4             rgb   \n",
       "10        1             rgb   \n",
       "19        1             rgb   \n",
       "28        1             rgb   \n",
       "\n",
       "                                      rgbds_file_path  Years  \n",
       "0   /scans/a33b0260-bde4-11ed-8a41-eb5160648f52/10...      4  \n",
       "3   /scans/a33b0260-bde4-11ed-8a41-eb5160648f52/10...      4  \n",
       "10  /scans/b2327dc0-bde4-11ed-8a41-637e8d01fddf/10...      3  \n",
       "19  /scans/d158bc00-bde4-11ed-8a41-d3cae0d8d46a/10...      4  \n",
       "28  /scans/d158bc00-bde4-11ed-8a41-d3cae0d8d46a/10...      4  "
      ]
     },
     "execution_count": 33,
     "metadata": {},
     "output_type": "execute_result"
    }
   ],
   "source": [
    "unique_scan_ids.head()"
   ]
  },
  {
   "cell_type": "code",
   "execution_count": 34,
   "metadata": {
    "gather": {
     "logged": 1688495016227
    },
    "jupyter": {
     "outputs_hidden": false,
     "source_hidden": false
    },
    "nteract": {
     "transient": {
      "deleting": false
     }
    }
   },
   "outputs": [
    {
     "data": {
      "image/png": "[encoded data removed]",
      "text/plain": [
       "<Figure size 640x480 with 1 Axes>"
      ]
     },
     "metadata": {},
     "output_type": "display_data"
    }
   ],
   "source": [
    "#distribution of height against age\n",
    "height_vs_age = unique_scan_ids.plot.scatter(x='height_rgb', y='age', c='red')"
   ]
  },
  {
   "cell_type": "code",
   "execution_count": 35,
   "metadata": {
    "gather": {
     "logged": 1688495032243
    },
    "jupyter": {
     "outputs_hidden": false,
     "source_hidden": false
    },
    "nteract": {
     "transient": {
      "deleting": false
     }
    }
   },
   "outputs": [
    {
     "data": {
      "image/png": "[encoded data removed]",
      "text/plain": [
       "<Figure size 640x480 with 1 Axes>"
      ]
     },
     "metadata": {},
     "output_type": "display_data"
    }
   ],
   "source": [
    "#distribution of weight against age\n",
    "weight_vs_age = unique_scan_ids.plot.scatter(x='weight_rgb', y='age', c='red')"
   ]
  },
  {
   "cell_type": "code",
   "execution_count": 36,
   "metadata": {
    "gather": {
     "logged": 1688495040235
    },
    "jupyter": {
     "outputs_hidden": false,
     "source_hidden": false
    },
    "nteract": {
     "transient": {
      "deleting": false
     }
    }
   },
   "outputs": [
    {
     "data": {
      "image/png": "[encoded data removed]",
      "text/plain": [
       "<Figure size 640x480 with 1 Axes>"
      ]
     },
     "metadata": {},
     "output_type": "display_data"
    }
   ],
   "source": [
    "weight_vs_height = unique_scan_ids.plot.scatter(x='height_rgb', y='weight_rgb', c='red')"
   ]
  },
  {
   "cell_type": "markdown",
   "metadata": {
    "nteract": {
     "transient": {
      "deleting": false
     }
    }
   },
   "source": [
    "### Analyze outliers: 1) age, 2) weight, 3) height, 4) pixel values"
   ]
  },
  {
   "cell_type": "code",
   "execution_count": 37,
   "metadata": {
    "gather": {
     "logged": 1688495054392
    },
    "jupyter": {
     "outputs_hidden": false,
     "source_hidden": false
    },
    "nteract": {
     "transient": {
      "deleting": false
     }
    }
   },
   "outputs": [
    {
     "data": {
      "text/html": [
       "<div>\n",
       "<style scoped>\n",
       "    .dataframe tbody tr th:only-of-type {\n",
       "        vertical-align: middle;\n",
       "    }\n",
       "\n",
       "    .dataframe tbody tr th {\n",
       "        vertical-align: top;\n",
       "    }\n",
       "\n",
       "    .dataframe thead th {\n",
       "        text-align: right;\n",
       "    }\n",
       "</style>\n",
       "<table border=\"1\" class=\"dataframe\">\n",
       "  <thead>\n",
       "    <tr style=\"text-align: right;\">\n",
       "      <th></th>\n",
       "      <th>scan_step_depth</th>\n",
       "      <th>height_depth</th>\n",
       "      <th>weight_depth</th>\n",
       "      <th>muac_depth</th>\n",
       "      <th>order_number</th>\n",
       "      <th>age_depth</th>\n",
       "      <th>no_of_person_depth</th>\n",
       "      <th>pose_score</th>\n",
       "      <th>ord_depth</th>\n",
       "      <th>scan_step_rgb</th>\n",
       "      <th>height_rgb</th>\n",
       "      <th>weight_rgb</th>\n",
       "      <th>muac_rgb</th>\n",
       "      <th>age</th>\n",
       "      <th>no_of_person_rgb</th>\n",
       "      <th>ord_rgb</th>\n",
       "      <th>Years</th>\n",
       "    </tr>\n",
       "  </thead>\n",
       "  <tbody>\n",
       "    <tr>\n",
       "      <th>count</th>\n",
       "      <td>168223.000000</td>\n",
       "      <td>168223.000000</td>\n",
       "      <td>168223.000000</td>\n",
       "      <td>168223.000000</td>\n",
       "      <td>168223.000000</td>\n",
       "      <td>168223.000000</td>\n",
       "      <td>168223.000000</td>\n",
       "      <td>168223.000000</td>\n",
       "      <td>168223.000000</td>\n",
       "      <td>168223.000000</td>\n",
       "      <td>168223.000000</td>\n",
       "      <td>168223.000000</td>\n",
       "      <td>168223.000000</td>\n",
       "      <td>168223.000000</td>\n",
       "      <td>168223.000000</td>\n",
       "      <td>168223.000000</td>\n",
       "      <td>168223.000000</td>\n",
       "    </tr>\n",
       "    <tr>\n",
       "      <th>mean</th>\n",
       "      <td>123.882834</td>\n",
       "      <td>85.398114</td>\n",
       "      <td>10.644495</td>\n",
       "      <td>13.770588</td>\n",
       "      <td>5.074068</td>\n",
       "      <td>1045.867485</td>\n",
       "      <td>1.064165</td>\n",
       "      <td>0.826735</td>\n",
       "      <td>5.074068</td>\n",
       "      <td>123.882834</td>\n",
       "      <td>85.398114</td>\n",
       "      <td>10.644495</td>\n",
       "      <td>13.770588</td>\n",
       "      <td>1045.867485</td>\n",
       "      <td>1.064165</td>\n",
       "      <td>5.074068</td>\n",
       "      <td>2.335144</td>\n",
       "    </tr>\n",
       "    <tr>\n",
       "      <th>std</th>\n",
       "      <td>41.790115</td>\n",
       "      <td>11.501880</td>\n",
       "      <td>2.585019</td>\n",
       "      <td>1.042657</td>\n",
       "      <td>2.760318</td>\n",
       "      <td>482.801211</td>\n",
       "      <td>0.307876</td>\n",
       "      <td>0.151807</td>\n",
       "      <td>2.760318</td>\n",
       "      <td>41.790115</td>\n",
       "      <td>11.501880</td>\n",
       "      <td>2.585019</td>\n",
       "      <td>1.042657</td>\n",
       "      <td>482.801211</td>\n",
       "      <td>0.307876</td>\n",
       "      <td>2.760318</td>\n",
       "      <td>1.329151</td>\n",
       "    </tr>\n",
       "    <tr>\n",
       "      <th>min</th>\n",
       "      <td>100.000000</td>\n",
       "      <td>51.100000</td>\n",
       "      <td>3.550000</td>\n",
       "      <td>9.000000</td>\n",
       "      <td>1.000000</td>\n",
       "      <td>183.000000</td>\n",
       "      <td>1.000000</td>\n",
       "      <td>0.034143</td>\n",
       "      <td>1.000000</td>\n",
       "      <td>100.000000</td>\n",
       "      <td>51.100000</td>\n",
       "      <td>3.550000</td>\n",
       "      <td>9.000000</td>\n",
       "      <td>183.000000</td>\n",
       "      <td>1.000000</td>\n",
       "      <td>1.000000</td>\n",
       "      <td>0.000000</td>\n",
       "    </tr>\n",
       "    <tr>\n",
       "      <th>25%</th>\n",
       "      <td>100.000000</td>\n",
       "      <td>76.500000</td>\n",
       "      <td>8.600000</td>\n",
       "      <td>13.100000</td>\n",
       "      <td>3.000000</td>\n",
       "      <td>620.000000</td>\n",
       "      <td>1.000000</td>\n",
       "      <td>0.799430</td>\n",
       "      <td>3.000000</td>\n",
       "      <td>100.000000</td>\n",
       "      <td>76.500000</td>\n",
       "      <td>8.600000</td>\n",
       "      <td>13.100000</td>\n",
       "      <td>620.000000</td>\n",
       "      <td>1.000000</td>\n",
       "      <td>3.000000</td>\n",
       "      <td>1.000000</td>\n",
       "    </tr>\n",
       "    <tr>\n",
       "      <th>50%</th>\n",
       "      <td>102.000000</td>\n",
       "      <td>86.500000</td>\n",
       "      <td>10.700000</td>\n",
       "      <td>13.700000</td>\n",
       "      <td>5.000000</td>\n",
       "      <td>1076.000000</td>\n",
       "      <td>1.000000</td>\n",
       "      <td>0.860335</td>\n",
       "      <td>5.000000</td>\n",
       "      <td>102.000000</td>\n",
       "      <td>86.500000</td>\n",
       "      <td>10.700000</td>\n",
       "      <td>13.700000</td>\n",
       "      <td>1076.000000</td>\n",
       "      <td>1.000000</td>\n",
       "      <td>5.000000</td>\n",
       "      <td>2.000000</td>\n",
       "    </tr>\n",
       "    <tr>\n",
       "      <th>75%</th>\n",
       "      <td>102.000000</td>\n",
       "      <td>94.700000</td>\n",
       "      <td>12.550000</td>\n",
       "      <td>14.500000</td>\n",
       "      <td>7.000000</td>\n",
       "      <td>1469.000000</td>\n",
       "      <td>1.000000</td>\n",
       "      <td>0.927279</td>\n",
       "      <td>7.000000</td>\n",
       "      <td>102.000000</td>\n",
       "      <td>94.700000</td>\n",
       "      <td>12.550000</td>\n",
       "      <td>14.500000</td>\n",
       "      <td>1469.000000</td>\n",
       "      <td>1.000000</td>\n",
       "      <td>7.000000</td>\n",
       "      <td>4.000000</td>\n",
       "    </tr>\n",
       "    <tr>\n",
       "      <th>max</th>\n",
       "      <td>202.000000</td>\n",
       "      <td>116.000000</td>\n",
       "      <td>22.650000</td>\n",
       "      <td>18.500000</td>\n",
       "      <td>27.000000</td>\n",
       "      <td>1825.000000</td>\n",
       "      <td>10.000000</td>\n",
       "      <td>0.978780</td>\n",
       "      <td>27.000000</td>\n",
       "      <td>202.000000</td>\n",
       "      <td>116.000000</td>\n",
       "      <td>22.650000</td>\n",
       "      <td>18.500000</td>\n",
       "      <td>1825.000000</td>\n",
       "      <td>10.000000</td>\n",
       "      <td>27.000000</td>\n",
       "      <td>5.000000</td>\n",
       "    </tr>\n",
       "  </tbody>\n",
       "</table>\n",
       "</div>"
      ],
      "text/plain": [
       "       scan_step_depth   height_depth   weight_depth     muac_depth   \n",
       "count    168223.000000  168223.000000  168223.000000  168223.000000  \\\n",
       "mean        123.882834      85.398114      10.644495      13.770588   \n",
       "std          41.790115      11.501880       2.585019       1.042657   \n",
       "min         100.000000      51.100000       3.550000       9.000000   \n",
       "25%         100.000000      76.500000       8.600000      13.100000   \n",
       "50%         102.000000      86.500000      10.700000      13.700000   \n",
       "75%         102.000000      94.700000      12.550000      14.500000   \n",
       "max         202.000000     116.000000      22.650000      18.500000   \n",
       "\n",
       "        order_number      age_depth  no_of_person_depth     pose_score   \n",
       "count  168223.000000  168223.000000       168223.000000  168223.000000  \\\n",
       "mean        5.074068    1045.867485            1.064165       0.826735   \n",
       "std         2.760318     482.801211            0.307876       0.151807   \n",
       "min         1.000000     183.000000            1.000000       0.034143   \n",
       "25%         3.000000     620.000000            1.000000       0.799430   \n",
       "50%         5.000000    1076.000000            1.000000       0.860335   \n",
       "75%         7.000000    1469.000000            1.000000       0.927279   \n",
       "max        27.000000    1825.000000           10.000000       0.978780   \n",
       "\n",
       "           ord_depth  scan_step_rgb     height_rgb     weight_rgb   \n",
       "count  168223.000000  168223.000000  168223.000000  168223.000000  \\\n",
       "mean        5.074068     123.882834      85.398114      10.644495   \n",
       "std         2.760318      41.790115      11.501880       2.585019   \n",
       "min         1.000000     100.000000      51.100000       3.550000   \n",
       "25%         3.000000     100.000000      76.500000       8.600000   \n",
       "50%         5.000000     102.000000      86.500000      10.700000   \n",
       "75%         7.000000     102.000000      94.700000      12.550000   \n",
       "max        27.000000     202.000000     116.000000      22.650000   \n",
       "\n",
       "            muac_rgb            age  no_of_person_rgb        ord_rgb   \n",
       "count  168223.000000  168223.000000     168223.000000  168223.000000  \\\n",
       "mean       13.770588    1045.867485          1.064165       5.074068   \n",
       "std         1.042657     482.801211          0.307876       2.760318   \n",
       "min         9.000000     183.000000          1.000000       1.000000   \n",
       "25%        13.100000     620.000000          1.000000       3.000000   \n",
       "50%        13.700000    1076.000000          1.000000       5.000000   \n",
       "75%        14.500000    1469.000000          1.000000       7.000000   \n",
       "max        18.500000    1825.000000         10.000000      27.000000   \n",
       "\n",
       "               Years  \n",
       "count  168223.000000  \n",
       "mean        2.335144  \n",
       "std         1.329151  \n",
       "min         0.000000  \n",
       "25%         1.000000  \n",
       "50%         2.000000  \n",
       "75%         4.000000  \n",
       "max         5.000000  "
      ]
     },
     "execution_count": 37,
     "metadata": {},
     "output_type": "execute_result"
    }
   ],
   "source": [
    "df.describe()"
   ]
  },
  {
   "cell_type": "code",
   "execution_count": 38,
   "metadata": {
    "gather": {
     "logged": 1688495060315
    },
    "jupyter": {
     "outputs_hidden": false,
     "source_hidden": false
    },
    "nteract": {
     "transient": {
      "deleting": false
     }
    }
   },
   "outputs": [
    {
     "data": {
      "text/html": [
       "<div>\n",
       "<style scoped>\n",
       "    .dataframe tbody tr th:only-of-type {\n",
       "        vertical-align: middle;\n",
       "    }\n",
       "\n",
       "    .dataframe tbody tr th {\n",
       "        vertical-align: top;\n",
       "    }\n",
       "\n",
       "    .dataframe thead th {\n",
       "        text-align: right;\n",
       "    }\n",
       "</style>\n",
       "<table border=\"1\" class=\"dataframe\">\n",
       "  <thead>\n",
       "    <tr style=\"text-align: right;\">\n",
       "      <th></th>\n",
       "      <th>scan_step_depth</th>\n",
       "      <th>height_depth</th>\n",
       "      <th>weight_depth</th>\n",
       "      <th>muac_depth</th>\n",
       "      <th>order_number</th>\n",
       "      <th>age_depth</th>\n",
       "      <th>no_of_person_depth</th>\n",
       "      <th>pose_score</th>\n",
       "      <th>ord_depth</th>\n",
       "      <th>scan_step_rgb</th>\n",
       "      <th>height_rgb</th>\n",
       "      <th>weight_rgb</th>\n",
       "      <th>muac_rgb</th>\n",
       "      <th>age</th>\n",
       "      <th>no_of_person_rgb</th>\n",
       "      <th>ord_rgb</th>\n",
       "      <th>Years</th>\n",
       "    </tr>\n",
       "  </thead>\n",
       "  <tbody>\n",
       "    <tr>\n",
       "      <th>count</th>\n",
       "      <td>22870.000000</td>\n",
       "      <td>22870.000000</td>\n",
       "      <td>22870.000000</td>\n",
       "      <td>22870.000000</td>\n",
       "      <td>22870.000000</td>\n",
       "      <td>22870.000000</td>\n",
       "      <td>22870.00000</td>\n",
       "      <td>22870.000000</td>\n",
       "      <td>22870.000000</td>\n",
       "      <td>22870.000000</td>\n",
       "      <td>22870.000000</td>\n",
       "      <td>22870.000000</td>\n",
       "      <td>22870.000000</td>\n",
       "      <td>22870.000000</td>\n",
       "      <td>22870.00000</td>\n",
       "      <td>22870.000000</td>\n",
       "      <td>22870.000000</td>\n",
       "    </tr>\n",
       "    <tr>\n",
       "      <th>mean</th>\n",
       "      <td>124.701530</td>\n",
       "      <td>84.806336</td>\n",
       "      <td>10.519988</td>\n",
       "      <td>13.741220</td>\n",
       "      <td>2.000394</td>\n",
       "      <td>1021.755969</td>\n",
       "      <td>1.08815</td>\n",
       "      <td>0.823596</td>\n",
       "      <td>2.000394</td>\n",
       "      <td>124.701530</td>\n",
       "      <td>84.806336</td>\n",
       "      <td>10.519988</td>\n",
       "      <td>13.741220</td>\n",
       "      <td>1021.755969</td>\n",
       "      <td>1.08815</td>\n",
       "      <td>2.000394</td>\n",
       "      <td>2.270442</td>\n",
       "    </tr>\n",
       "    <tr>\n",
       "      <th>std</th>\n",
       "      <td>42.443183</td>\n",
       "      <td>11.453290</td>\n",
       "      <td>2.574119</td>\n",
       "      <td>1.041953</td>\n",
       "      <td>2.094879</td>\n",
       "      <td>480.944673</td>\n",
       "      <td>0.36015</td>\n",
       "      <td>0.169675</td>\n",
       "      <td>2.094879</td>\n",
       "      <td>42.443183</td>\n",
       "      <td>11.453290</td>\n",
       "      <td>2.574119</td>\n",
       "      <td>1.041953</td>\n",
       "      <td>480.944673</td>\n",
       "      <td>0.36015</td>\n",
       "      <td>2.094879</td>\n",
       "      <td>1.326137</td>\n",
       "    </tr>\n",
       "    <tr>\n",
       "      <th>min</th>\n",
       "      <td>100.000000</td>\n",
       "      <td>51.100000</td>\n",
       "      <td>3.550000</td>\n",
       "      <td>9.000000</td>\n",
       "      <td>1.000000</td>\n",
       "      <td>183.000000</td>\n",
       "      <td>1.00000</td>\n",
       "      <td>0.044619</td>\n",
       "      <td>1.000000</td>\n",
       "      <td>100.000000</td>\n",
       "      <td>51.100000</td>\n",
       "      <td>3.550000</td>\n",
       "      <td>9.000000</td>\n",
       "      <td>183.000000</td>\n",
       "      <td>1.00000</td>\n",
       "      <td>1.000000</td>\n",
       "      <td>0.000000</td>\n",
       "    </tr>\n",
       "    <tr>\n",
       "      <th>25%</th>\n",
       "      <td>100.000000</td>\n",
       "      <td>75.700000</td>\n",
       "      <td>8.500000</td>\n",
       "      <td>13.100000</td>\n",
       "      <td>1.000000</td>\n",
       "      <td>598.000000</td>\n",
       "      <td>1.00000</td>\n",
       "      <td>0.799222</td>\n",
       "      <td>1.000000</td>\n",
       "      <td>100.000000</td>\n",
       "      <td>75.700000</td>\n",
       "      <td>8.500000</td>\n",
       "      <td>13.100000</td>\n",
       "      <td>598.000000</td>\n",
       "      <td>1.00000</td>\n",
       "      <td>1.000000</td>\n",
       "      <td>1.000000</td>\n",
       "    </tr>\n",
       "    <tr>\n",
       "      <th>50%</th>\n",
       "      <td>102.000000</td>\n",
       "      <td>85.500000</td>\n",
       "      <td>10.500000</td>\n",
       "      <td>13.700000</td>\n",
       "      <td>1.000000</td>\n",
       "      <td>1031.500000</td>\n",
       "      <td>1.00000</td>\n",
       "      <td>0.868104</td>\n",
       "      <td>1.000000</td>\n",
       "      <td>102.000000</td>\n",
       "      <td>85.500000</td>\n",
       "      <td>10.500000</td>\n",
       "      <td>13.700000</td>\n",
       "      <td>1031.500000</td>\n",
       "      <td>1.00000</td>\n",
       "      <td>1.000000</td>\n",
       "      <td>2.000000</td>\n",
       "    </tr>\n",
       "    <tr>\n",
       "      <th>75%</th>\n",
       "      <td>102.000000</td>\n",
       "      <td>94.100000</td>\n",
       "      <td>12.400000</td>\n",
       "      <td>14.400000</td>\n",
       "      <td>2.000000</td>\n",
       "      <td>1440.000000</td>\n",
       "      <td>1.00000</td>\n",
       "      <td>0.937393</td>\n",
       "      <td>2.000000</td>\n",
       "      <td>102.000000</td>\n",
       "      <td>94.100000</td>\n",
       "      <td>12.400000</td>\n",
       "      <td>14.400000</td>\n",
       "      <td>1440.000000</td>\n",
       "      <td>1.00000</td>\n",
       "      <td>2.000000</td>\n",
       "      <td>3.000000</td>\n",
       "    </tr>\n",
       "    <tr>\n",
       "      <th>max</th>\n",
       "      <td>202.000000</td>\n",
       "      <td>116.000000</td>\n",
       "      <td>22.650000</td>\n",
       "      <td>18.500000</td>\n",
       "      <td>19.000000</td>\n",
       "      <td>1825.000000</td>\n",
       "      <td>7.00000</td>\n",
       "      <td>0.977747</td>\n",
       "      <td>19.000000</td>\n",
       "      <td>202.000000</td>\n",
       "      <td>116.000000</td>\n",
       "      <td>22.650000</td>\n",
       "      <td>18.500000</td>\n",
       "      <td>1825.000000</td>\n",
       "      <td>7.00000</td>\n",
       "      <td>19.000000</td>\n",
       "      <td>5.000000</td>\n",
       "    </tr>\n",
       "  </tbody>\n",
       "</table>\n",
       "</div>"
      ],
      "text/plain": [
       "       scan_step_depth  height_depth  weight_depth    muac_depth   \n",
       "count     22870.000000  22870.000000  22870.000000  22870.000000  \\\n",
       "mean        124.701530     84.806336     10.519988     13.741220   \n",
       "std          42.443183     11.453290      2.574119      1.041953   \n",
       "min         100.000000     51.100000      3.550000      9.000000   \n",
       "25%         100.000000     75.700000      8.500000     13.100000   \n",
       "50%         102.000000     85.500000     10.500000     13.700000   \n",
       "75%         102.000000     94.100000     12.400000     14.400000   \n",
       "max         202.000000    116.000000     22.650000     18.500000   \n",
       "\n",
       "       order_number     age_depth  no_of_person_depth    pose_score   \n",
       "count  22870.000000  22870.000000         22870.00000  22870.000000  \\\n",
       "mean       2.000394   1021.755969             1.08815      0.823596   \n",
       "std        2.094879    480.944673             0.36015      0.169675   \n",
       "min        1.000000    183.000000             1.00000      0.044619   \n",
       "25%        1.000000    598.000000             1.00000      0.799222   \n",
       "50%        1.000000   1031.500000             1.00000      0.868104   \n",
       "75%        2.000000   1440.000000             1.00000      0.937393   \n",
       "max       19.000000   1825.000000             7.00000      0.977747   \n",
       "\n",
       "          ord_depth  scan_step_rgb    height_rgb    weight_rgb      muac_rgb   \n",
       "count  22870.000000   22870.000000  22870.000000  22870.000000  22870.000000  \\\n",
       "mean       2.000394     124.701530     84.806336     10.519988     13.741220   \n",
       "std        2.094879      42.443183     11.453290      2.574119      1.041953   \n",
       "min        1.000000     100.000000     51.100000      3.550000      9.000000   \n",
       "25%        1.000000     100.000000     75.700000      8.500000     13.100000   \n",
       "50%        1.000000     102.000000     85.500000     10.500000     13.700000   \n",
       "75%        2.000000     102.000000     94.100000     12.400000     14.400000   \n",
       "max       19.000000     202.000000    116.000000     22.650000     18.500000   \n",
       "\n",
       "                age  no_of_person_rgb       ord_rgb         Years  \n",
       "count  22870.000000       22870.00000  22870.000000  22870.000000  \n",
       "mean    1021.755969           1.08815      2.000394      2.270442  \n",
       "std      480.944673           0.36015      2.094879      1.326137  \n",
       "min      183.000000           1.00000      1.000000      0.000000  \n",
       "25%      598.000000           1.00000      1.000000      1.000000  \n",
       "50%     1031.500000           1.00000      1.000000      2.000000  \n",
       "75%     1440.000000           1.00000      2.000000      3.000000  \n",
       "max     1825.000000           7.00000     19.000000      5.000000  "
      ]
     },
     "execution_count": 38,
     "metadata": {},
     "output_type": "execute_result"
    }
   ],
   "source": [
    "unique_scan_ids.describe()"
   ]
  },
  {
   "cell_type": "markdown",
   "metadata": {
    "nteract": {
     "transient": {
      "deleting": false
     }
    }
   },
   "source": [
    "#### 1) Check age"
   ]
  },
  {
   "cell_type": "code",
   "execution_count": 39,
   "metadata": {
    "gather": {
     "logged": 1688495074319
    },
    "jupyter": {
     "outputs_hidden": false,
     "source_hidden": false
    },
    "nteract": {
     "transient": {
      "deleting": false
     }
    }
   },
   "outputs": [
    {
     "name": "stdout",
     "output_type": "stream",
     "text": [
      "Running the following query: @df.age<365/2\n",
      "No. of outliers: 0\n"
     ]
    },
    {
     "data": {
      "text/plain": [
       "[]"
      ]
     },
     "execution_count": 39,
     "metadata": {},
     "output_type": "execute_result"
    }
   ],
   "source": [
    "find_outliers(df, 'age', '<365/2', data_id_name='person_id_depth')"
   ]
  },
  {
   "cell_type": "code",
   "execution_count": 40,
   "metadata": {
    "gather": {
     "logged": 1688495079313
    },
    "jupyter": {
     "outputs_hidden": false,
     "source_hidden": false
    },
    "nteract": {
     "transient": {
      "deleting": false
     }
    }
   },
   "outputs": [
    {
     "name": "stdout",
     "output_type": "stream",
     "text": [
      "Running the following query: @df.age<365/2\n",
      "No. of outliers: 0\n"
     ]
    },
    {
     "data": {
      "text/plain": [
       "[]"
      ]
     },
     "execution_count": 40,
     "metadata": {},
     "output_type": "execute_result"
    }
   ],
   "source": [
    "find_outliers(df, 'age', '<365/2', data_id_name='scan_id')"
   ]
  },
  {
   "cell_type": "code",
   "execution_count": 41,
   "metadata": {
    "gather": {
     "logged": 1688495084316
    },
    "jupyter": {
     "outputs_hidden": false,
     "source_hidden": false
    },
    "nteract": {
     "transient": {
      "deleting": false
     }
    }
   },
   "outputs": [
    {
     "name": "stdout",
     "output_type": "stream",
     "text": [
      "Running the following query: @df.age>365*6\n",
      "No. of outliers: 0\n"
     ]
    },
    {
     "data": {
      "text/plain": [
       "[]"
      ]
     },
     "execution_count": 41,
     "metadata": {},
     "output_type": "execute_result"
    }
   ],
   "source": [
    "\n",
    "find_outliers(df, 'age', '>365*6', data_id_name='scan_id')"
   ]
  },
  {
   "cell_type": "markdown",
   "metadata": {
    "nteract": {
     "transient": {
      "deleting": false
     }
    }
   },
   "source": [
    "#### 2) Check weight"
   ]
  },
  {
   "cell_type": "code",
   "execution_count": 42,
   "metadata": {
    "gather": {
     "logged": 1688495099232
    },
    "jupyter": {
     "outputs_hidden": false,
     "source_hidden": false
    },
    "nteract": {
     "transient": {
      "deleting": false
     }
    }
   },
   "outputs": [
    {
     "name": "stdout",
     "output_type": "stream",
     "text": [
      "Running the following query: @df.weight_rgb<5.0\n",
      "No. of outliers: 40\n"
     ]
    },
    {
     "data": {
      "text/plain": [
       "['835f1240-bdf0-11ed-8a41-67329b09a63c',\n",
       " '8579b4e0-bdf0-11ed-8a41-83e2a6084c06',\n",
       " 'c64c8d20-bdfb-11ed-8a41-57ea66391fc7',\n",
       " 'c8459e00-bdfb-11ed-8a41-4783b63273fc',\n",
       " 'eb639161-bdfd-11ed-8a41-4702e1b2fed2',\n",
       " 'ec0cf0c0-bdfd-11ed-8a41-cf2651bc59c8',\n",
       " '563b4600-be11-11ed-8a41-f7571c004303',\n",
       " '8f890b60-be14-11ed-8a41-770627253bb6',\n",
       " '9033f160-be14-11ed-8a41-5716ce42d137',\n",
       " 'e22bcd00-be17-11ed-8a41-8b9f0f90d764',\n",
       " 'e2ffe5e0-be17-11ed-8a41-47408d4ac94d',\n",
       " '7c9f0e60-be3b-11ed-8a41-6bcba0d34b49',\n",
       " '1aa78240-be50-11ed-8a41-bff213eadc4e',\n",
       " 'd47d5520-be53-11ed-8a41-5f47f14b56fa',\n",
       " 'd2a14221-be53-11ed-8a41-7f5355002ea6',\n",
       " '11431b81-be5d-11ed-8a41-cffcdfdee540',\n",
       " '12dd91a0-be5d-11ed-8a41-03bab14e2418',\n",
       " 'cfcc8101-be84-11ed-8a41-dfe93b21597e',\n",
       " 'd1ebb780-be84-11ed-8a41-2b3754de592b',\n",
       " 'd23731e0-bea4-11ed-8a41-17f5aa03b767',\n",
       " 'd2c39360-bea4-11ed-8a41-c3f9757d6620',\n",
       " 'a39b4ac0-bea8-11ed-8a41-332aaf70bb6b',\n",
       " 'c324b501-bf13-11ed-8a41-eb1e6581bd0f',\n",
       " '81dc1740-bf5a-11ed-8a41-a34e5ed8a888',\n",
       " '3669d780-bf6d-11ed-8a41-eb8a1fb38c0c',\n",
       " '37489ec0-bf6d-11ed-8a41-1fb37f3fe6e4',\n",
       " '5ecde840-bf8d-11ed-8a41-37dd3dcda5b9',\n",
       " '5f512200-bf8d-11ed-8a41-739d9cd84861',\n",
       " '7050da61-bf96-11ed-8a41-ff8469a321d0',\n",
       " '7141f120-bf96-11ed-8a41-a3eb705a1058',\n",
       " '9bd6cac0-bf99-11ed-8a41-2f1480e44314',\n",
       " '9cc4d440-bf99-11ed-8a41-c7ec8b5fb2dc',\n",
       " 'ac446960-bfaf-11ed-8a41-9bc585ead078',\n",
       " '23756220-bfb3-11ed-8a41-1305593d2e07',\n",
       " '34c85381-bfd0-11ed-8a41-1771b42c2010',\n",
       " '36f6cc40-bfd0-11ed-8a41-3f678ebf9896',\n",
       " 'e0083ce2-bfdc-11ed-8a41-436e3ae3f12f',\n",
       " 'e26c1d80-bfdc-11ed-8a41-f75c09a7239c',\n",
       " 'f1cd0940-c001-11ed-8a41-6ff1f97b9d66',\n",
       " 'f2a73ca0-c001-11ed-8a41-27000454ee28']"
      ]
     },
     "execution_count": 42,
     "metadata": {},
     "output_type": "execute_result"
    }
   ],
   "source": [
    "find_outliers(df, 'weight_rgb', '<5.0', data_id_name='scan_id')"
   ]
  },
  {
   "cell_type": "code",
   "execution_count": 43,
   "metadata": {
    "gather": {
     "logged": 1688495104358
    },
    "jupyter": {
     "outputs_hidden": false,
     "source_hidden": false
    },
    "nteract": {
     "transient": {
      "deleting": false
     }
    }
   },
   "outputs": [
    {
     "name": "stdout",
     "output_type": "stream",
     "text": [
      "Running the following query: @df.weight_rgb>30.0\n",
      "No. of outliers: 0\n"
     ]
    },
    {
     "data": {
      "text/plain": [
       "[]"
      ]
     },
     "execution_count": 43,
     "metadata": {},
     "output_type": "execute_result"
    }
   ],
   "source": [
    "find_outliers(df, 'weight_rgb', '>30.0', data_id_name='scan_id')"
   ]
  },
  {
   "cell_type": "markdown",
   "metadata": {
    "nteract": {
     "transient": {
      "deleting": false
     }
    }
   },
   "source": [
    "#### 3) Check height"
   ]
  },
  {
   "cell_type": "code",
   "execution_count": 44,
   "metadata": {
    "gather": {
     "logged": 1688495117302
    },
    "jupyter": {
     "outputs_hidden": false,
     "source_hidden": false
    },
    "nteract": {
     "transient": {
      "deleting": false
     }
    }
   },
   "outputs": [
    {
     "name": "stdout",
     "output_type": "stream",
     "text": [
      "Running the following query: @df.height_rgb<40.0\n",
      "No. of outliers: 0\n"
     ]
    },
    {
     "data": {
      "text/plain": [
       "[]"
      ]
     },
     "execution_count": 44,
     "metadata": {},
     "output_type": "execute_result"
    }
   ],
   "source": [
    "find_outliers(df, 'height_rgb', '<40.0', data_id_name='scan_id')"
   ]
  },
  {
   "cell_type": "code",
   "execution_count": 45,
   "metadata": {
    "gather": {
     "logged": 1688495123393
    },
    "jupyter": {
     "outputs_hidden": false,
     "source_hidden": false
    },
    "nteract": {
     "transient": {
      "deleting": false
     }
    }
   },
   "outputs": [
    {
     "name": "stdout",
     "output_type": "stream",
     "text": [
      "Running the following query: @df.height_rgb>150.0\n",
      "No. of outliers: 0\n"
     ]
    },
    {
     "data": {
      "text/plain": [
       "[]"
      ]
     },
     "execution_count": 45,
     "metadata": {},
     "output_type": "execute_result"
    }
   ],
   "source": [
    "find_outliers(df, 'height_rgb', '>150.0', data_id_name='scan_id')"
   ]
  },
  {
   "cell_type": "code",
   "execution_count": 27,
   "metadata": {
    "gather": {
     "logged": 1688495129366
    },
    "jupyter": {
     "outputs_hidden": false,
     "source_hidden": false
    },
    "nteract": {
     "transient": {
      "deleting": false
     }
    }
   },
   "outputs": [],
   "source": [
    "# now close the mount context\n",
    "mount_ctx.stop()"
   ]
  },
  {
   "cell_type": "code",
   "execution_count": null,
   "metadata": {
    "jupyter": {
     "outputs_hidden": false,
     "source_hidden": false
    },
    "nteract": {
     "transient": {
      "deleting": false
     }
    }
   },
   "outputs": [],
   "source": []
  }
 ],
 "metadata": {
  "kernel_info": {
   "name": "python310-sdkv2"
  },
  "kernelspec": {
   "display_name": "tf",
   "language": "python",
   "name": "python3"
  },
  "language_info": {
   "codemirror_mode": {
    "name": "ipython",
    "version": 3
   },
   "file_extension": ".py",
   "mimetype": "text/x-python",
   "name": "python",
   "nbconvert_exporter": "python",
   "pygments_lexer": "ipython3",
   "version": "3.9.13"
  },
  "microsoft": {
   "ms_spell_check": {
    "ms_spell_check_language": "en"
   }
  },
  "nteract": {
   "version": "nteract-front-end@1.0.0"
  }
 },
 "nbformat": 4,
 "nbformat_minor": 2
}
