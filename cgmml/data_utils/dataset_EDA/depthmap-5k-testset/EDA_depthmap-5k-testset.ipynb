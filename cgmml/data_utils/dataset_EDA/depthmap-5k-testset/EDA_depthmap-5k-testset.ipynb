{
  "cells": [
    {
      "cell_type": "code",
      "source": [
        "%reload_ext autoreload\n",
        "%autoreload 2\n",
        "%matplotlib inline\n",
        "\n",
        "import pandas as pd\n",
        "from pathlib import Path\n",
        "import math\n",
        "import numpy as np\n",
        "import sys\n",
        "import matplotlib.pyplot as plt\n",
        "import pickle\n",
        "from tqdm import tqdm\n",
        "\n",
        "sys.path.append(str(Path(os.getcwd()).parent))\n",
        "from data_utilities import find_outliers, convert_age_from_days_to_years, extractqrcode, draw_age_distribution, calculate_code_age_distribution"
      ],
      "outputs": [],
      "execution_count": 110,
      "metadata": {
        "gather": {
          "logged": 1630418879796
        }
      }
    },
    {
      "cell_type": "markdown",
      "source": [
        "### Total no. of artifacts in dataset"
      ],
      "metadata": {}
    },
    {
      "cell_type": "code",
      "source": [
        "DATASET_NAME = 'dataset-depthmap-Test-2021-08-31-13-59-22'\n",
        "DATASET_PATH = Path(f'/mnt/datasets/{DATASET_NAME}')"
      ],
      "outputs": [],
      "execution_count": 111,
      "metadata": {
        "gather": {
          "logged": 1630418881744
        }
      }
    },
    {
      "cell_type": "code",
      "source": [
        "SAMPLE_PICKLE_PATH = 'scans/048f26e0-073e-11ec-abef-43e532deb910/100/pc_0490ad80-073e-11ec-abef-4f801ac83047_13:18:44_100_1.0.p'\n",
        "!ls /mnt/datasets/{DATASET_NAME}/{SAMPLE_PICKLE_PATH}"
      ],
      "outputs": [
        {
          "output_type": "stream",
          "name": "stdout",
          "text": [
            "/mnt/datasets/dataset-depthmap-Test-2021-08-31-13-59-22/scans/048f26e0-073e-11ec-abef-43e532deb910/100/pc_0490ad80-073e-11ec-abef-4f801ac83047_13:18:44_100_1.0.p\r\n"
          ]
        }
      ],
      "execution_count": 118,
      "metadata": {
        "collapsed": true,
        "jupyter": {
          "source_hidden": false,
          "outputs_hidden": false
        },
        "nteract": {
          "transient": {
            "deleting": false
          }
        },
        "gather": {
          "logged": 1630418993930
        }
      }
    },
    {
      "cell_type": "code",
      "source": [
        "!du /mnt/datasets/{DATASET_NAME} -sh --apparent-size"
      ],
      "outputs": [
        {
          "output_type": "stream",
          "name": "stdout",
          "text": [
            "837M\t/mnt/datasets/dataset-depthmap-Test-2021-08-31-13-59-22\r\n"
          ]
        }
      ],
      "execution_count": 114,
      "metadata": {
        "collapsed": true,
        "jupyter": {
          "source_hidden": false,
          "outputs_hidden": false
        },
        "nteract": {
          "transient": {
            "deleting": false
          }
        }
      }
    },
    {
      "cell_type": "code",
      "source": [
        "# Check resolution of depthmap\n",
        "for fpath_pickle in tqdm(DATASET_PATH.glob('**/*.p')):\n",
        "    depthmap, targets = pickle.load(open(fpath_pickle, \"rb\"))\n",
        "    assert depthmap.shape == (240, 180, 1), fpath_pickle"
      ],
      "outputs": [
        {
          "output_type": "stream",
          "name": "stderr",
          "text": [
            "5037it [00:41, 122.54it/s]\n"
          ]
        }
      ],
      "execution_count": 153,
      "metadata": {
        "collapsed": true,
        "jupyter": {
          "source_hidden": false,
          "outputs_hidden": false
        },
        "nteract": {
          "transient": {
            "deleting": false
          }
        },
        "gather": {
          "logged": 1630421194007
        }
      }
    },
    {
      "cell_type": "code",
      "source": [
        "paths  = DATASET_PATH / SAMPLE_PICKLE_PATH\n",
        "depthmap, targets = pickle.load(open(paths, \"rb\"))\n",
        "_ = plt.imshow(np.squeeze(depthmap), cmap='gray')\n",
        "plt.show()"
      ],
      "outputs": [
        {
          "output_type": "display_data",
          "data": {
            "text/plain": "<Figure size 432x288 with 1 Axes>",
            "image/png": "[encoded data removed]"
          },
          "metadata": {
            "needs_background": "light"
          }
        }
      ],
      "execution_count": 119,
      "metadata": {
        "gather": {
          "logged": 1630419000724
        }
      }
    },
    {
      "cell_type": "code",
      "source": [
        "print(\"targets: \", targets)\n",
        "print(\"depthmap.shape: \", depthmap.shape)"
      ],
      "outputs": [
        {
          "output_type": "stream",
          "name": "stdout",
          "text": [
            "targets:  {'file_path': '1630072337440/c2a65708-1f75-471a-95a5-f9a3b93b1335', 'timestamp': '13:18:44', 'scan_id': '0490ad80-073e-11ec-abef-4f801ac83047', 'scan_step': 100, 'scan_version': 'v0.9', 'height': 84.5, 'weight': 9.95, 'muac': 13.3, 'order_number': 1.0, 'format': 'depth', 'device_model': 'HUAWEI VOG-L29', 'person_id': '048f26e0-073e-11ec-abef-43e532deb910', 'age': 979, 'sex': 'male', 'device_pose': [-0.5191621171972739, -0.8538938613176806, -0.03655091888347257, 0.0, -0.0106324707443454, -0.03630986751662386, 0.9992840157266583, 0.0, -0.8546096457641437, 0.5191790318617532, 0.009771706195846594, 0.0, -0.34911937, 0.29918483, -0.13677283, 1.0], 'raw_header': '240x180_0.001_7_-0.35615167_0.60685265_0.6255485_-0.3370088_0.34911937_-0.29918483_0.13677283', 'angle': -31.277198675360417}\n",
            "depthmap.shape:  (240, 180, 1)\n"
          ]
        }
      ],
      "execution_count": 120,
      "metadata": {
        "gather": {
          "logged": 1630419005200
        }
      }
    },
    {
      "cell_type": "code",
      "source": [
        "!head /mnt/datasets/{DATASET_NAME}/labels.csv"
      ],
      "outputs": [
        {
          "output_type": "stream",
          "name": "stdout",
          "text": [
            "scan_id,scan_step,scan_version,device_model,height,weight,muac,order_number,timestamp,timestamp,person_id,age,sex\r\n",
            "d6b66880-071c-11ec-abef-cbac92b5efb6,102,v0.9,HUAWEI VOG-L29,93.5,11.3,13.1,2.0,2021-08-27 09:54:17.847626,23:46:17,d6aec760-071c-11ec-abef-5fee6f3a36ac,1446,male\r\n",
            "d6b66880-071c-11ec-abef-cbac92b5efb6,102,v0.9,HUAWEI VOG-L29,93.5,11.3,13.1,4.0,2021-08-27 09:54:17.956982,23:46:29,d6aec760-071c-11ec-abef-5fee6f3a36ac,1446,male\r\n",
            "d6b66880-071c-11ec-abef-cbac92b5efb6,102,v0.9,HUAWEI VOG-L29,93.5,11.3,13.1,6.0,2021-08-27 09:54:18.081981,23:46:34,d6aec760-071c-11ec-abef-5fee6f3a36ac,1446,male\r\n",
            "d6b66880-071c-11ec-abef-cbac92b5efb6,102,v0.9,HUAWEI VOG-L29,93.5,11.3,13.1,8.0,2021-08-27 09:54:18.222609,00:01:07,d6aec760-071c-11ec-abef-5fee6f3a36ac,1446,male\r\n",
            "d6b66880-071c-11ec-abef-cbac92b5efb6,102,v0.9,HUAWEI VOG-L29,93.5,11.3,13.1,10.0,2021-08-27 09:54:18.347636,00:01:10,d6aec760-071c-11ec-abef-5fee6f3a36ac,1446,male\r\n",
            "d6b66880-071c-11ec-abef-cbac92b5efb6,102,v0.9,HUAWEI VOG-L29,93.5,11.3,13.1,12.0,2021-08-27 09:54:18.503818,00:01:15,d6aec760-071c-11ec-abef-5fee6f3a36ac,1446,male\r\n",
            "d6b66880-071c-11ec-abef-cbac92b5efb6,102,v0.9,HUAWEI VOG-L29,93.5,11.3,13.1,14.0,2021-08-27 09:54:18.628815,00:28:11,d6aec760-071c-11ec-abef-5fee6f3a36ac,1446,male\r\n",
            "d6b66880-071c-11ec-abef-cbac92b5efb6,102,v0.9,HUAWEI VOG-L29,93.5,11.3,13.1,16.0,2021-08-27 09:54:18.753866,00:17:29,d6aec760-071c-11ec-abef-5fee6f3a36ac,1446,male\r\n",
            "d6b66880-071c-11ec-abef-cbac92b5efb6,102,v0.9,HUAWEI VOG-L29,93.5,11.3,13.1,18.0,2021-08-27 09:54:18.878814,00:28:14,d6aec760-071c-11ec-abef-5fee6f3a36ac,1446,male\r\n"
          ]
        }
      ],
      "execution_count": 121,
      "metadata": {
        "collapsed": true,
        "jupyter": {
          "source_hidden": false,
          "outputs_hidden": false
        },
        "nteract": {
          "transient": {
            "deleting": false
          }
        }
      }
    },
    {
      "cell_type": "code",
      "source": [
        "artifacts = pd.read_csv(DATASET_PATH / 'labels.csv')\n",
        "print(\"Total no. of artifacts:\", len(artifacts))\n",
        "artifacts.head()"
      ],
      "outputs": [
        {
          "output_type": "stream",
          "name": "stdout",
          "text": [
            "Total no. of artifacts: 5038\n"
          ]
        },
        {
          "output_type": "execute_result",
          "execution_count": 122,
          "data": {
            "text/plain": "                                scan_id  scan_step scan_version  \\\n0  d6b66880-071c-11ec-abef-cbac92b5efb6        102         v0.9   \n1  d6b66880-071c-11ec-abef-cbac92b5efb6        102         v0.9   \n2  d6b66880-071c-11ec-abef-cbac92b5efb6        102         v0.9   \n3  d6b66880-071c-11ec-abef-cbac92b5efb6        102         v0.9   \n4  d6b66880-071c-11ec-abef-cbac92b5efb6        102         v0.9   \n\n     device_model  height  weight  muac  order_number  \\\n0  HUAWEI VOG-L29    93.5    11.3  13.1           2.0   \n1  HUAWEI VOG-L29    93.5    11.3  13.1           4.0   \n2  HUAWEI VOG-L29    93.5    11.3  13.1           6.0   \n3  HUAWEI VOG-L29    93.5    11.3  13.1           8.0   \n4  HUAWEI VOG-L29    93.5    11.3  13.1          10.0   \n\n                    timestamp timestamp.1  \\\n0  2021-08-27 09:54:17.847626    23:46:17   \n1  2021-08-27 09:54:17.956982    23:46:29   \n2  2021-08-27 09:54:18.081981    23:46:34   \n3  2021-08-27 09:54:18.222609    00:01:07   \n4  2021-08-27 09:54:18.347636    00:01:10   \n\n                              person_id   age   sex  \n0  d6aec760-071c-11ec-abef-5fee6f3a36ac  1446  male  \n1  d6aec760-071c-11ec-abef-5fee6f3a36ac  1446  male  \n2  d6aec760-071c-11ec-abef-5fee6f3a36ac  1446  male  \n3  d6aec760-071c-11ec-abef-5fee6f3a36ac  1446  male  \n4  d6aec760-071c-11ec-abef-5fee6f3a36ac  1446  male  ",
            "text/html": "<div>\n<style scoped>\n    .dataframe tbody tr th:only-of-type {\n        vertical-align: middle;\n    }\n\n    .dataframe tbody tr th {\n        vertical-align: top;\n    }\n\n    .dataframe thead th {\n        text-align: right;\n    }\n</style>\n<table border=\"1\" class=\"dataframe\">\n  <thead>\n    <tr style=\"text-align: right;\">\n      <th></th>\n      <th>scan_id</th>\n      <th>scan_step</th>\n      <th>scan_version</th>\n      <th>device_model</th>\n      <th>height</th>\n      <th>weight</th>\n      <th>muac</th>\n      <th>order_number</th>\n      <th>timestamp</th>\n      <th>timestamp.1</th>\n      <th>person_id</th>\n      <th>age</th>\n      <th>sex</th>\n    </tr>\n  </thead>\n  <tbody>\n    <tr>\n      <th>0</th>\n      <td>d6b66880-071c-11ec-abef-cbac92b5efb6</td>\n      <td>102</td>\n      <td>v0.9</td>\n      <td>HUAWEI VOG-L29</td>\n      <td>93.5</td>\n      <td>11.3</td>\n      <td>13.1</td>\n      <td>2.0</td>\n      <td>2021-08-27 09:54:17.847626</td>\n      <td>23:46:17</td>\n      <td>d6aec760-071c-11ec-abef-5fee6f3a36ac</td>\n      <td>1446</td>\n      <td>male</td>\n    </tr>\n    <tr>\n      <th>1</th>\n      <td>d6b66880-071c-11ec-abef-cbac92b5efb6</td>\n      <td>102</td>\n      <td>v0.9</td>\n      <td>HUAWEI VOG-L29</td>\n      <td>93.5</td>\n      <td>11.3</td>\n      <td>13.1</td>\n      <td>4.0</td>\n      <td>2021-08-27 09:54:17.956982</td>\n      <td>23:46:29</td>\n      <td>d6aec760-071c-11ec-abef-5fee6f3a36ac</td>\n      <td>1446</td>\n      <td>male</td>\n    </tr>\n    <tr>\n      <th>2</th>\n      <td>d6b66880-071c-11ec-abef-cbac92b5efb6</td>\n      <td>102</td>\n      <td>v0.9</td>\n      <td>HUAWEI VOG-L29</td>\n      <td>93.5</td>\n      <td>11.3</td>\n      <td>13.1</td>\n      <td>6.0</td>\n      <td>2021-08-27 09:54:18.081981</td>\n      <td>23:46:34</td>\n      <td>d6aec760-071c-11ec-abef-5fee6f3a36ac</td>\n      <td>1446</td>\n      <td>male</td>\n    </tr>\n    <tr>\n      <th>3</th>\n      <td>d6b66880-071c-11ec-abef-cbac92b5efb6</td>\n      <td>102</td>\n      <td>v0.9</td>\n      <td>HUAWEI VOG-L29</td>\n      <td>93.5</td>\n      <td>11.3</td>\n      <td>13.1</td>\n      <td>8.0</td>\n      <td>2021-08-27 09:54:18.222609</td>\n      <td>00:01:07</td>\n      <td>d6aec760-071c-11ec-abef-5fee6f3a36ac</td>\n      <td>1446</td>\n      <td>male</td>\n    </tr>\n    <tr>\n      <th>4</th>\n      <td>d6b66880-071c-11ec-abef-cbac92b5efb6</td>\n      <td>102</td>\n      <td>v0.9</td>\n      <td>HUAWEI VOG-L29</td>\n      <td>93.5</td>\n      <td>11.3</td>\n      <td>13.1</td>\n      <td>10.0</td>\n      <td>2021-08-27 09:54:18.347636</td>\n      <td>00:01:10</td>\n      <td>d6aec760-071c-11ec-abef-5fee6f3a36ac</td>\n      <td>1446</td>\n      <td>male</td>\n    </tr>\n  </tbody>\n</table>\n</div>"
          },
          "metadata": {}
        }
      ],
      "execution_count": 122,
      "metadata": {
        "gather": {
          "logged": 1630419009982
        }
      }
    },
    {
      "cell_type": "code",
      "source": [
        "#adding the Years column into dataframe\n",
        "artifacts['Years'] = artifacts.apply(convert_age_from_days_to_years, axis=1)\n",
        "artifacts.head()"
      ],
      "outputs": [
        {
          "output_type": "execute_result",
          "execution_count": 123,
          "data": {
            "text/plain": "                                scan_id  scan_step scan_version  \\\n0  d6b66880-071c-11ec-abef-cbac92b5efb6        102         v0.9   \n1  d6b66880-071c-11ec-abef-cbac92b5efb6        102         v0.9   \n2  d6b66880-071c-11ec-abef-cbac92b5efb6        102         v0.9   \n3  d6b66880-071c-11ec-abef-cbac92b5efb6        102         v0.9   \n4  d6b66880-071c-11ec-abef-cbac92b5efb6        102         v0.9   \n\n     device_model  height  weight  muac  order_number  \\\n0  HUAWEI VOG-L29    93.5    11.3  13.1           2.0   \n1  HUAWEI VOG-L29    93.5    11.3  13.1           4.0   \n2  HUAWEI VOG-L29    93.5    11.3  13.1           6.0   \n3  HUAWEI VOG-L29    93.5    11.3  13.1           8.0   \n4  HUAWEI VOG-L29    93.5    11.3  13.1          10.0   \n\n                    timestamp timestamp.1  \\\n0  2021-08-27 09:54:17.847626    23:46:17   \n1  2021-08-27 09:54:17.956982    23:46:29   \n2  2021-08-27 09:54:18.081981    23:46:34   \n3  2021-08-27 09:54:18.222609    00:01:07   \n4  2021-08-27 09:54:18.347636    00:01:10   \n\n                              person_id   age   sex  Years  \n0  d6aec760-071c-11ec-abef-5fee6f3a36ac  1446  male      3  \n1  d6aec760-071c-11ec-abef-5fee6f3a36ac  1446  male      3  \n2  d6aec760-071c-11ec-abef-5fee6f3a36ac  1446  male      3  \n3  d6aec760-071c-11ec-abef-5fee6f3a36ac  1446  male      3  \n4  d6aec760-071c-11ec-abef-5fee6f3a36ac  1446  male      3  ",
            "text/html": "<div>\n<style scoped>\n    .dataframe tbody tr th:only-of-type {\n        vertical-align: middle;\n    }\n\n    .dataframe tbody tr th {\n        vertical-align: top;\n    }\n\n    .dataframe thead th {\n        text-align: right;\n    }\n</style>\n<table border=\"1\" class=\"dataframe\">\n  <thead>\n    <tr style=\"text-align: right;\">\n      <th></th>\n      <th>scan_id</th>\n      <th>scan_step</th>\n      <th>scan_version</th>\n      <th>device_model</th>\n      <th>height</th>\n      <th>weight</th>\n      <th>muac</th>\n      <th>order_number</th>\n      <th>timestamp</th>\n      <th>timestamp.1</th>\n      <th>person_id</th>\n      <th>age</th>\n      <th>sex</th>\n      <th>Years</th>\n    </tr>\n  </thead>\n  <tbody>\n    <tr>\n      <th>0</th>\n      <td>d6b66880-071c-11ec-abef-cbac92b5efb6</td>\n      <td>102</td>\n      <td>v0.9</td>\n      <td>HUAWEI VOG-L29</td>\n      <td>93.5</td>\n      <td>11.3</td>\n      <td>13.1</td>\n      <td>2.0</td>\n      <td>2021-08-27 09:54:17.847626</td>\n      <td>23:46:17</td>\n      <td>d6aec760-071c-11ec-abef-5fee6f3a36ac</td>\n      <td>1446</td>\n      <td>male</td>\n      <td>3</td>\n    </tr>\n    <tr>\n      <th>1</th>\n      <td>d6b66880-071c-11ec-abef-cbac92b5efb6</td>\n      <td>102</td>\n      <td>v0.9</td>\n      <td>HUAWEI VOG-L29</td>\n      <td>93.5</td>\n      <td>11.3</td>\n      <td>13.1</td>\n      <td>4.0</td>\n      <td>2021-08-27 09:54:17.956982</td>\n      <td>23:46:29</td>\n      <td>d6aec760-071c-11ec-abef-5fee6f3a36ac</td>\n      <td>1446</td>\n      <td>male</td>\n      <td>3</td>\n    </tr>\n    <tr>\n      <th>2</th>\n      <td>d6b66880-071c-11ec-abef-cbac92b5efb6</td>\n      <td>102</td>\n      <td>v0.9</td>\n      <td>HUAWEI VOG-L29</td>\n      <td>93.5</td>\n      <td>11.3</td>\n      <td>13.1</td>\n      <td>6.0</td>\n      <td>2021-08-27 09:54:18.081981</td>\n      <td>23:46:34</td>\n      <td>d6aec760-071c-11ec-abef-5fee6f3a36ac</td>\n      <td>1446</td>\n      <td>male</td>\n      <td>3</td>\n    </tr>\n    <tr>\n      <th>3</th>\n      <td>d6b66880-071c-11ec-abef-cbac92b5efb6</td>\n      <td>102</td>\n      <td>v0.9</td>\n      <td>HUAWEI VOG-L29</td>\n      <td>93.5</td>\n      <td>11.3</td>\n      <td>13.1</td>\n      <td>8.0</td>\n      <td>2021-08-27 09:54:18.222609</td>\n      <td>00:01:07</td>\n      <td>d6aec760-071c-11ec-abef-5fee6f3a36ac</td>\n      <td>1446</td>\n      <td>male</td>\n      <td>3</td>\n    </tr>\n    <tr>\n      <th>4</th>\n      <td>d6b66880-071c-11ec-abef-cbac92b5efb6</td>\n      <td>102</td>\n      <td>v0.9</td>\n      <td>HUAWEI VOG-L29</td>\n      <td>93.5</td>\n      <td>11.3</td>\n      <td>13.1</td>\n      <td>10.0</td>\n      <td>2021-08-27 09:54:18.347636</td>\n      <td>00:01:10</td>\n      <td>d6aec760-071c-11ec-abef-5fee6f3a36ac</td>\n      <td>1446</td>\n      <td>male</td>\n      <td>3</td>\n    </tr>\n  </tbody>\n</table>\n</div>"
          },
          "metadata": {}
        }
      ],
      "execution_count": 123,
      "metadata": {
        "gather": {
          "logged": 1630419012546
        },
        "jupyter": {
          "source_hidden": false
        }
      }
    },
    {
      "cell_type": "markdown",
      "source": [
        "### Total no. of children in the dataset"
      ],
      "metadata": {}
    },
    {
      "cell_type": "code",
      "source": [
        "print(\"Total no. of artifacts:\", len(artifacts))\n",
        "unique_scan_ids = artifacts.drop_duplicates(subset='scan_id', keep='first')\n",
        "print(\"Total no. of unique scan ids:\", len(unique_scan_ids))\n",
        "unique_person_ids = artifacts.drop_duplicates(subset='person_id', keep='first')\n",
        "print(\"Total no. of unique person ids:\", len(unique_person_ids))"
      ],
      "outputs": [
        {
          "output_type": "stream",
          "name": "stdout",
          "text": [
            "Total no. of artifacts: 5038\n",
            "Total no. of unique scan ids: 298\n",
            "Total no. of unique person ids: 73\n"
          ]
        }
      ],
      "execution_count": 124,
      "metadata": {
        "gather": {
          "logged": 1630419014926
        }
      }
    },
    {
      "cell_type": "code",
      "source": [
        "print(artifacts['device_model'].value_counts())\n",
        "_ = artifacts['device_model'].value_counts().plot(kind='pie')"
      ],
      "outputs": [
        {
          "output_type": "stream",
          "name": "stdout",
          "text": [
            "HUAWEI VOG-L29    5038\n",
            "Name: device_model, dtype: int64\n"
          ]
        },
        {
          "output_type": "display_data",
          "data": {
            "text/plain": "<Figure size 432x288 with 1 Axes>",
            "image/png": "[encoded data removed]"
          },
          "metadata": {}
        }
      ],
      "execution_count": 125,
      "metadata": {
        "collapsed": true,
        "jupyter": {
          "source_hidden": false,
          "outputs_hidden": false
        },
        "nteract": {
          "transient": {
            "deleting": false
          }
        },
        "gather": {
          "logged": 1630419017531
        }
      }
    },
    {
      "cell_type": "code",
      "source": [
        "print(artifacts['scan_version'].value_counts())\n",
        "_ = artifacts['scan_version'].value_counts().plot(kind='pie')"
      ],
      "outputs": [
        {
          "output_type": "stream",
          "name": "stdout",
          "text": [
            "v0.9      4661\n",
            "v1.0.2     220\n",
            "v0.8       157\n",
            "Name: scan_version, dtype: int64\n"
          ]
        },
        {
          "output_type": "display_data",
          "data": {
            "text/plain": "<Figure size 432x288 with 1 Axes>",
            "image/png": "[encoded data removed]"
          },
          "metadata": {}
        }
      ],
      "execution_count": 126,
      "metadata": {
        "collapsed": true,
        "jupyter": {
          "source_hidden": false,
          "outputs_hidden": false
        },
        "nteract": {
          "transient": {
            "deleting": false
          }
        },
        "gather": {
          "logged": 1630419019197
        }
      }
    },
    {
      "cell_type": "code",
      "source": [
        "draw_age_distribution(unique_person_ids)"
      ],
      "outputs": [
        {
          "output_type": "stream",
          "name": "stderr",
          "text": [
            "2021-08-31 14:10:20,666 - INFO - 0     5\n",
            "1    13\n",
            "2    15\n",
            "3    18\n",
            "4    22\n",
            "Name: Years, dtype: int64 - /mnt/batch/tasks/shared/LS_root/mounts/clusters/mhinsche1/code/Users/mhinsche/cgm-ml/cgmml/data_utils/dataset_EDA/data_utilities.py: line 31\n"
          ]
        },
        {
          "output_type": "display_data",
          "data": {
            "text/plain": "<Figure size 432x288 with 1 Axes>",
            "image/png": "[encoded data removed]"
          },
          "metadata": {
            "needs_background": "light"
          }
        }
      ],
      "execution_count": 127,
      "metadata": {
        "collapsed": true,
        "jupyter": {
          "source_hidden": false,
          "outputs_hidden": false
        },
        "nteract": {
          "transient": {
            "deleting": false
          }
        },
        "gather": {
          "logged": 1630419020818
        }
      }
    },
    {
      "cell_type": "code",
      "source": [
        "draw_age_distribution(unique_scan_ids)"
      ],
      "outputs": [
        {
          "output_type": "stream",
          "name": "stderr",
          "text": [
            "2021-08-31 14:10:22,147 - INFO - 0     15\n",
            "1     43\n",
            "2     51\n",
            "3    105\n",
            "4     84\n",
            "Name: Years, dtype: int64 - /mnt/batch/tasks/shared/LS_root/mounts/clusters/mhinsche1/code/Users/mhinsche/cgm-ml/cgmml/data_utils/dataset_EDA/data_utilities.py: line 31\n"
          ]
        },
        {
          "output_type": "display_data",
          "data": {
            "text/plain": "<Figure size 432x288 with 1 Axes>",
            "image/png": "[encoded data removed]"
          },
          "metadata": {
            "needs_background": "light"
          }
        }
      ],
      "execution_count": 128,
      "metadata": {
        "gather": {
          "logged": 1630419022561
        }
      }
    },
    {
      "cell_type": "code",
      "source": [
        "## keys for different scan type and their distribution in dataset\n",
        "\"- 100 - standing front scan\",\n",
        "\"- 101 - standing 360 scan\",\n",
        "\"- 102 - standing back scan\",\n",
        "\"- 200 - lying front scan\",\n",
        "\"- 201 - lying side scan\",\n",
        "\"- 202 - lying back scan\"\n",
        "print(artifacts['scan_step'].value_counts())\n",
        "_ = artifacts['scan_step'].value_counts().plot(kind='pie')"
      ],
      "outputs": [
        {
          "output_type": "stream",
          "name": "stdout",
          "text": [
            "101    2498\n",
            "100     837\n",
            "102     828\n",
            "201     605\n",
            "202     135\n",
            "200     135\n",
            "Name: scan_step, dtype: int64\n"
          ]
        },
        {
          "output_type": "display_data",
          "data": {
            "text/plain": "<Figure size 432x288 with 1 Axes>",
            "image/png": "[encoded data removed]"
          },
          "metadata": {}
        }
      ],
      "execution_count": 129,
      "metadata": {
        "gather": {
          "logged": 1630419025949
        }
      }
    },
    {
      "cell_type": "code",
      "source": [
        "scan_type_colname = 'scan_step' # for other datasets this can be \"key\"\n",
        "calculate_code_age_distribution(artifacts, scan_type_colname)"
      ],
      "outputs": [
        {
          "output_type": "stream",
          "name": "stderr",
          "text": [
            "2021-08-31 14:10:26,606 - INFO - scan_step - /mnt/batch/tasks/shared/LS_root/mounts/clusters/mhinsche1/code/Users/mhinsche/cgm-ml/cgmml/data_utils/dataset_EDA/data_utilities.py: line 52\n"
          ]
        },
        {
          "output_type": "execute_result",
          "execution_count": 130,
          "data": {
            "text/plain": "         0    1    2     3    4\ncodes                          \n102      0   54  144   369  261\n101      0  130  494  1014  860\n100      0   63  180   324  270\n201    164  415   26     0    0\n202     45   81    9     0    0\n200     45   81    9     0    0",
            "text/html": "<div>\n<style scoped>\n    .dataframe tbody tr th:only-of-type {\n        vertical-align: middle;\n    }\n\n    .dataframe tbody tr th {\n        vertical-align: top;\n    }\n\n    .dataframe thead th {\n        text-align: right;\n    }\n</style>\n<table border=\"1\" class=\"dataframe\">\n  <thead>\n    <tr style=\"text-align: right;\">\n      <th></th>\n      <th>0</th>\n      <th>1</th>\n      <th>2</th>\n      <th>3</th>\n      <th>4</th>\n    </tr>\n    <tr>\n      <th>codes</th>\n      <th></th>\n      <th></th>\n      <th></th>\n      <th></th>\n      <th></th>\n    </tr>\n  </thead>\n  <tbody>\n    <tr>\n      <th>102</th>\n      <td>0</td>\n      <td>54</td>\n      <td>144</td>\n      <td>369</td>\n      <td>261</td>\n    </tr>\n    <tr>\n      <th>101</th>\n      <td>0</td>\n      <td>130</td>\n      <td>494</td>\n      <td>1014</td>\n      <td>860</td>\n    </tr>\n    <tr>\n      <th>100</th>\n      <td>0</td>\n      <td>63</td>\n      <td>180</td>\n      <td>324</td>\n      <td>270</td>\n    </tr>\n    <tr>\n      <th>201</th>\n      <td>164</td>\n      <td>415</td>\n      <td>26</td>\n      <td>0</td>\n      <td>0</td>\n    </tr>\n    <tr>\n      <th>202</th>\n      <td>45</td>\n      <td>81</td>\n      <td>9</td>\n      <td>0</td>\n      <td>0</td>\n    </tr>\n    <tr>\n      <th>200</th>\n      <td>45</td>\n      <td>81</td>\n      <td>9</td>\n      <td>0</td>\n      <td>0</td>\n    </tr>\n  </tbody>\n</table>\n</div>"
          },
          "metadata": {}
        }
      ],
      "execution_count": 130,
      "metadata": {
        "gather": {
          "logged": 1630419026821
        }
      }
    },
    {
      "cell_type": "code",
      "source": [
        "calculate_code_age_distribution(unique_scan_ids, scan_type_colname)"
      ],
      "outputs": [
        {
          "output_type": "stream",
          "name": "stderr",
          "text": [
            "2021-08-31 14:10:27,614 - INFO - scan_step - /mnt/batch/tasks/shared/LS_root/mounts/clusters/mhinsche1/code/Users/mhinsche/cgm-ml/cgmml/data_utils/dataset_EDA/data_utilities.py: line 52\n"
          ]
        },
        {
          "output_type": "execute_result",
          "execution_count": 131,
          "data": {
            "text/plain": "       0  1   2   3   4\ncodes                  \n102    0  5  16  35  28\n101    0  5  16  35  28\n100    0  6  16  35  28\n201    5  9   1   0   0\n202    5  9   1   0   0\n200    5  9   1   0   0",
            "text/html": "<div>\n<style scoped>\n    .dataframe tbody tr th:only-of-type {\n        vertical-align: middle;\n    }\n\n    .dataframe tbody tr th {\n        vertical-align: top;\n    }\n\n    .dataframe thead th {\n        text-align: right;\n    }\n</style>\n<table border=\"1\" class=\"dataframe\">\n  <thead>\n    <tr style=\"text-align: right;\">\n      <th></th>\n      <th>0</th>\n      <th>1</th>\n      <th>2</th>\n      <th>3</th>\n      <th>4</th>\n    </tr>\n    <tr>\n      <th>codes</th>\n      <th></th>\n      <th></th>\n      <th></th>\n      <th></th>\n      <th></th>\n    </tr>\n  </thead>\n  <tbody>\n    <tr>\n      <th>102</th>\n      <td>0</td>\n      <td>5</td>\n      <td>16</td>\n      <td>35</td>\n      <td>28</td>\n    </tr>\n    <tr>\n      <th>101</th>\n      <td>0</td>\n      <td>5</td>\n      <td>16</td>\n      <td>35</td>\n      <td>28</td>\n    </tr>\n    <tr>\n      <th>100</th>\n      <td>0</td>\n      <td>6</td>\n      <td>16</td>\n      <td>35</td>\n      <td>28</td>\n    </tr>\n    <tr>\n      <th>201</th>\n      <td>5</td>\n      <td>9</td>\n      <td>1</td>\n      <td>0</td>\n      <td>0</td>\n    </tr>\n    <tr>\n      <th>202</th>\n      <td>5</td>\n      <td>9</td>\n      <td>1</td>\n      <td>0</td>\n      <td>0</td>\n    </tr>\n    <tr>\n      <th>200</th>\n      <td>5</td>\n      <td>9</td>\n      <td>1</td>\n      <td>0</td>\n      <td>0</td>\n    </tr>\n  </tbody>\n</table>\n</div>"
          },
          "metadata": {}
        }
      ],
      "execution_count": 131,
      "metadata": {
        "gather": {
          "logged": 1630419027765
        }
      }
    },
    {
      "cell_type": "markdown",
      "source": [
        "### Distribution of height, weight and age against each other"
      ],
      "metadata": {}
    },
    {
      "cell_type": "code",
      "source": [
        "#distribution of height against age\n",
        "height_vs_age = unique_scan_ids.plot.scatter(x='height', y='age', c='red')\n"
      ],
      "outputs": [
        {
          "output_type": "display_data",
          "data": {
            "text/plain": "<Figure size 432x288 with 1 Axes>",
            "image/png": "[encoded data removed]"
          },
          "metadata": {
            "needs_background": "light"
          }
        }
      ],
      "execution_count": 132,
      "metadata": {
        "gather": {
          "logged": 1630419030657
        }
      }
    },
    {
      "cell_type": "code",
      "source": [
        "#distribution of weight against age\n",
        "weight_vs_age = unique_scan_ids.plot.scatter(x='weight', y='age', c='red')"
      ],
      "outputs": [
        {
          "output_type": "display_data",
          "data": {
            "text/plain": "<Figure size 432x288 with 1 Axes>",
            "image/png": "[encoded data removed]"
          },
          "metadata": {
            "needs_background": "light"
          }
        }
      ],
      "execution_count": 133,
      "metadata": {
        "gather": {
          "logged": 1630419035119
        }
      }
    },
    {
      "cell_type": "code",
      "source": [
        "## distribution of height against weight\n",
        "weight_vs_height = unique_scan_ids.plot.scatter(x='height', y='weight', c='red')"
      ],
      "outputs": [
        {
          "output_type": "display_data",
          "data": {
            "text/plain": "<Figure size 432x288 with 1 Axes>",
            "image/png": "[encoded data removed]"
          },
          "metadata": {
            "needs_background": "light"
          }
        }
      ],
      "execution_count": 134,
      "metadata": {
        "gather": {
          "logged": 1630419037005
        }
      }
    },
    {
      "cell_type": "markdown",
      "source": [
        "## Analyze outliers: 1) age, 2) weight, 3) height, 4) pixel values"
      ],
      "metadata": {}
    },
    {
      "cell_type": "code",
      "source": [
        "artifacts.describe()"
      ],
      "outputs": [
        {
          "output_type": "execute_result",
          "execution_count": 135,
          "data": {
            "text/plain": "         scan_step       height       weight         muac  order_number  \\\ncount  5038.000000  5038.000000  5038.000000  5038.000000   5038.000000   \nmean    118.366217    87.547916    10.655568    13.573561     15.206034   \nstd      37.893059     9.358740     2.023907     0.918990     17.043930   \nmin     100.000000    59.100000     5.400000    11.500000      1.000000   \n25%     101.000000    82.200000     9.350000    12.900000      5.000000   \n50%     101.000000    90.000000    11.100000    13.500000      9.000000   \n75%     102.000000    93.425000    11.750000    14.100000     20.000000   \nmax     202.000000   105.500000    14.750000    16.100000    130.000000   \n\n               age        Years  \ncount  5038.000000  5038.000000  \nmean   1176.636562     2.626638  \nstd     435.860256     1.189984  \nmin     220.000000     0.000000  \n25%     884.000000     2.000000  \n50%    1297.000000     3.000000  \n75%    1464.000000     4.000000  \nmax    1822.000000     4.000000  ",
            "text/html": "<div>\n<style scoped>\n    .dataframe tbody tr th:only-of-type {\n        vertical-align: middle;\n    }\n\n    .dataframe tbody tr th {\n        vertical-align: top;\n    }\n\n    .dataframe thead th {\n        text-align: right;\n    }\n</style>\n<table border=\"1\" class=\"dataframe\">\n  <thead>\n    <tr style=\"text-align: right;\">\n      <th></th>\n      <th>scan_step</th>\n      <th>height</th>\n      <th>weight</th>\n      <th>muac</th>\n      <th>order_number</th>\n      <th>age</th>\n      <th>Years</th>\n    </tr>\n  </thead>\n  <tbody>\n    <tr>\n      <th>count</th>\n      <td>5038.000000</td>\n      <td>5038.000000</td>\n      <td>5038.000000</td>\n      <td>5038.000000</td>\n      <td>5038.000000</td>\n      <td>5038.000000</td>\n      <td>5038.000000</td>\n    </tr>\n    <tr>\n      <th>mean</th>\n      <td>118.366217</td>\n      <td>87.547916</td>\n      <td>10.655568</td>\n      <td>13.573561</td>\n      <td>15.206034</td>\n      <td>1176.636562</td>\n      <td>2.626638</td>\n    </tr>\n    <tr>\n      <th>std</th>\n      <td>37.893059</td>\n      <td>9.358740</td>\n      <td>2.023907</td>\n      <td>0.918990</td>\n      <td>17.043930</td>\n      <td>435.860256</td>\n      <td>1.189984</td>\n    </tr>\n    <tr>\n      <th>min</th>\n      <td>100.000000</td>\n      <td>59.100000</td>\n      <td>5.400000</td>\n      <td>11.500000</td>\n      <td>1.000000</td>\n      <td>220.000000</td>\n      <td>0.000000</td>\n    </tr>\n    <tr>\n      <th>25%</th>\n      <td>101.000000</td>\n      <td>82.200000</td>\n      <td>9.350000</td>\n      <td>12.900000</td>\n      <td>5.000000</td>\n      <td>884.000000</td>\n      <td>2.000000</td>\n    </tr>\n    <tr>\n      <th>50%</th>\n      <td>101.000000</td>\n      <td>90.000000</td>\n      <td>11.100000</td>\n      <td>13.500000</td>\n      <td>9.000000</td>\n      <td>1297.000000</td>\n      <td>3.000000</td>\n    </tr>\n    <tr>\n      <th>75%</th>\n      <td>102.000000</td>\n      <td>93.425000</td>\n      <td>11.750000</td>\n      <td>14.100000</td>\n      <td>20.000000</td>\n      <td>1464.000000</td>\n      <td>4.000000</td>\n    </tr>\n    <tr>\n      <th>max</th>\n      <td>202.000000</td>\n      <td>105.500000</td>\n      <td>14.750000</td>\n      <td>16.100000</td>\n      <td>130.000000</td>\n      <td>1822.000000</td>\n      <td>4.000000</td>\n    </tr>\n  </tbody>\n</table>\n</div>"
          },
          "metadata": {}
        }
      ],
      "execution_count": 135,
      "metadata": {
        "gather": {
          "logged": 1630419039278
        }
      }
    },
    {
      "cell_type": "code",
      "source": [
        "unique_scan_ids.describe()"
      ],
      "outputs": [
        {
          "output_type": "execute_result",
          "execution_count": 136,
          "data": {
            "text/plain": "        scan_step      height      weight        muac  order_number  \\\ncount  298.000000  298.000000  298.000000  298.000000    298.000000   \nmean   116.097315   87.970805   10.753188   13.547315      1.033557   \nstd     35.876527    9.397853    1.992143    0.935968      0.180389   \nmin    100.000000   59.100000    5.400000   11.500000      1.000000   \n25%    100.000000   82.700000    9.500000   12.900000      1.000000   \n50%    101.000000   90.600000   11.250000   13.400000      1.000000   \n75%    102.000000   93.500000   11.875000   14.100000      1.000000   \nmax    202.000000  105.500000   14.750000   16.100000      2.000000   \n\n               age       Years  \ncount   298.000000  298.000000  \nmean   1201.859060    2.671141  \nstd     426.309131    1.174608  \nmin     220.000000    0.000000  \n25%     896.000000    2.000000  \n50%    1333.000000    3.000000  \n75%    1470.000000    4.000000  \nmax    1822.000000    4.000000  ",
            "text/html": "<div>\n<style scoped>\n    .dataframe tbody tr th:only-of-type {\n        vertical-align: middle;\n    }\n\n    .dataframe tbody tr th {\n        vertical-align: top;\n    }\n\n    .dataframe thead th {\n        text-align: right;\n    }\n</style>\n<table border=\"1\" class=\"dataframe\">\n  <thead>\n    <tr style=\"text-align: right;\">\n      <th></th>\n      <th>scan_step</th>\n      <th>height</th>\n      <th>weight</th>\n      <th>muac</th>\n      <th>order_number</th>\n      <th>age</th>\n      <th>Years</th>\n    </tr>\n  </thead>\n  <tbody>\n    <tr>\n      <th>count</th>\n      <td>298.000000</td>\n      <td>298.000000</td>\n      <td>298.000000</td>\n      <td>298.000000</td>\n      <td>298.000000</td>\n      <td>298.000000</td>\n      <td>298.000000</td>\n    </tr>\n    <tr>\n      <th>mean</th>\n      <td>116.097315</td>\n      <td>87.970805</td>\n      <td>10.753188</td>\n      <td>13.547315</td>\n      <td>1.033557</td>\n      <td>1201.859060</td>\n      <td>2.671141</td>\n    </tr>\n    <tr>\n      <th>std</th>\n      <td>35.876527</td>\n      <td>9.397853</td>\n      <td>1.992143</td>\n      <td>0.935968</td>\n      <td>0.180389</td>\n      <td>426.309131</td>\n      <td>1.174608</td>\n    </tr>\n    <tr>\n      <th>min</th>\n      <td>100.000000</td>\n      <td>59.100000</td>\n      <td>5.400000</td>\n      <td>11.500000</td>\n      <td>1.000000</td>\n      <td>220.000000</td>\n      <td>0.000000</td>\n    </tr>\n    <tr>\n      <th>25%</th>\n      <td>100.000000</td>\n      <td>82.700000</td>\n      <td>9.500000</td>\n      <td>12.900000</td>\n      <td>1.000000</td>\n      <td>896.000000</td>\n      <td>2.000000</td>\n    </tr>\n    <tr>\n      <th>50%</th>\n      <td>101.000000</td>\n      <td>90.600000</td>\n      <td>11.250000</td>\n      <td>13.400000</td>\n      <td>1.000000</td>\n      <td>1333.000000</td>\n      <td>3.000000</td>\n    </tr>\n    <tr>\n      <th>75%</th>\n      <td>102.000000</td>\n      <td>93.500000</td>\n      <td>11.875000</td>\n      <td>14.100000</td>\n      <td>1.000000</td>\n      <td>1470.000000</td>\n      <td>4.000000</td>\n    </tr>\n    <tr>\n      <th>max</th>\n      <td>202.000000</td>\n      <td>105.500000</td>\n      <td>14.750000</td>\n      <td>16.100000</td>\n      <td>2.000000</td>\n      <td>1822.000000</td>\n      <td>4.000000</td>\n    </tr>\n  </tbody>\n</table>\n</div>"
          },
          "metadata": {}
        }
      ],
      "execution_count": 136,
      "metadata": {
        "gather": {
          "logged": 1630419044977
        }
      }
    },
    {
      "cell_type": "markdown",
      "source": [
        "### 1) Check age"
      ],
      "metadata": {}
    },
    {
      "cell_type": "markdown",
      "source": [
        "##### Check age < 6 months or  > 6 years"
      ],
      "metadata": {}
    },
    {
      "cell_type": "code",
      "source": [
        "def find_outliers(df: pd.DataFrame, column: str, condition: str, data_id_name: str) -> list:\n",
        "    combined_condition = '@df.' + column + condition\n",
        "    print(f'Running the following query: {combined_condition}')\n",
        "    outlier_artifacts = df.query(combined_condition)\n",
        "    unique_outliers = outlier_artifacts.drop_duplicates(subset=data_id_name, keep='first')\n",
        "    outliers = unique_outliers[data_id_name].tolist()\n",
        "    print(f'No. of outliers: {len(outliers)}')\n",
        "    return outliers"
      ],
      "outputs": [],
      "execution_count": 137,
      "metadata": {
        "collapsed": true,
        "jupyter": {
          "source_hidden": false,
          "outputs_hidden": false
        },
        "nteract": {
          "transient": {
            "deleting": false
          }
        },
        "gather": {
          "logged": 1630419047539
        }
      }
    },
    {
      "cell_type": "code",
      "source": [
        "find_outliers(artifacts, 'age', '<365/2', data_id_name='person_id')"
      ],
      "outputs": [
        {
          "output_type": "stream",
          "name": "stdout",
          "text": [
            "Running the following query: @df.age<365/2\n",
            "No. of outliers: 0\n"
          ]
        },
        {
          "output_type": "execute_result",
          "execution_count": 138,
          "data": {
            "text/plain": "[]"
          },
          "metadata": {}
        }
      ],
      "execution_count": 138,
      "metadata": {
        "gather": {
          "logged": 1630419048735
        }
      }
    },
    {
      "cell_type": "code",
      "source": [
        "find_outliers(artifacts, 'age', '<365/2', data_id_name='scan_id')"
      ],
      "outputs": [
        {
          "output_type": "stream",
          "name": "stdout",
          "text": [
            "Running the following query: @df.age<365/2\n",
            "No. of outliers: 0\n"
          ]
        },
        {
          "output_type": "execute_result",
          "execution_count": 139,
          "data": {
            "text/plain": "[]"
          },
          "metadata": {}
        }
      ],
      "execution_count": 139,
      "metadata": {
        "collapsed": true,
        "jupyter": {
          "source_hidden": false,
          "outputs_hidden": false
        },
        "nteract": {
          "transient": {
            "deleting": false
          }
        },
        "gather": {
          "logged": 1630419049395
        }
      }
    },
    {
      "cell_type": "code",
      "source": [
        "find_outliers(artifacts, 'age', '>365*6', data_id_name='scan_id')"
      ],
      "outputs": [
        {
          "output_type": "stream",
          "name": "stdout",
          "text": [
            "Running the following query: @df.age>365*6\n",
            "No. of outliers: 0\n"
          ]
        },
        {
          "output_type": "execute_result",
          "execution_count": 140,
          "data": {
            "text/plain": "[]"
          },
          "metadata": {}
        }
      ],
      "execution_count": 140,
      "metadata": {
        "scrolled": true,
        "gather": {
          "logged": 1630419050108
        }
      }
    },
    {
      "cell_type": "markdown",
      "source": [
        "### 2) Check weight"
      ],
      "metadata": {}
    },
    {
      "cell_type": "code",
      "source": [
        "find_outliers(artifacts, 'weight', '<5.0', data_id_name='scan_id')"
      ],
      "outputs": [
        {
          "output_type": "stream",
          "name": "stdout",
          "text": [
            "Running the following query: @df.weight<5.0\n",
            "No. of outliers: 0\n"
          ]
        },
        {
          "output_type": "execute_result",
          "execution_count": 141,
          "data": {
            "text/plain": "[]"
          },
          "metadata": {}
        }
      ],
      "execution_count": 141,
      "metadata": {
        "gather": {
          "logged": 1630419051780
        }
      }
    },
    {
      "cell_type": "code",
      "source": [
        "find_outliers(artifacts, 'weight', '>30.0', data_id_name='scan_id')"
      ],
      "outputs": [
        {
          "output_type": "stream",
          "name": "stdout",
          "text": [
            "Running the following query: @df.weight>30.0\n",
            "No. of outliers: 0\n"
          ]
        },
        {
          "output_type": "execute_result",
          "execution_count": 142,
          "data": {
            "text/plain": "[]"
          },
          "metadata": {}
        }
      ],
      "execution_count": 142,
      "metadata": {
        "gather": {
          "logged": 1630419052654
        }
      }
    },
    {
      "cell_type": "markdown",
      "source": [
        "### 3) Check height"
      ],
      "metadata": {}
    },
    {
      "cell_type": "code",
      "source": [
        "find_outliers(artifacts, 'height', '<40.0', data_id_name='scan_id')"
      ],
      "outputs": [
        {
          "output_type": "stream",
          "name": "stdout",
          "text": [
            "Running the following query: @df.height<40.0\n",
            "No. of outliers: 0\n"
          ]
        },
        {
          "output_type": "execute_result",
          "execution_count": 143,
          "data": {
            "text/plain": "[]"
          },
          "metadata": {}
        }
      ],
      "execution_count": 143,
      "metadata": {
        "scrolled": true,
        "gather": {
          "logged": 1630419054326
        }
      }
    },
    {
      "cell_type": "code",
      "source": [
        "find_outliers(artifacts, 'height', '>150.0', data_id_name='scan_id')"
      ],
      "outputs": [
        {
          "output_type": "stream",
          "name": "stdout",
          "text": [
            "Running the following query: @df.height>150.0\n",
            "No. of outliers: 0\n"
          ]
        },
        {
          "output_type": "execute_result",
          "execution_count": 144,
          "data": {
            "text/plain": "[]"
          },
          "metadata": {}
        }
      ],
      "execution_count": 144,
      "metadata": {
        "gather": {
          "logged": 1630419055103
        }
      }
    },
    {
      "cell_type": "code",
      "source": [],
      "outputs": [],
      "execution_count": null,
      "metadata": {
        "collapsed": true,
        "jupyter": {
          "source_hidden": false,
          "outputs_hidden": false
        },
        "nteract": {
          "transient": {
            "deleting": false
          }
        }
      }
    },
    {
      "cell_type": "code",
      "source": [],
      "outputs": [],
      "execution_count": null,
      "metadata": {
        "collapsed": true,
        "jupyter": {
          "source_hidden": false,
          "outputs_hidden": false
        },
        "nteract": {
          "transient": {
            "deleting": false
          }
        }
      }
    }
  ],
  "metadata": {
    "kernel_info": {
      "name": "python3-azureml"
    },
    "kernelspec": {
      "name": "python3-azureml",
      "language": "python",
      "display_name": "Python 3.6 - AzureML"
    },
    "nteract": {
      "version": "nteract-front-end@1.0.0"
    },
    "language_info": {
      "name": "python",
      "version": "3.6.9",
      "mimetype": "text/x-python",
      "codemirror_mode": {
        "name": "ipython",
        "version": 3
      },
      "pygments_lexer": "ipython3",
      "nbconvert_exporter": "python",
      "file_extension": ".py"
    },
    "microsoft": {
      "host": {
        "AzureML": {
          "notebookHasBeenCompleted": true
        }
      }
    }
  },
  "nbformat": 4,
  "nbformat_minor": 4
}