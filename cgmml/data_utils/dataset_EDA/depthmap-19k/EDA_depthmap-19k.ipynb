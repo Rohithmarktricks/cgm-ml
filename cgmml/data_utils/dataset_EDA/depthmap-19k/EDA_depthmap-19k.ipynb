{
  "cells": [
    {
      "cell_type": "code",
      "source": [
        "%reload_ext autoreload\n",
        "%autoreload 2\n",
        "%matplotlib inline\n",
        "\n",
        "import pandas as pd\n",
        "from pathlib import Path\n",
        "import math\n",
        "import numpy as np\n",
        "import sys\n",
        "import matplotlib.pyplot as plt\n",
        "import pickle\n",
        "from tqdm import tqdm\n",
        "\n",
        "sys.path.append(str(Path(os.getcwd()).parent))\n",
        "from data_utilities import find_outliers, convert_age_from_days_to_years, extractqrcode, draw_age_distribution, calculate_code_age_distribution"
      ],
      "outputs": [],
      "execution_count": 4,
      "metadata": {
        "gather": {
          "logged": 1630422023843
        }
      }
    },
    {
      "cell_type": "markdown",
      "source": [
        "### Total no. of artifacts in dataset"
      ],
      "metadata": {}
    },
    {
      "cell_type": "code",
      "source": [
        "DATASET_NAME = 'dataset-depthmap-Train-2021-08-31-13-06-12'\n",
        "DATASET_PATH = Path(f'/mnt/datasets/{DATASET_NAME}')"
      ],
      "outputs": [],
      "execution_count": 5,
      "metadata": {
        "gather": {
          "logged": 1630422027810
        }
      }
    },
    {
      "cell_type": "code",
      "source": [
        "SAMPLE_PICKLE_PATH = 'scans/00b12500-0720-11ec-abef-3b31a036edc6/100/pc_00b5b8e1-0720-11ec-abef-03496a06c55c_04:53:29_100_1.0.p'\n",
        "!ls /mnt/datasets/{DATASET_NAME}/{SAMPLE_PICKLE_PATH}\n",
        "# ab575ae5-eecc-11eb-af66-e3654568dc70/100/pc_ab575ae5-eecc-11eb-af66-e3654568dc70_2021-07-27 11:20:31.569847_100_8.p"
      ],
      "outputs": [
        {
          "output_type": "stream",
          "name": "stdout",
          "text": [
            "/mnt/datasets/dataset-depthmap-Train-2021-08-31-13-06-12/scans/00b12500-0720-11ec-abef-3b31a036edc6/100/pc_00b5b8e1-0720-11ec-abef-03496a06c55c_04:53:29_100_1.0.p\r\n"
          ]
        }
      ],
      "execution_count": 6,
      "metadata": {
        "collapsed": true,
        "jupyter": {
          "source_hidden": false,
          "outputs_hidden": false
        },
        "nteract": {
          "transient": {
            "deleting": false
          }
        },
        "gather": {
          "logged": 1630422029628
        }
      }
    },
    {
      "cell_type": "code",
      "source": [
        "!du /mnt/datasets/{DATASET_NAME} -sh --apparent-size"
      ],
      "outputs": [
        {
          "output_type": "stream",
          "name": "stdout",
          "text": [
            "3.1G\t/mnt/datasets/dataset-depthmap-Train-2021-08-31-13-06-12\r\n"
          ]
        }
      ],
      "execution_count": 109,
      "metadata": {
        "collapsed": true,
        "jupyter": {
          "source_hidden": false,
          "outputs_hidden": false
        },
        "nteract": {
          "transient": {
            "deleting": false
          }
        }
      }
    },
    {
      "cell_type": "code",
      "source": [
        "# Check resolution of depthmap\n",
        "for fpath_pickle in tqdm(DATASET_PATH.glob('**/*.p')):\n",
        "    depthmap, targets = pickle.load(open(fpath_pickle, \"rb\"))\n",
        "    assert depthmap.shape == (240, 180, 1), fpath_pickle"
      ],
      "outputs": [
        {
          "output_type": "stream",
          "name": "stderr",
          "text": [
            "19035it [08:30, 37.32it/s]\n"
          ]
        }
      ],
      "execution_count": 7,
      "metadata": {
        "collapsed": true,
        "jupyter": {
          "source_hidden": false,
          "outputs_hidden": false
        },
        "nteract": {
          "transient": {
            "deleting": false
          }
        },
        "gather": {
          "logged": 1630422545677
        }
      }
    },
    {
      "cell_type": "code",
      "source": [
        "paths  = DATASET_PATH / SAMPLE_PICKLE_PATH\n",
        "depthmap, targets = pickle.load(open(paths, \"rb\"))\n",
        "_ = plt.imshow(np.squeeze(depthmap), cmap='gray')\n",
        "plt.show()"
      ],
      "outputs": [
        {
          "output_type": "display_data",
          "data": {
            "text/plain": "<Figure size 432x288 with 1 Axes>",
            "image/png": "[encoded data removed]"
          },
          "metadata": {
            "needs_background": "light"
          }
        }
      ],
      "execution_count": 66,
      "metadata": {
        "gather": {
          "logged": 1630415575088
        }
      }
    },
    {
      "cell_type": "code",
      "source": [
        "print(\"targets: \", targets)\n",
        "print(\"depthmap.shape: \", depthmap.shape)"
      ],
      "outputs": [
        {
          "output_type": "stream",
          "name": "stdout",
          "text": [
            "targets:  {'file_path': '1630059399551/a6681bfe-91ad-4882-84c1-1435bdfa33a8', 'timestamp': '04:53:29', 'scan_id': '00b5b8e1-0720-11ec-abef-03496a06c55c', 'scan_step': 100, 'scan_version': 'v0.9', 'height': 91.8, 'weight': 13.75, 'muac': 16.7, 'order_number': 1.0, 'format': 'depth', 'device_model': 'HUAWEI VOG-L29', 'person_id': '00b12500-0720-11ec-abef-3b31a036edc6', 'age': 988, 'sex': 'female', 'device_pose': [-0.6452987385023857, -0.7494033280146211, 0.14827066482564838, 0.0, 0.25750963690180606, -0.030654270360625752, 0.9657893676218213, 0.0, -0.7192206372108141, 0.6614037856478203, 0.212759740883473, 0.0, -0.04128752, -0.06830936, -0.053185105, 1.0], 'raw_header': '240x180_0.001_7_-0.20772326_0.5920061_0.68715227_-0.3663355_0.04128752_0.06830936_0.053185105', 'angle': -41.40702153504466}\n",
            "depthmap.shape:  (240, 180, 1)\n"
          ]
        }
      ],
      "execution_count": 67,
      "metadata": {
        "gather": {
          "logged": 1630415576777
        }
      }
    },
    {
      "cell_type": "code",
      "source": [
        "!head /mnt/datasets/{DATASET_NAME}/labels.csv"
      ],
      "outputs": [
        {
          "output_type": "stream",
          "name": "stdout",
          "text": [
            "scan_id,scan_step,scan_version,device_model,height,weight,muac,order_number,timestamp,timestamp,person_id,age,sex\r\n",
            "42f96360-0724-11ec-abef-d7697322d860,102,v0.9,HUAWEI VOG-L29,96.6,12.5,14.7,1.0,2021-08-27 10:44:00.100435,15:29:02,424b7020-0724-11ec-abef-f7d2656ba536,1530,female\r\n",
            "42f96360-0724-11ec-abef-d7697322d860,102,v0.9,HUAWEI VOG-L29,96.6,12.5,14.7,2.0,2021-08-27 10:44:00.209814,15:29:02,424b7020-0724-11ec-abef-f7d2656ba536,1530,female\r\n",
            "42f96360-0724-11ec-abef-d7697322d860,102,v0.9,HUAWEI VOG-L29,96.6,12.5,14.7,3.0,2021-08-27 10:44:00.350436,15:29:03,424b7020-0724-11ec-abef-f7d2656ba536,1530,female\r\n",
            "42f96360-0724-11ec-abef-d7697322d860,102,v0.9,HUAWEI VOG-L29,96.6,12.5,14.7,4.0,2021-08-27 10:44:00.459772,15:29:03,424b7020-0724-11ec-abef-f7d2656ba536,1530,female\r\n",
            "42f96360-0724-11ec-abef-d7697322d860,102,v0.9,HUAWEI VOG-L29,96.6,12.5,14.7,5.0,2021-08-27 10:44:00.616014,15:29:03,424b7020-0724-11ec-abef-f7d2656ba536,1530,female\r\n",
            "42f96360-0724-11ec-abef-d7697322d860,102,v0.9,HUAWEI VOG-L29,96.6,12.5,14.7,6.0,2021-08-27 10:44:00.772340,15:29:05,424b7020-0724-11ec-abef-f7d2656ba536,1530,female\r\n",
            "42f96360-0724-11ec-abef-d7697322d860,102,v0.9,HUAWEI VOG-L29,96.6,12.5,14.7,7.0,2021-08-27 10:44:00.897318,15:29:05,424b7020-0724-11ec-abef-f7d2656ba536,1530,female\r\n",
            "42f96360-0724-11ec-abef-d7697322d860,102,v0.9,HUAWEI VOG-L29,96.6,12.5,14.7,8.0,2021-08-27 10:44:01.100470,15:29:08,424b7020-0724-11ec-abef-f7d2656ba536,1530,female\r\n",
            "42f96360-0724-11ec-abef-d7697322d860,102,v0.9,HUAWEI VOG-L29,96.6,12.5,14.7,9.0,2021-08-27 10:44:01.225401,15:29:08,424b7020-0724-11ec-abef-f7d2656ba536,1530,female\r\n"
          ]
        }
      ],
      "execution_count": 68,
      "metadata": {
        "collapsed": true,
        "jupyter": {
          "source_hidden": false,
          "outputs_hidden": false
        },
        "nteract": {
          "transient": {
            "deleting": false
          }
        }
      }
    },
    {
      "cell_type": "code",
      "source": [
        "artifacts = pd.read_csv(DATASET_PATH / 'labels.csv')\n",
        "print(\"Total no. of artifacts:\", len(artifacts))\n",
        "artifacts.head()"
      ],
      "outputs": [
        {
          "output_type": "stream",
          "name": "stdout",
          "text": [
            "Total no. of artifacts: 19036\n"
          ]
        },
        {
          "output_type": "execute_result",
          "execution_count": 69,
          "data": {
            "text/plain": "                                scan_id  scan_step scan_version  \\\n0  42f96360-0724-11ec-abef-d7697322d860        102         v0.9   \n1  42f96360-0724-11ec-abef-d7697322d860        102         v0.9   \n2  42f96360-0724-11ec-abef-d7697322d860        102         v0.9   \n3  42f96360-0724-11ec-abef-d7697322d860        102         v0.9   \n4  42f96360-0724-11ec-abef-d7697322d860        102         v0.9   \n\n     device_model  height  weight  muac  order_number  \\\n0  HUAWEI VOG-L29    96.6    12.5  14.7           1.0   \n1  HUAWEI VOG-L29    96.6    12.5  14.7           2.0   \n2  HUAWEI VOG-L29    96.6    12.5  14.7           3.0   \n3  HUAWEI VOG-L29    96.6    12.5  14.7           4.0   \n4  HUAWEI VOG-L29    96.6    12.5  14.7           5.0   \n\n                    timestamp timestamp.1  \\\n0  2021-08-27 10:44:00.100435    15:29:02   \n1  2021-08-27 10:44:00.209814    15:29:02   \n2  2021-08-27 10:44:00.350436    15:29:03   \n3  2021-08-27 10:44:00.459772    15:29:03   \n4  2021-08-27 10:44:00.616014    15:29:03   \n\n                              person_id   age     sex  \n0  424b7020-0724-11ec-abef-f7d2656ba536  1530  female  \n1  424b7020-0724-11ec-abef-f7d2656ba536  1530  female  \n2  424b7020-0724-11ec-abef-f7d2656ba536  1530  female  \n3  424b7020-0724-11ec-abef-f7d2656ba536  1530  female  \n4  424b7020-0724-11ec-abef-f7d2656ba536  1530  female  ",
            "text/html": "<div>\n<style scoped>\n    .dataframe tbody tr th:only-of-type {\n        vertical-align: middle;\n    }\n\n    .dataframe tbody tr th {\n        vertical-align: top;\n    }\n\n    .dataframe thead th {\n        text-align: right;\n    }\n</style>\n<table border=\"1\" class=\"dataframe\">\n  <thead>\n    <tr style=\"text-align: right;\">\n      <th></th>\n      <th>scan_id</th>\n      <th>scan_step</th>\n      <th>scan_version</th>\n      <th>device_model</th>\n      <th>height</th>\n      <th>weight</th>\n      <th>muac</th>\n      <th>order_number</th>\n      <th>timestamp</th>\n      <th>timestamp.1</th>\n      <th>person_id</th>\n      <th>age</th>\n      <th>sex</th>\n    </tr>\n  </thead>\n  <tbody>\n    <tr>\n      <th>0</th>\n      <td>42f96360-0724-11ec-abef-d7697322d860</td>\n      <td>102</td>\n      <td>v0.9</td>\n      <td>HUAWEI VOG-L29</td>\n      <td>96.6</td>\n      <td>12.5</td>\n      <td>14.7</td>\n      <td>1.0</td>\n      <td>2021-08-27 10:44:00.100435</td>\n      <td>15:29:02</td>\n      <td>424b7020-0724-11ec-abef-f7d2656ba536</td>\n      <td>1530</td>\n      <td>female</td>\n    </tr>\n    <tr>\n      <th>1</th>\n      <td>42f96360-0724-11ec-abef-d7697322d860</td>\n      <td>102</td>\n      <td>v0.9</td>\n      <td>HUAWEI VOG-L29</td>\n      <td>96.6</td>\n      <td>12.5</td>\n      <td>14.7</td>\n      <td>2.0</td>\n      <td>2021-08-27 10:44:00.209814</td>\n      <td>15:29:02</td>\n      <td>424b7020-0724-11ec-abef-f7d2656ba536</td>\n      <td>1530</td>\n      <td>female</td>\n    </tr>\n    <tr>\n      <th>2</th>\n      <td>42f96360-0724-11ec-abef-d7697322d860</td>\n      <td>102</td>\n      <td>v0.9</td>\n      <td>HUAWEI VOG-L29</td>\n      <td>96.6</td>\n      <td>12.5</td>\n      <td>14.7</td>\n      <td>3.0</td>\n      <td>2021-08-27 10:44:00.350436</td>\n      <td>15:29:03</td>\n      <td>424b7020-0724-11ec-abef-f7d2656ba536</td>\n      <td>1530</td>\n      <td>female</td>\n    </tr>\n    <tr>\n      <th>3</th>\n      <td>42f96360-0724-11ec-abef-d7697322d860</td>\n      <td>102</td>\n      <td>v0.9</td>\n      <td>HUAWEI VOG-L29</td>\n      <td>96.6</td>\n      <td>12.5</td>\n      <td>14.7</td>\n      <td>4.0</td>\n      <td>2021-08-27 10:44:00.459772</td>\n      <td>15:29:03</td>\n      <td>424b7020-0724-11ec-abef-f7d2656ba536</td>\n      <td>1530</td>\n      <td>female</td>\n    </tr>\n    <tr>\n      <th>4</th>\n      <td>42f96360-0724-11ec-abef-d7697322d860</td>\n      <td>102</td>\n      <td>v0.9</td>\n      <td>HUAWEI VOG-L29</td>\n      <td>96.6</td>\n      <td>12.5</td>\n      <td>14.7</td>\n      <td>5.0</td>\n      <td>2021-08-27 10:44:00.616014</td>\n      <td>15:29:03</td>\n      <td>424b7020-0724-11ec-abef-f7d2656ba536</td>\n      <td>1530</td>\n      <td>female</td>\n    </tr>\n  </tbody>\n</table>\n</div>"
          },
          "metadata": {}
        }
      ],
      "execution_count": 69,
      "metadata": {
        "gather": {
          "logged": 1630415580792
        }
      }
    },
    {
      "cell_type": "code",
      "source": [
        "#adding the Years column into dataframe\n",
        "artifacts['Years'] = artifacts.apply(convert_age_from_days_to_years, axis=1)\n",
        "artifacts.head()"
      ],
      "outputs": [
        {
          "output_type": "execute_result",
          "execution_count": 70,
          "data": {
            "text/plain": "                                scan_id  scan_step scan_version  \\\n0  42f96360-0724-11ec-abef-d7697322d860        102         v0.9   \n1  42f96360-0724-11ec-abef-d7697322d860        102         v0.9   \n2  42f96360-0724-11ec-abef-d7697322d860        102         v0.9   \n3  42f96360-0724-11ec-abef-d7697322d860        102         v0.9   \n4  42f96360-0724-11ec-abef-d7697322d860        102         v0.9   \n\n     device_model  height  weight  muac  order_number  \\\n0  HUAWEI VOG-L29    96.6    12.5  14.7           1.0   \n1  HUAWEI VOG-L29    96.6    12.5  14.7           2.0   \n2  HUAWEI VOG-L29    96.6    12.5  14.7           3.0   \n3  HUAWEI VOG-L29    96.6    12.5  14.7           4.0   \n4  HUAWEI VOG-L29    96.6    12.5  14.7           5.0   \n\n                    timestamp timestamp.1  \\\n0  2021-08-27 10:44:00.100435    15:29:02   \n1  2021-08-27 10:44:00.209814    15:29:02   \n2  2021-08-27 10:44:00.350436    15:29:03   \n3  2021-08-27 10:44:00.459772    15:29:03   \n4  2021-08-27 10:44:00.616014    15:29:03   \n\n                              person_id   age     sex  Years  \n0  424b7020-0724-11ec-abef-f7d2656ba536  1530  female      4  \n1  424b7020-0724-11ec-abef-f7d2656ba536  1530  female      4  \n2  424b7020-0724-11ec-abef-f7d2656ba536  1530  female      4  \n3  424b7020-0724-11ec-abef-f7d2656ba536  1530  female      4  \n4  424b7020-0724-11ec-abef-f7d2656ba536  1530  female      4  ",
            "text/html": "<div>\n<style scoped>\n    .dataframe tbody tr th:only-of-type {\n        vertical-align: middle;\n    }\n\n    .dataframe tbody tr th {\n        vertical-align: top;\n    }\n\n    .dataframe thead th {\n        text-align: right;\n    }\n</style>\n<table border=\"1\" class=\"dataframe\">\n  <thead>\n    <tr style=\"text-align: right;\">\n      <th></th>\n      <th>scan_id</th>\n      <th>scan_step</th>\n      <th>scan_version</th>\n      <th>device_model</th>\n      <th>height</th>\n      <th>weight</th>\n      <th>muac</th>\n      <th>order_number</th>\n      <th>timestamp</th>\n      <th>timestamp.1</th>\n      <th>person_id</th>\n      <th>age</th>\n      <th>sex</th>\n      <th>Years</th>\n    </tr>\n  </thead>\n  <tbody>\n    <tr>\n      <th>0</th>\n      <td>42f96360-0724-11ec-abef-d7697322d860</td>\n      <td>102</td>\n      <td>v0.9</td>\n      <td>HUAWEI VOG-L29</td>\n      <td>96.6</td>\n      <td>12.5</td>\n      <td>14.7</td>\n      <td>1.0</td>\n      <td>2021-08-27 10:44:00.100435</td>\n      <td>15:29:02</td>\n      <td>424b7020-0724-11ec-abef-f7d2656ba536</td>\n      <td>1530</td>\n      <td>female</td>\n      <td>4</td>\n    </tr>\n    <tr>\n      <th>1</th>\n      <td>42f96360-0724-11ec-abef-d7697322d860</td>\n      <td>102</td>\n      <td>v0.9</td>\n      <td>HUAWEI VOG-L29</td>\n      <td>96.6</td>\n      <td>12.5</td>\n      <td>14.7</td>\n      <td>2.0</td>\n      <td>2021-08-27 10:44:00.209814</td>\n      <td>15:29:02</td>\n      <td>424b7020-0724-11ec-abef-f7d2656ba536</td>\n      <td>1530</td>\n      <td>female</td>\n      <td>4</td>\n    </tr>\n    <tr>\n      <th>2</th>\n      <td>42f96360-0724-11ec-abef-d7697322d860</td>\n      <td>102</td>\n      <td>v0.9</td>\n      <td>HUAWEI VOG-L29</td>\n      <td>96.6</td>\n      <td>12.5</td>\n      <td>14.7</td>\n      <td>3.0</td>\n      <td>2021-08-27 10:44:00.350436</td>\n      <td>15:29:03</td>\n      <td>424b7020-0724-11ec-abef-f7d2656ba536</td>\n      <td>1530</td>\n      <td>female</td>\n      <td>4</td>\n    </tr>\n    <tr>\n      <th>3</th>\n      <td>42f96360-0724-11ec-abef-d7697322d860</td>\n      <td>102</td>\n      <td>v0.9</td>\n      <td>HUAWEI VOG-L29</td>\n      <td>96.6</td>\n      <td>12.5</td>\n      <td>14.7</td>\n      <td>4.0</td>\n      <td>2021-08-27 10:44:00.459772</td>\n      <td>15:29:03</td>\n      <td>424b7020-0724-11ec-abef-f7d2656ba536</td>\n      <td>1530</td>\n      <td>female</td>\n      <td>4</td>\n    </tr>\n    <tr>\n      <th>4</th>\n      <td>42f96360-0724-11ec-abef-d7697322d860</td>\n      <td>102</td>\n      <td>v0.9</td>\n      <td>HUAWEI VOG-L29</td>\n      <td>96.6</td>\n      <td>12.5</td>\n      <td>14.7</td>\n      <td>5.0</td>\n      <td>2021-08-27 10:44:00.616014</td>\n      <td>15:29:03</td>\n      <td>424b7020-0724-11ec-abef-f7d2656ba536</td>\n      <td>1530</td>\n      <td>female</td>\n      <td>4</td>\n    </tr>\n  </tbody>\n</table>\n</div>"
          },
          "metadata": {}
        }
      ],
      "execution_count": 70,
      "metadata": {
        "gather": {
          "logged": 1630415584119
        },
        "jupyter": {
          "source_hidden": false
        }
      }
    },
    {
      "cell_type": "markdown",
      "source": [
        "### Total no. of children in the dataset"
      ],
      "metadata": {}
    },
    {
      "cell_type": "code",
      "source": [
        "print(\"Total no. of artifacts:\", len(artifacts))\n",
        "unique_scan_ids = artifacts.drop_duplicates(subset='scan_id', keep='first')\n",
        "print(\"Total no. of unique scan ids:\", len(unique_scan_ids))\n",
        "unique_person_ids = artifacts.drop_duplicates(subset='person_id', keep='first')\n",
        "print(\"Total no. of unique person ids:\", len(unique_person_ids))"
      ],
      "outputs": [
        {
          "output_type": "stream",
          "name": "stdout",
          "text": [
            "Total no. of artifacts: 19036\n",
            "Total no. of unique scan ids: 1147\n",
            "Total no. of unique person ids: 202\n"
          ]
        }
      ],
      "execution_count": 71,
      "metadata": {
        "gather": {
          "logged": 1630415596160
        }
      }
    },
    {
      "cell_type": "code",
      "source": [
        "print(artifacts['device_model'].value_counts())\n",
        "_ = artifacts['device_model'].value_counts().plot(kind='pie')"
      ],
      "outputs": [
        {
          "output_type": "stream",
          "name": "stdout",
          "text": [
            "HUAWEI VOG-L29    19036\n",
            "Name: device_model, dtype: int64\n"
          ]
        },
        {
          "output_type": "display_data",
          "data": {
            "text/plain": "<Figure size 432x288 with 1 Axes>",
            "image/png": "[encoded data removed]"
          },
          "metadata": {}
        }
      ],
      "execution_count": 72,
      "metadata": {
        "collapsed": true,
        "jupyter": {
          "source_hidden": false,
          "outputs_hidden": false
        },
        "nteract": {
          "transient": {
            "deleting": false
          }
        },
        "gather": {
          "logged": 1630415599597
        }
      }
    },
    {
      "cell_type": "code",
      "source": [
        "print(artifacts['scan_version'].value_counts())\n",
        "_ = artifacts['scan_version'].value_counts().plot(kind='pie')"
      ],
      "outputs": [
        {
          "output_type": "stream",
          "name": "stdout",
          "text": [
            "v0.9      17752\n",
            "v1.0.2      846\n",
            "v0.8        438\n",
            "Name: scan_version, dtype: int64\n"
          ]
        },
        {
          "output_type": "display_data",
          "data": {
            "text/plain": "<Figure size 432x288 with 1 Axes>",
            "image/png": "[encoded data removed]"
          },
          "metadata": {}
        }
      ],
      "execution_count": 73,
      "metadata": {
        "collapsed": true,
        "jupyter": {
          "source_hidden": false,
          "outputs_hidden": false
        },
        "nteract": {
          "transient": {
            "deleting": false
          }
        },
        "gather": {
          "logged": 1630415616328
        }
      }
    },
    {
      "cell_type": "code",
      "source": [
        "draw_age_distribution(unique_person_ids)"
      ],
      "outputs": [
        {
          "output_type": "stream",
          "name": "stderr",
          "text": [
            "2021-08-31 13:13:43,942 - INFO - 0    11\n",
            "1    51\n",
            "2    44\n",
            "3    41\n",
            "4    55\n",
            "Name: Years, dtype: int64 - /mnt/batch/tasks/shared/LS_root/mounts/clusters/mhinsche1/code/Users/mhinsche/cgm-ml/cgmml/data_utils/dataset_EDA/data_utilities.py: line 31\n"
          ]
        },
        {
          "output_type": "display_data",
          "data": {
            "text/plain": "<Figure size 432x288 with 1 Axes>",
            "image/png": "[encoded data removed]"
          },
          "metadata": {
            "needs_background": "light"
          }
        }
      ],
      "execution_count": 74,
      "metadata": {
        "collapsed": true,
        "jupyter": {
          "source_hidden": false,
          "outputs_hidden": false
        },
        "nteract": {
          "transient": {
            "deleting": false
          }
        },
        "gather": {
          "logged": 1630415624217
        }
      }
    },
    {
      "cell_type": "code",
      "source": [
        "draw_age_distribution(unique_scan_ids)"
      ],
      "outputs": [
        {
          "output_type": "stream",
          "name": "stderr",
          "text": [
            "2021-08-31 13:13:54,793 - INFO - 0     34\n",
            "1    165\n",
            "2    195\n",
            "3    231\n",
            "4    522\n",
            "Name: Years, dtype: int64 - /mnt/batch/tasks/shared/LS_root/mounts/clusters/mhinsche1/code/Users/mhinsche/cgm-ml/cgmml/data_utils/dataset_EDA/data_utilities.py: line 31\n"
          ]
        },
        {
          "output_type": "display_data",
          "data": {
            "text/plain": "<Figure size 432x288 with 1 Axes>",
            "image/png": "[encoded data removed]"
          },
          "metadata": {
            "needs_background": "light"
          }
        }
      ],
      "execution_count": 75,
      "metadata": {
        "gather": {
          "logged": 1630415635100
        }
      }
    },
    {
      "cell_type": "code",
      "source": [
        "## keys for different scan type and their distribution in dataset\n",
        "\"- 100 - standing front scan\",\n",
        "\"- 101 - standing 360 scan\",\n",
        "\"- 102 - standing back scan\",\n",
        "\"- 200 - lying front scan\",\n",
        "\"- 201 - lying side scan\",\n",
        "\"- 202 - lying back scan\"\n",
        "print(artifacts['scan_step'].value_counts())\n",
        "_ = artifacts['scan_step'].value_counts().plot(kind='pie')"
      ],
      "outputs": [
        {
          "output_type": "stream",
          "name": "stdout",
          "text": [
            "101    10007\n",
            "102     3430\n",
            "100     3260\n",
            "201     1430\n",
            "200      477\n",
            "202      432\n",
            "Name: scan_step, dtype: int64\n"
          ]
        },
        {
          "output_type": "display_data",
          "data": {
            "text/plain": "<Figure size 432x288 with 1 Axes>",
            "image/png": "[encoded data removed]"
          },
          "metadata": {}
        }
      ],
      "execution_count": 76,
      "metadata": {
        "gather": {
          "logged": 1630415638367
        }
      }
    },
    {
      "cell_type": "code",
      "source": [
        "scan_type_colname = 'scan_step' # for other datasets this can be \"key\"\n",
        "calculate_code_age_distribution(artifacts, scan_type_colname)"
      ],
      "outputs": [
        {
          "output_type": "stream",
          "name": "stderr",
          "text": [
            "2021-08-31 13:14:09,596 - INFO - scan_step - /mnt/batch/tasks/shared/LS_root/mounts/clusters/mhinsche1/code/Users/mhinsche/cgm-ml/cgmml/data_utils/dataset_EDA/data_utilities.py: line 52\n"
          ]
        },
        {
          "output_type": "execute_result",
          "execution_count": 77,
          "data": {
            "text/plain": "         0     1     2     3     4\ncodes                             \n102      9   234   621   829  1737\n101     26   754  2034  2262  4931\n100      9   199   603   775  1674\n200     90   369     9     0     9\n201    364  1014    26     0    26\n202     90   324     9     0     9",
            "text/html": "<div>\n<style scoped>\n    .dataframe tbody tr th:only-of-type {\n        vertical-align: middle;\n    }\n\n    .dataframe tbody tr th {\n        vertical-align: top;\n    }\n\n    .dataframe thead th {\n        text-align: right;\n    }\n</style>\n<table border=\"1\" class=\"dataframe\">\n  <thead>\n    <tr style=\"text-align: right;\">\n      <th></th>\n      <th>0</th>\n      <th>1</th>\n      <th>2</th>\n      <th>3</th>\n      <th>4</th>\n    </tr>\n    <tr>\n      <th>codes</th>\n      <th></th>\n      <th></th>\n      <th></th>\n      <th></th>\n      <th></th>\n    </tr>\n  </thead>\n  <tbody>\n    <tr>\n      <th>102</th>\n      <td>9</td>\n      <td>234</td>\n      <td>621</td>\n      <td>829</td>\n      <td>1737</td>\n    </tr>\n    <tr>\n      <th>101</th>\n      <td>26</td>\n      <td>754</td>\n      <td>2034</td>\n      <td>2262</td>\n      <td>4931</td>\n    </tr>\n    <tr>\n      <th>100</th>\n      <td>9</td>\n      <td>199</td>\n      <td>603</td>\n      <td>775</td>\n      <td>1674</td>\n    </tr>\n    <tr>\n      <th>200</th>\n      <td>90</td>\n      <td>369</td>\n      <td>9</td>\n      <td>0</td>\n      <td>9</td>\n    </tr>\n    <tr>\n      <th>201</th>\n      <td>364</td>\n      <td>1014</td>\n      <td>26</td>\n      <td>0</td>\n      <td>26</td>\n    </tr>\n    <tr>\n      <th>202</th>\n      <td>90</td>\n      <td>324</td>\n      <td>9</td>\n      <td>0</td>\n      <td>9</td>\n    </tr>\n  </tbody>\n</table>\n</div>"
          },
          "metadata": {}
        }
      ],
      "execution_count": 77,
      "metadata": {
        "gather": {
          "logged": 1630415649844
        }
      }
    },
    {
      "cell_type": "code",
      "source": [
        "calculate_code_age_distribution(unique_scan_ids, scan_type_colname)"
      ],
      "outputs": [
        {
          "output_type": "stream",
          "name": "stderr",
          "text": [
            "2021-08-31 13:14:39,618 - INFO - scan_step - /mnt/batch/tasks/shared/LS_root/mounts/clusters/mhinsche1/code/Users/mhinsche/cgm-ml/cgmml/data_utils/dataset_EDA/data_utilities.py: line 52\n"
          ]
        },
        {
          "output_type": "execute_result",
          "execution_count": 78,
          "data": {
            "text/plain": "        0   1   2   3    4\ncodes                     \n102     1  21  64  77  173\n101     1  21  64  77  173\n100     1  21  64  77  173\n200    10  34   1   0    1\n201    11  34   1   0    1\n202    10  34   1   0    1",
            "text/html": "<div>\n<style scoped>\n    .dataframe tbody tr th:only-of-type {\n        vertical-align: middle;\n    }\n\n    .dataframe tbody tr th {\n        vertical-align: top;\n    }\n\n    .dataframe thead th {\n        text-align: right;\n    }\n</style>\n<table border=\"1\" class=\"dataframe\">\n  <thead>\n    <tr style=\"text-align: right;\">\n      <th></th>\n      <th>0</th>\n      <th>1</th>\n      <th>2</th>\n      <th>3</th>\n      <th>4</th>\n    </tr>\n    <tr>\n      <th>codes</th>\n      <th></th>\n      <th></th>\n      <th></th>\n      <th></th>\n      <th></th>\n    </tr>\n  </thead>\n  <tbody>\n    <tr>\n      <th>102</th>\n      <td>1</td>\n      <td>21</td>\n      <td>64</td>\n      <td>77</td>\n      <td>173</td>\n    </tr>\n    <tr>\n      <th>101</th>\n      <td>1</td>\n      <td>21</td>\n      <td>64</td>\n      <td>77</td>\n      <td>173</td>\n    </tr>\n    <tr>\n      <th>100</th>\n      <td>1</td>\n      <td>21</td>\n      <td>64</td>\n      <td>77</td>\n      <td>173</td>\n    </tr>\n    <tr>\n      <th>200</th>\n      <td>10</td>\n      <td>34</td>\n      <td>1</td>\n      <td>0</td>\n      <td>1</td>\n    </tr>\n    <tr>\n      <th>201</th>\n      <td>11</td>\n      <td>34</td>\n      <td>1</td>\n      <td>0</td>\n      <td>1</td>\n    </tr>\n    <tr>\n      <th>202</th>\n      <td>10</td>\n      <td>34</td>\n      <td>1</td>\n      <td>0</td>\n      <td>1</td>\n    </tr>\n  </tbody>\n</table>\n</div>"
          },
          "metadata": {}
        }
      ],
      "execution_count": 78,
      "metadata": {
        "gather": {
          "logged": 1630415679973
        }
      }
    },
    {
      "cell_type": "markdown",
      "source": [
        "### Distribution of height, weight and age against each other"
      ],
      "metadata": {}
    },
    {
      "cell_type": "code",
      "source": [
        "#distribution of height against age\n",
        "height_vs_age = unique_scan_ids.plot.scatter(x='height', y='age', c='red')\n"
      ],
      "outputs": [
        {
          "output_type": "display_data",
          "data": {
            "text/plain": "<Figure size 432x288 with 1 Axes>",
            "image/png": "[encoded data removed]"
          },
          "metadata": {
            "needs_background": "light"
          }
        }
      ],
      "execution_count": 79,
      "metadata": {
        "gather": {
          "logged": 1630415703035
        }
      }
    },
    {
      "cell_type": "code",
      "source": [
        "#distribution of weight against age\n",
        "weight_vs_age = unique_scan_ids.plot.scatter(x='weight', y='age', c='red')"
      ],
      "outputs": [
        {
          "output_type": "display_data",
          "data": {
            "text/plain": "<Figure size 432x288 with 1 Axes>",
            "image/png": "[encoded data removed]"
          },
          "metadata": {
            "needs_background": "light"
          }
        }
      ],
      "execution_count": 80,
      "metadata": {
        "gather": {
          "logged": 1630415707097
        }
      }
    },
    {
      "cell_type": "code",
      "source": [
        "## distribution of height against weight\n",
        "weight_vs_height = unique_scan_ids.plot.scatter(x='height', y='weight', c='red')"
      ],
      "outputs": [
        {
          "output_type": "display_data",
          "data": {
            "text/plain": "<Figure size 432x288 with 1 Axes>",
            "image/png": "[encoded data removed]"
          },
          "metadata": {
            "needs_background": "light"
          }
        }
      ],
      "execution_count": 81,
      "metadata": {
        "gather": {
          "logged": 1630415710720
        }
      }
    },
    {
      "cell_type": "markdown",
      "source": [
        "## Analyze outliers: 1) age, 2) weight, 3) height, 4) pixel values"
      ],
      "metadata": {}
    },
    {
      "cell_type": "code",
      "source": [
        "artifacts.describe()"
      ],
      "outputs": [
        {
          "output_type": "execute_result",
          "execution_count": 82,
          "data": {
            "text/plain": "          scan_step        height        weight          muac  order_number  \\\ncount  19036.000000  19036.000000  19036.000000  19036.000000  19036.000000   \nmean     113.293812     90.590891     11.732898     14.187340     14.366674   \nstd       32.826357     10.640102      2.653579      1.228172     14.777941   \nmin      100.000000     62.500000      5.250000     10.000000      1.000000   \n25%      101.000000     83.300000      9.900000     13.400000      5.000000   \n50%      101.000000     93.200000     12.200000     14.200000      9.000000   \n75%      102.000000     99.700000     13.750000     14.700000     19.000000   \nmax      202.000000    110.500000     18.459000     17.000000    156.000000   \n\n                age         Years  \ncount  19036.000000  19036.000000  \nmean    1238.928661      2.870351  \nstd      454.328182      1.217938  \nmin      186.000000      0.000000  \n25%      923.000000      2.000000  \n50%     1320.000000      3.000000  \n75%     1675.000000      4.000000  \nmax     1823.000000      4.000000  ",
            "text/html": "<div>\n<style scoped>\n    .dataframe tbody tr th:only-of-type {\n        vertical-align: middle;\n    }\n\n    .dataframe tbody tr th {\n        vertical-align: top;\n    }\n\n    .dataframe thead th {\n        text-align: right;\n    }\n</style>\n<table border=\"1\" class=\"dataframe\">\n  <thead>\n    <tr style=\"text-align: right;\">\n      <th></th>\n      <th>scan_step</th>\n      <th>height</th>\n      <th>weight</th>\n      <th>muac</th>\n      <th>order_number</th>\n      <th>age</th>\n      <th>Years</th>\n    </tr>\n  </thead>\n  <tbody>\n    <tr>\n      <th>count</th>\n      <td>19036.000000</td>\n      <td>19036.000000</td>\n      <td>19036.000000</td>\n      <td>19036.000000</td>\n      <td>19036.000000</td>\n      <td>19036.000000</td>\n      <td>19036.000000</td>\n    </tr>\n    <tr>\n      <th>mean</th>\n      <td>113.293812</td>\n      <td>90.590891</td>\n      <td>11.732898</td>\n      <td>14.187340</td>\n      <td>14.366674</td>\n      <td>1238.928661</td>\n      <td>2.870351</td>\n    </tr>\n    <tr>\n      <th>std</th>\n      <td>32.826357</td>\n      <td>10.640102</td>\n      <td>2.653579</td>\n      <td>1.228172</td>\n      <td>14.777941</td>\n      <td>454.328182</td>\n      <td>1.217938</td>\n    </tr>\n    <tr>\n      <th>min</th>\n      <td>100.000000</td>\n      <td>62.500000</td>\n      <td>5.250000</td>\n      <td>10.000000</td>\n      <td>1.000000</td>\n      <td>186.000000</td>\n      <td>0.000000</td>\n    </tr>\n    <tr>\n      <th>25%</th>\n      <td>101.000000</td>\n      <td>83.300000</td>\n      <td>9.900000</td>\n      <td>13.400000</td>\n      <td>5.000000</td>\n      <td>923.000000</td>\n      <td>2.000000</td>\n    </tr>\n    <tr>\n      <th>50%</th>\n      <td>101.000000</td>\n      <td>93.200000</td>\n      <td>12.200000</td>\n      <td>14.200000</td>\n      <td>9.000000</td>\n      <td>1320.000000</td>\n      <td>3.000000</td>\n    </tr>\n    <tr>\n      <th>75%</th>\n      <td>102.000000</td>\n      <td>99.700000</td>\n      <td>13.750000</td>\n      <td>14.700000</td>\n      <td>19.000000</td>\n      <td>1675.000000</td>\n      <td>4.000000</td>\n    </tr>\n    <tr>\n      <th>max</th>\n      <td>202.000000</td>\n      <td>110.500000</td>\n      <td>18.459000</td>\n      <td>17.000000</td>\n      <td>156.000000</td>\n      <td>1823.000000</td>\n      <td>4.000000</td>\n    </tr>\n  </tbody>\n</table>\n</div>"
          },
          "metadata": {}
        }
      ],
      "execution_count": 82,
      "metadata": {
        "gather": {
          "logged": 1630415753435
        }
      }
    },
    {
      "cell_type": "code",
      "source": [
        "unique_scan_ids.describe()"
      ],
      "outputs": [
        {
          "output_type": "execute_result",
          "execution_count": 83,
          "data": {
            "text/plain": "         scan_step       height       weight         muac  order_number  \\\ncount  1147.000000  1147.000000  1147.000000  1147.000000   1147.000000   \nmean    113.118570    90.837838    11.821645    14.226504      1.087184   \nstd      32.658739    10.617691     2.653213     1.228314      0.341030   \nmin     100.000000    62.500000     5.250000    10.000000      1.000000   \n25%     100.000000    83.800000     9.900000    13.400000      1.000000   \n50%     101.000000    93.200000    12.200000    14.300000      1.000000   \n75%     102.000000    99.700000    14.050000    14.700000      1.000000   \nmax     202.000000   110.500000    18.459000    17.000000      3.000000   \n\n               age        Years  \ncount  1147.000000  1147.000000  \nmean   1251.619006     2.908457  \nstd     451.182660     1.208387  \nmin     186.000000     0.000000  \n25%     936.000000     2.000000  \n50%    1343.000000     3.000000  \n75%    1680.000000     4.000000  \nmax    1823.000000     4.000000  ",
            "text/html": "<div>\n<style scoped>\n    .dataframe tbody tr th:only-of-type {\n        vertical-align: middle;\n    }\n\n    .dataframe tbody tr th {\n        vertical-align: top;\n    }\n\n    .dataframe thead th {\n        text-align: right;\n    }\n</style>\n<table border=\"1\" class=\"dataframe\">\n  <thead>\n    <tr style=\"text-align: right;\">\n      <th></th>\n      <th>scan_step</th>\n      <th>height</th>\n      <th>weight</th>\n      <th>muac</th>\n      <th>order_number</th>\n      <th>age</th>\n      <th>Years</th>\n    </tr>\n  </thead>\n  <tbody>\n    <tr>\n      <th>count</th>\n      <td>1147.000000</td>\n      <td>1147.000000</td>\n      <td>1147.000000</td>\n      <td>1147.000000</td>\n      <td>1147.000000</td>\n      <td>1147.000000</td>\n      <td>1147.000000</td>\n    </tr>\n    <tr>\n      <th>mean</th>\n      <td>113.118570</td>\n      <td>90.837838</td>\n      <td>11.821645</td>\n      <td>14.226504</td>\n      <td>1.087184</td>\n      <td>1251.619006</td>\n      <td>2.908457</td>\n    </tr>\n    <tr>\n      <th>std</th>\n      <td>32.658739</td>\n      <td>10.617691</td>\n      <td>2.653213</td>\n      <td>1.228314</td>\n      <td>0.341030</td>\n      <td>451.182660</td>\n      <td>1.208387</td>\n    </tr>\n    <tr>\n      <th>min</th>\n      <td>100.000000</td>\n      <td>62.500000</td>\n      <td>5.250000</td>\n      <td>10.000000</td>\n      <td>1.000000</td>\n      <td>186.000000</td>\n      <td>0.000000</td>\n    </tr>\n    <tr>\n      <th>25%</th>\n      <td>100.000000</td>\n      <td>83.800000</td>\n      <td>9.900000</td>\n      <td>13.400000</td>\n      <td>1.000000</td>\n      <td>936.000000</td>\n      <td>2.000000</td>\n    </tr>\n    <tr>\n      <th>50%</th>\n      <td>101.000000</td>\n      <td>93.200000</td>\n      <td>12.200000</td>\n      <td>14.300000</td>\n      <td>1.000000</td>\n      <td>1343.000000</td>\n      <td>3.000000</td>\n    </tr>\n    <tr>\n      <th>75%</th>\n      <td>102.000000</td>\n      <td>99.700000</td>\n      <td>14.050000</td>\n      <td>14.700000</td>\n      <td>1.000000</td>\n      <td>1680.000000</td>\n      <td>4.000000</td>\n    </tr>\n    <tr>\n      <th>max</th>\n      <td>202.000000</td>\n      <td>110.500000</td>\n      <td>18.459000</td>\n      <td>17.000000</td>\n      <td>3.000000</td>\n      <td>1823.000000</td>\n      <td>4.000000</td>\n    </tr>\n  </tbody>\n</table>\n</div>"
          },
          "metadata": {}
        }
      ],
      "execution_count": 83,
      "metadata": {
        "gather": {
          "logged": 1630415756816
        }
      }
    },
    {
      "cell_type": "markdown",
      "source": [
        "### 1) Check age"
      ],
      "metadata": {}
    },
    {
      "cell_type": "markdown",
      "source": [
        "##### Check age < 6 months or  > 6 years"
      ],
      "metadata": {}
    },
    {
      "cell_type": "code",
      "source": [
        "def find_outliers(df: pd.DataFrame, column: str, condition: str, data_id_name: str) -> list:\n",
        "    combined_condition = '@df.' + column + condition\n",
        "    print(f'Running the following query: {combined_condition}')\n",
        "    outlier_artifacts = df.query(combined_condition)\n",
        "    unique_outliers = outlier_artifacts.drop_duplicates(subset=data_id_name, keep='first')\n",
        "    outliers = unique_outliers[data_id_name].tolist()\n",
        "    print(f'No. of outliers: {len(outliers)}')\n",
        "    return outliers"
      ],
      "outputs": [],
      "execution_count": 84,
      "metadata": {
        "collapsed": true,
        "jupyter": {
          "source_hidden": false,
          "outputs_hidden": false
        },
        "nteract": {
          "transient": {
            "deleting": false
          }
        },
        "gather": {
          "logged": 1630415834914
        }
      }
    },
    {
      "cell_type": "code",
      "source": [
        "find_outliers(artifacts, 'age', '<365/2', data_id_name='person_id')"
      ],
      "outputs": [
        {
          "output_type": "stream",
          "name": "stdout",
          "text": [
            "Running the following query: @df.age<365/2\n",
            "No. of outliers: 0\n"
          ]
        },
        {
          "output_type": "execute_result",
          "execution_count": 85,
          "data": {
            "text/plain": "[]"
          },
          "metadata": {}
        }
      ],
      "execution_count": 85,
      "metadata": {
        "gather": {
          "logged": 1630415836566
        }
      }
    },
    {
      "cell_type": "code",
      "source": [
        "find_outliers(artifacts, 'age', '<365/2', data_id_name='scan_id')"
      ],
      "outputs": [
        {
          "output_type": "stream",
          "name": "stdout",
          "text": [
            "Running the following query: @df.age<365/2\n",
            "No. of outliers: 0\n"
          ]
        },
        {
          "output_type": "execute_result",
          "execution_count": 86,
          "data": {
            "text/plain": "[]"
          },
          "metadata": {}
        }
      ],
      "execution_count": 86,
      "metadata": {
        "collapsed": true,
        "jupyter": {
          "source_hidden": false,
          "outputs_hidden": false
        },
        "nteract": {
          "transient": {
            "deleting": false
          }
        },
        "gather": {
          "logged": 1630415846419
        }
      }
    },
    {
      "cell_type": "code",
      "source": [
        "find_outliers(artifacts, 'age', '>365*6', data_id_name='scan_id')"
      ],
      "outputs": [
        {
          "output_type": "stream",
          "name": "stdout",
          "text": [
            "Running the following query: @df.age>365*6\n",
            "No. of outliers: 0\n"
          ]
        },
        {
          "output_type": "execute_result",
          "execution_count": 87,
          "data": {
            "text/plain": "[]"
          },
          "metadata": {}
        }
      ],
      "execution_count": 87,
      "metadata": {
        "scrolled": true,
        "gather": {
          "logged": 1630415848734
        }
      }
    },
    {
      "cell_type": "markdown",
      "source": [
        "### 2) Check weight"
      ],
      "metadata": {}
    },
    {
      "cell_type": "code",
      "source": [
        "find_outliers(artifacts, 'weight', '<5.0', data_id_name='scan_id')"
      ],
      "outputs": [
        {
          "output_type": "stream",
          "name": "stdout",
          "text": [
            "Running the following query: @df.weight<5.0\n",
            "No. of outliers: 0\n"
          ]
        },
        {
          "output_type": "execute_result",
          "execution_count": 88,
          "data": {
            "text/plain": "[]"
          },
          "metadata": {}
        }
      ],
      "execution_count": 88,
      "metadata": {
        "gather": {
          "logged": 1630415852102
        }
      }
    },
    {
      "cell_type": "code",
      "source": [
        "find_outliers(artifacts, 'weight', '>30.0', data_id_name='scan_id')"
      ],
      "outputs": [
        {
          "output_type": "stream",
          "name": "stdout",
          "text": [
            "Running the following query: @df.weight>30.0\n",
            "No. of outliers: 0\n"
          ]
        },
        {
          "output_type": "execute_result",
          "execution_count": 89,
          "data": {
            "text/plain": "[]"
          },
          "metadata": {}
        }
      ],
      "execution_count": 89,
      "metadata": {
        "gather": {
          "logged": 1630415854219
        }
      }
    },
    {
      "cell_type": "markdown",
      "source": [
        "### 3) Check height"
      ],
      "metadata": {}
    },
    {
      "cell_type": "code",
      "source": [
        "find_outliers(artifacts, 'height', '<40.0', data_id_name='scan_id')"
      ],
      "outputs": [
        {
          "output_type": "stream",
          "name": "stdout",
          "text": [
            "Running the following query: @df.height<40.0\n",
            "No. of outliers: 0\n"
          ]
        },
        {
          "output_type": "execute_result",
          "execution_count": 90,
          "data": {
            "text/plain": "[]"
          },
          "metadata": {}
        }
      ],
      "execution_count": 90,
      "metadata": {
        "scrolled": true,
        "gather": {
          "logged": 1630415857178
        }
      }
    },
    {
      "cell_type": "code",
      "source": [
        "find_outliers(artifacts, 'height', '>150.0', data_id_name='scan_id')"
      ],
      "outputs": [
        {
          "output_type": "stream",
          "name": "stdout",
          "text": [
            "Running the following query: @df.height>150.0\n",
            "No. of outliers: 0\n"
          ]
        },
        {
          "output_type": "execute_result",
          "execution_count": 91,
          "data": {
            "text/plain": "[]"
          },
          "metadata": {}
        }
      ],
      "execution_count": 91,
      "metadata": {
        "gather": {
          "logged": 1630415858124
        }
      }
    },
    {
      "cell_type": "code",
      "source": [],
      "outputs": [],
      "execution_count": null,
      "metadata": {
        "collapsed": true,
        "jupyter": {
          "source_hidden": false,
          "outputs_hidden": false
        },
        "nteract": {
          "transient": {
            "deleting": false
          }
        }
      }
    },
    {
      "cell_type": "code",
      "source": [],
      "outputs": [],
      "execution_count": null,
      "metadata": {
        "collapsed": true,
        "jupyter": {
          "source_hidden": false,
          "outputs_hidden": false
        },
        "nteract": {
          "transient": {
            "deleting": false
          }
        }
      }
    }
  ],
  "metadata": {
    "kernel_info": {
      "name": "python3-azureml"
    },
    "kernelspec": {
      "name": "python3-azureml",
      "language": "python",
      "display_name": "Python 3.6 - AzureML"
    },
    "nteract": {
      "version": "nteract-front-end@1.0.0"
    },
    "language_info": {
      "name": "python",
      "version": "3.6.9",
      "mimetype": "text/x-python",
      "codemirror_mode": {
        "name": "ipython",
        "version": 3
      },
      "pygments_lexer": "ipython3",
      "nbconvert_exporter": "python",
      "file_extension": ".py"
    },
    "microsoft": {
      "host": {
        "AzureML": {
          "notebookHasBeenCompleted": true
        }
      }
    }
  },
  "nbformat": 4,
  "nbformat_minor": 4
}