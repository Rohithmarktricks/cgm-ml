{
 "cells": [
  {
   "cell_type": "markdown",
   "metadata": {},
   "source": [
    "# Train mini-ML model on 3d pose points\n",
    "\n",
    "Train a random forest. \n",
    "\n",
    "Ideas:\n",
    "* add age as feature to CSV -> this could be used as a feature in training(but introduces bias)\n",
    "\n",
    "Learnings: \n",
    "* it helps to have 3D-components of bone vectors\n",
    "* it helps to only keep the important bones\n",
    "* confidence and validity do not help training a RF\n",
    "\n",
    "Future work:\n",
    "* Improve by median prediction of multiple artifacts\n",
    "* make more robust: small model = few params\n",
    "* XGboost\n",
    "* try simple linear regression, select best features\n",
    "* data augmentation"
   ]
  },
  {
   "cell_type": "markdown",
   "metadata": {},
   "source": [
    "## Setup"
   ]
  },
  {
   "cell_type": "code",
   "execution_count": 28,
   "metadata": {},
   "outputs": [],
   "source": [
    "# !pip install openmesh==1.1.6 threevis==0.1.0.post25"
   ]
  },
  {
   "cell_type": "code",
   "execution_count": 33,
   "metadata": {},
   "outputs": [],
   "source": [
    "%reload_ext autoreload\n",
    "%autoreload 2\n",
    "\n",
    "from joblib import dump, load\n",
    "import sys\n",
    "\n",
    "import numpy as np\n",
    "import pandas as pd\n",
    "import matplotlib.pyplot as plt\n",
    "\n",
    "from sklearn.ensemble import RandomForestRegressor\n",
    "from sklearn.model_selection import train_test_split\n",
    "from sklearn.metrics import mean_absolute_error\n",
    "import tensorflow as tf\n",
    "from tensorflow.keras import layers, models\n",
    "import matplotlib.pyplot as plt\n",
    "plt.style.use('ggplot')\n",
    "%matplotlib inline\n",
    "\n",
    "from constants import REPO_DIR, SKELETON_CGM\n",
    "from train_util import get_artifact_id_from_path, get_features_from_fpath, plot_history, get_path_from_artifact_id, prepare_df, get_joints_from_fpath\n",
    "from qa_config_pose3dpoints import RESULT_CONFIG, DATA_CONFIG\n",
    "from config_train import CONFIG_TRAIN\n",
    "\n",
    "sys.path.append(str(REPO_DIR / 'cgmml'))\n",
    "from cgmml.common.evaluation.eval_utils import calculate_performance, calculate_performance_mae_artifact\n",
    "from cgmml.common.evaluation.eval_utilities import calculate_and_save_results\n",
    "from cgmml.common.evaluation.CV.evaluation import MINIMUM_CHILD_HEIGHT_IN_CM, MAXIMUM_CHILD_HEIGHT_IN_CM"
   ]
  },
  {
   "cell_type": "code",
   "execution_count": 3,
   "metadata": {},
   "outputs": [],
   "source": [
    "DATA_DIR = REPO_DIR / 'data'\n",
    "DATASET_DIR = REPO_DIR / 'data/datasets/pose3dpoints-dataset'; DATASET_DIR\n",
    "NUM_ARTIFACTS_TO_SHOW = 3\n",
    "\n",
    "INTERESTING_COLUMNS = ['height', 'weight', 'muac', 'scantype', 'abs_error']\n",
    "\n",
    "# Eval\n",
    "USE_FILTER_LOW_QUALITY_ARTIFACT = True"
   ]
  },
  {
   "cell_type": "code",
   "execution_count": 4,
   "metadata": {},
   "outputs": [],
   "source": [
    "# import warnings\n",
    "# warnings.filterwarnings('ignore')"
   ]
  },
  {
   "cell_type": "code",
   "execution_count": 5,
   "metadata": {},
   "outputs": [],
   "source": [
    "df_ = pd.read_csv(DATASET_DIR / 'metadata.csv')\n",
    "df_.rename(columns={\"scan_type\": \"scantype\"}, inplace=True)\n",
    "df_ = df_.astype({'scantype': 'str'})\n",
    "artifact_ids_all = list(df_['artifact_id'])"
   ]
  },
  {
   "cell_type": "code",
   "execution_count": 6,
   "metadata": {},
   "outputs": [],
   "source": [
    "# Get artifacts obj file names from data dir\n",
    "obj_files_paths_ = list(sorted(DATASET_DIR.glob('*.obj')))\n",
    "obj_files_names_all = [get_artifact_id_from_path(path) for path in obj_files_paths_]"
   ]
  },
  {
   "cell_type": "code",
   "execution_count": 7,
   "metadata": {},
   "outputs": [
    {
     "data": {
      "text/plain": [
       "(27919, 6898, 6898)"
      ]
     },
     "execution_count": 7,
     "metadata": {},
     "output_type": "execute_result"
    }
   ],
   "source": [
    "# Show that the CSV has more files than we have artifacts\n",
    "x = set(artifact_ids_all)\n",
    "y = set(obj_files_names_all)\n",
    "z = x.intersection(y)\n",
    "len(x), len(y), len(z)"
   ]
  },
  {
   "cell_type": "code",
   "execution_count": 8,
   "metadata": {},
   "outputs": [
    {
     "data": {
      "text/plain": [
       "((6898, 11), 6898)"
      ]
     },
     "execution_count": 8,
     "metadata": {},
     "output_type": "execute_result"
    }
   ],
   "source": [
    "# Only keep the rows for which we have artifacts\n",
    "df_all = df_[df_.artifact_id.isin(obj_files_names_all)]\n",
    "\n",
    "# Sort dataframe by artifact_id\n",
    "df_all = df_all.set_index('artifact_id')\n",
    "df_all = df_all.sort_index()\n",
    "\n",
    "# Make sure that file names are in the same order as the dataframe\n",
    "assert np.all(obj_files_names_all == df_all.index)\n",
    "\n",
    "df_all.shape, len(obj_files_names_all)"
   ]
  },
  {
   "cell_type": "code",
   "execution_count": 9,
   "metadata": {},
   "outputs": [
    {
     "name": "stdout",
     "output_type": "stream",
     "text": [
      "(3035, 11) 3035\n"
     ]
    },
    {
     "data": {
      "text/html": [
       "<div>\n",
       "<style scoped>\n",
       "    .dataframe tbody tr th:only-of-type {\n",
       "        vertical-align: middle;\n",
       "    }\n",
       "\n",
       "    .dataframe tbody tr th {\n",
       "        vertical-align: top;\n",
       "    }\n",
       "\n",
       "    .dataframe thead th {\n",
       "        text-align: right;\n",
       "    }\n",
       "</style>\n",
       "<table border=\"1\" class=\"dataframe\">\n",
       "  <thead>\n",
       "    <tr style=\"text-align: right;\">\n",
       "      <th></th>\n",
       "      <th>scan_id</th>\n",
       "      <th>order</th>\n",
       "      <th>depthmap_path</th>\n",
       "      <th>rgb_path</th>\n",
       "      <th>height</th>\n",
       "      <th>weight</th>\n",
       "      <th>muac</th>\n",
       "      <th>scan_version</th>\n",
       "      <th>scantype</th>\n",
       "      <th>measurement_date</th>\n",
       "      <th>scan_date</th>\n",
       "    </tr>\n",
       "    <tr>\n",
       "      <th>artifact_id</th>\n",
       "      <th></th>\n",
       "      <th></th>\n",
       "      <th></th>\n",
       "      <th></th>\n",
       "      <th></th>\n",
       "      <th></th>\n",
       "      <th></th>\n",
       "      <th></th>\n",
       "      <th></th>\n",
       "      <th></th>\n",
       "      <th></th>\n",
       "    </tr>\n",
       "  </thead>\n",
       "  <tbody>\n",
       "    <tr>\n",
       "      <th>0816b862-8e1b-11eb-941c-dbaed44346b6</th>\n",
       "      <td>0816b860-8e1b-11eb-941c-ab8a1eff68ab</td>\n",
       "      <td>1.0</td>\n",
       "      <td>1616726354112/3428cc7a-002f-45ee-82f8-c4618ce8...</td>\n",
       "      <td>1616726346829/27fd9dca-694c-4593-b464-bb767f30...</td>\n",
       "      <td>66.6</td>\n",
       "      <td>6.75</td>\n",
       "      <td>12.8</td>\n",
       "      <td>v0.9</td>\n",
       "      <td>200</td>\n",
       "      <td>2021-03-25 11:22:08</td>\n",
       "      <td>2021-03-25 09:13:59</td>\n",
       "    </tr>\n",
       "    <tr>\n",
       "      <th>08183f00-8e1b-11eb-941c-cf2a8c1b927f</th>\n",
       "      <td>0816b860-8e1b-11eb-941c-ab8a1eff68ab</td>\n",
       "      <td>2.0</td>\n",
       "      <td>1616726354229/a1a926f5-a9eb-40d2-ab11-60e2fb7a...</td>\n",
       "      <td>1616726354149/39af2c90-d6d6-4bab-bcf8-33320a2c...</td>\n",
       "      <td>66.6</td>\n",
       "      <td>6.75</td>\n",
       "      <td>12.8</td>\n",
       "      <td>v0.9</td>\n",
       "      <td>200</td>\n",
       "      <td>2021-03-25 11:22:08</td>\n",
       "      <td>2021-03-25 09:13:59</td>\n",
       "    </tr>\n",
       "    <tr>\n",
       "      <th>08183f02-8e1b-11eb-941c-9b7184a99229</th>\n",
       "      <td>0816b860-8e1b-11eb-941c-ab8a1eff68ab</td>\n",
       "      <td>3.0</td>\n",
       "      <td>1616726354264/8a3d2cec-b395-4c44-a29e-323164e2...</td>\n",
       "      <td>1616726354194/ee2cf646-503a-4137-bc45-d9db5e4c...</td>\n",
       "      <td>66.6</td>\n",
       "      <td>6.75</td>\n",
       "      <td>12.8</td>\n",
       "      <td>v0.9</td>\n",
       "      <td>200</td>\n",
       "      <td>2021-03-25 11:22:08</td>\n",
       "      <td>2021-03-25 09:13:59</td>\n",
       "    </tr>\n",
       "    <tr>\n",
       "      <th>08183f04-8e1b-11eb-941c-a3304ecd1294</th>\n",
       "      <td>0816b860-8e1b-11eb-941c-ab8a1eff68ab</td>\n",
       "      <td>4.0</td>\n",
       "      <td>1616726360883/c1dd0daa-f682-4129-a11a-50735d20...</td>\n",
       "      <td>1616726361201/126b2218-34cb-4c80-97bc-c68ece9b...</td>\n",
       "      <td>66.6</td>\n",
       "      <td>6.75</td>\n",
       "      <td>12.8</td>\n",
       "      <td>v0.9</td>\n",
       "      <td>200</td>\n",
       "      <td>2021-03-25 11:22:08</td>\n",
       "      <td>2021-03-25 09:13:59</td>\n",
       "    </tr>\n",
       "    <tr>\n",
       "      <th>08183f06-8e1b-11eb-941c-6b69cb6bd4f4</th>\n",
       "      <td>0816b860-8e1b-11eb-941c-ab8a1eff68ab</td>\n",
       "      <td>5.0</td>\n",
       "      <td>1616726364111/587634dc-69d5-425b-9b1f-91c2ac1e...</td>\n",
       "      <td>1616726364587/5ccdb1e7-2c09-4c5e-80f4-aa5779dd...</td>\n",
       "      <td>66.6</td>\n",
       "      <td>6.75</td>\n",
       "      <td>12.8</td>\n",
       "      <td>v0.9</td>\n",
       "      <td>200</td>\n",
       "      <td>2021-03-25 11:22:08</td>\n",
       "      <td>2021-03-25 09:13:59</td>\n",
       "    </tr>\n",
       "  </tbody>\n",
       "</table>\n",
       "</div>"
      ],
      "text/plain": [
       "                                                                   scan_id  \\\n",
       "artifact_id                                                                  \n",
       "0816b862-8e1b-11eb-941c-dbaed44346b6  0816b860-8e1b-11eb-941c-ab8a1eff68ab   \n",
       "08183f00-8e1b-11eb-941c-cf2a8c1b927f  0816b860-8e1b-11eb-941c-ab8a1eff68ab   \n",
       "08183f02-8e1b-11eb-941c-9b7184a99229  0816b860-8e1b-11eb-941c-ab8a1eff68ab   \n",
       "08183f04-8e1b-11eb-941c-a3304ecd1294  0816b860-8e1b-11eb-941c-ab8a1eff68ab   \n",
       "08183f06-8e1b-11eb-941c-6b69cb6bd4f4  0816b860-8e1b-11eb-941c-ab8a1eff68ab   \n",
       "\n",
       "                                      order  \\\n",
       "artifact_id                                   \n",
       "0816b862-8e1b-11eb-941c-dbaed44346b6    1.0   \n",
       "08183f00-8e1b-11eb-941c-cf2a8c1b927f    2.0   \n",
       "08183f02-8e1b-11eb-941c-9b7184a99229    3.0   \n",
       "08183f04-8e1b-11eb-941c-a3304ecd1294    4.0   \n",
       "08183f06-8e1b-11eb-941c-6b69cb6bd4f4    5.0   \n",
       "\n",
       "                                                                          depthmap_path  \\\n",
       "artifact_id                                                                               \n",
       "0816b862-8e1b-11eb-941c-dbaed44346b6  1616726354112/3428cc7a-002f-45ee-82f8-c4618ce8...   \n",
       "08183f00-8e1b-11eb-941c-cf2a8c1b927f  1616726354229/a1a926f5-a9eb-40d2-ab11-60e2fb7a...   \n",
       "08183f02-8e1b-11eb-941c-9b7184a99229  1616726354264/8a3d2cec-b395-4c44-a29e-323164e2...   \n",
       "08183f04-8e1b-11eb-941c-a3304ecd1294  1616726360883/c1dd0daa-f682-4129-a11a-50735d20...   \n",
       "08183f06-8e1b-11eb-941c-6b69cb6bd4f4  1616726364111/587634dc-69d5-425b-9b1f-91c2ac1e...   \n",
       "\n",
       "                                                                               rgb_path  \\\n",
       "artifact_id                                                                               \n",
       "0816b862-8e1b-11eb-941c-dbaed44346b6  1616726346829/27fd9dca-694c-4593-b464-bb767f30...   \n",
       "08183f00-8e1b-11eb-941c-cf2a8c1b927f  1616726354149/39af2c90-d6d6-4bab-bcf8-33320a2c...   \n",
       "08183f02-8e1b-11eb-941c-9b7184a99229  1616726354194/ee2cf646-503a-4137-bc45-d9db5e4c...   \n",
       "08183f04-8e1b-11eb-941c-a3304ecd1294  1616726361201/126b2218-34cb-4c80-97bc-c68ece9b...   \n",
       "08183f06-8e1b-11eb-941c-6b69cb6bd4f4  1616726364587/5ccdb1e7-2c09-4c5e-80f4-aa5779dd...   \n",
       "\n",
       "                                      height  weight  muac scan_version  \\\n",
       "artifact_id                                                               \n",
       "0816b862-8e1b-11eb-941c-dbaed44346b6    66.6    6.75  12.8         v0.9   \n",
       "08183f00-8e1b-11eb-941c-cf2a8c1b927f    66.6    6.75  12.8         v0.9   \n",
       "08183f02-8e1b-11eb-941c-9b7184a99229    66.6    6.75  12.8         v0.9   \n",
       "08183f04-8e1b-11eb-941c-a3304ecd1294    66.6    6.75  12.8         v0.9   \n",
       "08183f06-8e1b-11eb-941c-6b69cb6bd4f4    66.6    6.75  12.8         v0.9   \n",
       "\n",
       "                                     scantype     measurement_date  \\\n",
       "artifact_id                                                          \n",
       "0816b862-8e1b-11eb-941c-dbaed44346b6      200  2021-03-25 11:22:08   \n",
       "08183f00-8e1b-11eb-941c-cf2a8c1b927f      200  2021-03-25 11:22:08   \n",
       "08183f02-8e1b-11eb-941c-9b7184a99229      200  2021-03-25 11:22:08   \n",
       "08183f04-8e1b-11eb-941c-a3304ecd1294      200  2021-03-25 11:22:08   \n",
       "08183f06-8e1b-11eb-941c-6b69cb6bd4f4      200  2021-03-25 11:22:08   \n",
       "\n",
       "                                                scan_date  \n",
       "artifact_id                                                \n",
       "0816b862-8e1b-11eb-941c-dbaed44346b6  2021-03-25 09:13:59  \n",
       "08183f00-8e1b-11eb-941c-cf2a8c1b927f  2021-03-25 09:13:59  \n",
       "08183f02-8e1b-11eb-941c-9b7184a99229  2021-03-25 09:13:59  \n",
       "08183f04-8e1b-11eb-941c-a3304ecd1294  2021-03-25 09:13:59  \n",
       "08183f06-8e1b-11eb-941c-6b69cb6bd4f4  2021-03-25 09:13:59  "
      ]
     },
     "execution_count": 9,
     "metadata": {},
     "output_type": "execute_result"
    }
   ],
   "source": [
    "# Filter by scan type\n",
    "df = df_all[df_all.scantype.isin(CONFIG_TRAIN.SCAN_TYPES_TO_USE)]\n",
    "artifact_ids = list(df.index)\n",
    "\n",
    "obj_files_names = [name for name in obj_files_names_all if name in artifact_ids]\n",
    "obj_files_paths = [get_path_from_artifact_id(name, DATASET_DIR) for name in obj_files_names]\n",
    "\n",
    "print(df.shape, len(obj_files_paths))\n",
    "df.head()"
   ]
  },
  {
   "cell_type": "code",
   "execution_count": 10,
   "metadata": {},
   "outputs": [],
   "source": [
    "# Make sure that file names are in the same order as the dataframe\n",
    "assert np.all(obj_files_names == df.index)\n",
    "\n",
    "# df and obj_files_names are now prepared!"
   ]
  },
  {
   "cell_type": "markdown",
   "metadata": {},
   "source": [
    "## Feature engineering"
   ]
  },
  {
   "cell_type": "code",
   "execution_count": 11,
   "metadata": {},
   "outputs": [
    {
     "name": "stdout",
     "output_type": "stream",
     "text": [
      "3035\n",
      "46\n"
     ]
    }
   ],
   "source": [
    "# Create columns by looking at first child's features\n",
    "obj_file_path = obj_files_paths[0]\n",
    "child_features = get_features_from_fpath(obj_file_path, config_train=CONFIG_TRAIN)\n",
    "\n",
    "num_samples = len(obj_files_paths); print(num_samples)\n",
    "num_features = len(child_features); print(num_features)"
   ]
  },
  {
   "cell_type": "code",
   "execution_count": 12,
   "metadata": {},
   "outputs": [],
   "source": [
    "# Check features of 1 child\n",
    "# child_features"
   ]
  },
  {
   "cell_type": "code",
   "execution_count": 13,
   "metadata": {},
   "outputs": [
    {
     "data": {
      "text/plain": [
       "(3035, 46)"
      ]
     },
     "execution_count": 13,
     "metadata": {},
     "output_type": "execute_result"
    }
   ],
   "source": [
    "features_array = np.empty([num_samples, num_features])\n",
    "features_array[:] = np.NaN\n",
    "\n",
    "for artifact_index, obj_file_path in enumerate(obj_files_paths):\n",
    "    child_features = get_features_from_fpath(obj_file_path, config_train=CONFIG_TRAIN)\n",
    "    features_array[artifact_index] = np.array(list(child_features.values()))\n",
    "assert np.all(~np.isnan(features_array))  # Check all features were calculated\n",
    "features_array.shape"
   ]
  },
  {
   "cell_type": "code",
   "execution_count": 14,
   "metadata": {},
   "outputs": [
    {
     "data": {
      "text/plain": [
       "((3035, 46), (3035, 11))"
      ]
     },
     "execution_count": 14,
     "metadata": {},
     "output_type": "execute_result"
    }
   ],
   "source": [
    "features_array.shape, df.shape"
   ]
  },
  {
   "cell_type": "code",
   "execution_count": 15,
   "metadata": {},
   "outputs": [
    {
     "name": "stdout",
     "output_type": "stream",
     "text": [
      "(2457, 46) (2457,)\n",
      "(274, 46) (274,)\n",
      "(304, 46) (304,)\n"
     ]
    }
   ],
   "source": [
    "# Split train, eval, test set\n",
    "X = features_array  # df[[\"order\", \"scantype\"]]\n",
    "X_train_tmp, X_test, df_train_tmp, df_test = train_test_split(X, df, test_size=0.1, random_state=1)\n",
    "X_train, X_val, df_train, df_val = train_test_split(X_train_tmp, df_train_tmp, test_size=0.1, random_state=1)\n",
    "\n",
    "y_train = df_train.height\n",
    "y_val = df_val.height\n",
    "y_test = df_test.height\n",
    "\n",
    "# all: 6898\n",
    "# train: 5600\n",
    "# validation: ca. 600\n",
    "# testset: ca. 700\n",
    "\n",
    "print(X_train.shape, y_train.shape)\n",
    "print(X_val.shape, y_val.shape)\n",
    "print(X_test.shape, y_test.shape)"
   ]
  },
  {
   "cell_type": "markdown",
   "metadata": {},
   "source": [
    "## Mean Baseline"
   ]
  },
  {
   "cell_type": "code",
   "execution_count": 16,
   "metadata": {},
   "outputs": [
    {
     "data": {
      "text/plain": [
       "5.866451270267928"
      ]
     },
     "execution_count": 16,
     "metadata": {},
     "output_type": "execute_result"
    }
   ],
   "source": [
    "# Mean baseline\n",
    "y_true = y_test\n",
    "height_mean = df.height.mean()\n",
    "y_pred = [height_mean for _ in range(X_test.shape[0])]\n",
    "mean_absolute_error(y_true, y_pred)"
   ]
  },
  {
   "cell_type": "markdown",
   "metadata": {},
   "source": [
    "## Random Forest"
   ]
  },
  {
   "cell_type": "code",
   "execution_count": 17,
   "metadata": {},
   "outputs": [],
   "source": [
    "regr = RandomForestRegressor(n_estimators=100, max_depth=20, random_state=0)\n",
    "regr.fit(X_train, y_train);"
   ]
  },
  {
   "cell_type": "code",
   "execution_count": 18,
   "metadata": {},
   "outputs": [
    {
     "data": {
      "text/plain": [
       "0.9362904979602213"
      ]
     },
     "execution_count": 18,
     "metadata": {},
     "output_type": "execute_result"
    }
   ],
   "source": [
    "# Evaluate\n",
    "y_true = df_val.height\n",
    "y_pred = regr.predict(X_val)\n",
    "mean_absolute_error(y_true, y_pred)"
   ]
  },
  {
   "cell_type": "code",
   "execution_count": 19,
   "metadata": {},
   "outputs": [],
   "source": [
    "# Save model\n",
    "model_name = f'2021q4-points3d-rf-height-28k-{\"and\".join(CONFIG_TRAIN.SCAN_TYPES_TO_USE)}'\n",
    "MODEL_PATH = DATA_DIR / f'models/pose3dpointsModel/{model_name}.joblib'\n",
    "MODEL_PATH.parent.mkdir(parents=True, exist_ok=True)\n",
    "dump(regr, MODEL_PATH) \n",
    "regr = load(MODEL_PATH) "
   ]
  },
  {
   "cell_type": "code",
   "execution_count": 20,
   "metadata": {},
   "outputs": [
    {
     "name": "stdout",
     "output_type": "stream",
     "text": [
      "amount of all samples: 274\n",
      "amount of sane samples: 274\n",
      "mae (filtered): 0.94\n"
     ]
    }
   ],
   "source": [
    "# Check the predicted height is realistic\n",
    "\n",
    "if USE_FILTER_LOW_QUALITY_ARTIFACT:\n",
    "    y_pred = regr.predict(X_val)\n",
    "    print('amount of all samples:', y_pred.shape[0])\n",
    "    indexes = np.where((MINIMUM_CHILD_HEIGHT_IN_CM < y_pred) & (y_pred < MAXIMUM_CHILD_HEIGHT_IN_CM))[0]\n",
    "    print('amount of sane samples:', indexes.shape[0])\n",
    "    \n",
    "    y_pred_ = y_pred[indexes]\n",
    "    y_true_ = df_val.height.iloc[indexes]\n",
    "    \n",
    "    mae = mean_absolute_error(y_true_, y_pred_)\n",
    "    print(f'mae (filtered): {mae:.2f}')"
   ]
  },
  {
   "cell_type": "code",
   "execution_count": 21,
   "metadata": {},
   "outputs": [
    {
     "name": "stdout",
     "output_type": "stream",
     "text": [
      "200: 0.91\n",
      "201: 0.95\n"
     ]
    }
   ],
   "source": [
    "# Evaluate per scan step\n",
    "for scantype in DATA_CONFIG.CODES:\n",
    "    indexes = np.where(df_val.scantype == scantype)[0]\n",
    "    y_true_ = df_val.iloc[indexes].height\n",
    "    if not X_val[indexes].any():\n",
    "        continue\n",
    "    y_pred_ = regr.predict(X_val[indexes])\n",
    "    mae = mean_absolute_error(y_true_, y_pred_)\n",
    "    print(f'{scantype}: {mae:.2f}')\n",
    "    "
   ]
  },
  {
   "cell_type": "code",
   "execution_count": 22,
   "metadata": {},
   "outputs": [
    {
     "name": "stderr",
     "output_type": "stream",
     "text": [
      "/Users/markus/Development/cgm/cgm-ml/.venv/lib/python3.7/site-packages/pandas/core/indexing.py:376: SettingWithCopyWarning: \n",
      "A value is trying to be set on a copy of a slice from a DataFrame.\n",
      "Try using .loc[row_indexer,col_indexer] = value instead\n",
      "\n",
      "See the caveats in the documentation: http://pandas.pydata.org/pandas-docs/stable/user_guide/indexing.html#returning-a-view-versus-a-copy\n",
      "  self.obj[key] = _infer_fill_value(value)\n",
      "/Users/markus/Development/cgm/cgm-ml/.venv/lib/python3.7/site-packages/pandas/core/indexing.py:494: SettingWithCopyWarning: \n",
      "A value is trying to be set on a copy of a slice from a DataFrame.\n",
      "Try using .loc[row_indexer,col_indexer] = value instead\n",
      "\n",
      "See the caveats in the documentation: http://pandas.pydata.org/pandas-docs/stable/user_guide/indexing.html#returning-a-view-versus-a-copy\n",
      "  self.obj[item] = s\n"
     ]
    }
   ],
   "source": [
    "df_val.loc[:, 'GT'] = df_val['height']\n",
    "df_val.loc[:, 'predicted'] = y_pred\n",
    "df_val.loc[:, 'error'] = df_val['GT'] - df_val['predicted']\n",
    "\n",
    "csv_fpath = REPO_DIR / 'data/outputs/pose3dpointmodel/test_mae_artifact_level_pose3dpointmodel.csv'\n",
    "calculate_and_save_results(df_val.copy(), 'pose3dpointmodel', csv_fpath,\n",
    "                           DATA_CONFIG, RESULT_CONFIG, fct=calculate_performance_mae_artifact)"
   ]
  },
  {
   "cell_type": "code",
   "execution_count": 23,
   "metadata": {},
   "outputs": [],
   "source": [
    "df_val_grouped = prepare_df(df_val.copy())\n",
    "csv_out_fpath = REPO_DIR / 'data/outputs/pose3dpointmodel/pose3dpointmodel.csv'\n",
    "calculate_and_save_results(df_val_grouped, 'pose3dpointmodel', csv_out_fpath, DATA_CONFIG, RESULT_CONFIG, fct=calculate_performance)"
   ]
  },
  {
   "cell_type": "code",
   "execution_count": 24,
   "metadata": {},
   "outputs": [],
   "source": [
    "df_val.loc[:, 'abs_error'] = np.abs(df_val['error'])"
   ]
  },
  {
   "cell_type": "code",
   "execution_count": 34,
   "metadata": {},
   "outputs": [
    {
     "data": {
      "text/plain": [
       "(-3.0, 3.0)"
      ]
     },
     "execution_count": 34,
     "metadata": {},
     "output_type": "execute_result"
    },
    {
     "data": {
      "image/png": "[encoded data removed]",
      "text/plain": [
       "<Figure size 432x288 with 1 Axes>"
      ]
     },
     "metadata": {
      "needs_background": "light"
     },
     "output_type": "display_data"
    }
   ],
   "source": [
    "df_val['error'].hist(bins=20);\n",
    "plt.ylabel('Frequency'); plt.xlabel('Error'); plt.title('Histogram of errors');\n",
    "plt.xlim(-3, 3)"
   ]
  },
  {
   "cell_type": "code",
   "execution_count": 35,
   "metadata": {},
   "outputs": [
    {
     "data": {
      "image/png": "[encoded data removed]",
      "text/plain": [
       "<Figure size 432x288 with 1 Axes>"
      ]
     },
     "metadata": {
      "needs_background": "light"
     },
     "output_type": "display_data"
    }
   ],
   "source": [
    "df_val['abs_error'].hist();\n",
    "plt.ylabel('Frequency'); plt.xlabel('Error'); plt.title('Histogram of abs_errors');"
   ]
  },
  {
   "cell_type": "code",
   "execution_count": 27,
   "metadata": {},
   "outputs": [],
   "source": [
    "# Sort by error\n",
    "df_errors = df_val.sort_values('abs_error', ascending=False)"
   ]
  },
  {
   "cell_type": "code",
   "execution_count": 19,
   "metadata": {},
   "outputs": [],
   "source": [
    "# Show some results\n",
    "# for i in range(20):\n",
    "#     pred = regr.predict([X_test[i]])\n",
    "#     print(pred[0], 'actual:', y_test[i])"
   ]
  },
  {
   "cell_type": "markdown",
   "metadata": {
    "jp-MarkdownHeadingCollapsed": true,
    "tags": []
   },
   "source": [
    "## Neural Network"
   ]
  },
  {
   "cell_type": "code",
   "execution_count": 31,
   "metadata": {},
   "outputs": [
    {
     "name": "stderr",
     "output_type": "stream",
     "text": [
      "2021-10-20 16:46:50.105871: I tensorflow/compiler/jit/xla_cpu_device.cc:41] Not creating XLA devices, tf_xla_enable_xla_devices not set\n",
      "2021-10-20 16:46:50.106390: I tensorflow/core/platform/cpu_feature_guard.cc:142] This TensorFlow binary is optimized with oneAPI Deep Neural Network Library (oneDNN) to use the following CPU instructions in performance-critical operations:  AVX2 FMA\n",
      "To enable them in other operations, rebuild TensorFlow with the appropriate compiler flags.\n"
     ]
    }
   ],
   "source": [
    "dataset_train = tf.data.Dataset.from_tensor_slices((X_train, y_train))\n",
    "dataset_validation = tf.data.Dataset.from_tensor_slices((X_val, y_val))"
   ]
  },
  {
   "cell_type": "code",
   "execution_count": 34,
   "metadata": {},
   "outputs": [
    {
     "name": "stdout",
     "output_type": "stream",
     "text": [
      "Epoch 1/60\n",
      "768/768 - 2s - loss: 551.6611 - mae: 11.4759 - val_loss: 52.9084 - val_mae: 5.9796\n",
      "INFO:tensorflow:Assets written to: /Users/markus/Development/cgm/cgm-ml/data/models/pose3dpointsModel/outputs/best_model.ckpt/assets\n",
      "Epoch 2/60\n",
      "768/768 - 2s - loss: 85.0255 - mae: 5.9356 - val_loss: 148.2546 - val_mae: 11.2659\n",
      "Epoch 3/60\n",
      "768/768 - 1s - loss: 58.9704 - mae: 5.3405 - val_loss: 29.7976 - val_mae: 4.6734\n",
      "INFO:tensorflow:Assets written to: /Users/markus/Development/cgm/cgm-ml/data/models/pose3dpointsModel/outputs/best_model.ckpt/assets\n",
      "Epoch 4/60\n",
      "768/768 - 1s - loss: 94.7973 - mae: 4.6802 - val_loss: 18.5614 - val_mae: 3.1884\n",
      "INFO:tensorflow:Assets written to: /Users/markus/Development/cgm/cgm-ml/data/models/pose3dpointsModel/outputs/best_model.ckpt/assets\n",
      "Epoch 5/60\n",
      "768/768 - 1s - loss: 40.0703 - mae: 4.3774 - val_loss: 10.0594 - val_mae: 2.2834\n",
      "INFO:tensorflow:Assets written to: /Users/markus/Development/cgm/cgm-ml/data/models/pose3dpointsModel/outputs/best_model.ckpt/assets\n",
      "Epoch 6/60\n",
      "768/768 - 1s - loss: 34.7110 - mae: 3.9300 - val_loss: 9.4115 - val_mae: 2.3378\n",
      "INFO:tensorflow:Assets written to: /Users/markus/Development/cgm/cgm-ml/data/models/pose3dpointsModel/outputs/best_model.ckpt/assets\n",
      "Epoch 7/60\n",
      "768/768 - 1s - loss: 31.5276 - mae: 3.7495 - val_loss: 41.2033 - val_mae: 5.6022\n",
      "Epoch 8/60\n",
      "768/768 - 1s - loss: 27.4776 - mae: 3.5451 - val_loss: 44.2683 - val_mae: 4.8246\n",
      "Epoch 9/60\n",
      "768/768 - 1s - loss: 25.7557 - mae: 3.4996 - val_loss: 25.5224 - val_mae: 4.0468\n",
      "Epoch 10/60\n",
      "768/768 - 1s - loss: 22.8812 - mae: 3.3970 - val_loss: 12.4736 - val_mae: 2.9355\n",
      "Epoch 11/60\n",
      "768/768 - 1s - loss: 21.9617 - mae: 3.2455 - val_loss: 16.4656 - val_mae: 3.3716\n",
      "Epoch 12/60\n",
      "768/768 - 1s - loss: 21.1133 - mae: 3.1148 - val_loss: 47.0471 - val_mae: 5.2371\n",
      "Epoch 13/60\n",
      "768/768 - 1s - loss: 22.0275 - mae: 2.9639 - val_loss: 9.2805 - val_mae: 2.2444\n",
      "INFO:tensorflow:Assets written to: /Users/markus/Development/cgm/cgm-ml/data/models/pose3dpointsModel/outputs/best_model.ckpt/assets\n",
      "Epoch 14/60\n",
      "768/768 - 2s - loss: 20.0230 - mae: 2.9063 - val_loss: 4.9966 - val_mae: 1.5478\n",
      "INFO:tensorflow:Assets written to: /Users/markus/Development/cgm/cgm-ml/data/models/pose3dpointsModel/outputs/best_model.ckpt/assets\n",
      "Epoch 15/60\n",
      "768/768 - 1s - loss: 21.3990 - mae: 2.9220 - val_loss: 18.2757 - val_mae: 3.1749\n",
      "Epoch 16/60\n",
      "768/768 - 1s - loss: 19.1935 - mae: 2.7813 - val_loss: 6.2660 - val_mae: 1.9738\n",
      "Epoch 17/60\n",
      "768/768 - 1s - loss: 16.2375 - mae: 2.6941 - val_loss: 12.6834 - val_mae: 3.0664\n",
      "Epoch 18/60\n",
      "768/768 - 1s - loss: 13.6444 - mae: 2.5684 - val_loss: 12.5553 - val_mae: 2.2880\n",
      "Epoch 19/60\n",
      "768/768 - 1s - loss: 13.3687 - mae: 2.5279 - val_loss: 20.1080 - val_mae: 3.8807\n",
      "Epoch 20/60\n",
      "768/768 - 1s - loss: 13.0159 - mae: 2.4167 - val_loss: 4.6631 - val_mae: 1.6065\n",
      "INFO:tensorflow:Assets written to: /Users/markus/Development/cgm/cgm-ml/data/models/pose3dpointsModel/outputs/best_model.ckpt/assets\n",
      "Epoch 21/60\n",
      "768/768 - 1s - loss: 13.9695 - mae: 2.3793 - val_loss: 8.8157 - val_mae: 2.3840\n",
      "Epoch 22/60\n",
      "768/768 - 1s - loss: 13.1898 - mae: 2.3681 - val_loss: 12.5302 - val_mae: 3.0178\n",
      "Epoch 23/60\n",
      "768/768 - 1s - loss: 13.9209 - mae: 2.3630 - val_loss: 11.0281 - val_mae: 2.4977\n",
      "Epoch 24/60\n",
      "768/768 - 1s - loss: 13.0262 - mae: 2.2746 - val_loss: 22.0746 - val_mae: 3.8948\n",
      "Epoch 25/60\n",
      "768/768 - 1s - loss: 15.5445 - mae: 2.3081 - val_loss: 6.7243 - val_mae: 1.6355\n",
      "Epoch 26/60\n",
      "768/768 - 2s - loss: 15.1490 - mae: 2.2775 - val_loss: 26.2593 - val_mae: 3.5759\n",
      "Epoch 27/60\n",
      "768/768 - 1s - loss: 13.3273 - mae: 2.2044 - val_loss: 13.9430 - val_mae: 2.4006\n",
      "Epoch 28/60\n",
      "768/768 - 1s - loss: 11.5658 - mae: 2.1597 - val_loss: 8.4829 - val_mae: 2.3269\n",
      "Epoch 29/60\n",
      "768/768 - 1s - loss: 11.1873 - mae: 2.1193 - val_loss: 5.7688 - val_mae: 1.6068\n",
      "Epoch 30/60\n",
      "768/768 - 1s - loss: 10.3533 - mae: 2.1300 - val_loss: 5.1046 - val_mae: 1.4398\n",
      "Epoch 31/60\n",
      "768/768 - 1s - loss: 9.8820 - mae: 2.0401 - val_loss: 4.6615 - val_mae: 1.6071\n",
      "INFO:tensorflow:Assets written to: /Users/markus/Development/cgm/cgm-ml/data/models/pose3dpointsModel/outputs/best_model.ckpt/assets\n",
      "Epoch 32/60\n",
      "768/768 - 1s - loss: 10.7462 - mae: 2.0413 - val_loss: 3.9831 - val_mae: 1.3590\n",
      "INFO:tensorflow:Assets written to: /Users/markus/Development/cgm/cgm-ml/data/models/pose3dpointsModel/outputs/best_model.ckpt/assets\n",
      "Epoch 33/60\n",
      "768/768 - 1s - loss: 11.2291 - mae: 2.0619 - val_loss: 6.9265 - val_mae: 2.0727\n",
      "Epoch 34/60\n",
      "768/768 - 1s - loss: 8.9613 - mae: 2.0094 - val_loss: 18.8861 - val_mae: 3.4985\n",
      "Epoch 35/60\n",
      "768/768 - 1s - loss: 11.1397 - mae: 2.0084 - val_loss: 11.3507 - val_mae: 2.6311\n",
      "Epoch 36/60\n",
      "768/768 - 1s - loss: 9.4755 - mae: 2.0080 - val_loss: 7.8242 - val_mae: 2.1715\n",
      "Epoch 37/60\n",
      "768/768 - 1s - loss: 8.7076 - mae: 1.9498 - val_loss: 10.6593 - val_mae: 2.7461\n",
      "Epoch 38/60\n",
      "768/768 - 1s - loss: 7.3662 - mae: 1.9206 - val_loss: 8.9875 - val_mae: 2.4389\n",
      "Epoch 39/60\n",
      "768/768 - 1s - loss: 7.2516 - mae: 1.8946 - val_loss: 7.7102 - val_mae: 2.1989\n",
      "Epoch 40/60\n",
      "768/768 - 1s - loss: 7.1995 - mae: 1.8852 - val_loss: 13.6077 - val_mae: 3.1984\n",
      "Epoch 41/60\n",
      "768/768 - 1s - loss: 6.9464 - mae: 1.8568 - val_loss: 8.4472 - val_mae: 2.1595\n",
      "Epoch 42/60\n",
      "768/768 - 1s - loss: 8.7513 - mae: 1.8283 - val_loss: 14.7121 - val_mae: 3.3279\n",
      "Epoch 43/60\n",
      "768/768 - 1s - loss: 6.9995 - mae: 1.8369 - val_loss: 11.0984 - val_mae: 2.6631\n",
      "Epoch 44/60\n",
      "768/768 - 1s - loss: 7.1917 - mae: 1.8106 - val_loss: 4.4047 - val_mae: 1.4265\n",
      "Epoch 45/60\n",
      "768/768 - 1s - loss: 6.8482 - mae: 1.7929 - val_loss: 7.5465 - val_mae: 2.2279\n",
      "Epoch 46/60\n",
      "768/768 - 1s - loss: 6.5382 - mae: 1.7765 - val_loss: 6.7644 - val_mae: 1.7051\n",
      "Epoch 47/60\n",
      "768/768 - 1s - loss: 6.2357 - mae: 1.7442 - val_loss: 5.4812 - val_mae: 1.3722\n",
      "Epoch 48/60\n",
      "768/768 - 1s - loss: 6.6706 - mae: 1.7247 - val_loss: 10.4655 - val_mae: 2.7618\n",
      "Epoch 49/60\n",
      "768/768 - 1s - loss: 6.4354 - mae: 1.7059 - val_loss: 11.7182 - val_mae: 1.4317\n",
      "Epoch 50/60\n",
      "768/768 - 1s - loss: 6.7172 - mae: 1.6925 - val_loss: 7.6192 - val_mae: 2.1492\n",
      "Epoch 51/60\n",
      "768/768 - 1s - loss: 6.6214 - mae: 1.6932 - val_loss: 69.3156 - val_mae: 2.9302\n",
      "Epoch 52/60\n",
      "768/768 - 1s - loss: 6.9782 - mae: 1.6861 - val_loss: 6.4623 - val_mae: 1.8061\n",
      "Epoch 53/60\n",
      "768/768 - 1s - loss: 6.0462 - mae: 1.6652 - val_loss: 26.3571 - val_mae: 1.8581\n",
      "Epoch 54/60\n",
      "768/768 - 1s - loss: 6.4334 - mae: 1.6755 - val_loss: 4.5145 - val_mae: 1.3821\n",
      "Epoch 55/60\n",
      "768/768 - 1s - loss: 5.7878 - mae: 1.6679 - val_loss: 12.3752 - val_mae: 2.0565\n",
      "Epoch 56/60\n",
      "768/768 - 1s - loss: 6.8003 - mae: 1.6153 - val_loss: 7.0125 - val_mae: 1.7252\n",
      "Epoch 57/60\n",
      "768/768 - 1s - loss: 6.3082 - mae: 1.6523 - val_loss: 4.7458 - val_mae: 1.5975\n",
      "Epoch 58/60\n",
      "768/768 - 1s - loss: 5.8416 - mae: 1.6383 - val_loss: 9.6696 - val_mae: 2.2576\n",
      "Epoch 59/60\n",
      "768/768 - 1s - loss: 5.7346 - mae: 1.6213 - val_loss: 31.1234 - val_mae: 1.5631\n",
      "Epoch 60/60\n",
      "768/768 - 1s - loss: 6.9389 - mae: 1.6039 - val_loss: 3.9019 - val_mae: 1.2506\n",
      "INFO:tensorflow:Assets written to: /Users/markus/Development/cgm/cgm-ml/data/models/pose3dpointsModel/outputs/best_model.ckpt/assets\n",
      "154/154 [==============================] - 0s 927us/step - loss: 2.1954 - mae: 0.9489\n",
      "18/18 [==============================] - 0s 1ms/step - loss: 3.9019 - mae: 1.2506\n",
      "mae: 0.9488691687583923, val_mae: 1.2505621910095215\n"
     ]
    }
   ],
   "source": [
    "# hyperparameters\n",
    "model = models.Sequential([\n",
    "    layers.Dense(256, activation=\"relu\"),\n",
    "    layers.Dense(256, activation=\"relu\"),\n",
    "    layers.Dense(128, activation=\"relu\"),\n",
    "    layers.Dense(32, activation=\"relu\"),\n",
    "    layers.Dense(1, activation=\"linear\")\n",
    "])\n",
    "LR = 0.003\n",
    "BATCH_SIZE = 16\n",
    "\n",
    "# Training code\n",
    "optimizer = tf.keras.optimizers.RMSprop(learning_rate=LR)\n",
    "model.compile(optimizer=optimizer, loss=\"mse\", metrics=[\"mae\"])\n",
    "\n",
    "# checkpoint\n",
    "MODEL_CKPT_FILENAME = \"best_model.ckpt\"\n",
    "best_model_path = str(DATA_DIR / f'models/pose3dpointsModel/outputs/{MODEL_CKPT_FILENAME}')\n",
    "checkpoint_callback = tf.keras.callbacks.ModelCheckpoint(\n",
    "    filepath=best_model_path,\n",
    "    monitor=\"val_loss\",\n",
    "    save_best_only=True,\n",
    "    verbose=-1\n",
    ")\n",
    "\n",
    "history = model.fit(\n",
    "    dataset_train.repeat(5).batch(BATCH_SIZE),\n",
    "    validation_data=dataset_validation.batch(BATCH_SIZE),\n",
    "    epochs=60,\n",
    "    verbose=2,\n",
    "    callbacks=[checkpoint_callback]\n",
    ")\n",
    "\n",
    "model = tf.keras.models.load_model(best_model_path)\n",
    "loss, mae = model.evaluate(dataset_train.batch(BATCH_SIZE))\n",
    "val_loss, val_mae = model.evaluate(dataset_validation.batch(BATCH_SIZE))\n",
    "print(f'mae: {mae}, val_mae: {val_mae}')"
   ]
  },
  {
   "cell_type": "code",
   "execution_count": 1,
   "metadata": {},
   "outputs": [
    {
     "name": "stdout",
     "output_type": "stream",
     "text": [
      "history\n"
     ]
    }
   ],
   "source": [
    "history"
   ]
  },
  {
   "cell_type": "code",
   "execution_count": 35,
   "metadata": {},
   "outputs": [
    {
     "data": {
      "image/png": "[encoded data removed]",
      "text/plain": [
       "<Figure size 432x288 with 1 Axes>"
      ]
     },
     "metadata": {},
     "output_type": "display_data"
    },
    {
     "data": {
      "image/png": "[encoded data removed]",
      "text/plain": [
       "<Figure size 432x288 with 1 Axes>"
      ]
     },
     "metadata": {},
     "output_type": "display_data"
    }
   ],
   "source": [
    "plot_history(history)"
   ]
  },
  {
   "cell_type": "markdown",
   "metadata": {},
   "source": [
    "## Visualize good and bad predictions \n",
    "\n",
    "Visualization in 3D using [threevis](https://gitlab.vci.rwth-aachen.de:9000/threevis/threevis)"
   ]
  },
  {
   "cell_type": "code",
   "execution_count": 36,
   "metadata": {},
   "outputs": [],
   "source": [
    "import threevis as tv\n",
    "import openmesh as om\n",
    "\n",
    "def draw_3d(mesh):\n",
    "    ctx = tv.Context(width=320, height=240)  # width=640, height=480)  # Create Context\n",
    "    vertices = mesh.points()  # Get vertices and faces from the mesh\n",
    "    ctx.draw_edges(vertices, SKELETON_CGM)\n",
    "    ctx.draw_vertices(vertices, point_size=4, colors='red')  # Draw a point for each vertex\n",
    "    ctx.display()"
   ]
  },
  {
   "cell_type": "code",
   "execution_count": 37,
   "metadata": {},
   "outputs": [
    {
     "name": "stderr",
     "output_type": "stream",
     "text": [
      "/Users/markus/Development/cgm/cgm-ml/.venv/lib/python3.7/site-packages/jupyter_client/session.py:716: UserWarning: Message serialization failed with:\n",
      "Out of range float values are not JSON compliant\n",
      "Supporting this message is deprecated in jupyter-client 7, please make sure your message is JSON-compliant\n",
      "  content = self.pack(content)\n"
     ]
    },
    {
     "data": {
      "application/vnd.jupyter.widget-view+json": {
       "model_id": "cecce0ef412344709e697ba73eb9c404",
       "version_major": 2,
       "version_minor": 0
      },
      "text/plain": [
       "Renderer(background='#dddddd', camera=PerspectiveCamera(aspect=1.3333333333333333, children=(DirectionalLight(…"
      ]
     },
     "metadata": {},
     "output_type": "display_data"
    }
   ],
   "source": [
    "# Show a sample visualization\n",
    "\n",
    "m = om.read_trimesh(str(obj_files_paths[13]))\n",
    "draw_3d(m)"
   ]
  },
  {
   "cell_type": "code",
   "execution_count": 38,
   "metadata": {},
   "outputs": [],
   "source": [
    "def draw_artifact(artifact_id):\n",
    "    obj_file_path = get_path_from_artifact_id(artifact_id, DATASET_DIR)\n",
    "    m = om.read_trimesh(str(obj_file_path))\n",
    "    draw_3d(m)\n",
    "\n",
    "    # print confidence values\n",
    "    joints = get_joints_from_fpath(obj_file_path)\n",
    "    confidences = [joint.confidence for joint in joints]\n",
    "    print('mean confidence:', np.mean(confidences), 'confidences:', confidences)"
   ]
  },
  {
   "cell_type": "code",
   "execution_count": 39,
   "metadata": {},
   "outputs": [
    {
     "name": "stdout",
     "output_type": "stream",
     "text": [
      "height          66.2\n",
      "weight          6.95\n",
      "muac            13.6\n",
      "scantype         201\n",
      "abs_error    7.56321\n",
      "Name: b3a1f2c9-8d4f-11eb-a9dd-fbde9b776d47, dtype: object\n"
     ]
    },
    {
     "data": {
      "application/vnd.jupyter.widget-view+json": {
       "model_id": "f0ccdce974064b7891b566a34ba2d441",
       "version_major": 2,
       "version_minor": 0
      },
      "text/plain": [
       "Renderer(background='#dddddd', camera=PerspectiveCamera(aspect=1.3333333333333333, children=(DirectionalLight(…"
      ]
     },
     "metadata": {},
     "output_type": "display_data"
    },
    {
     "name": "stdout",
     "output_type": "stream",
     "text": [
      "mean confidence: 0.9389567725798663 confidences: [0.9981110095977783, 1.002624273300171, 0.963022768497467, 0.9535688757896423, 0.9803876876831055, 0.9472681879997253, 0.9623740315437317, 0.9433605074882507, 0.9664832949638367, 0.9436720609664917, 0.9505259394645691, 0.7844178676605225, 0.845750093460083, 0.8530886769294739, 0.9418039321899414, 0.9706621766090393, 0.9551437497138977]\n",
      "height        63.5\n",
      "weight        6.45\n",
      "muac          13.5\n",
      "scantype       201\n",
      "abs_error    7.551\n",
      "Name: 82ade7a7-8d4f-11eb-a9dd-ab13dc563fa0, dtype: object\n"
     ]
    },
    {
     "data": {
      "application/vnd.jupyter.widget-view+json": {
       "model_id": "841c0af0ecc54023a840d69815cc174a",
       "version_major": 2,
       "version_minor": 0
      },
      "text/plain": [
       "Renderer(background='#dddddd', camera=PerspectiveCamera(aspect=1.3333333333333333, children=(DirectionalLight(…"
      ]
     },
     "metadata": {},
     "output_type": "display_data"
    },
    {
     "name": "stdout",
     "output_type": "stream",
     "text": [
      "mean confidence: 0.9202034999342525 confidences: [0.993766188621521, 1.0309422016143799, 0.9899661540985107, 0.9068850874900818, 0.9950156211853027, 0.8957086205482483, 0.8905441164970398, 0.8718391060829163, 0.9610781669616699, 0.8512191772460938, 0.9691656231880188, 0.9629018306732178, 0.8757877349853516, 0.9675906300544739, 0.968380331993103, 0.6602904200553894, 0.8523784875869751]\n",
      "height          75.4\n",
      "weight           8.1\n",
      "muac            12.7\n",
      "scantype         200\n",
      "abs_error    5.67235\n",
      "Name: e6c82b82-9202-11eb-b3e6-8f3a4a7d1eee, dtype: object\n"
     ]
    },
    {
     "data": {
      "application/vnd.jupyter.widget-view+json": {
       "model_id": "181cf26f48ad49fa9db76ad60b8a4947",
       "version_major": 2,
       "version_minor": 0
      },
      "text/plain": [
       "Renderer(background='#dddddd', camera=PerspectiveCamera(aspect=1.3333333333333333, children=(DirectionalLight(…"
      ]
     },
     "metadata": {},
     "output_type": "display_data"
    },
    {
     "name": "stdout",
     "output_type": "stream",
     "text": [
      "mean confidence: 0.89603770831052 confidences: [0.9731804132461548, 1.0035098791122437, 0.9711766839027405, 0.7214691638946533, 0.9366785883903503, 0.9272057414054871, 0.9160175323486328, 0.948057234287262, 0.9027912616729736, 0.9463530778884888, 0.9184790849685669, 0.673651933670044, 0.7311875820159912, 0.9600550532341003, 0.9654477834701538, 0.8324926495552063, 0.9048873782157898]\n"
     ]
    }
   ],
   "source": [
    "# Worst predictions\n",
    "for artifact_id, row in df_errors[INTERESTING_COLUMNS].head(NUM_ARTIFACTS_TO_SHOW).iterrows():\n",
    "    print(row)\n",
    "    draw_artifact(artifact_id)"
   ]
  },
  {
   "cell_type": "code",
   "execution_count": 40,
   "metadata": {},
   "outputs": [
    {
     "name": "stdout",
     "output_type": "stream",
     "text": [
      "height              87.1\n",
      "weight             11.75\n",
      "muac                14.2\n",
      "scantype             201\n",
      "abs_error    1.56319e-13\n",
      "Name: 6d5da221-8b8b-11eb-b152-d38290958b89, dtype: object\n"
     ]
    },
    {
     "data": {
      "application/vnd.jupyter.widget-view+json": {
       "model_id": "9d3da00a9e664985a9ec6612e6ce3c6a",
       "version_major": 2,
       "version_minor": 0
      },
      "text/plain": [
       "Renderer(background='#dddddd', camera=PerspectiveCamera(aspect=1.3333333333333333, children=(DirectionalLight(…"
      ]
     },
     "metadata": {},
     "output_type": "display_data"
    },
    {
     "name": "stdout",
     "output_type": "stream",
     "text": [
      "mean confidence: 0.9225923629368052 confidences: [0.9805140495300293, 0.9723192453384399, 0.9758297801017761, 0.9272516965866089, 0.9298948645591736, 0.9288510084152222, 0.9358725547790527, 1.0427991151809692, 0.9674875736236572, 0.9005864262580872, 0.9650750756263733, 0.81565260887146, 0.9005478620529175, 0.8727996349334717, 0.8543975949287415, 0.8702600598335266, 0.8439310193061829]\n",
      "height              87.1\n",
      "weight             11.75\n",
      "muac                14.2\n",
      "scantype             201\n",
      "abs_error    1.56319e-13\n",
      "Name: 5d9c8186-8b04-11eb-8680-a3c79a4d407e, dtype: object\n"
     ]
    },
    {
     "data": {
      "application/vnd.jupyter.widget-view+json": {
       "model_id": "14e74209b197457fac51b9d3d689ffc6",
       "version_major": 2,
       "version_minor": 0
      },
      "text/plain": [
       "Renderer(background='#dddddd', camera=PerspectiveCamera(aspect=1.3333333333333333, children=(DirectionalLight(…"
      ]
     },
     "metadata": {},
     "output_type": "display_data"
    },
    {
     "name": "stdout",
     "output_type": "stream",
     "text": [
      "mean confidence: 0.9381029956481036 confidences: [1.016287922859192, 1.0042027235031128, 0.9988529086112976, 0.913713276386261, 0.9623432159423828, 0.9369111061096191, 0.9489009976387024, 0.9809321761131287, 0.9485164880752563, 0.8583805561065674, 0.9548801183700562, 0.8866220712661743, 0.8608142733573914, 0.8532166481018066, 0.911930501461029, 1.0351910591125488, 0.8760548830032349]\n",
      "height              87.1\n",
      "weight             11.75\n",
      "muac                14.2\n",
      "scantype             201\n",
      "abs_error    1.56319e-13\n",
      "Name: 5d97eda5-8b04-11eb-8680-9bb11d0b64fc, dtype: object\n"
     ]
    },
    {
     "data": {
      "application/vnd.jupyter.widget-view+json": {
       "model_id": "ca509860e1684970be09554f1c04ef98",
       "version_major": 2,
       "version_minor": 0
      },
      "text/plain": [
       "Renderer(background='#dddddd', camera=PerspectiveCamera(aspect=1.3333333333333333, children=(DirectionalLight(…"
      ]
     },
     "metadata": {},
     "output_type": "display_data"
    },
    {
     "name": "stdout",
     "output_type": "stream",
     "text": [
      "mean confidence: 0.9180052385610693 confidences: [0.9798208475112915, 1.006314754486084, 0.9991999864578247, 0.921204149723053, 0.9156040549278259, 0.9377880692481995, 0.9433749914169312, 0.9935334324836731, 0.9436258673667908, 0.945797324180603, 0.956637442111969, 0.848861038684845, 0.8111210465431213, 0.8536525368690491, 0.8467532992362976, 0.8113805651664734, 0.8914196491241455]\n"
     ]
    }
   ],
   "source": [
    "# Best predictions\n",
    "for artifact_id, row in df_errors[INTERESTING_COLUMNS].tail(NUM_ARTIFACTS_TO_SHOW).iterrows():\n",
    "    print(row)\n",
    "    draw_artifact(artifact_id)\n"
   ]
  },
  {
   "cell_type": "code",
   "execution_count": null,
   "metadata": {},
   "outputs": [],
   "source": []
  }
 ],
 "metadata": {
  "file_extension": ".py",
  "interpreter": {
   "hash": "8f69594cb69284318aee50561bbde377af68d14e3ea850a843e5c8a7eaedf75f"
  },
  "kernel_info": {
   "name": "python3"
  },
  "kernelspec": {
   "display_name": "Python 3 (ipykernel)",
   "language": "python",
   "name": "python3"
  },
  "language_info": {
   "codemirror_mode": {
    "name": "ipython",
    "version": 3
   },
   "file_extension": ".py",
   "mimetype": "text/x-python",
   "name": "python",
   "nbconvert_exporter": "python",
   "pygments_lexer": "ipython3",
   "version": "3.7.12"
  },
  "mimetype": "text/x-python",
  "name": "python",
  "npconvert_exporter": "python",
  "nteract": {
   "version": "nteract-front-end@1.0.0"
  },
  "pygments_lexer": "ipython3",
  "version": 3
 },
 "nbformat": 4,
 "nbformat_minor": 4
}
