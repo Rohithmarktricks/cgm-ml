{
  "cells": [
    {
      "cell_type": "code",
      "execution_count": 1,
      "metadata": {
        "gather": {
          "logged": 1687772334750
        }
      },
      "outputs": [],
      "source": [
        "%reload_ext autoreload\n",
        "%autoreload 2\n",
        "%matplotlib inline\n",
        "\n",
        "import os\n",
        "import shutil\n",
        "import pandas as pd\n",
        "from pathlib import Path\n",
        "import numpy as np\n",
        "import sys\n",
        "import matplotlib.pyplot as plt\n",
        "import pickle\n",
        "from tqdm import tqdm\n",
        "\n",
        "sys.path.append(str(Path(os.getcwd()).parent))\n",
        "from data_utilities import (\n",
        "    find_outliers, convert_age_from_days_to_years, draw_age_distribution, calculate_code_age_distribution)"
      ]
    },
    {
      "cell_type": "code",
      "execution_count": 2,
      "metadata": {
        "gather": {
          "logged": 1687772343975
        },
        "jupyter": {
          "outputs_hidden": false,
          "source_hidden": false
        },
        "nteract": {
          "transient": {
            "deleting": false
          }
        }
      },
      "outputs": [],
      "source": [
        "# pd.set_option('display.max_rows', None)\n",
        "pd.set_option('display.max_columns', None)\n"
      ]
    },
    {
      "cell_type": "code",
      "execution_count": 5,
      "metadata": {
        "gather": {
          "logged": 1687772414870
        },
        "jupyter": {
          "outputs_hidden": false,
          "source_hidden": false
        },
        "nteract": {
          "transient": {
            "deleting": false
          }
        }
      },
      "outputs": [],
      "source": [
        "DATASET_NAME = 'depthmap-469k'"
      ]
    },
    {
      "cell_type": "code",
      "execution_count": 3,
      "metadata": {
        "gather": {
          "logged": 1687772365771
        },
        "jupyter": {
          "outputs_hidden": false,
          "source_hidden": false
        },
        "nteract": {
          "transient": {
            "deleting": false
          }
        }
      },
      "outputs": [],
      "source": [
        "# azureml-core of version 1.0.72 or higher is required\n",
        "from azureml.core import Workspace, Dataset\n",
        "\n",
        "subscription_id = ''\n",
        "resource_group = ''\n",
        "workspace_name = ''\n",
        "\n",
        "workspace = Workspace(subscription_id, resource_group, workspace_name)\n",
        "\n",
        "dataset = Dataset.get_by_name(workspace, name='depthmap-469k')\n",
        "# dataset.download(target_path='.', overwrite=False)"
      ]
    },
    {
      "cell_type": "code",
      "execution_count": 4,
      "metadata": {
        "gather": {
          "logged": 1687772375839
        },
        "jupyter": {
          "outputs_hidden": false,
          "source_hidden": false
        },
        "nteract": {
          "transient": {
            "deleting": false
          }
        }
      },
      "outputs": [
        {
          "name": "stderr",
          "output_type": "stream",
          "text": [
            "Failed to extract subscription information, Exception=AttributeError; 'Logger' object has no attribute 'activity_info'\n",
            "Failed to extract subscription information, Exception=AttributeError; 'Logger' object has no attribute 'activity_info'\n",
            "Failed to extract subscription information, Exception=AttributeError; 'Logger' object has no attribute 'activity_info'\n",
            "Failed to extract subscription information, Exception=AttributeError; 'Logger' object has no attribute 'activity_info'\n",
            "Failed to extract subscription information, Exception=AttributeError; 'Logger' object has no attribute 'activity_info'\n",
            "Failed to extract subscription information, Exception=AttributeError; 'Logger' object has no attribute 'activity_info'\n",
            "Failed to extract subscription information, Exception=AttributeError; 'Logger' object has no attribute 'activity_info'\n",
            "Failed to extract subscription information, Exception=AttributeError; 'Logger' object has no attribute 'activity_info'\n"
          ]
        },
        {
          "data": {
            "text/plain": [
              "{\n",
              "  \"source\": [\n",
              "    \"('cgmmlciproddsetds', 'dataset-depthmap-Train-2022-11-13-08-38-14/**')\"\n",
              "  ],\n",
              "  \"definition\": [\n",
              "    \"GetDatastoreFiles\"\n",
              "  ],\n",
              "  \"registration\": {\n",
              "    \"id\": \"d9b3d52d-0d68-438e-a1ba-d97893fa7f78\",\n",
              "    \"name\": \"depthmap-469k\",\n",
              "    \"version\": 2,\n",
              "    \"description\": \"Updated with new labels like workflow id, pose score, joint scores\",\n",
              "    \"workspace\": \"Workspace.create(name='cgm-ml-prod-ci-azml', subscription_id='9b5bbfae-d5d1-4aae-a2ca-75159c0c887d', resource_group='cgm-ml-prod-ci-rg')\"\n",
              "  }\n",
              "}"
            ]
          },
          "execution_count": 4,
          "metadata": {},
          "output_type": "execute_result"
        }
      ],
      "source": [
        "dataset"
      ]
    },
    {
      "cell_type": "code",
      "execution_count": 6,
      "metadata": {
        "gather": {
          "logged": 1687772421493
        },
        "jupyter": {
          "outputs_hidden": false,
          "source_hidden": false
        },
        "nteract": {
          "transient": {
            "deleting": false
          }
        }
      },
      "outputs": [
        {
          "name": "stderr",
          "output_type": "stream",
          "text": [
            "Message: Running rslex direct volume mount: RSLEX_DIRECT_VOLUME_MOUNT=None, RSLEX_DIRECT_VOLUME_WRITABLE_MOUNT=None, enable_rslex_mount=None\n",
            "Payload: {\"pid\": 9746, \"version\": \"4.9.5\"}\n",
            "Failed to extract subscription information, Exception=AttributeError; 'Logger' object has no attribute 'activity_info'\n"
          ]
        }
      ],
      "source": [
        "from azureml.core import Workspace, Dataset\n",
        "\n",
        "# Connect to Workspace and reference Dataset\n",
        "ws = Workspace.from_config()\n",
        "dataset = ws.datasets[DATASET_NAME]\n",
        "\n",
        "# Create mountcontext and mount the dataset\n",
        "mount_ctx = dataset.mount()  \n",
        "mount_ctx.start()  "
      ]
    },
    {
      "cell_type": "code",
      "execution_count": 7,
      "metadata": {
        "gather": {
          "logged": 1687772436930
        },
        "jupyter": {
          "outputs_hidden": false,
          "source_hidden": false
        },
        "nteract": {
          "transient": {
            "deleting": false
          }
        }
      },
      "outputs": [
        {
          "name": "stdout",
          "output_type": "stream",
          "text": [
            "/tmp/tmp4piaag_t\n",
            "['labels.csv', 'scans']\n"
          ]
        }
      ],
      "source": [
        "# Get the mount point\n",
        "dataset_mount_folder = mount_ctx.mount_point\n",
        "print(dataset_mount_folder)\n",
        "\n",
        "# List the files in the mount point\n",
        "files = os.listdir(dataset_mount_folder)\n",
        "print(files)"
      ]
    },
    {
      "cell_type": "code",
      "execution_count": 8,
      "metadata": {
        "gather": {
          "logged": 1687772455066
        },
        "jupyter": {
          "outputs_hidden": false,
          "source_hidden": false
        },
        "nteract": {
          "transient": {
            "deleting": false
          }
        }
      },
      "outputs": [],
      "source": [
        "df = pd.read_csv(os.path.join(dataset_mount_folder, 'labels.csv'))"
      ]
    },
    {
      "cell_type": "code",
      "execution_count": 9,
      "metadata": {
        "gather": {
          "logged": 1687772465640
        },
        "jupyter": {
          "outputs_hidden": false,
          "source_hidden": false
        },
        "nteract": {
          "transient": {
            "deleting": false
          }
        }
      },
      "outputs": [
        {
          "data": {
            "text/plain": [
              "(469694, 20)"
            ]
          },
          "execution_count": 9,
          "metadata": {},
          "output_type": "execute_result"
        }
      ],
      "source": [
        "df.shape"
      ]
    },
    {
      "cell_type": "code",
      "execution_count": 10,
      "metadata": {
        "gather": {
          "logged": 1687772488712
        },
        "jupyter": {
          "outputs_hidden": false,
          "source_hidden": false
        },
        "nteract": {
          "transient": {
            "deleting": false
          }
        }
      },
      "outputs": [
        {
          "name": "stdout",
          "output_type": "stream",
          "text": [
            "/tmp/tmp4piaag_t/scans\n"
          ]
        },
        {
          "data": {
            "text/plain": [
              "12426"
            ]
          },
          "execution_count": 10,
          "metadata": {},
          "output_type": "execute_result"
        }
      ],
      "source": [
        "# total number of folders/children\n",
        "scans_path = os.path.join(dataset_mount_folder, 'scans')\n",
        "print(scans_path)\n",
        "scans_f = os.listdir(scans_path)\n",
        "len(scans_f)"
      ]
    },
    {
      "cell_type": "code",
      "execution_count": null,
      "metadata": {
        "gather": {
          "logged": 1687772488864
        },
        "jupyter": {
          "outputs_hidden": false,
          "source_hidden": false
        },
        "nteract": {
          "transient": {
            "deleting": false
          }
        }
      },
      "outputs": [],
      "source": []
    },
    {
      "cell_type": "code",
      "execution_count": 12,
      "metadata": {
        "gather": {
          "logged": 1687772490577
        },
        "jupyter": {
          "outputs_hidden": false,
          "source_hidden": false
        },
        "nteract": {
          "transient": {
            "deleting": false
          }
        }
      },
      "outputs": [
        {
          "data": {
            "text/html": [
              "<div>\n",
              "<style scoped>\n",
              "    .dataframe tbody tr th:only-of-type {\n",
              "        vertical-align: middle;\n",
              "    }\n",
              "\n",
              "    .dataframe tbody tr th {\n",
              "        vertical-align: top;\n",
              "    }\n",
              "\n",
              "    .dataframe thead th {\n",
              "        text-align: right;\n",
              "    }\n",
              "</style>\n",
              "<table border=\"1\" class=\"dataframe\">\n",
              "  <thead>\n",
              "    <tr style=\"text-align: right;\">\n",
              "      <th></th>\n",
              "      <th>file_path</th>\n",
              "      <th>timestamp</th>\n",
              "      <th>scan_id</th>\n",
              "      <th>scan_step</th>\n",
              "      <th>scan_version</th>\n",
              "      <th>height</th>\n",
              "      <th>weight</th>\n",
              "      <th>muac</th>\n",
              "      <th>order_number</th>\n",
              "      <th>format</th>\n",
              "      <th>artifact</th>\n",
              "      <th>depth_artifact_id</th>\n",
              "      <th>device_model</th>\n",
              "      <th>person_id</th>\n",
              "      <th>age</th>\n",
              "      <th>sex</th>\n",
              "      <th>zscore_wfh</th>\n",
              "      <th>diagnosis_wfh</th>\n",
              "      <th>zscore_lhfa</th>\n",
              "      <th>diagnosis_lhfa</th>\n",
              "    </tr>\n",
              "  </thead>\n",
              "  <tbody>\n",
              "    <tr>\n",
              "      <th>0</th>\n",
              "      <td>1666261245701/e38a7e90-f7a5-4450-bdf4-cb42f20f...</td>\n",
              "      <td>2022-10-20-10-20-45-716142</td>\n",
              "      <td>ec731180-5060-11ed-b963-33833fbbbfa4</td>\n",
              "      <td>101</td>\n",
              "      <td>v0.8</td>\n",
              "      <td>110.1</td>\n",
              "      <td>18.6</td>\n",
              "      <td>16.1</td>\n",
              "      <td>1.0</td>\n",
              "      <td>depth</td>\n",
              "      <td>dc0a52e0-5060-11ed-b963-6304f6be8d3c</td>\n",
              "      <td>ec731181-5060-11ed-b963-d32f1d7a7623</td>\n",
              "      <td>HUAWEI VOG-L29</td>\n",
              "      <td>eb92c3a0-5060-11ed-b963-5bba01bfc722</td>\n",
              "      <td>1792</td>\n",
              "      <td>male</td>\n",
              "      <td>0.03</td>\n",
              "      <td>Healthy</td>\n",
              "      <td>0.16</td>\n",
              "      <td>Not Stunted</td>\n",
              "    </tr>\n",
              "    <tr>\n",
              "      <th>1</th>\n",
              "      <td>1666261245920/c9df29af-ed53-422f-ba9d-9a6d7ff1...</td>\n",
              "      <td>2022-10-20-10-20-45-934872</td>\n",
              "      <td>ec731180-5060-11ed-b963-33833fbbbfa4</td>\n",
              "      <td>101</td>\n",
              "      <td>v0.8</td>\n",
              "      <td>110.1</td>\n",
              "      <td>18.6</td>\n",
              "      <td>16.1</td>\n",
              "      <td>2.0</td>\n",
              "      <td>depth</td>\n",
              "      <td>dc2be4a0-5060-11ed-b963-e73e4d30b61f</td>\n",
              "      <td>ec731182-5060-11ed-b963-13bf389e7bc6</td>\n",
              "      <td>HUAWEI VOG-L29</td>\n",
              "      <td>eb92c3a0-5060-11ed-b963-5bba01bfc722</td>\n",
              "      <td>1792</td>\n",
              "      <td>male</td>\n",
              "      <td>0.03</td>\n",
              "      <td>Healthy</td>\n",
              "      <td>0.16</td>\n",
              "      <td>Not Stunted</td>\n",
              "    </tr>\n",
              "    <tr>\n",
              "      <th>2</th>\n",
              "      <td>1666261246076/3fad8c07-b5a2-48d9-a1c4-90ea1f9d...</td>\n",
              "      <td>2022-10-20-10-20-46-091125</td>\n",
              "      <td>ec731180-5060-11ed-b963-33833fbbbfa4</td>\n",
              "      <td>101</td>\n",
              "      <td>v0.8</td>\n",
              "      <td>110.1</td>\n",
              "      <td>18.6</td>\n",
              "      <td>16.1</td>\n",
              "      <td>3.0</td>\n",
              "      <td>depth</td>\n",
              "      <td>dc444ea0-5060-11ed-b963-c751e911b26f</td>\n",
              "      <td>ec731183-5060-11ed-b963-83183cde8720</td>\n",
              "      <td>HUAWEI VOG-L29</td>\n",
              "      <td>eb92c3a0-5060-11ed-b963-5bba01bfc722</td>\n",
              "      <td>1792</td>\n",
              "      <td>male</td>\n",
              "      <td>0.03</td>\n",
              "      <td>Healthy</td>\n",
              "      <td>0.16</td>\n",
              "      <td>Not Stunted</td>\n",
              "    </tr>\n",
              "    <tr>\n",
              "      <th>3</th>\n",
              "      <td>1666261246242/6c7dc054-822e-4cca-9e14-597c0eff...</td>\n",
              "      <td>2022-10-20-10-20-46-247400</td>\n",
              "      <td>ec731180-5060-11ed-b963-33833fbbbfa4</td>\n",
              "      <td>101</td>\n",
              "      <td>v0.8</td>\n",
              "      <td>110.1</td>\n",
              "      <td>18.6</td>\n",
              "      <td>16.1</td>\n",
              "      <td>4.0</td>\n",
              "      <td>depth</td>\n",
              "      <td>dc5b3200-5060-11ed-b963-2307acfb9376</td>\n",
              "      <td>ec731184-5060-11ed-b963-73833ba6dfd2</td>\n",
              "      <td>HUAWEI VOG-L29</td>\n",
              "      <td>eb92c3a0-5060-11ed-b963-5bba01bfc722</td>\n",
              "      <td>1792</td>\n",
              "      <td>male</td>\n",
              "      <td>0.03</td>\n",
              "      <td>Healthy</td>\n",
              "      <td>0.16</td>\n",
              "      <td>Not Stunted</td>\n",
              "    </tr>\n",
              "    <tr>\n",
              "      <th>4</th>\n",
              "      <td>1666261246506/28130fea-282c-4195-9771-4d992452...</td>\n",
              "      <td>2022-10-20-10-20-46-513029</td>\n",
              "      <td>ec731180-5060-11ed-b963-33833fbbbfa4</td>\n",
              "      <td>101</td>\n",
              "      <td>v0.8</td>\n",
              "      <td>110.1</td>\n",
              "      <td>18.6</td>\n",
              "      <td>16.1</td>\n",
              "      <td>5.0</td>\n",
              "      <td>depth</td>\n",
              "      <td>dc8464e0-5060-11ed-b963-8f070ce06b25</td>\n",
              "      <td>ec761ec0-5060-11ed-b963-130a31c8c361</td>\n",
              "      <td>HUAWEI VOG-L29</td>\n",
              "      <td>eb92c3a0-5060-11ed-b963-5bba01bfc722</td>\n",
              "      <td>1792</td>\n",
              "      <td>male</td>\n",
              "      <td>0.03</td>\n",
              "      <td>Healthy</td>\n",
              "      <td>0.16</td>\n",
              "      <td>Not Stunted</td>\n",
              "    </tr>\n",
              "  </tbody>\n",
              "</table>\n",
              "</div>"
            ],
            "text/plain": [
              "                                           file_path   \n",
              "0  1666261245701/e38a7e90-f7a5-4450-bdf4-cb42f20f...  \\\n",
              "1  1666261245920/c9df29af-ed53-422f-ba9d-9a6d7ff1...   \n",
              "2  1666261246076/3fad8c07-b5a2-48d9-a1c4-90ea1f9d...   \n",
              "3  1666261246242/6c7dc054-822e-4cca-9e14-597c0eff...   \n",
              "4  1666261246506/28130fea-282c-4195-9771-4d992452...   \n",
              "\n",
              "                    timestamp                               scan_id   \n",
              "0  2022-10-20-10-20-45-716142  ec731180-5060-11ed-b963-33833fbbbfa4  \\\n",
              "1  2022-10-20-10-20-45-934872  ec731180-5060-11ed-b963-33833fbbbfa4   \n",
              "2  2022-10-20-10-20-46-091125  ec731180-5060-11ed-b963-33833fbbbfa4   \n",
              "3  2022-10-20-10-20-46-247400  ec731180-5060-11ed-b963-33833fbbbfa4   \n",
              "4  2022-10-20-10-20-46-513029  ec731180-5060-11ed-b963-33833fbbbfa4   \n",
              "\n",
              "   scan_step scan_version  height  weight  muac  order_number format   \n",
              "0        101         v0.8   110.1    18.6  16.1           1.0  depth  \\\n",
              "1        101         v0.8   110.1    18.6  16.1           2.0  depth   \n",
              "2        101         v0.8   110.1    18.6  16.1           3.0  depth   \n",
              "3        101         v0.8   110.1    18.6  16.1           4.0  depth   \n",
              "4        101         v0.8   110.1    18.6  16.1           5.0  depth   \n",
              "\n",
              "                               artifact                     depth_artifact_id   \n",
              "0  dc0a52e0-5060-11ed-b963-6304f6be8d3c  ec731181-5060-11ed-b963-d32f1d7a7623  \\\n",
              "1  dc2be4a0-5060-11ed-b963-e73e4d30b61f  ec731182-5060-11ed-b963-13bf389e7bc6   \n",
              "2  dc444ea0-5060-11ed-b963-c751e911b26f  ec731183-5060-11ed-b963-83183cde8720   \n",
              "3  dc5b3200-5060-11ed-b963-2307acfb9376  ec731184-5060-11ed-b963-73833ba6dfd2   \n",
              "4  dc8464e0-5060-11ed-b963-8f070ce06b25  ec761ec0-5060-11ed-b963-130a31c8c361   \n",
              "\n",
              "     device_model                             person_id   age   sex   \n",
              "0  HUAWEI VOG-L29  eb92c3a0-5060-11ed-b963-5bba01bfc722  1792  male  \\\n",
              "1  HUAWEI VOG-L29  eb92c3a0-5060-11ed-b963-5bba01bfc722  1792  male   \n",
              "2  HUAWEI VOG-L29  eb92c3a0-5060-11ed-b963-5bba01bfc722  1792  male   \n",
              "3  HUAWEI VOG-L29  eb92c3a0-5060-11ed-b963-5bba01bfc722  1792  male   \n",
              "4  HUAWEI VOG-L29  eb92c3a0-5060-11ed-b963-5bba01bfc722  1792  male   \n",
              "\n",
              "   zscore_wfh diagnosis_wfh  zscore_lhfa diagnosis_lhfa  \n",
              "0        0.03       Healthy         0.16    Not Stunted  \n",
              "1        0.03       Healthy         0.16    Not Stunted  \n",
              "2        0.03       Healthy         0.16    Not Stunted  \n",
              "3        0.03       Healthy         0.16    Not Stunted  \n",
              "4        0.03       Healthy         0.16    Not Stunted  "
            ]
          },
          "execution_count": 12,
          "metadata": {},
          "output_type": "execute_result"
        }
      ],
      "source": [
        "df.head()"
      ]
    },
    {
      "cell_type": "code",
      "execution_count": 13,
      "metadata": {
        "gather": {
          "logged": 1687772505190
        },
        "jupyter": {
          "outputs_hidden": false,
          "source_hidden": false
        },
        "nteract": {
          "transient": {
            "deleting": false
          }
        }
      },
      "outputs": [
        {
          "data": {
            "text/html": [
              "<div>\n",
              "<style scoped>\n",
              "    .dataframe tbody tr th:only-of-type {\n",
              "        vertical-align: middle;\n",
              "    }\n",
              "\n",
              "    .dataframe tbody tr th {\n",
              "        vertical-align: top;\n",
              "    }\n",
              "\n",
              "    .dataframe thead th {\n",
              "        text-align: right;\n",
              "    }\n",
              "</style>\n",
              "<table border=\"1\" class=\"dataframe\">\n",
              "  <thead>\n",
              "    <tr style=\"text-align: right;\">\n",
              "      <th></th>\n",
              "      <th>file_path</th>\n",
              "      <th>timestamp</th>\n",
              "      <th>scan_id</th>\n",
              "      <th>scan_step</th>\n",
              "      <th>scan_version</th>\n",
              "      <th>height</th>\n",
              "      <th>weight</th>\n",
              "      <th>muac</th>\n",
              "      <th>order_number</th>\n",
              "      <th>format</th>\n",
              "      <th>artifact</th>\n",
              "      <th>depth_artifact_id</th>\n",
              "      <th>device_model</th>\n",
              "      <th>person_id</th>\n",
              "      <th>age</th>\n",
              "      <th>sex</th>\n",
              "      <th>zscore_wfh</th>\n",
              "      <th>diagnosis_wfh</th>\n",
              "      <th>zscore_lhfa</th>\n",
              "      <th>diagnosis_lhfa</th>\n",
              "      <th>Years</th>\n",
              "    </tr>\n",
              "  </thead>\n",
              "  <tbody>\n",
              "    <tr>\n",
              "      <th>0</th>\n",
              "      <td>1666261245701/e38a7e90-f7a5-4450-bdf4-cb42f20f...</td>\n",
              "      <td>2022-10-20-10-20-45-716142</td>\n",
              "      <td>ec731180-5060-11ed-b963-33833fbbbfa4</td>\n",
              "      <td>101</td>\n",
              "      <td>v0.8</td>\n",
              "      <td>110.1</td>\n",
              "      <td>18.6</td>\n",
              "      <td>16.1</td>\n",
              "      <td>1.0</td>\n",
              "      <td>depth</td>\n",
              "      <td>dc0a52e0-5060-11ed-b963-6304f6be8d3c</td>\n",
              "      <td>ec731181-5060-11ed-b963-d32f1d7a7623</td>\n",
              "      <td>HUAWEI VOG-L29</td>\n",
              "      <td>eb92c3a0-5060-11ed-b963-5bba01bfc722</td>\n",
              "      <td>1792</td>\n",
              "      <td>male</td>\n",
              "      <td>0.03</td>\n",
              "      <td>Healthy</td>\n",
              "      <td>0.16</td>\n",
              "      <td>Not Stunted</td>\n",
              "      <td>4</td>\n",
              "    </tr>\n",
              "    <tr>\n",
              "      <th>1</th>\n",
              "      <td>1666261245920/c9df29af-ed53-422f-ba9d-9a6d7ff1...</td>\n",
              "      <td>2022-10-20-10-20-45-934872</td>\n",
              "      <td>ec731180-5060-11ed-b963-33833fbbbfa4</td>\n",
              "      <td>101</td>\n",
              "      <td>v0.8</td>\n",
              "      <td>110.1</td>\n",
              "      <td>18.6</td>\n",
              "      <td>16.1</td>\n",
              "      <td>2.0</td>\n",
              "      <td>depth</td>\n",
              "      <td>dc2be4a0-5060-11ed-b963-e73e4d30b61f</td>\n",
              "      <td>ec731182-5060-11ed-b963-13bf389e7bc6</td>\n",
              "      <td>HUAWEI VOG-L29</td>\n",
              "      <td>eb92c3a0-5060-11ed-b963-5bba01bfc722</td>\n",
              "      <td>1792</td>\n",
              "      <td>male</td>\n",
              "      <td>0.03</td>\n",
              "      <td>Healthy</td>\n",
              "      <td>0.16</td>\n",
              "      <td>Not Stunted</td>\n",
              "      <td>4</td>\n",
              "    </tr>\n",
              "    <tr>\n",
              "      <th>2</th>\n",
              "      <td>1666261246076/3fad8c07-b5a2-48d9-a1c4-90ea1f9d...</td>\n",
              "      <td>2022-10-20-10-20-46-091125</td>\n",
              "      <td>ec731180-5060-11ed-b963-33833fbbbfa4</td>\n",
              "      <td>101</td>\n",
              "      <td>v0.8</td>\n",
              "      <td>110.1</td>\n",
              "      <td>18.6</td>\n",
              "      <td>16.1</td>\n",
              "      <td>3.0</td>\n",
              "      <td>depth</td>\n",
              "      <td>dc444ea0-5060-11ed-b963-c751e911b26f</td>\n",
              "      <td>ec731183-5060-11ed-b963-83183cde8720</td>\n",
              "      <td>HUAWEI VOG-L29</td>\n",
              "      <td>eb92c3a0-5060-11ed-b963-5bba01bfc722</td>\n",
              "      <td>1792</td>\n",
              "      <td>male</td>\n",
              "      <td>0.03</td>\n",
              "      <td>Healthy</td>\n",
              "      <td>0.16</td>\n",
              "      <td>Not Stunted</td>\n",
              "      <td>4</td>\n",
              "    </tr>\n",
              "    <tr>\n",
              "      <th>3</th>\n",
              "      <td>1666261246242/6c7dc054-822e-4cca-9e14-597c0eff...</td>\n",
              "      <td>2022-10-20-10-20-46-247400</td>\n",
              "      <td>ec731180-5060-11ed-b963-33833fbbbfa4</td>\n",
              "      <td>101</td>\n",
              "      <td>v0.8</td>\n",
              "      <td>110.1</td>\n",
              "      <td>18.6</td>\n",
              "      <td>16.1</td>\n",
              "      <td>4.0</td>\n",
              "      <td>depth</td>\n",
              "      <td>dc5b3200-5060-11ed-b963-2307acfb9376</td>\n",
              "      <td>ec731184-5060-11ed-b963-73833ba6dfd2</td>\n",
              "      <td>HUAWEI VOG-L29</td>\n",
              "      <td>eb92c3a0-5060-11ed-b963-5bba01bfc722</td>\n",
              "      <td>1792</td>\n",
              "      <td>male</td>\n",
              "      <td>0.03</td>\n",
              "      <td>Healthy</td>\n",
              "      <td>0.16</td>\n",
              "      <td>Not Stunted</td>\n",
              "      <td>4</td>\n",
              "    </tr>\n",
              "    <tr>\n",
              "      <th>4</th>\n",
              "      <td>1666261246506/28130fea-282c-4195-9771-4d992452...</td>\n",
              "      <td>2022-10-20-10-20-46-513029</td>\n",
              "      <td>ec731180-5060-11ed-b963-33833fbbbfa4</td>\n",
              "      <td>101</td>\n",
              "      <td>v0.8</td>\n",
              "      <td>110.1</td>\n",
              "      <td>18.6</td>\n",
              "      <td>16.1</td>\n",
              "      <td>5.0</td>\n",
              "      <td>depth</td>\n",
              "      <td>dc8464e0-5060-11ed-b963-8f070ce06b25</td>\n",
              "      <td>ec761ec0-5060-11ed-b963-130a31c8c361</td>\n",
              "      <td>HUAWEI VOG-L29</td>\n",
              "      <td>eb92c3a0-5060-11ed-b963-5bba01bfc722</td>\n",
              "      <td>1792</td>\n",
              "      <td>male</td>\n",
              "      <td>0.03</td>\n",
              "      <td>Healthy</td>\n",
              "      <td>0.16</td>\n",
              "      <td>Not Stunted</td>\n",
              "      <td>4</td>\n",
              "    </tr>\n",
              "  </tbody>\n",
              "</table>\n",
              "</div>"
            ],
            "text/plain": [
              "                                           file_path   \n",
              "0  1666261245701/e38a7e90-f7a5-4450-bdf4-cb42f20f...  \\\n",
              "1  1666261245920/c9df29af-ed53-422f-ba9d-9a6d7ff1...   \n",
              "2  1666261246076/3fad8c07-b5a2-48d9-a1c4-90ea1f9d...   \n",
              "3  1666261246242/6c7dc054-822e-4cca-9e14-597c0eff...   \n",
              "4  1666261246506/28130fea-282c-4195-9771-4d992452...   \n",
              "\n",
              "                    timestamp                               scan_id   \n",
              "0  2022-10-20-10-20-45-716142  ec731180-5060-11ed-b963-33833fbbbfa4  \\\n",
              "1  2022-10-20-10-20-45-934872  ec731180-5060-11ed-b963-33833fbbbfa4   \n",
              "2  2022-10-20-10-20-46-091125  ec731180-5060-11ed-b963-33833fbbbfa4   \n",
              "3  2022-10-20-10-20-46-247400  ec731180-5060-11ed-b963-33833fbbbfa4   \n",
              "4  2022-10-20-10-20-46-513029  ec731180-5060-11ed-b963-33833fbbbfa4   \n",
              "\n",
              "   scan_step scan_version  height  weight  muac  order_number format   \n",
              "0        101         v0.8   110.1    18.6  16.1           1.0  depth  \\\n",
              "1        101         v0.8   110.1    18.6  16.1           2.0  depth   \n",
              "2        101         v0.8   110.1    18.6  16.1           3.0  depth   \n",
              "3        101         v0.8   110.1    18.6  16.1           4.0  depth   \n",
              "4        101         v0.8   110.1    18.6  16.1           5.0  depth   \n",
              "\n",
              "                               artifact                     depth_artifact_id   \n",
              "0  dc0a52e0-5060-11ed-b963-6304f6be8d3c  ec731181-5060-11ed-b963-d32f1d7a7623  \\\n",
              "1  dc2be4a0-5060-11ed-b963-e73e4d30b61f  ec731182-5060-11ed-b963-13bf389e7bc6   \n",
              "2  dc444ea0-5060-11ed-b963-c751e911b26f  ec731183-5060-11ed-b963-83183cde8720   \n",
              "3  dc5b3200-5060-11ed-b963-2307acfb9376  ec731184-5060-11ed-b963-73833ba6dfd2   \n",
              "4  dc8464e0-5060-11ed-b963-8f070ce06b25  ec761ec0-5060-11ed-b963-130a31c8c361   \n",
              "\n",
              "     device_model                             person_id   age   sex   \n",
              "0  HUAWEI VOG-L29  eb92c3a0-5060-11ed-b963-5bba01bfc722  1792  male  \\\n",
              "1  HUAWEI VOG-L29  eb92c3a0-5060-11ed-b963-5bba01bfc722  1792  male   \n",
              "2  HUAWEI VOG-L29  eb92c3a0-5060-11ed-b963-5bba01bfc722  1792  male   \n",
              "3  HUAWEI VOG-L29  eb92c3a0-5060-11ed-b963-5bba01bfc722  1792  male   \n",
              "4  HUAWEI VOG-L29  eb92c3a0-5060-11ed-b963-5bba01bfc722  1792  male   \n",
              "\n",
              "   zscore_wfh diagnosis_wfh  zscore_lhfa diagnosis_lhfa  Years  \n",
              "0        0.03       Healthy         0.16    Not Stunted      4  \n",
              "1        0.03       Healthy         0.16    Not Stunted      4  \n",
              "2        0.03       Healthy         0.16    Not Stunted      4  \n",
              "3        0.03       Healthy         0.16    Not Stunted      4  \n",
              "4        0.03       Healthy         0.16    Not Stunted      4  "
            ]
          },
          "execution_count": 13,
          "metadata": {},
          "output_type": "execute_result"
        }
      ],
      "source": [
        "# df.rename(columns={'age_rgb': 'age'}, inplace=True)\n",
        "df['Years'] = df.apply(convert_age_from_days_to_years, axis=1)\n",
        "df.head()"
      ]
    },
    {
      "cell_type": "code",
      "execution_count": 15,
      "metadata": {
        "gather": {
          "logged": 1687772535136
        },
        "jupyter": {
          "outputs_hidden": false,
          "source_hidden": false
        },
        "nteract": {
          "transient": {
            "deleting": false
          }
        }
      },
      "outputs": [
        {
          "name": "stdout",
          "output_type": "stream",
          "text": [
            "Total Number of artifacts: 469694\n",
            "Total Number of scans: 24500\n"
          ]
        }
      ],
      "source": [
        "# Total number of artifacts\n",
        "print(f\"Total Number of artifacts: {len(df['depth_artifact_id'])}\")\n",
        "print(f\"Total Number of scans: {len(df.groupby('scan_id'))}\")"
      ]
    },
    {
      "cell_type": "code",
      "execution_count": 17,
      "metadata": {
        "gather": {
          "logged": 1687772560681
        },
        "jupyter": {
          "outputs_hidden": false,
          "source_hidden": false
        },
        "nteract": {
          "transient": {
            "deleting": false
          }
        }
      },
      "outputs": [
        {
          "name": "stdout",
          "output_type": "stream",
          "text": [
            "1666261245701/e38a7e90-f7a5-4450-bdf4-cb42f20f4d73\n"
          ]
        }
      ],
      "source": [
        "# sample depth_file_path\n",
        "sample_file = df['file_path'][0]\n",
        "print(sample_file)"
      ]
    },
    {
      "cell_type": "code",
      "execution_count": 19,
      "metadata": {
        "gather": {
          "logged": 1687772587507
        },
        "jupyter": {
          "outputs_hidden": false,
          "source_hidden": false
        },
        "nteract": {
          "transient": {
            "deleting": false
          }
        }
      },
      "outputs": [
        {
          "name": "stdout",
          "output_type": "stream",
          "text": [
            "sample_scan: 000f4b60-5196-11ed-b963-8773b91b334d\n",
            "['100', '102']\n",
            "sample filepath: /tmp/tmp4piaag_t/scans/000f4b60-5196-11ed-b963-8773b91b334d/102\n",
            "['pc_00cafa40-5196-11ed-b963-d7a855a78d99_2022-10-21-23-13-32-802709_102_1.0.p', 'pc_00cafa40-5196-11ed-b963-d7a855a78d99_2022-10-21-23-13-33-146419_102_2.0.p', 'pc_00cafa40-5196-11ed-b963-d7a855a78d99_2022-10-21-23-13-33-396415_102_3.0.p', 'pc_00cafa40-5196-11ed-b963-d7a855a78d99_2022-10-21-23-13-33-599601_102_4.0.p', 'pc_00cafa40-5196-11ed-b963-d7a855a78d99_2022-10-21-23-13-33-755795_102_5.0.p', 'pc_00cafa40-5196-11ed-b963-d7a855a78d99_2022-10-21-23-13-33-896434_102_6.0.p', 'pc_00cafa40-5196-11ed-b963-d7a855a78d99_2022-10-21-23-13-34-037053_102_7.0.p', 'pc_00cafa40-5196-11ed-b963-d7a855a78d99_2022-10-21-23-13-34-333942_102_8.0.p', 'pc_00cafa40-5196-11ed-b963-d7a855a78d99_2022-10-21-23-13-34-490233_102_9.0.p']\n",
            "/tmp/tmp4piaag_t/scans/000f4b60-5196-11ed-b963-8773b91b334d/102/pc_00cafa40-5196-11ed-b963-d7a855a78d99_2022-10-21-23-13-32-802709_102_1.0.p\n"
          ]
        }
      ],
      "source": [
        "# sample scan\n",
        "sample_scan = scans_f[0]\n",
        "print(f'sample_scan: {sample_scan}')\n",
        "\n",
        "print(os.listdir(scans_path + '/' + sample_scan))\n",
        "f = scans_path + '/' + sample_scan + '/' + '102'\n",
        "print(f\"sample filepath: {f}\")\n",
        "print(os.listdir(f))\n",
        "\n",
        "f_path = f + '/' + os.listdir(f)[0]\n",
        "print(f_path)"
      ]
    },
    {
      "cell_type": "code",
      "execution_count": 20,
      "metadata": {
        "gather": {
          "logged": 1687772600830
        },
        "jupyter": {
          "outputs_hidden": false,
          "source_hidden": false
        },
        "nteract": {
          "transient": {
            "deleting": false
          }
        }
      },
      "outputs": [],
      "source": [
        "depthmaps, target = pickle.load(open(f_path, \"rb\"))"
      ]
    },
    {
      "cell_type": "code",
      "execution_count": 21,
      "metadata": {
        "gather": {
          "logged": 1687772610854
        },
        "jupyter": {
          "outputs_hidden": false,
          "source_hidden": false
        },
        "nteract": {
          "transient": {
            "deleting": false
          }
        }
      },
      "outputs": [
        {
          "data": {
            "text/plain": [
              "(240, 180, 1)"
            ]
          },
          "execution_count": 21,
          "metadata": {},
          "output_type": "execute_result"
        }
      ],
      "source": [
        "depthmaps.shape"
      ]
    },
    {
      "cell_type": "code",
      "execution_count": 22,
      "metadata": {
        "gather": {
          "logged": 1687772621561
        },
        "jupyter": {
          "outputs_hidden": false,
          "source_hidden": false
        },
        "nteract": {
          "transient": {
            "deleting": false
          }
        }
      },
      "outputs": [
        {
          "data": {
            "image/png": "[encoded data removed]",
            "text/plain": [
              "<Figure size 640x480 with 1 Axes>"
            ]
          },
          "metadata": {},
          "output_type": "display_data"
        }
      ],
      "source": [
        "_ = plt.imshow(np.squeeze(depthmaps), cmap='gray')\n",
        "plt.show()"
      ]
    },
    {
      "cell_type": "code",
      "execution_count": 23,
      "metadata": {
        "gather": {
          "logged": 1687772635130
        },
        "jupyter": {
          "outputs_hidden": false,
          "source_hidden": false
        },
        "nteract": {
          "transient": {
            "deleting": false
          }
        }
      },
      "outputs": [
        {
          "data": {
            "text/plain": [
              "{'file_path': '1666394012795/699b206d-b803-4f9e-a98b-5a88ce70817a',\n",
              " 'timestamp': '2022-10-21-23-13-32-802709',\n",
              " 'scan_id': '00cafa40-5196-11ed-b963-d7a855a78d99',\n",
              " 'scan_step': 102,\n",
              " 'scan_version': 'v0.8',\n",
              " 'height': 99.7,\n",
              " 'weight': 14.5,\n",
              " 'muac': 15.5,\n",
              " 'order_number': 1.0,\n",
              " 'format': 'depth',\n",
              " 'artifact': 'fb648800-5195-11ed-b963-7bfbb3753630',\n",
              " 'depth_artifact_id': '00cafa41-5196-11ed-b963-6b6fa55167d8',\n",
              " 'device_model': 'HUAWEI VOG-L29',\n",
              " 'person_id': '000f4b60-5196-11ed-b963-8773b91b334d',\n",
              " 'age': 1412,\n",
              " 'sex': 'female',\n",
              " 'zscore_wfh': -0.48,\n",
              " 'diagnosis_wfh': 'Healthy',\n",
              " 'zscore_lhfa': -0.49,\n",
              " 'diagnosis_lhfa': 'Not Stunted',\n",
              " 'device_pose': [-0.20222282834751706,\n",
              "  -0.9792864980472983,\n",
              "  -0.010192273416156904,\n",
              "  0.0,\n",
              "  0.10575357336405519,\n",
              "  -0.03218220253326928,\n",
              "  0.9938714643055414,\n",
              "  0.0,\n",
              "  -0.9736129155962672,\n",
              "  0.19990562919129287,\n",
              "  0.11007102253440405,\n",
              "  0.0,\n",
              "  -0.031173699,\n",
              "  0.0026363838,\n",
              "  -0.080508426,\n",
              "  1.0],\n",
              " 'raw_header': '240x180_0.001_7_-0.4242335_0.51477695_0.5797609_-0.4678877_0.031173699_-0.0026363838_0.080508426',\n",
              " 'angle': -11.531440540728905}"
            ]
          },
          "execution_count": 23,
          "metadata": {},
          "output_type": "execute_result"
        }
      ],
      "source": [
        "target"
      ]
    },
    {
      "cell_type": "code",
      "execution_count": null,
      "metadata": {
        "jupyter": {
          "outputs_hidden": false,
          "source_hidden": false
        },
        "nteract": {
          "transient": {
            "deleting": false
          }
        }
      },
      "outputs": [],
      "source": []
    },
    {
      "cell_type": "markdown",
      "metadata": {
        "nteract": {
          "transient": {
            "deleting": false
          }
        }
      },
      "source": [
        "## Analysis"
      ]
    },
    {
      "cell_type": "code",
      "execution_count": 24,
      "metadata": {
        "gather": {
          "logged": 1687772664589
        },
        "jupyter": {
          "outputs_hidden": false,
          "source_hidden": false
        },
        "nteract": {
          "transient": {
            "deleting": false
          }
        }
      },
      "outputs": [
        {
          "name": "stdout",
          "output_type": "stream",
          "text": [
            "Total no. of artifacts: 469694\n",
            "Total no. of unique scan ids: 24500\n",
            "Total no. of unique person ids: 12426\n"
          ]
        }
      ],
      "source": [
        "print(\"Total no. of artifacts:\", len(df))\n",
        "unique_scan_ids = df.drop_duplicates(subset='scan_id', keep='first')\n",
        "print(\"Total no. of unique scan ids:\", len(unique_scan_ids))\n",
        "unique_person_ids = df.drop_duplicates(subset='person_id', keep='first')\n",
        "print(\"Total no. of unique person ids:\", len(unique_person_ids))"
      ]
    },
    {
      "cell_type": "code",
      "execution_count": 25,
      "metadata": {
        "gather": {
          "logged": 1687772675108
        },
        "jupyter": {
          "outputs_hidden": false,
          "source_hidden": false
        },
        "nteract": {
          "transient": {
            "deleting": false
          }
        }
      },
      "outputs": [
        {
          "name": "stdout",
          "output_type": "stream",
          "text": [
            "device_model\n",
            "HUAWEI VOG-L29    469694\n",
            "Name: count, dtype: int64\n"
          ]
        },
        {
          "data": {
            "image/png": "[encoded data removed]",
            "text/plain": [
              "<Figure size 640x480 with 1 Axes>"
            ]
          },
          "metadata": {},
          "output_type": "display_data"
        }
      ],
      "source": [
        "print(df['device_model'].value_counts())\n",
        "_ = df['device_model'].value_counts().plot(kind='pie')"
      ]
    },
    {
      "cell_type": "code",
      "execution_count": 26,
      "metadata": {
        "gather": {
          "logged": 1687772686694
        },
        "jupyter": {
          "outputs_hidden": false,
          "source_hidden": false
        },
        "nteract": {
          "transient": {
            "deleting": false
          }
        }
      },
      "outputs": [
        {
          "name": "stdout",
          "output_type": "stream",
          "text": [
            "scan_version\n",
            "v1.2.0    247987\n",
            "v0.8      218953\n",
            "v0.9        2754\n",
            "Name: count, dtype: int64\n"
          ]
        },
        {
          "data": {
            "image/png": "[encoded data removed]",
            "text/plain": [
              "<Figure size 640x480 with 1 Axes>"
            ]
          },
          "metadata": {},
          "output_type": "display_data"
        }
      ],
      "source": [
        "print(df['scan_version'].value_counts())\n",
        "_ = df['scan_version'].value_counts().plot(kind='pie')"
      ]
    },
    {
      "cell_type": "code",
      "execution_count": 27,
      "metadata": {
        "gather": {
          "logged": 1687772697862
        },
        "jupyter": {
          "outputs_hidden": false,
          "source_hidden": false
        },
        "nteract": {
          "transient": {
            "deleting": false
          }
        }
      },
      "outputs": [
        {
          "name": "stdout",
          "output_type": "stream",
          "text": [
            "Years\n",
            "0    1409\n",
            "1    2886\n",
            "2    2514\n",
            "3    2717\n",
            "4    2883\n",
            "5      17\n",
            "Name: count, dtype: int64\n"
          ]
        },
        {
          "data": {
            "image/png": "[encoded data removed]",
            "text/plain": [
              "<Figure size 640x480 with 1 Axes>"
            ]
          },
          "metadata": {},
          "output_type": "display_data"
        }
      ],
      "source": [
        "draw_age_distribution(unique_person_ids)"
      ]
    },
    {
      "cell_type": "code",
      "execution_count": 28,
      "metadata": {
        "gather": {
          "logged": 1687772711699
        },
        "jupyter": {
          "outputs_hidden": false,
          "source_hidden": false
        },
        "nteract": {
          "transient": {
            "deleting": false
          }
        }
      },
      "outputs": [
        {
          "name": "stdout",
          "output_type": "stream",
          "text": [
            "Years\n",
            "0    2757\n",
            "1    5531\n",
            "2    5069\n",
            "3    5442\n",
            "4    5671\n",
            "5      30\n",
            "Name: count, dtype: int64\n"
          ]
        },
        {
          "data": {
            "image/png": "[encoded data removed]",
            "text/plain": [
              "<Figure size 640x480 with 1 Axes>"
            ]
          },
          "metadata": {},
          "output_type": "display_data"
        }
      ],
      "source": [
        "draw_age_distribution(unique_scan_ids)"
      ]
    },
    {
      "cell_type": "code",
      "execution_count": 29,
      "metadata": {
        "gather": {
          "logged": 1687772723815
        },
        "jupyter": {
          "outputs_hidden": false,
          "source_hidden": false
        },
        "nteract": {
          "transient": {
            "deleting": false
          }
        }
      },
      "outputs": [
        {
          "name": "stdout",
          "output_type": "stream",
          "text": [
            "scan_step\n",
            "101    201452\n",
            "201     74761\n",
            "102     71036\n",
            "100     70374\n",
            "200     26308\n",
            "202     25763\n",
            "Name: count, dtype: int64\n"
          ]
        },
        {
          "data": {
            "image/png": "[encoded data removed]",
            "text/plain": [
              "<Figure size 640x480 with 1 Axes>"
            ]
          },
          "metadata": {},
          "output_type": "display_data"
        }
      ],
      "source": [
        "## keys for different scan type and their distribution in dataset\n",
        "\"- 100 - standing front scan\",\n",
        "\"- 101 - standing 360 scan\",\n",
        "\"- 102 - standing back scan\",\n",
        "\"- 200 - lying front scan\",\n",
        "\"- 201 - lying side scan\",\n",
        "\"- 202 - lying back scan\"\n",
        "print(df['scan_step'].value_counts())\n",
        "_ = df['scan_step'].value_counts().plot(kind='pie')"
      ]
    },
    {
      "cell_type": "code",
      "execution_count": 30,
      "metadata": {
        "gather": {
          "logged": 1687772738926
        },
        "jupyter": {
          "outputs_hidden": false,
          "source_hidden": false
        },
        "nteract": {
          "transient": {
            "deleting": false
          }
        }
      },
      "outputs": [
        {
          "name": "stderr",
          "output_type": "stream",
          "text": [
            "2023-06-26 09:45:39,077 - INFO - scan_step - /mnt/batch/tasks/shared/LS_root/mounts/clusters/rbanka2/code/Users/rbanka/cgm-ml/cgmml/data_utils/dataset_EDA/data_utilities.py: line 52\n"
          ]
        },
        {
          "data": {
            "text/html": [
              "<div>\n",
              "<style scoped>\n",
              "    .dataframe tbody tr th:only-of-type {\n",
              "        vertical-align: middle;\n",
              "    }\n",
              "\n",
              "    .dataframe tbody tr th {\n",
              "        vertical-align: top;\n",
              "    }\n",
              "\n",
              "    .dataframe thead th {\n",
              "        text-align: right;\n",
              "    }\n",
              "</style>\n",
              "<table border=\"1\" class=\"dataframe\">\n",
              "  <thead>\n",
              "    <tr style=\"text-align: right;\">\n",
              "      <th></th>\n",
              "      <th>0</th>\n",
              "      <th>1</th>\n",
              "      <th>2</th>\n",
              "      <th>3</th>\n",
              "      <th>4</th>\n",
              "    </tr>\n",
              "    <tr>\n",
              "      <th>codes</th>\n",
              "      <th></th>\n",
              "      <th></th>\n",
              "      <th></th>\n",
              "      <th></th>\n",
              "      <th></th>\n",
              "    </tr>\n",
              "  </thead>\n",
              "  <tbody>\n",
              "    <tr>\n",
              "      <th>101</th>\n",
              "      <td>2357</td>\n",
              "      <td>21263</td>\n",
              "      <td>55448</td>\n",
              "      <td>57885</td>\n",
              "      <td>64109</td>\n",
              "    </tr>\n",
              "    <tr>\n",
              "      <th>100</th>\n",
              "      <td>888</td>\n",
              "      <td>7510</td>\n",
              "      <td>18730</td>\n",
              "      <td>20665</td>\n",
              "      <td>22438</td>\n",
              "    </tr>\n",
              "    <tr>\n",
              "      <th>102</th>\n",
              "      <td>828</td>\n",
              "      <td>7673</td>\n",
              "      <td>19037</td>\n",
              "      <td>20722</td>\n",
              "      <td>22614</td>\n",
              "    </tr>\n",
              "    <tr>\n",
              "      <th>202</th>\n",
              "      <td>9982</td>\n",
              "      <td>14746</td>\n",
              "      <td>783</td>\n",
              "      <td>198</td>\n",
              "      <td>54</td>\n",
              "    </tr>\n",
              "    <tr>\n",
              "      <th>200</th>\n",
              "      <td>10127</td>\n",
              "      <td>15167</td>\n",
              "      <td>744</td>\n",
              "      <td>171</td>\n",
              "      <td>99</td>\n",
              "    </tr>\n",
              "    <tr>\n",
              "      <th>201</th>\n",
              "      <td>28607</td>\n",
              "      <td>43282</td>\n",
              "      <td>2028</td>\n",
              "      <td>598</td>\n",
              "      <td>246</td>\n",
              "    </tr>\n",
              "  </tbody>\n",
              "</table>\n",
              "</div>"
            ],
            "text/plain": [
              "           0      1      2      3      4\n",
              "codes                                   \n",
              "101     2357  21263  55448  57885  64109\n",
              "100      888   7510  18730  20665  22438\n",
              "102      828   7673  19037  20722  22614\n",
              "202     9982  14746    783    198     54\n",
              "200    10127  15167    744    171     99\n",
              "201    28607  43282   2028    598    246"
            ]
          },
          "execution_count": 30,
          "metadata": {},
          "output_type": "execute_result"
        }
      ],
      "source": [
        "scan_type_colname = 'scan_step' # for other datasets this can be \"key\"\n",
        "calculate_code_age_distribution(df, scan_type_colname)"
      ]
    },
    {
      "cell_type": "markdown",
      "metadata": {
        "nteract": {
          "transient": {
            "deleting": false
          }
        }
      },
      "source": [
        "### Distribution of height, weight and age against each other"
      ]
    },
    {
      "cell_type": "code",
      "execution_count": 31,
      "metadata": {
        "gather": {
          "logged": 1687772766023
        },
        "jupyter": {
          "outputs_hidden": false,
          "source_hidden": false
        },
        "nteract": {
          "transient": {
            "deleting": false
          }
        }
      },
      "outputs": [
        {
          "data": {
            "text/html": [
              "<div>\n",
              "<style scoped>\n",
              "    .dataframe tbody tr th:only-of-type {\n",
              "        vertical-align: middle;\n",
              "    }\n",
              "\n",
              "    .dataframe tbody tr th {\n",
              "        vertical-align: top;\n",
              "    }\n",
              "\n",
              "    .dataframe thead th {\n",
              "        text-align: right;\n",
              "    }\n",
              "</style>\n",
              "<table border=\"1\" class=\"dataframe\">\n",
              "  <thead>\n",
              "    <tr style=\"text-align: right;\">\n",
              "      <th></th>\n",
              "      <th>file_path</th>\n",
              "      <th>timestamp</th>\n",
              "      <th>scan_id</th>\n",
              "      <th>scan_step</th>\n",
              "      <th>scan_version</th>\n",
              "      <th>height</th>\n",
              "      <th>weight</th>\n",
              "      <th>muac</th>\n",
              "      <th>order_number</th>\n",
              "      <th>format</th>\n",
              "      <th>artifact</th>\n",
              "      <th>depth_artifact_id</th>\n",
              "      <th>device_model</th>\n",
              "      <th>person_id</th>\n",
              "      <th>age</th>\n",
              "      <th>sex</th>\n",
              "      <th>zscore_wfh</th>\n",
              "      <th>diagnosis_wfh</th>\n",
              "      <th>zscore_lhfa</th>\n",
              "      <th>diagnosis_lhfa</th>\n",
              "      <th>Years</th>\n",
              "    </tr>\n",
              "  </thead>\n",
              "  <tbody>\n",
              "    <tr>\n",
              "      <th>0</th>\n",
              "      <td>1666261245701/e38a7e90-f7a5-4450-bdf4-cb42f20f...</td>\n",
              "      <td>2022-10-20-10-20-45-716142</td>\n",
              "      <td>ec731180-5060-11ed-b963-33833fbbbfa4</td>\n",
              "      <td>101</td>\n",
              "      <td>v0.8</td>\n",
              "      <td>110.1</td>\n",
              "      <td>18.60</td>\n",
              "      <td>16.1</td>\n",
              "      <td>1.0</td>\n",
              "      <td>depth</td>\n",
              "      <td>dc0a52e0-5060-11ed-b963-6304f6be8d3c</td>\n",
              "      <td>ec731181-5060-11ed-b963-d32f1d7a7623</td>\n",
              "      <td>HUAWEI VOG-L29</td>\n",
              "      <td>eb92c3a0-5060-11ed-b963-5bba01bfc722</td>\n",
              "      <td>1792</td>\n",
              "      <td>male</td>\n",
              "      <td>0.03</td>\n",
              "      <td>Healthy</td>\n",
              "      <td>0.16</td>\n",
              "      <td>Not Stunted</td>\n",
              "      <td>4</td>\n",
              "    </tr>\n",
              "    <tr>\n",
              "      <th>26</th>\n",
              "      <td>1666261269220/e5bed739-fe90-4ed0-93a7-84478c28...</td>\n",
              "      <td>2022-10-20-10-21-09-232042</td>\n",
              "      <td>ed17dd00-5060-11ed-b963-3f31234821f0</td>\n",
              "      <td>100</td>\n",
              "      <td>v0.8</td>\n",
              "      <td>110.1</td>\n",
              "      <td>18.60</td>\n",
              "      <td>16.1</td>\n",
              "      <td>1.0</td>\n",
              "      <td>depth</td>\n",
              "      <td>ea0f30e0-5060-11ed-b963-2b0957128dc6</td>\n",
              "      <td>ed17dd01-5060-11ed-b963-9b9a2215447a</td>\n",
              "      <td>HUAWEI VOG-L29</td>\n",
              "      <td>eb92c3a0-5060-11ed-b963-5bba01bfc722</td>\n",
              "      <td>1792</td>\n",
              "      <td>male</td>\n",
              "      <td>0.03</td>\n",
              "      <td>Healthy</td>\n",
              "      <td>0.16</td>\n",
              "      <td>Not Stunted</td>\n",
              "      <td>4</td>\n",
              "    </tr>\n",
              "    <tr>\n",
              "      <th>35</th>\n",
              "      <td>1666261465523/35157a05-081a-479f-a542-5d369665...</td>\n",
              "      <td>2022-10-20-10-24-25-532026</td>\n",
              "      <td>70e10bc0-5061-11ed-b963-eb8d4373c235</td>\n",
              "      <td>102</td>\n",
              "      <td>v0.8</td>\n",
              "      <td>80.0</td>\n",
              "      <td>9.30</td>\n",
              "      <td>13.1</td>\n",
              "      <td>1.0</td>\n",
              "      <td>depth</td>\n",
              "      <td>5f1031a0-5061-11ed-b963-fba339c1db55</td>\n",
              "      <td>70e10bc1-5061-11ed-b963-9f99d7c0a329</td>\n",
              "      <td>HUAWEI VOG-L29</td>\n",
              "      <td>709c61a0-5061-11ed-b963-bb710d66eb84</td>\n",
              "      <td>814</td>\n",
              "      <td>female</td>\n",
              "      <td>-1.09</td>\n",
              "      <td>Healthy</td>\n",
              "      <td>-2.40</td>\n",
              "      <td>Moderately Stunted</td>\n",
              "      <td>2</td>\n",
              "    </tr>\n",
              "    <tr>\n",
              "      <th>44</th>\n",
              "      <td>1666261487298/41ba876f-8895-4200-aab4-67bc1f5a...</td>\n",
              "      <td>2022-10-20-10-24-47-314168</td>\n",
              "      <td>71398c00-5061-11ed-b963-dbd3d73869f0</td>\n",
              "      <td>101</td>\n",
              "      <td>v0.8</td>\n",
              "      <td>80.0</td>\n",
              "      <td>9.30</td>\n",
              "      <td>13.1</td>\n",
              "      <td>1.0</td>\n",
              "      <td>depth</td>\n",
              "      <td>6c0b8ee0-5061-11ed-b963-031d7c3e6808</td>\n",
              "      <td>713b12a0-5061-11ed-b963-4bab84291beb</td>\n",
              "      <td>HUAWEI VOG-L29</td>\n",
              "      <td>709c61a0-5061-11ed-b963-bb710d66eb84</td>\n",
              "      <td>814</td>\n",
              "      <td>female</td>\n",
              "      <td>-1.09</td>\n",
              "      <td>Healthy</td>\n",
              "      <td>-2.40</td>\n",
              "      <td>Moderately Stunted</td>\n",
              "      <td>2</td>\n",
              "    </tr>\n",
              "    <tr>\n",
              "      <th>70</th>\n",
              "      <td>1666261419198/ae87e3e4-3a52-4399-ad73-f0553107...</td>\n",
              "      <td>2022-10-20-10-23-39-218793</td>\n",
              "      <td>48ee9b00-5061-11ed-b963-6bfea390cf34</td>\n",
              "      <td>102</td>\n",
              "      <td>v0.8</td>\n",
              "      <td>92.4</td>\n",
              "      <td>11.65</td>\n",
              "      <td>13.6</td>\n",
              "      <td>1.0</td>\n",
              "      <td>depth</td>\n",
              "      <td>437452a0-5061-11ed-b963-c7c6b55ac501</td>\n",
              "      <td>48f1a840-5061-11ed-b963-77bada4956eb</td>\n",
              "      <td>HUAWEI VOG-L29</td>\n",
              "      <td>47b8da20-5061-11ed-b963-cbca837d6d1e</td>\n",
              "      <td>1788</td>\n",
              "      <td>male</td>\n",
              "      <td>-1.83</td>\n",
              "      <td>Healthy</td>\n",
              "      <td>-3.68</td>\n",
              "      <td>Severely Stunted</td>\n",
              "      <td>4</td>\n",
              "    </tr>\n",
              "  </tbody>\n",
              "</table>\n",
              "</div>"
            ],
            "text/plain": [
              "                                            file_path   \n",
              "0   1666261245701/e38a7e90-f7a5-4450-bdf4-cb42f20f...  \\\n",
              "26  1666261269220/e5bed739-fe90-4ed0-93a7-84478c28...   \n",
              "35  1666261465523/35157a05-081a-479f-a542-5d369665...   \n",
              "44  1666261487298/41ba876f-8895-4200-aab4-67bc1f5a...   \n",
              "70  1666261419198/ae87e3e4-3a52-4399-ad73-f0553107...   \n",
              "\n",
              "                     timestamp                               scan_id   \n",
              "0   2022-10-20-10-20-45-716142  ec731180-5060-11ed-b963-33833fbbbfa4  \\\n",
              "26  2022-10-20-10-21-09-232042  ed17dd00-5060-11ed-b963-3f31234821f0   \n",
              "35  2022-10-20-10-24-25-532026  70e10bc0-5061-11ed-b963-eb8d4373c235   \n",
              "44  2022-10-20-10-24-47-314168  71398c00-5061-11ed-b963-dbd3d73869f0   \n",
              "70  2022-10-20-10-23-39-218793  48ee9b00-5061-11ed-b963-6bfea390cf34   \n",
              "\n",
              "    scan_step scan_version  height  weight  muac  order_number format   \n",
              "0         101         v0.8   110.1   18.60  16.1           1.0  depth  \\\n",
              "26        100         v0.8   110.1   18.60  16.1           1.0  depth   \n",
              "35        102         v0.8    80.0    9.30  13.1           1.0  depth   \n",
              "44        101         v0.8    80.0    9.30  13.1           1.0  depth   \n",
              "70        102         v0.8    92.4   11.65  13.6           1.0  depth   \n",
              "\n",
              "                                artifact   \n",
              "0   dc0a52e0-5060-11ed-b963-6304f6be8d3c  \\\n",
              "26  ea0f30e0-5060-11ed-b963-2b0957128dc6   \n",
              "35  5f1031a0-5061-11ed-b963-fba339c1db55   \n",
              "44  6c0b8ee0-5061-11ed-b963-031d7c3e6808   \n",
              "70  437452a0-5061-11ed-b963-c7c6b55ac501   \n",
              "\n",
              "                       depth_artifact_id    device_model   \n",
              "0   ec731181-5060-11ed-b963-d32f1d7a7623  HUAWEI VOG-L29  \\\n",
              "26  ed17dd01-5060-11ed-b963-9b9a2215447a  HUAWEI VOG-L29   \n",
              "35  70e10bc1-5061-11ed-b963-9f99d7c0a329  HUAWEI VOG-L29   \n",
              "44  713b12a0-5061-11ed-b963-4bab84291beb  HUAWEI VOG-L29   \n",
              "70  48f1a840-5061-11ed-b963-77bada4956eb  HUAWEI VOG-L29   \n",
              "\n",
              "                               person_id   age     sex  zscore_wfh   \n",
              "0   eb92c3a0-5060-11ed-b963-5bba01bfc722  1792    male        0.03  \\\n",
              "26  eb92c3a0-5060-11ed-b963-5bba01bfc722  1792    male        0.03   \n",
              "35  709c61a0-5061-11ed-b963-bb710d66eb84   814  female       -1.09   \n",
              "44  709c61a0-5061-11ed-b963-bb710d66eb84   814  female       -1.09   \n",
              "70  47b8da20-5061-11ed-b963-cbca837d6d1e  1788    male       -1.83   \n",
              "\n",
              "   diagnosis_wfh  zscore_lhfa      diagnosis_lhfa  Years  \n",
              "0        Healthy         0.16         Not Stunted      4  \n",
              "26       Healthy         0.16         Not Stunted      4  \n",
              "35       Healthy        -2.40  Moderately Stunted      2  \n",
              "44       Healthy        -2.40  Moderately Stunted      2  \n",
              "70       Healthy        -3.68    Severely Stunted      4  "
            ]
          },
          "execution_count": 31,
          "metadata": {},
          "output_type": "execute_result"
        }
      ],
      "source": [
        "unique_scan_ids.head()"
      ]
    },
    {
      "cell_type": "code",
      "execution_count": 35,
      "metadata": {
        "gather": {
          "logged": 1687772837838
        },
        "jupyter": {
          "outputs_hidden": false,
          "source_hidden": false
        },
        "nteract": {
          "transient": {
            "deleting": false
          }
        }
      },
      "outputs": [
        {
          "data": {
            "text/plain": [
              "(24500, 21)"
            ]
          },
          "execution_count": 35,
          "metadata": {},
          "output_type": "execute_result"
        }
      ],
      "source": [
        "unique_scan_ids.shape"
      ]
    },
    {
      "cell_type": "code",
      "execution_count": 32,
      "metadata": {
        "gather": {
          "logged": 1687772776797
        },
        "jupyter": {
          "outputs_hidden": false,
          "source_hidden": false
        },
        "nteract": {
          "transient": {
            "deleting": false
          }
        }
      },
      "outputs": [
        {
          "data": {
            "image/png": "[encoded data removed]",
            "text/plain": [
              "<Figure size 640x480 with 1 Axes>"
            ]
          },
          "metadata": {},
          "output_type": "display_data"
        }
      ],
      "source": [
        "#distribution of height against age\n",
        "height_vs_age = unique_scan_ids.plot.scatter(x='height', y='age', c='red')"
      ]
    },
    {
      "cell_type": "code",
      "execution_count": 33,
      "metadata": {
        "gather": {
          "logged": 1687772788066
        },
        "jupyter": {
          "outputs_hidden": false,
          "source_hidden": false
        },
        "nteract": {
          "transient": {
            "deleting": false
          }
        }
      },
      "outputs": [
        {
          "data": {
            "image/png": "[encoded data removed]",
            "text/plain": [
              "<Figure size 640x480 with 1 Axes>"
            ]
          },
          "metadata": {},
          "output_type": "display_data"
        }
      ],
      "source": [
        "#distribution of weight against age\n",
        "weight_vs_age = unique_scan_ids.plot.scatter(x='weight', y='age', c='red')"
      ]
    },
    {
      "cell_type": "code",
      "execution_count": 34,
      "metadata": {
        "gather": {
          "logged": 1687772807395
        },
        "jupyter": {
          "outputs_hidden": false,
          "source_hidden": false
        },
        "nteract": {
          "transient": {
            "deleting": false
          }
        }
      },
      "outputs": [
        {
          "data": {
            "image/png": "[encoded data removed]",
            "text/plain": [
              "<Figure size 640x480 with 1 Axes>"
            ]
          },
          "metadata": {},
          "output_type": "display_data"
        }
      ],
      "source": [
        "weight_vs_height = unique_scan_ids.plot.scatter(x='height', y='weight', c='red')"
      ]
    },
    {
      "cell_type": "markdown",
      "metadata": {
        "nteract": {
          "transient": {
            "deleting": false
          }
        }
      },
      "source": [
        "### Analyze outliers: 1) age, 2) weight, 3) height, 4) pixel values"
      ]
    },
    {
      "cell_type": "code",
      "execution_count": 36,
      "metadata": {
        "gather": {
          "logged": 1687772871191
        },
        "jupyter": {
          "outputs_hidden": false,
          "source_hidden": false
        },
        "nteract": {
          "transient": {
            "deleting": false
          }
        }
      },
      "outputs": [
        {
          "data": {
            "text/html": [
              "<div>\n",
              "<style scoped>\n",
              "    .dataframe tbody tr th:only-of-type {\n",
              "        vertical-align: middle;\n",
              "    }\n",
              "\n",
              "    .dataframe tbody tr th {\n",
              "        vertical-align: top;\n",
              "    }\n",
              "\n",
              "    .dataframe thead th {\n",
              "        text-align: right;\n",
              "    }\n",
              "</style>\n",
              "<table border=\"1\" class=\"dataframe\">\n",
              "  <thead>\n",
              "    <tr style=\"text-align: right;\">\n",
              "      <th></th>\n",
              "      <th>scan_step</th>\n",
              "      <th>height</th>\n",
              "      <th>weight</th>\n",
              "      <th>muac</th>\n",
              "      <th>order_number</th>\n",
              "      <th>age</th>\n",
              "      <th>zscore_wfh</th>\n",
              "      <th>zscore_lhfa</th>\n",
              "      <th>Years</th>\n",
              "    </tr>\n",
              "  </thead>\n",
              "  <tbody>\n",
              "    <tr>\n",
              "      <th>count</th>\n",
              "      <td>469694.000000</td>\n",
              "      <td>469694.000000</td>\n",
              "      <td>469694.000000</td>\n",
              "      <td>469694.000000</td>\n",
              "      <td>469694.000000</td>\n",
              "      <td>469694.000000</td>\n",
              "      <td>469694.000000</td>\n",
              "      <td>469694.000000</td>\n",
              "      <td>469694.000000</td>\n",
              "    </tr>\n",
              "    <tr>\n",
              "      <th>mean</th>\n",
              "      <td>128.003362</td>\n",
              "      <td>84.351867</td>\n",
              "      <td>10.079137</td>\n",
              "      <td>13.435336</td>\n",
              "      <td>10.136500</td>\n",
              "      <td>1006.733810</td>\n",
              "      <td>-1.675653</td>\n",
              "      <td>-2.158139</td>\n",
              "      <td>2.226158</td>\n",
              "    </tr>\n",
              "    <tr>\n",
              "      <th>std</th>\n",
              "      <td>44.399480</td>\n",
              "      <td>11.576290</td>\n",
              "      <td>2.555460</td>\n",
              "      <td>1.075446</td>\n",
              "      <td>7.521807</td>\n",
              "      <td>485.403887</td>\n",
              "      <td>1.128787</td>\n",
              "      <td>1.468429</td>\n",
              "      <td>1.338511</td>\n",
              "    </tr>\n",
              "    <tr>\n",
              "      <th>min</th>\n",
              "      <td>100.000000</td>\n",
              "      <td>51.100000</td>\n",
              "      <td>3.550000</td>\n",
              "      <td>9.000000</td>\n",
              "      <td>1.000000</td>\n",
              "      <td>183.000000</td>\n",
              "      <td>-9.540000</td>\n",
              "      <td>-10.270000</td>\n",
              "      <td>0.000000</td>\n",
              "    </tr>\n",
              "    <tr>\n",
              "      <th>25%</th>\n",
              "      <td>101.000000</td>\n",
              "      <td>75.000000</td>\n",
              "      <td>8.100000</td>\n",
              "      <td>12.700000</td>\n",
              "      <td>4.000000</td>\n",
              "      <td>573.000000</td>\n",
              "      <td>-2.430000</td>\n",
              "      <td>-2.960000</td>\n",
              "      <td>1.000000</td>\n",
              "    </tr>\n",
              "    <tr>\n",
              "      <th>50%</th>\n",
              "      <td>101.000000</td>\n",
              "      <td>85.000000</td>\n",
              "      <td>10.050000</td>\n",
              "      <td>13.400000</td>\n",
              "      <td>8.000000</td>\n",
              "      <td>999.000000</td>\n",
              "      <td>-1.840000</td>\n",
              "      <td>-2.180000</td>\n",
              "      <td>2.000000</td>\n",
              "    </tr>\n",
              "    <tr>\n",
              "      <th>75%</th>\n",
              "      <td>200.000000</td>\n",
              "      <td>93.800000</td>\n",
              "      <td>11.950000</td>\n",
              "      <td>14.100000</td>\n",
              "      <td>16.000000</td>\n",
              "      <td>1435.000000</td>\n",
              "      <td>-0.930000</td>\n",
              "      <td>-1.400000</td>\n",
              "      <td>3.000000</td>\n",
              "    </tr>\n",
              "    <tr>\n",
              "      <th>max</th>\n",
              "      <td>202.000000</td>\n",
              "      <td>116.000000</td>\n",
              "      <td>22.650000</td>\n",
              "      <td>18.500000</td>\n",
              "      <td>104.000000</td>\n",
              "      <td>1825.000000</td>\n",
              "      <td>5.210000</td>\n",
              "      <td>15.520000</td>\n",
              "      <td>5.000000</td>\n",
              "    </tr>\n",
              "  </tbody>\n",
              "</table>\n",
              "</div>"
            ],
            "text/plain": [
              "           scan_step         height         weight           muac   \n",
              "count  469694.000000  469694.000000  469694.000000  469694.000000  \\\n",
              "mean      128.003362      84.351867      10.079137      13.435336   \n",
              "std        44.399480      11.576290       2.555460       1.075446   \n",
              "min       100.000000      51.100000       3.550000       9.000000   \n",
              "25%       101.000000      75.000000       8.100000      12.700000   \n",
              "50%       101.000000      85.000000      10.050000      13.400000   \n",
              "75%       200.000000      93.800000      11.950000      14.100000   \n",
              "max       202.000000     116.000000      22.650000      18.500000   \n",
              "\n",
              "        order_number            age     zscore_wfh    zscore_lhfa   \n",
              "count  469694.000000  469694.000000  469694.000000  469694.000000  \\\n",
              "mean       10.136500    1006.733810      -1.675653      -2.158139   \n",
              "std         7.521807     485.403887       1.128787       1.468429   \n",
              "min         1.000000     183.000000      -9.540000     -10.270000   \n",
              "25%         4.000000     573.000000      -2.430000      -2.960000   \n",
              "50%         8.000000     999.000000      -1.840000      -2.180000   \n",
              "75%        16.000000    1435.000000      -0.930000      -1.400000   \n",
              "max       104.000000    1825.000000       5.210000      15.520000   \n",
              "\n",
              "               Years  \n",
              "count  469694.000000  \n",
              "mean        2.226158  \n",
              "std         1.338511  \n",
              "min         0.000000  \n",
              "25%         1.000000  \n",
              "50%         2.000000  \n",
              "75%         3.000000  \n",
              "max         5.000000  "
            ]
          },
          "execution_count": 36,
          "metadata": {},
          "output_type": "execute_result"
        }
      ],
      "source": [
        "df.describe()"
      ]
    },
    {
      "cell_type": "code",
      "execution_count": 37,
      "metadata": {
        "gather": {
          "logged": 1687772882172
        },
        "jupyter": {
          "outputs_hidden": false,
          "source_hidden": false
        },
        "nteract": {
          "transient": {
            "deleting": false
          }
        }
      },
      "outputs": [
        {
          "data": {
            "text/html": [
              "<div>\n",
              "<style scoped>\n",
              "    .dataframe tbody tr th:only-of-type {\n",
              "        vertical-align: middle;\n",
              "    }\n",
              "\n",
              "    .dataframe tbody tr th {\n",
              "        vertical-align: top;\n",
              "    }\n",
              "\n",
              "    .dataframe thead th {\n",
              "        text-align: right;\n",
              "    }\n",
              "</style>\n",
              "<table border=\"1\" class=\"dataframe\">\n",
              "  <thead>\n",
              "    <tr style=\"text-align: right;\">\n",
              "      <th></th>\n",
              "      <th>scan_step</th>\n",
              "      <th>height</th>\n",
              "      <th>weight</th>\n",
              "      <th>muac</th>\n",
              "      <th>order_number</th>\n",
              "      <th>age</th>\n",
              "      <th>zscore_wfh</th>\n",
              "      <th>zscore_lhfa</th>\n",
              "      <th>Years</th>\n",
              "    </tr>\n",
              "  </thead>\n",
              "  <tbody>\n",
              "    <tr>\n",
              "      <th>count</th>\n",
              "      <td>24500.000000</td>\n",
              "      <td>24500.000000</td>\n",
              "      <td>24500.000000</td>\n",
              "      <td>24500.000000</td>\n",
              "      <td>24500.000000</td>\n",
              "      <td>24500.000000</td>\n",
              "      <td>24500.000000</td>\n",
              "      <td>24500.000000</td>\n",
              "      <td>24500.000000</td>\n",
              "    </tr>\n",
              "    <tr>\n",
              "      <th>mean</th>\n",
              "      <td>127.134857</td>\n",
              "      <td>84.521804</td>\n",
              "      <td>10.341923</td>\n",
              "      <td>13.623788</td>\n",
              "      <td>1.610204</td>\n",
              "      <td>1011.136367</td>\n",
              "      <td>-1.389036</td>\n",
              "      <td>-2.129304</td>\n",
              "      <td>2.237918</td>\n",
              "    </tr>\n",
              "    <tr>\n",
              "      <th>std</th>\n",
              "      <td>43.942565</td>\n",
              "      <td>11.544478</td>\n",
              "      <td>2.579023</td>\n",
              "      <td>1.064970</td>\n",
              "      <td>2.595539</td>\n",
              "      <td>483.520242</td>\n",
              "      <td>1.099359</td>\n",
              "      <td>1.485201</td>\n",
              "      <td>1.333554</td>\n",
              "    </tr>\n",
              "    <tr>\n",
              "      <th>min</th>\n",
              "      <td>100.000000</td>\n",
              "      <td>51.100000</td>\n",
              "      <td>3.550000</td>\n",
              "      <td>9.000000</td>\n",
              "      <td>1.000000</td>\n",
              "      <td>183.000000</td>\n",
              "      <td>-9.540000</td>\n",
              "      <td>-10.270000</td>\n",
              "      <td>0.000000</td>\n",
              "    </tr>\n",
              "    <tr>\n",
              "      <th>25%</th>\n",
              "      <td>101.000000</td>\n",
              "      <td>75.200000</td>\n",
              "      <td>8.300000</td>\n",
              "      <td>13.000000</td>\n",
              "      <td>1.000000</td>\n",
              "      <td>582.000000</td>\n",
              "      <td>-2.140000</td>\n",
              "      <td>-2.930000</td>\n",
              "      <td>1.000000</td>\n",
              "    </tr>\n",
              "    <tr>\n",
              "      <th>50%</th>\n",
              "      <td>102.000000</td>\n",
              "      <td>85.200000</td>\n",
              "      <td>10.300000</td>\n",
              "      <td>13.500000</td>\n",
              "      <td>1.000000</td>\n",
              "      <td>1014.000000</td>\n",
              "      <td>-1.410000</td>\n",
              "      <td>-2.150000</td>\n",
              "      <td>2.000000</td>\n",
              "    </tr>\n",
              "    <tr>\n",
              "      <th>75%</th>\n",
              "      <td>200.000000</td>\n",
              "      <td>93.900000</td>\n",
              "      <td>12.250000</td>\n",
              "      <td>14.300000</td>\n",
              "      <td>1.000000</td>\n",
              "      <td>1433.000000</td>\n",
              "      <td>-0.690000</td>\n",
              "      <td>-1.370000</td>\n",
              "      <td>3.000000</td>\n",
              "    </tr>\n",
              "    <tr>\n",
              "      <th>max</th>\n",
              "      <td>202.000000</td>\n",
              "      <td>116.000000</td>\n",
              "      <td>22.650000</td>\n",
              "      <td>18.500000</td>\n",
              "      <td>22.000000</td>\n",
              "      <td>1825.000000</td>\n",
              "      <td>5.210000</td>\n",
              "      <td>15.520000</td>\n",
              "      <td>5.000000</td>\n",
              "    </tr>\n",
              "  </tbody>\n",
              "</table>\n",
              "</div>"
            ],
            "text/plain": [
              "          scan_step        height        weight          muac  order_number   \n",
              "count  24500.000000  24500.000000  24500.000000  24500.000000  24500.000000  \\\n",
              "mean     127.134857     84.521804     10.341923     13.623788      1.610204   \n",
              "std       43.942565     11.544478      2.579023      1.064970      2.595539   \n",
              "min      100.000000     51.100000      3.550000      9.000000      1.000000   \n",
              "25%      101.000000     75.200000      8.300000     13.000000      1.000000   \n",
              "50%      102.000000     85.200000     10.300000     13.500000      1.000000   \n",
              "75%      200.000000     93.900000     12.250000     14.300000      1.000000   \n",
              "max      202.000000    116.000000     22.650000     18.500000     22.000000   \n",
              "\n",
              "                age    zscore_wfh   zscore_lhfa         Years  \n",
              "count  24500.000000  24500.000000  24500.000000  24500.000000  \n",
              "mean    1011.136367     -1.389036     -2.129304      2.237918  \n",
              "std      483.520242      1.099359      1.485201      1.333554  \n",
              "min      183.000000     -9.540000    -10.270000      0.000000  \n",
              "25%      582.000000     -2.140000     -2.930000      1.000000  \n",
              "50%     1014.000000     -1.410000     -2.150000      2.000000  \n",
              "75%     1433.000000     -0.690000     -1.370000      3.000000  \n",
              "max     1825.000000      5.210000     15.520000      5.000000  "
            ]
          },
          "execution_count": 37,
          "metadata": {},
          "output_type": "execute_result"
        }
      ],
      "source": [
        "unique_scan_ids.describe()"
      ]
    },
    {
      "cell_type": "markdown",
      "metadata": {
        "nteract": {
          "transient": {
            "deleting": false
          }
        }
      },
      "source": [
        "### 1) check age"
      ]
    },
    {
      "cell_type": "code",
      "execution_count": 38,
      "metadata": {
        "gather": {
          "logged": 1687772928907
        },
        "jupyter": {
          "outputs_hidden": false,
          "source_hidden": false
        },
        "nteract": {
          "transient": {
            "deleting": false
          }
        }
      },
      "outputs": [
        {
          "name": "stdout",
          "output_type": "stream",
          "text": [
            "Running the following query: @df.age<365/2\n",
            "No. of outliers: 0\n"
          ]
        },
        {
          "data": {
            "text/plain": [
              "[]"
            ]
          },
          "execution_count": 38,
          "metadata": {},
          "output_type": "execute_result"
        }
      ],
      "source": [
        "find_outliers(df, 'age', '<365/2', data_id_name='person_id')"
      ]
    },
    {
      "cell_type": "code",
      "execution_count": 39,
      "metadata": {
        "gather": {
          "logged": 1687772937978
        },
        "jupyter": {
          "outputs_hidden": false,
          "source_hidden": false
        },
        "nteract": {
          "transient": {
            "deleting": false
          }
        }
      },
      "outputs": [
        {
          "name": "stdout",
          "output_type": "stream",
          "text": [
            "Running the following query: @df.age<365/2\n",
            "No. of outliers: 0\n"
          ]
        },
        {
          "data": {
            "text/plain": [
              "[]"
            ]
          },
          "execution_count": 39,
          "metadata": {},
          "output_type": "execute_result"
        }
      ],
      "source": [
        "find_outliers(df, 'age', '<365/2', data_id_name='scan_id')"
      ]
    },
    {
      "cell_type": "code",
      "execution_count": 40,
      "metadata": {
        "gather": {
          "logged": 1687772949096
        },
        "jupyter": {
          "outputs_hidden": false,
          "source_hidden": false
        },
        "nteract": {
          "transient": {
            "deleting": false
          }
        }
      },
      "outputs": [
        {
          "name": "stdout",
          "output_type": "stream",
          "text": [
            "Running the following query: @df.age>365*6\n",
            "No. of outliers: 0\n"
          ]
        },
        {
          "data": {
            "text/plain": [
              "[]"
            ]
          },
          "execution_count": 40,
          "metadata": {},
          "output_type": "execute_result"
        }
      ],
      "source": [
        "find_outliers(df, 'age', '>365*6', data_id_name='scan_id')"
      ]
    },
    {
      "cell_type": "markdown",
      "metadata": {
        "nteract": {
          "transient": {
            "deleting": false
          }
        }
      },
      "source": [
        "### 2) check weight"
      ]
    },
    {
      "cell_type": "code",
      "execution_count": 41,
      "metadata": {
        "gather": {
          "logged": 1687772977637
        },
        "jupyter": {
          "outputs_hidden": false,
          "source_hidden": false
        },
        "nteract": {
          "transient": {
            "deleting": false
          }
        }
      },
      "outputs": [
        {
          "name": "stdout",
          "output_type": "stream",
          "text": [
            "Running the following query: @df.weight<5.0\n",
            "No. of outliers: 67\n"
          ]
        },
        {
          "data": {
            "text/plain": [
              "['47592260-506b-11ed-b963-6b4d8eb907a7',\n",
              " '4780cea0-506b-11ed-b963-5fa8e33591fc',\n",
              " '47e0f000-506b-11ed-b963-bb0468e15c7d',\n",
              " 'd5c78421-5141-11ed-b963-7782e87affc5',\n",
              " 'd616dca0-5141-11ed-b963-3fbc3fd2042d',\n",
              " 'd6eaf580-5141-11ed-b963-638bc3685953',\n",
              " 'fbf1e900-5197-11ed-b963-b33a384976b7',\n",
              " '9a60a4e1-5211-11ed-b963-93f221d88d2d',\n",
              " '9ad315c0-5211-11ed-b963-03bf41a130fe',\n",
              " '9b3951a0-5211-11ed-b963-835d2d1ecf65',\n",
              " '4382a361-5236-11ed-b963-b766699b1c88',\n",
              " '43f9a820-5236-11ed-b963-e3210b3ced23',\n",
              " '446f2640-5236-11ed-b963-73cb7fc224b8',\n",
              " '38e77c41-5241-11ed-b963-abcdb0a9779c',\n",
              " '3a04d320-5241-11ed-b963-93d6250a25f2',\n",
              " '3a75bd60-5241-11ed-b963-fb9f5abce11f',\n",
              " '1939bee0-528b-11ed-b963-d38d4ac4136d',\n",
              " '1a589c60-528b-11ed-b963-f741880cf6b1',\n",
              " '1b1bec60-528b-11ed-b963-0b14138b70a5',\n",
              " 'b27f8c80-529d-11ed-b963-8bb8eb53561b',\n",
              " 'b2ed6980-529d-11ed-b963-7bc8a1ca054b',\n",
              " 'b35ccd20-529d-11ed-b963-e34cbd3bd9f0',\n",
              " '6ed8eda1-52fc-11ed-b963-ef21e0767581',\n",
              " '6f4b5e80-52fc-11ed-b963-3b5d7a52454e',\n",
              " 'a0d82ec0-531e-11ed-b963-6f29ef5fb79f',\n",
              " 'a13ff140-531e-11ed-b963-bbc64752216b',\n",
              " 'a2310800-531e-11ed-b963-4f3f61c80a5a',\n",
              " '24bc6121-5383-11ed-b963-4fbefa3f120d',\n",
              " '25aa6aa0-5383-11ed-b963-232eaaa93c88',\n",
              " '2610a680-5383-11ed-b963-5787be61391c',\n",
              " 'e375bfc1-5438-11ed-b963-0b1327e8bf45',\n",
              " 'e3f2df00-5438-11ed-b963-afd40799e80d',\n",
              " 'e4f95280-5438-11ed-b963-b361a083f104',\n",
              " '7540ede1-545b-11ed-b963-d75a712224c8',\n",
              " '75b7f2a0-545b-11ed-b963-0b1e7f8e9b6a',\n",
              " '76307e00-545b-11ed-b963-0772f962a314',\n",
              " '7ef90760-5716-11ed-af45-57c620157221',\n",
              " '80be3700-5716-11ed-af45-235f92b75d81',\n",
              " '820f6f20-5716-11ed-af45-47c5b6f6f52d',\n",
              " '92c6e1a0-5724-11ed-af45-6b770fa8ca98',\n",
              " '93d4f640-5724-11ed-af45-03b1be855689',\n",
              " '94890400-5724-11ed-af45-5bf195814a36',\n",
              " '911d92e0-572e-11ed-af45-27d55a2de943',\n",
              " '92396320-572e-11ed-af45-d70f71dcbf5a',\n",
              " '9305dae0-572e-11ed-af45-e72b86504cfe',\n",
              " '65b48f00-579c-11ed-af45-8b9e6ebdcbca',\n",
              " '66ed5d20-579c-11ed-af45-4feed8b17eb1',\n",
              " '67b84e40-579c-11ed-af45-b70d70b4f518',\n",
              " 'a6687b80-57d1-11ed-af45-97fd9f4d27ed',\n",
              " 'a782c520-57d1-11ed-af45-2be6a5cf26c3',\n",
              " 'ae00dd61-57db-11ed-af45-cb0110bbe160',\n",
              " 'ae9973e0-57db-11ed-af45-0b9b4dec06f3',\n",
              " 'af508ee0-57db-11ed-af45-1707b8211d9b',\n",
              " 'd6405de0-57f5-11ed-af45-dfe35591b136',\n",
              " 'd6dc01a0-57f5-11ed-af45-9f6bc7df73b7',\n",
              " 'd7f7d1e0-57f5-11ed-af45-f7e711ec960a',\n",
              " 'c0f7e260-5867-11ed-af45-07593f5eafce',\n",
              " 'c19cade0-5867-11ed-af45-63defb5e5ce7',\n",
              " 'c3b2bca0-5867-11ed-af45-2336d22f3161',\n",
              " 'c4346fc0-5867-11ed-af45-331e35d6c5e9',\n",
              " 'c49183e0-5867-11ed-af45-e78d7369ccb7',\n",
              " 'ccc75240-58f5-11ed-af45-eb57c1340a42',\n",
              " 'cd4a8c00-58f5-11ed-af45-733cb9049e0a',\n",
              " 'ce2f6dc0-58f5-11ed-af45-6bcb78dde04c',\n",
              " '2c18f9a0-590b-11ed-af45-571065c56f0a',\n",
              " '2cface20-590b-11ed-af45-cfcb5d5f6382',\n",
              " '2e276740-590b-11ed-af45-2b413a913a9b']"
            ]
          },
          "execution_count": 41,
          "metadata": {},
          "output_type": "execute_result"
        }
      ],
      "source": [
        "find_outliers(df, 'weight', '<5.0', data_id_name='scan_id')"
      ]
    },
    {
      "cell_type": "code",
      "execution_count": 42,
      "metadata": {
        "gather": {
          "logged": 1687772990149
        },
        "jupyter": {
          "outputs_hidden": false,
          "source_hidden": false
        },
        "nteract": {
          "transient": {
            "deleting": false
          }
        }
      },
      "outputs": [
        {
          "name": "stdout",
          "output_type": "stream",
          "text": [
            "Running the following query: @df.weight>30.0\n",
            "No. of outliers: 0\n"
          ]
        },
        {
          "data": {
            "text/plain": [
              "[]"
            ]
          },
          "execution_count": 42,
          "metadata": {},
          "output_type": "execute_result"
        }
      ],
      "source": [
        "find_outliers(df, 'weight', '>30.0', data_id_name='scan_id')"
      ]
    },
    {
      "cell_type": "markdown",
      "metadata": {
        "nteract": {
          "transient": {
            "deleting": false
          }
        }
      },
      "source": [
        "### 3) check height"
      ]
    },
    {
      "cell_type": "code",
      "execution_count": 43,
      "metadata": {
        "gather": {
          "logged": 1687773013958
        },
        "jupyter": {
          "outputs_hidden": false,
          "source_hidden": false
        },
        "nteract": {
          "transient": {
            "deleting": false
          }
        }
      },
      "outputs": [
        {
          "name": "stdout",
          "output_type": "stream",
          "text": [
            "Running the following query: @df.height<40.0\n",
            "No. of outliers: 0\n"
          ]
        },
        {
          "data": {
            "text/plain": [
              "[]"
            ]
          },
          "execution_count": 43,
          "metadata": {},
          "output_type": "execute_result"
        }
      ],
      "source": [
        "find_outliers(df, 'height', '<40.0', data_id_name='scan_id')"
      ]
    },
    {
      "cell_type": "code",
      "execution_count": 44,
      "metadata": {
        "gather": {
          "logged": 1687773026866
        },
        "jupyter": {
          "outputs_hidden": false,
          "source_hidden": false
        },
        "nteract": {
          "transient": {
            "deleting": false
          }
        }
      },
      "outputs": [
        {
          "name": "stdout",
          "output_type": "stream",
          "text": [
            "Running the following query: @df.height>150.0\n",
            "No. of outliers: 0\n"
          ]
        },
        {
          "data": {
            "text/plain": [
              "[]"
            ]
          },
          "execution_count": 44,
          "metadata": {},
          "output_type": "execute_result"
        }
      ],
      "source": [
        "find_outliers(df, 'height', '>150.0', data_id_name='scan_id')"
      ]
    },
    {
      "cell_type": "code",
      "execution_count": 45,
      "metadata": {
        "gather": {
          "logged": 1687773037772
        },
        "jupyter": {
          "outputs_hidden": false,
          "source_hidden": false
        },
        "nteract": {
          "transient": {
            "deleting": false
          }
        }
      },
      "outputs": [],
      "source": [
        "# now close the mount context\n",
        "mount_ctx.stop()"
      ]
    }
  ],
  "metadata": {
    "kernelspec": {
      "display_name": "tf",
      "language": "python",
      "name": "python3"
    },
    "language_info": {
      "codemirror_mode": {
        "name": "ipython",
        "version": 3
      },
      "file_extension": ".py",
      "mimetype": "text/x-python",
      "name": "python",
      "nbconvert_exporter": "python",
      "pygments_lexer": "ipython3",
      "version": "3.9.13"
    },
    "microsoft": {
      "host": {
        "AzureML": {
          "notebookHasBeenCompleted": true
        }
      },
      "ms_spell_check": {
        "ms_spell_check_language": "en"
      }
    },
    "nteract": {
      "version": "nteract-front-end@1.0.0"
    }
  },
  "nbformat": 4,
  "nbformat_minor": 2
}
